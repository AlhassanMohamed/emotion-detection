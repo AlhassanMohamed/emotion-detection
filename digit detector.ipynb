{
 "metadata": {
  "name": "",
  "signature": "sha256:25813047dda33550bc8e4c4c1339070f81c3e419634955d0cb18e20de0d66876"
 },
 "nbformat": 3,
 "nbformat_minor": 0,
 "worksheets": [
  {
   "cells": [
    {
     "cell_type": "code",
     "collapsed": false,
     "input": [
      "# -*- coding: utf-8 -*-\n",
      "# <nbformat>3.0</nbformat>\n",
      "\n",
      "# <codecell>\n",
      "\n",
      "# import net\n",
      "import modelnet\n",
      "from array import array\n",
      "import gzip\n",
      "import struct\n",
      "import numpy as np\n",
      "import matplotlib.pyplot as plt\n",
      "\n",
      "# <codecell>\n",
      "\n",
      "# open images\n",
      "f = gzip.open('./train-images-idx3-ubyte.gz', 'rb') # test set\n",
      "_, n_images, rows, cols = struct.unpack('>IIII', f.read(16)) # first 16 bytes are metadata\n",
      "pixels = np.array(array('B', f.read())) / 255.0 # pixel data are unsigned bytes; normalize to [0,1] scale\n",
      "f.close()\n",
      "images = pixels.reshape((n_images, rows * cols)) # each image is a vector of 28*28 values in [0,1]\n",
      "\n",
      "# read labels\n",
      "\n",
      "f = gzip.open('./train-labels-idx1-ubyte.gz', 'rb')\n",
      "_, n_images = struct.unpack('>II', f.read(8)) # first 16 bytes are metadata\n",
      "digits = np.array(array('B', f.read())) \n",
      "f.close()\n",
      "\n",
      "# hotcoding the labels: a \"6\" will be coded as [0,0,0,0,0,0,1,0,0,0]\n",
      "\n",
      "labels = np.zeros((n_images, 10))\n",
      "for i in range(n_images):\n",
      "    labels[i][digits[i]] = 1"
     ],
     "language": "python",
     "metadata": {},
     "outputs": [],
     "prompt_number": 1
    },
    {
     "cell_type": "code",
     "collapsed": false,
     "input": [
      "# prepare the training data\n",
      "temp_images = images[0:10000]\n",
      "temp_labels = labels[0:10000]\n",
      "train_data = zip(temp_images, digits[0:10000])"
     ],
     "language": "python",
     "metadata": {},
     "outputs": [],
     "prompt_number": 40
    },
    {
     "cell_type": "code",
     "collapsed": true,
     "input": [
      "# train the neural network with the example code provided by deeplearning website\n",
      "mdetector = Network([rows * cols, 400, 1])\n",
      "mdetector.SGD(train_data, 10, 20, 0.6)"
     ],
     "language": "python",
     "metadata": {},
     "outputs": [
      {
       "output_type": "stream",
       "stream": "stdout",
       "text": [
        "- "
       ]
      },
      {
       "output_type": "stream",
       "stream": "stdout",
       "text": [
        "- "
       ]
      },
      {
       "output_type": "stream",
       "stream": "stdout",
       "text": [
        "- "
       ]
      },
      {
       "output_type": "stream",
       "stream": "stdout",
       "text": [
        "- "
       ]
      },
      {
       "output_type": "stream",
       "stream": "stdout",
       "text": [
        "- "
       ]
      },
      {
       "output_type": "stream",
       "stream": "stdout",
       "text": [
        "- "
       ]
      },
      {
       "output_type": "stream",
       "stream": "stdout",
       "text": [
        "- "
       ]
      },
      {
       "output_type": "stream",
       "stream": "stdout",
       "text": [
        "- "
       ]
      },
      {
       "output_type": "stream",
       "stream": "stdout",
       "text": [
        "- "
       ]
      },
      {
       "output_type": "stream",
       "stream": "stdout",
       "text": [
        "- "
       ]
      },
      {
       "output_type": "stream",
       "stream": "stdout",
       "text": [
        "- "
       ]
      },
      {
       "output_type": "stream",
       "stream": "stdout",
       "text": [
        "- "
       ]
      },
      {
       "output_type": "stream",
       "stream": "stdout",
       "text": [
        "- "
       ]
      },
      {
       "output_type": "stream",
       "stream": "stdout",
       "text": [
        "- "
       ]
      },
      {
       "output_type": "stream",
       "stream": "stdout",
       "text": [
        "- "
       ]
      },
      {
       "output_type": "stream",
       "stream": "stdout",
       "text": [
        "- "
       ]
      },
      {
       "output_type": "stream",
       "stream": "stdout",
       "text": [
        "- "
       ]
      },
      {
       "output_type": "stream",
       "stream": "stdout",
       "text": [
        "- "
       ]
      },
      {
       "output_type": "stream",
       "stream": "stdout",
       "text": [
        "- "
       ]
      },
      {
       "output_type": "stream",
       "stream": "stdout",
       "text": [
        "- "
       ]
      },
      {
       "output_type": "stream",
       "stream": "stdout",
       "text": [
        "- "
       ]
      },
      {
       "output_type": "stream",
       "stream": "stdout",
       "text": [
        "- "
       ]
      },
      {
       "output_type": "stream",
       "stream": "stdout",
       "text": [
        "- "
       ]
      },
      {
       "output_type": "stream",
       "stream": "stdout",
       "text": [
        "- "
       ]
      },
      {
       "output_type": "stream",
       "stream": "stdout",
       "text": [
        "- "
       ]
      },
      {
       "output_type": "stream",
       "stream": "stdout",
       "text": [
        "- "
       ]
      },
      {
       "output_type": "stream",
       "stream": "stdout",
       "text": [
        "- "
       ]
      },
      {
       "output_type": "stream",
       "stream": "stdout",
       "text": [
        "- "
       ]
      },
      {
       "output_type": "stream",
       "stream": "stdout",
       "text": [
        "- "
       ]
      },
      {
       "output_type": "stream",
       "stream": "stdout",
       "text": [
        "- "
       ]
      },
      {
       "output_type": "stream",
       "stream": "stdout",
       "text": [
        "- "
       ]
      },
      {
       "output_type": "stream",
       "stream": "stdout",
       "text": [
        "- "
       ]
      },
      {
       "output_type": "stream",
       "stream": "stdout",
       "text": [
        "- "
       ]
      },
      {
       "output_type": "stream",
       "stream": "stdout",
       "text": [
        "- "
       ]
      },
      {
       "output_type": "stream",
       "stream": "stdout",
       "text": [
        "- "
       ]
      },
      {
       "output_type": "stream",
       "stream": "stdout",
       "text": [
        "- "
       ]
      },
      {
       "output_type": "stream",
       "stream": "stdout",
       "text": [
        "- "
       ]
      },
      {
       "output_type": "stream",
       "stream": "stdout",
       "text": [
        "- "
       ]
      },
      {
       "output_type": "stream",
       "stream": "stdout",
       "text": [
        "- "
       ]
      },
      {
       "output_type": "stream",
       "stream": "stdout",
       "text": [
        "- "
       ]
      },
      {
       "output_type": "stream",
       "stream": "stdout",
       "text": [
        "- "
       ]
      },
      {
       "output_type": "stream",
       "stream": "stdout",
       "text": [
        "- "
       ]
      },
      {
       "output_type": "stream",
       "stream": "stdout",
       "text": [
        "- "
       ]
      },
      {
       "output_type": "stream",
       "stream": "stdout",
       "text": [
        "- "
       ]
      },
      {
       "output_type": "stream",
       "stream": "stdout",
       "text": [
        "- "
       ]
      },
      {
       "output_type": "stream",
       "stream": "stdout",
       "text": [
        "- "
       ]
      },
      {
       "output_type": "stream",
       "stream": "stdout",
       "text": [
        "- "
       ]
      },
      {
       "output_type": "stream",
       "stream": "stdout",
       "text": [
        "- "
       ]
      },
      {
       "output_type": "stream",
       "stream": "stdout",
       "text": [
        "- "
       ]
      },
      {
       "output_type": "stream",
       "stream": "stdout",
       "text": [
        "- "
       ]
      },
      {
       "output_type": "stream",
       "stream": "stdout",
       "text": [
        "- "
       ]
      },
      {
       "output_type": "stream",
       "stream": "stdout",
       "text": [
        "- "
       ]
      },
      {
       "output_type": "stream",
       "stream": "stdout",
       "text": [
        "- "
       ]
      },
      {
       "output_type": "stream",
       "stream": "stdout",
       "text": [
        "- "
       ]
      },
      {
       "output_type": "stream",
       "stream": "stdout",
       "text": [
        "- "
       ]
      },
      {
       "output_type": "stream",
       "stream": "stdout",
       "text": [
        "- "
       ]
      },
      {
       "output_type": "stream",
       "stream": "stdout",
       "text": [
        "- "
       ]
      },
      {
       "output_type": "stream",
       "stream": "stdout",
       "text": [
        "- "
       ]
      },
      {
       "output_type": "stream",
       "stream": "stdout",
       "text": [
        "- "
       ]
      },
      {
       "output_type": "stream",
       "stream": "stdout",
       "text": [
        "- "
       ]
      },
      {
       "output_type": "stream",
       "stream": "stdout",
       "text": [
        "- "
       ]
      },
      {
       "output_type": "stream",
       "stream": "stdout",
       "text": [
        "- "
       ]
      },
      {
       "output_type": "stream",
       "stream": "stdout",
       "text": [
        "- "
       ]
      },
      {
       "output_type": "stream",
       "stream": "stdout",
       "text": [
        "- "
       ]
      },
      {
       "output_type": "stream",
       "stream": "stdout",
       "text": [
        "- "
       ]
      },
      {
       "output_type": "stream",
       "stream": "stdout",
       "text": [
        "- "
       ]
      },
      {
       "output_type": "stream",
       "stream": "stdout",
       "text": [
        "- "
       ]
      },
      {
       "output_type": "stream",
       "stream": "stdout",
       "text": [
        "- "
       ]
      },
      {
       "output_type": "stream",
       "stream": "stdout",
       "text": [
        "- "
       ]
      },
      {
       "output_type": "stream",
       "stream": "stdout",
       "text": [
        "- "
       ]
      },
      {
       "output_type": "stream",
       "stream": "stdout",
       "text": [
        "- "
       ]
      },
      {
       "output_type": "stream",
       "stream": "stdout",
       "text": [
        "- "
       ]
      },
      {
       "output_type": "stream",
       "stream": "stdout",
       "text": [
        "- "
       ]
      },
      {
       "output_type": "stream",
       "stream": "stdout",
       "text": [
        "- "
       ]
      },
      {
       "output_type": "stream",
       "stream": "stdout",
       "text": [
        "- "
       ]
      },
      {
       "output_type": "stream",
       "stream": "stdout",
       "text": [
        "- "
       ]
      },
      {
       "output_type": "stream",
       "stream": "stdout",
       "text": [
        "- "
       ]
      },
      {
       "output_type": "stream",
       "stream": "stdout",
       "text": [
        "- "
       ]
      },
      {
       "output_type": "stream",
       "stream": "stdout",
       "text": [
        "- "
       ]
      },
      {
       "output_type": "stream",
       "stream": "stdout",
       "text": [
        "- "
       ]
      },
      {
       "output_type": "stream",
       "stream": "stdout",
       "text": [
        "- "
       ]
      },
      {
       "output_type": "stream",
       "stream": "stdout",
       "text": [
        "- "
       ]
      },
      {
       "output_type": "stream",
       "stream": "stdout",
       "text": [
        "- "
       ]
      },
      {
       "output_type": "stream",
       "stream": "stdout",
       "text": [
        "- "
       ]
      },
      {
       "output_type": "stream",
       "stream": "stdout",
       "text": [
        "- "
       ]
      },
      {
       "output_type": "stream",
       "stream": "stdout",
       "text": [
        "- "
       ]
      },
      {
       "output_type": "stream",
       "stream": "stdout",
       "text": [
        "- "
       ]
      },
      {
       "output_type": "stream",
       "stream": "stdout",
       "text": [
        "- "
       ]
      },
      {
       "output_type": "stream",
       "stream": "stdout",
       "text": [
        "- "
       ]
      },
      {
       "output_type": "stream",
       "stream": "stdout",
       "text": [
        "- "
       ]
      },
      {
       "output_type": "stream",
       "stream": "stdout",
       "text": [
        "- "
       ]
      },
      {
       "output_type": "stream",
       "stream": "stdout",
       "text": [
        "- "
       ]
      },
      {
       "output_type": "stream",
       "stream": "stdout",
       "text": [
        "- "
       ]
      },
      {
       "output_type": "stream",
       "stream": "stdout",
       "text": [
        "- "
       ]
      },
      {
       "output_type": "stream",
       "stream": "stdout",
       "text": [
        "- "
       ]
      },
      {
       "output_type": "stream",
       "stream": "stdout",
       "text": [
        "- "
       ]
      },
      {
       "output_type": "stream",
       "stream": "stdout",
       "text": [
        "- "
       ]
      },
      {
       "output_type": "stream",
       "stream": "stdout",
       "text": [
        "- "
       ]
      },
      {
       "output_type": "stream",
       "stream": "stdout",
       "text": [
        "- "
       ]
      },
      {
       "output_type": "stream",
       "stream": "stdout",
       "text": [
        "- "
       ]
      },
      {
       "output_type": "stream",
       "stream": "stdout",
       "text": [
        "- "
       ]
      },
      {
       "output_type": "stream",
       "stream": "stdout",
       "text": [
        "- "
       ]
      },
      {
       "output_type": "stream",
       "stream": "stdout",
       "text": [
        "- "
       ]
      },
      {
       "output_type": "stream",
       "stream": "stdout",
       "text": [
        "- "
       ]
      },
      {
       "output_type": "stream",
       "stream": "stdout",
       "text": [
        "- "
       ]
      },
      {
       "output_type": "stream",
       "stream": "stdout",
       "text": [
        "- "
       ]
      },
      {
       "output_type": "stream",
       "stream": "stdout",
       "text": [
        "- "
       ]
      },
      {
       "output_type": "stream",
       "stream": "stdout",
       "text": [
        "- "
       ]
      },
      {
       "output_type": "stream",
       "stream": "stdout",
       "text": [
        "- "
       ]
      },
      {
       "output_type": "stream",
       "stream": "stdout",
       "text": [
        "- "
       ]
      },
      {
       "output_type": "stream",
       "stream": "stdout",
       "text": [
        "- "
       ]
      },
      {
       "output_type": "stream",
       "stream": "stdout",
       "text": [
        "- "
       ]
      },
      {
       "output_type": "stream",
       "stream": "stdout",
       "text": [
        "- "
       ]
      },
      {
       "output_type": "stream",
       "stream": "stdout",
       "text": [
        "- "
       ]
      },
      {
       "output_type": "stream",
       "stream": "stdout",
       "text": [
        "- "
       ]
      },
      {
       "output_type": "stream",
       "stream": "stdout",
       "text": [
        "- "
       ]
      },
      {
       "output_type": "stream",
       "stream": "stdout",
       "text": [
        "- "
       ]
      },
      {
       "output_type": "stream",
       "stream": "stdout",
       "text": [
        "- "
       ]
      },
      {
       "output_type": "stream",
       "stream": "stdout",
       "text": [
        "- "
       ]
      },
      {
       "output_type": "stream",
       "stream": "stdout",
       "text": [
        "- "
       ]
      },
      {
       "output_type": "stream",
       "stream": "stdout",
       "text": [
        "- "
       ]
      },
      {
       "output_type": "stream",
       "stream": "stdout",
       "text": [
        "- "
       ]
      },
      {
       "output_type": "stream",
       "stream": "stdout",
       "text": [
        "- "
       ]
      },
      {
       "output_type": "stream",
       "stream": "stdout",
       "text": [
        "- "
       ]
      },
      {
       "output_type": "stream",
       "stream": "stdout",
       "text": [
        "- "
       ]
      },
      {
       "output_type": "stream",
       "stream": "stdout",
       "text": [
        "- "
       ]
      },
      {
       "output_type": "stream",
       "stream": "stdout",
       "text": [
        "- "
       ]
      },
      {
       "output_type": "stream",
       "stream": "stdout",
       "text": [
        "- "
       ]
      },
      {
       "output_type": "stream",
       "stream": "stdout",
       "text": [
        "- "
       ]
      },
      {
       "output_type": "stream",
       "stream": "stdout",
       "text": [
        "- "
       ]
      },
      {
       "output_type": "stream",
       "stream": "stdout",
       "text": [
        "- "
       ]
      },
      {
       "output_type": "stream",
       "stream": "stdout",
       "text": [
        "- "
       ]
      },
      {
       "output_type": "stream",
       "stream": "stdout",
       "text": [
        "- "
       ]
      },
      {
       "output_type": "stream",
       "stream": "stdout",
       "text": [
        "- "
       ]
      },
      {
       "output_type": "stream",
       "stream": "stdout",
       "text": [
        "- "
       ]
      },
      {
       "output_type": "stream",
       "stream": "stdout",
       "text": [
        "- "
       ]
      },
      {
       "output_type": "stream",
       "stream": "stdout",
       "text": [
        "- "
       ]
      },
      {
       "output_type": "stream",
       "stream": "stdout",
       "text": [
        "- "
       ]
      },
      {
       "output_type": "stream",
       "stream": "stdout",
       "text": [
        "- "
       ]
      },
      {
       "output_type": "stream",
       "stream": "stdout",
       "text": [
        "- "
       ]
      },
      {
       "output_type": "stream",
       "stream": "stdout",
       "text": [
        "- "
       ]
      },
      {
       "output_type": "stream",
       "stream": "stdout",
       "text": [
        "- "
       ]
      },
      {
       "output_type": "stream",
       "stream": "stdout",
       "text": [
        "- "
       ]
      },
      {
       "output_type": "stream",
       "stream": "stdout",
       "text": [
        "- "
       ]
      },
      {
       "output_type": "stream",
       "stream": "stdout",
       "text": [
        "- "
       ]
      },
      {
       "output_type": "stream",
       "stream": "stdout",
       "text": [
        "- "
       ]
      },
      {
       "output_type": "stream",
       "stream": "stdout",
       "text": [
        "- "
       ]
      },
      {
       "output_type": "stream",
       "stream": "stdout",
       "text": [
        "- "
       ]
      },
      {
       "output_type": "stream",
       "stream": "stdout",
       "text": [
        "- "
       ]
      },
      {
       "output_type": "stream",
       "stream": "stdout",
       "text": [
        "- "
       ]
      },
      {
       "output_type": "stream",
       "stream": "stdout",
       "text": [
        "- "
       ]
      },
      {
       "output_type": "stream",
       "stream": "stdout",
       "text": [
        "- "
       ]
      },
      {
       "output_type": "stream",
       "stream": "stdout",
       "text": [
        "- "
       ]
      },
      {
       "output_type": "stream",
       "stream": "stdout",
       "text": [
        "- "
       ]
      },
      {
       "output_type": "stream",
       "stream": "stdout",
       "text": [
        "- "
       ]
      },
      {
       "output_type": "stream",
       "stream": "stdout",
       "text": [
        "- "
       ]
      },
      {
       "output_type": "stream",
       "stream": "stdout",
       "text": [
        "- "
       ]
      },
      {
       "output_type": "stream",
       "stream": "stdout",
       "text": [
        "- "
       ]
      },
      {
       "output_type": "stream",
       "stream": "stdout",
       "text": [
        "- "
       ]
      },
      {
       "output_type": "stream",
       "stream": "stdout",
       "text": [
        "- "
       ]
      },
      {
       "output_type": "stream",
       "stream": "stdout",
       "text": [
        "- "
       ]
      },
      {
       "output_type": "stream",
       "stream": "stdout",
       "text": [
        "- "
       ]
      },
      {
       "output_type": "stream",
       "stream": "stdout",
       "text": [
        "- "
       ]
      },
      {
       "output_type": "stream",
       "stream": "stdout",
       "text": [
        "- "
       ]
      },
      {
       "output_type": "stream",
       "stream": "stdout",
       "text": [
        "- "
       ]
      },
      {
       "output_type": "stream",
       "stream": "stdout",
       "text": [
        "- "
       ]
      },
      {
       "output_type": "stream",
       "stream": "stdout",
       "text": [
        "- "
       ]
      },
      {
       "output_type": "stream",
       "stream": "stdout",
       "text": [
        "- "
       ]
      },
      {
       "output_type": "stream",
       "stream": "stdout",
       "text": [
        "- "
       ]
      },
      {
       "output_type": "stream",
       "stream": "stdout",
       "text": [
        "- "
       ]
      },
      {
       "output_type": "stream",
       "stream": "stdout",
       "text": [
        "- "
       ]
      },
      {
       "output_type": "stream",
       "stream": "stdout",
       "text": [
        "- "
       ]
      },
      {
       "output_type": "stream",
       "stream": "stdout",
       "text": [
        "- "
       ]
      },
      {
       "output_type": "stream",
       "stream": "stdout",
       "text": [
        "- "
       ]
      },
      {
       "output_type": "stream",
       "stream": "stdout",
       "text": [
        "- "
       ]
      },
      {
       "output_type": "stream",
       "stream": "stdout",
       "text": [
        "- "
       ]
      },
      {
       "output_type": "stream",
       "stream": "stdout",
       "text": [
        "- "
       ]
      },
      {
       "output_type": "stream",
       "stream": "stdout",
       "text": [
        "- "
       ]
      },
      {
       "output_type": "stream",
       "stream": "stdout",
       "text": [
        "- "
       ]
      },
      {
       "output_type": "stream",
       "stream": "stdout",
       "text": [
        "- "
       ]
      },
      {
       "output_type": "stream",
       "stream": "stdout",
       "text": [
        "- "
       ]
      },
      {
       "output_type": "stream",
       "stream": "stdout",
       "text": [
        "- "
       ]
      },
      {
       "output_type": "stream",
       "stream": "stdout",
       "text": [
        "- "
       ]
      },
      {
       "output_type": "stream",
       "stream": "stdout",
       "text": [
        "- "
       ]
      },
      {
       "output_type": "stream",
       "stream": "stdout",
       "text": [
        "- "
       ]
      },
      {
       "output_type": "stream",
       "stream": "stdout",
       "text": [
        "- "
       ]
      },
      {
       "output_type": "stream",
       "stream": "stdout",
       "text": [
        "- "
       ]
      },
      {
       "output_type": "stream",
       "stream": "stdout",
       "text": [
        "- "
       ]
      },
      {
       "output_type": "stream",
       "stream": "stdout",
       "text": [
        "- "
       ]
      },
      {
       "output_type": "stream",
       "stream": "stdout",
       "text": [
        "- "
       ]
      },
      {
       "output_type": "stream",
       "stream": "stdout",
       "text": [
        "- "
       ]
      },
      {
       "output_type": "stream",
       "stream": "stdout",
       "text": [
        "- "
       ]
      },
      {
       "output_type": "stream",
       "stream": "stdout",
       "text": [
        "- "
       ]
      },
      {
       "output_type": "stream",
       "stream": "stdout",
       "text": [
        "- "
       ]
      },
      {
       "output_type": "stream",
       "stream": "stdout",
       "text": [
        "- "
       ]
      },
      {
       "output_type": "stream",
       "stream": "stdout",
       "text": [
        "- "
       ]
      },
      {
       "output_type": "stream",
       "stream": "stdout",
       "text": [
        "- "
       ]
      },
      {
       "output_type": "stream",
       "stream": "stdout",
       "text": [
        "- "
       ]
      },
      {
       "output_type": "stream",
       "stream": "stdout",
       "text": [
        "- "
       ]
      },
      {
       "output_type": "stream",
       "stream": "stdout",
       "text": [
        "- "
       ]
      },
      {
       "output_type": "stream",
       "stream": "stdout",
       "text": [
        "- "
       ]
      },
      {
       "output_type": "stream",
       "stream": "stdout",
       "text": [
        "- "
       ]
      },
      {
       "output_type": "stream",
       "stream": "stdout",
       "text": [
        "- "
       ]
      },
      {
       "output_type": "stream",
       "stream": "stdout",
       "text": [
        "- "
       ]
      },
      {
       "output_type": "stream",
       "stream": "stdout",
       "text": [
        "- "
       ]
      },
      {
       "output_type": "stream",
       "stream": "stdout",
       "text": [
        "- "
       ]
      },
      {
       "output_type": "stream",
       "stream": "stdout",
       "text": [
        "- "
       ]
      },
      {
       "output_type": "stream",
       "stream": "stdout",
       "text": [
        "- "
       ]
      },
      {
       "output_type": "stream",
       "stream": "stdout",
       "text": [
        "- "
       ]
      },
      {
       "output_type": "stream",
       "stream": "stdout",
       "text": [
        "- "
       ]
      },
      {
       "output_type": "stream",
       "stream": "stdout",
       "text": [
        "- "
       ]
      },
      {
       "output_type": "stream",
       "stream": "stdout",
       "text": [
        "- "
       ]
      },
      {
       "output_type": "stream",
       "stream": "stdout",
       "text": [
        "- "
       ]
      },
      {
       "output_type": "stream",
       "stream": "stdout",
       "text": [
        "- "
       ]
      },
      {
       "output_type": "stream",
       "stream": "stdout",
       "text": [
        "- "
       ]
      },
      {
       "output_type": "stream",
       "stream": "stdout",
       "text": [
        "- "
       ]
      },
      {
       "output_type": "stream",
       "stream": "stdout",
       "text": [
        "- "
       ]
      },
      {
       "output_type": "stream",
       "stream": "stdout",
       "text": [
        "- "
       ]
      },
      {
       "output_type": "stream",
       "stream": "stdout",
       "text": [
        "- "
       ]
      },
      {
       "output_type": "stream",
       "stream": "stdout",
       "text": [
        "- "
       ]
      },
      {
       "output_type": "stream",
       "stream": "stdout",
       "text": [
        "- "
       ]
      },
      {
       "output_type": "stream",
       "stream": "stdout",
       "text": [
        "- "
       ]
      },
      {
       "output_type": "stream",
       "stream": "stdout",
       "text": [
        "- "
       ]
      },
      {
       "output_type": "stream",
       "stream": "stdout",
       "text": [
        "- "
       ]
      },
      {
       "output_type": "stream",
       "stream": "stdout",
       "text": [
        "- "
       ]
      },
      {
       "output_type": "stream",
       "stream": "stdout",
       "text": [
        "- "
       ]
      },
      {
       "output_type": "stream",
       "stream": "stdout",
       "text": [
        "- "
       ]
      },
      {
       "output_type": "stream",
       "stream": "stdout",
       "text": [
        "- "
       ]
      },
      {
       "output_type": "stream",
       "stream": "stdout",
       "text": [
        "- "
       ]
      },
      {
       "output_type": "stream",
       "stream": "stdout",
       "text": [
        "- "
       ]
      },
      {
       "output_type": "stream",
       "stream": "stdout",
       "text": [
        "- "
       ]
      },
      {
       "output_type": "stream",
       "stream": "stdout",
       "text": [
        "- "
       ]
      },
      {
       "output_type": "stream",
       "stream": "stdout",
       "text": [
        "- "
       ]
      },
      {
       "output_type": "stream",
       "stream": "stdout",
       "text": [
        "- "
       ]
      },
      {
       "output_type": "stream",
       "stream": "stdout",
       "text": [
        "- "
       ]
      },
      {
       "output_type": "stream",
       "stream": "stdout",
       "text": [
        "- "
       ]
      },
      {
       "output_type": "stream",
       "stream": "stdout",
       "text": [
        "- "
       ]
      },
      {
       "output_type": "stream",
       "stream": "stdout",
       "text": [
        "- "
       ]
      },
      {
       "output_type": "stream",
       "stream": "stdout",
       "text": [
        "- "
       ]
      },
      {
       "output_type": "stream",
       "stream": "stdout",
       "text": [
        "- "
       ]
      },
      {
       "output_type": "stream",
       "stream": "stdout",
       "text": [
        "- "
       ]
      },
      {
       "output_type": "stream",
       "stream": "stdout",
       "text": [
        "- "
       ]
      },
      {
       "output_type": "stream",
       "stream": "stdout",
       "text": [
        "- "
       ]
      },
      {
       "output_type": "stream",
       "stream": "stdout",
       "text": [
        "- "
       ]
      },
      {
       "output_type": "stream",
       "stream": "stdout",
       "text": [
        "- "
       ]
      },
      {
       "output_type": "stream",
       "stream": "stdout",
       "text": [
        "- "
       ]
      },
      {
       "output_type": "stream",
       "stream": "stdout",
       "text": [
        "- "
       ]
      },
      {
       "output_type": "stream",
       "stream": "stdout",
       "text": [
        "- "
       ]
      },
      {
       "output_type": "stream",
       "stream": "stdout",
       "text": [
        "- "
       ]
      },
      {
       "output_type": "stream",
       "stream": "stdout",
       "text": [
        "- "
       ]
      },
      {
       "output_type": "stream",
       "stream": "stdout",
       "text": [
        "- "
       ]
      },
      {
       "output_type": "stream",
       "stream": "stdout",
       "text": [
        "- "
       ]
      },
      {
       "output_type": "stream",
       "stream": "stdout",
       "text": [
        "- "
       ]
      },
      {
       "output_type": "stream",
       "stream": "stdout",
       "text": [
        "- "
       ]
      },
      {
       "output_type": "stream",
       "stream": "stdout",
       "text": [
        "- "
       ]
      },
      {
       "output_type": "stream",
       "stream": "stdout",
       "text": [
        "- "
       ]
      },
      {
       "output_type": "stream",
       "stream": "stdout",
       "text": [
        "- "
       ]
      },
      {
       "output_type": "stream",
       "stream": "stdout",
       "text": [
        "- "
       ]
      },
      {
       "output_type": "stream",
       "stream": "stdout",
       "text": [
        "- "
       ]
      },
      {
       "output_type": "stream",
       "stream": "stdout",
       "text": [
        "- "
       ]
      },
      {
       "output_type": "stream",
       "stream": "stdout",
       "text": [
        "- "
       ]
      },
      {
       "output_type": "stream",
       "stream": "stdout",
       "text": [
        "- "
       ]
      },
      {
       "output_type": "stream",
       "stream": "stdout",
       "text": [
        "- "
       ]
      },
      {
       "output_type": "stream",
       "stream": "stdout",
       "text": [
        "- "
       ]
      },
      {
       "output_type": "stream",
       "stream": "stdout",
       "text": [
        "- "
       ]
      },
      {
       "output_type": "stream",
       "stream": "stdout",
       "text": [
        "- "
       ]
      },
      {
       "output_type": "stream",
       "stream": "stdout",
       "text": [
        "- "
       ]
      },
      {
       "output_type": "stream",
       "stream": "stdout",
       "text": [
        "- "
       ]
      },
      {
       "output_type": "stream",
       "stream": "stdout",
       "text": [
        "- "
       ]
      },
      {
       "output_type": "stream",
       "stream": "stdout",
       "text": [
        "- "
       ]
      },
      {
       "output_type": "stream",
       "stream": "stdout",
       "text": [
        "- "
       ]
      },
      {
       "output_type": "stream",
       "stream": "stdout",
       "text": [
        "- "
       ]
      },
      {
       "output_type": "stream",
       "stream": "stdout",
       "text": [
        "- "
       ]
      },
      {
       "output_type": "stream",
       "stream": "stdout",
       "text": [
        "- "
       ]
      },
      {
       "output_type": "stream",
       "stream": "stdout",
       "text": [
        "- "
       ]
      },
      {
       "output_type": "stream",
       "stream": "stdout",
       "text": [
        "- "
       ]
      },
      {
       "output_type": "stream",
       "stream": "stdout",
       "text": [
        "- "
       ]
      },
      {
       "output_type": "stream",
       "stream": "stdout",
       "text": [
        "- "
       ]
      },
      {
       "output_type": "stream",
       "stream": "stdout",
       "text": [
        "- "
       ]
      },
      {
       "output_type": "stream",
       "stream": "stdout",
       "text": [
        "- "
       ]
      },
      {
       "output_type": "stream",
       "stream": "stdout",
       "text": [
        "- "
       ]
      },
      {
       "output_type": "stream",
       "stream": "stdout",
       "text": [
        "- "
       ]
      },
      {
       "output_type": "stream",
       "stream": "stdout",
       "text": [
        "- "
       ]
      },
      {
       "output_type": "stream",
       "stream": "stdout",
       "text": [
        "- "
       ]
      },
      {
       "output_type": "stream",
       "stream": "stdout",
       "text": [
        "- "
       ]
      },
      {
       "output_type": "stream",
       "stream": "stdout",
       "text": [
        "- "
       ]
      },
      {
       "output_type": "stream",
       "stream": "stdout",
       "text": [
        "- "
       ]
      },
      {
       "output_type": "stream",
       "stream": "stdout",
       "text": [
        "- "
       ]
      },
      {
       "output_type": "stream",
       "stream": "stdout",
       "text": [
        "- "
       ]
      },
      {
       "output_type": "stream",
       "stream": "stdout",
       "text": [
        "- "
       ]
      },
      {
       "output_type": "stream",
       "stream": "stdout",
       "text": [
        "- "
       ]
      },
      {
       "output_type": "stream",
       "stream": "stdout",
       "text": [
        "- "
       ]
      },
      {
       "output_type": "stream",
       "stream": "stdout",
       "text": [
        "- "
       ]
      },
      {
       "output_type": "stream",
       "stream": "stdout",
       "text": [
        "- "
       ]
      },
      {
       "output_type": "stream",
       "stream": "stdout",
       "text": [
        "- "
       ]
      },
      {
       "output_type": "stream",
       "stream": "stdout",
       "text": [
        "- "
       ]
      },
      {
       "output_type": "stream",
       "stream": "stdout",
       "text": [
        "- "
       ]
      },
      {
       "output_type": "stream",
       "stream": "stdout",
       "text": [
        "- "
       ]
      },
      {
       "output_type": "stream",
       "stream": "stdout",
       "text": [
        "- "
       ]
      },
      {
       "output_type": "stream",
       "stream": "stdout",
       "text": [
        "- "
       ]
      },
      {
       "output_type": "stream",
       "stream": "stdout",
       "text": [
        "- "
       ]
      },
      {
       "output_type": "stream",
       "stream": "stdout",
       "text": [
        "- "
       ]
      },
      {
       "output_type": "stream",
       "stream": "stdout",
       "text": [
        "- "
       ]
      },
      {
       "output_type": "stream",
       "stream": "stdout",
       "text": [
        "- "
       ]
      },
      {
       "output_type": "stream",
       "stream": "stdout",
       "text": [
        "- "
       ]
      },
      {
       "output_type": "stream",
       "stream": "stdout",
       "text": [
        "- "
       ]
      },
      {
       "output_type": "stream",
       "stream": "stdout",
       "text": [
        "- "
       ]
      },
      {
       "output_type": "stream",
       "stream": "stdout",
       "text": [
        "- "
       ]
      },
      {
       "output_type": "stream",
       "stream": "stdout",
       "text": [
        "- "
       ]
      },
      {
       "output_type": "stream",
       "stream": "stdout",
       "text": [
        "- "
       ]
      },
      {
       "output_type": "stream",
       "stream": "stdout",
       "text": [
        "- "
       ]
      },
      {
       "output_type": "stream",
       "stream": "stdout",
       "text": [
        "- "
       ]
      },
      {
       "output_type": "stream",
       "stream": "stdout",
       "text": [
        "- "
       ]
      },
      {
       "output_type": "stream",
       "stream": "stdout",
       "text": [
        "- "
       ]
      },
      {
       "output_type": "stream",
       "stream": "stdout",
       "text": [
        "- "
       ]
      },
      {
       "output_type": "stream",
       "stream": "stdout",
       "text": [
        "- "
       ]
      },
      {
       "output_type": "stream",
       "stream": "stdout",
       "text": [
        "- "
       ]
      },
      {
       "output_type": "stream",
       "stream": "stdout",
       "text": [
        "- "
       ]
      },
      {
       "output_type": "stream",
       "stream": "stdout",
       "text": [
        "- "
       ]
      },
      {
       "output_type": "stream",
       "stream": "stdout",
       "text": [
        "- "
       ]
      },
      {
       "output_type": "stream",
       "stream": "stdout",
       "text": [
        "- "
       ]
      },
      {
       "output_type": "stream",
       "stream": "stdout",
       "text": [
        "- "
       ]
      },
      {
       "output_type": "stream",
       "stream": "stdout",
       "text": [
        "- "
       ]
      },
      {
       "output_type": "stream",
       "stream": "stdout",
       "text": [
        "- "
       ]
      },
      {
       "output_type": "stream",
       "stream": "stdout",
       "text": [
        "- "
       ]
      },
      {
       "output_type": "stream",
       "stream": "stdout",
       "text": [
        "- "
       ]
      },
      {
       "output_type": "stream",
       "stream": "stdout",
       "text": [
        "- "
       ]
      },
      {
       "output_type": "stream",
       "stream": "stdout",
       "text": [
        "- "
       ]
      },
      {
       "output_type": "stream",
       "stream": "stdout",
       "text": [
        "- "
       ]
      },
      {
       "output_type": "stream",
       "stream": "stdout",
       "text": [
        "- "
       ]
      },
      {
       "output_type": "stream",
       "stream": "stdout",
       "text": [
        "- "
       ]
      },
      {
       "output_type": "stream",
       "stream": "stdout",
       "text": [
        "- "
       ]
      },
      {
       "output_type": "stream",
       "stream": "stdout",
       "text": [
        "- "
       ]
      },
      {
       "output_type": "stream",
       "stream": "stdout",
       "text": [
        "- "
       ]
      },
      {
       "output_type": "stream",
       "stream": "stdout",
       "text": [
        "- "
       ]
      },
      {
       "output_type": "stream",
       "stream": "stdout",
       "text": [
        "- "
       ]
      },
      {
       "output_type": "stream",
       "stream": "stdout",
       "text": [
        "- "
       ]
      },
      {
       "output_type": "stream",
       "stream": "stdout",
       "text": [
        "- "
       ]
      },
      {
       "output_type": "stream",
       "stream": "stdout",
       "text": [
        "- "
       ]
      },
      {
       "output_type": "stream",
       "stream": "stdout",
       "text": [
        "- "
       ]
      },
      {
       "output_type": "stream",
       "stream": "stdout",
       "text": [
        "- "
       ]
      },
      {
       "output_type": "stream",
       "stream": "stdout",
       "text": [
        "- "
       ]
      },
      {
       "output_type": "stream",
       "stream": "stdout",
       "text": [
        "- "
       ]
      },
      {
       "output_type": "stream",
       "stream": "stdout",
       "text": [
        "- "
       ]
      },
      {
       "output_type": "stream",
       "stream": "stdout",
       "text": [
        "- "
       ]
      },
      {
       "output_type": "stream",
       "stream": "stdout",
       "text": [
        "- "
       ]
      },
      {
       "output_type": "stream",
       "stream": "stdout",
       "text": [
        "- "
       ]
      },
      {
       "output_type": "stream",
       "stream": "stdout",
       "text": [
        "- "
       ]
      },
      {
       "output_type": "stream",
       "stream": "stdout",
       "text": [
        "- "
       ]
      },
      {
       "output_type": "stream",
       "stream": "stdout",
       "text": [
        "- "
       ]
      },
      {
       "output_type": "stream",
       "stream": "stdout",
       "text": [
        "- "
       ]
      },
      {
       "output_type": "stream",
       "stream": "stdout",
       "text": [
        "- "
       ]
      },
      {
       "output_type": "stream",
       "stream": "stdout",
       "text": [
        "- "
       ]
      },
      {
       "output_type": "stream",
       "stream": "stdout",
       "text": [
        "- "
       ]
      },
      {
       "output_type": "stream",
       "stream": "stdout",
       "text": [
        "- "
       ]
      },
      {
       "output_type": "stream",
       "stream": "stdout",
       "text": [
        "- "
       ]
      },
      {
       "output_type": "stream",
       "stream": "stdout",
       "text": [
        "- "
       ]
      },
      {
       "output_type": "stream",
       "stream": "stdout",
       "text": [
        "- "
       ]
      },
      {
       "output_type": "stream",
       "stream": "stdout",
       "text": [
        "- "
       ]
      },
      {
       "output_type": "stream",
       "stream": "stdout",
       "text": [
        "- "
       ]
      },
      {
       "output_type": "stream",
       "stream": "stdout",
       "text": [
        "- "
       ]
      },
      {
       "output_type": "stream",
       "stream": "stdout",
       "text": [
        "- "
       ]
      },
      {
       "output_type": "stream",
       "stream": "stdout",
       "text": [
        "- "
       ]
      },
      {
       "output_type": "stream",
       "stream": "stdout",
       "text": [
        "- "
       ]
      },
      {
       "output_type": "stream",
       "stream": "stdout",
       "text": [
        "- "
       ]
      },
      {
       "output_type": "stream",
       "stream": "stdout",
       "text": [
        "- "
       ]
      },
      {
       "output_type": "stream",
       "stream": "stdout",
       "text": [
        "- "
       ]
      },
      {
       "output_type": "stream",
       "stream": "stdout",
       "text": [
        "- "
       ]
      },
      {
       "output_type": "stream",
       "stream": "stdout",
       "text": [
        "- "
       ]
      },
      {
       "output_type": "stream",
       "stream": "stdout",
       "text": [
        "- "
       ]
      },
      {
       "output_type": "stream",
       "stream": "stdout",
       "text": [
        "- "
       ]
      },
      {
       "output_type": "stream",
       "stream": "stdout",
       "text": [
        "- "
       ]
      },
      {
       "output_type": "stream",
       "stream": "stdout",
       "text": [
        "- "
       ]
      },
      {
       "output_type": "stream",
       "stream": "stdout",
       "text": [
        "- "
       ]
      },
      {
       "output_type": "stream",
       "stream": "stdout",
       "text": [
        "- "
       ]
      },
      {
       "output_type": "stream",
       "stream": "stdout",
       "text": [
        "- "
       ]
      },
      {
       "output_type": "stream",
       "stream": "stdout",
       "text": [
        "- "
       ]
      },
      {
       "output_type": "stream",
       "stream": "stdout",
       "text": [
        "- "
       ]
      },
      {
       "output_type": "stream",
       "stream": "stdout",
       "text": [
        "- "
       ]
      },
      {
       "output_type": "stream",
       "stream": "stdout",
       "text": [
        "- "
       ]
      },
      {
       "output_type": "stream",
       "stream": "stdout",
       "text": [
        "- "
       ]
      },
      {
       "output_type": "stream",
       "stream": "stdout",
       "text": [
        "- "
       ]
      },
      {
       "output_type": "stream",
       "stream": "stdout",
       "text": [
        "- "
       ]
      },
      {
       "output_type": "stream",
       "stream": "stdout",
       "text": [
        "- "
       ]
      },
      {
       "output_type": "stream",
       "stream": "stdout",
       "text": [
        "- "
       ]
      },
      {
       "output_type": "stream",
       "stream": "stdout",
       "text": [
        "- "
       ]
      },
      {
       "output_type": "stream",
       "stream": "stdout",
       "text": [
        "- "
       ]
      },
      {
       "output_type": "stream",
       "stream": "stdout",
       "text": [
        "- "
       ]
      },
      {
       "output_type": "stream",
       "stream": "stdout",
       "text": [
        "- "
       ]
      },
      {
       "output_type": "stream",
       "stream": "stdout",
       "text": [
        "- "
       ]
      },
      {
       "output_type": "stream",
       "stream": "stdout",
       "text": [
        "- "
       ]
      },
      {
       "output_type": "stream",
       "stream": "stdout",
       "text": [
        "- "
       ]
      },
      {
       "output_type": "stream",
       "stream": "stdout",
       "text": [
        "- "
       ]
      },
      {
       "output_type": "stream",
       "stream": "stdout",
       "text": [
        "- "
       ]
      },
      {
       "output_type": "stream",
       "stream": "stdout",
       "text": [
        "- "
       ]
      },
      {
       "output_type": "stream",
       "stream": "stdout",
       "text": [
        "- "
       ]
      },
      {
       "output_type": "stream",
       "stream": "stdout",
       "text": [
        "- "
       ]
      },
      {
       "output_type": "stream",
       "stream": "stdout",
       "text": [
        "- "
       ]
      },
      {
       "output_type": "stream",
       "stream": "stdout",
       "text": [
        "- "
       ]
      },
      {
       "output_type": "stream",
       "stream": "stdout",
       "text": [
        "- "
       ]
      },
      {
       "output_type": "stream",
       "stream": "stdout",
       "text": [
        "- "
       ]
      },
      {
       "output_type": "stream",
       "stream": "stdout",
       "text": [
        "- "
       ]
      },
      {
       "output_type": "stream",
       "stream": "stdout",
       "text": [
        "- "
       ]
      },
      {
       "output_type": "stream",
       "stream": "stdout",
       "text": [
        "- "
       ]
      },
      {
       "output_type": "stream",
       "stream": "stdout",
       "text": [
        "- "
       ]
      },
      {
       "output_type": "stream",
       "stream": "stdout",
       "text": [
        "- "
       ]
      },
      {
       "output_type": "stream",
       "stream": "stdout",
       "text": [
        "- "
       ]
      },
      {
       "output_type": "stream",
       "stream": "stdout",
       "text": [
        "- "
       ]
      },
      {
       "output_type": "stream",
       "stream": "stdout",
       "text": [
        "- "
       ]
      },
      {
       "output_type": "stream",
       "stream": "stdout",
       "text": [
        "- "
       ]
      },
      {
       "output_type": "stream",
       "stream": "stdout",
       "text": [
        "- "
       ]
      },
      {
       "output_type": "stream",
       "stream": "stdout",
       "text": [
        "- "
       ]
      },
      {
       "output_type": "stream",
       "stream": "stdout",
       "text": [
        "- "
       ]
      },
      {
       "output_type": "stream",
       "stream": "stdout",
       "text": [
        "- "
       ]
      },
      {
       "output_type": "stream",
       "stream": "stdout",
       "text": [
        "- "
       ]
      },
      {
       "output_type": "stream",
       "stream": "stdout",
       "text": [
        "- "
       ]
      },
      {
       "output_type": "stream",
       "stream": "stdout",
       "text": [
        "- "
       ]
      },
      {
       "output_type": "stream",
       "stream": "stdout",
       "text": [
        "- "
       ]
      },
      {
       "output_type": "stream",
       "stream": "stdout",
       "text": [
        "- "
       ]
      },
      {
       "output_type": "stream",
       "stream": "stdout",
       "text": [
        "- "
       ]
      },
      {
       "output_type": "stream",
       "stream": "stdout",
       "text": [
        "- "
       ]
      },
      {
       "output_type": "stream",
       "stream": "stdout",
       "text": [
        "- "
       ]
      },
      {
       "output_type": "stream",
       "stream": "stdout",
       "text": [
        "- "
       ]
      },
      {
       "output_type": "stream",
       "stream": "stdout",
       "text": [
        "- "
       ]
      },
      {
       "output_type": "stream",
       "stream": "stdout",
       "text": [
        "- "
       ]
      },
      {
       "output_type": "stream",
       "stream": "stdout",
       "text": [
        "- "
       ]
      },
      {
       "output_type": "stream",
       "stream": "stdout",
       "text": [
        "- "
       ]
      },
      {
       "output_type": "stream",
       "stream": "stdout",
       "text": [
        "- "
       ]
      },
      {
       "output_type": "stream",
       "stream": "stdout",
       "text": [
        "- "
       ]
      },
      {
       "output_type": "stream",
       "stream": "stdout",
       "text": [
        "- "
       ]
      },
      {
       "output_type": "stream",
       "stream": "stdout",
       "text": [
        "- "
       ]
      },
      {
       "output_type": "stream",
       "stream": "stdout",
       "text": [
        "- "
       ]
      },
      {
       "output_type": "stream",
       "stream": "stdout",
       "text": [
        "- "
       ]
      },
      {
       "output_type": "stream",
       "stream": "stdout",
       "text": [
        "- "
       ]
      },
      {
       "output_type": "stream",
       "stream": "stdout",
       "text": [
        "- "
       ]
      },
      {
       "output_type": "stream",
       "stream": "stdout",
       "text": [
        "- "
       ]
      },
      {
       "output_type": "stream",
       "stream": "stdout",
       "text": [
        "- "
       ]
      },
      {
       "output_type": "stream",
       "stream": "stdout",
       "text": [
        "- "
       ]
      },
      {
       "output_type": "stream",
       "stream": "stdout",
       "text": [
        "- "
       ]
      },
      {
       "output_type": "stream",
       "stream": "stdout",
       "text": [
        "- "
       ]
      },
      {
       "output_type": "stream",
       "stream": "stdout",
       "text": [
        "- "
       ]
      },
      {
       "output_type": "stream",
       "stream": "stdout",
       "text": [
        "- "
       ]
      },
      {
       "output_type": "stream",
       "stream": "stdout",
       "text": [
        "- "
       ]
      },
      {
       "output_type": "stream",
       "stream": "stdout",
       "text": [
        "- "
       ]
      },
      {
       "output_type": "stream",
       "stream": "stdout",
       "text": [
        "- "
       ]
      },
      {
       "output_type": "stream",
       "stream": "stdout",
       "text": [
        "- "
       ]
      },
      {
       "output_type": "stream",
       "stream": "stdout",
       "text": [
        "- "
       ]
      },
      {
       "output_type": "stream",
       "stream": "stdout",
       "text": [
        "- "
       ]
      },
      {
       "output_type": "stream",
       "stream": "stdout",
       "text": [
        "- "
       ]
      },
      {
       "output_type": "stream",
       "stream": "stdout",
       "text": [
        "- "
       ]
      },
      {
       "output_type": "stream",
       "stream": "stdout",
       "text": [
        "- "
       ]
      },
      {
       "output_type": "stream",
       "stream": "stdout",
       "text": [
        "- "
       ]
      },
      {
       "output_type": "stream",
       "stream": "stdout",
       "text": [
        "- "
       ]
      },
      {
       "output_type": "stream",
       "stream": "stdout",
       "text": [
        "- "
       ]
      },
      {
       "output_type": "stream",
       "stream": "stdout",
       "text": [
        "- "
       ]
      },
      {
       "output_type": "stream",
       "stream": "stdout",
       "text": [
        "- "
       ]
      },
      {
       "output_type": "stream",
       "stream": "stdout",
       "text": [
        "- "
       ]
      },
      {
       "output_type": "stream",
       "stream": "stdout",
       "text": [
        "- "
       ]
      },
      {
       "output_type": "stream",
       "stream": "stdout",
       "text": [
        "- "
       ]
      },
      {
       "output_type": "stream",
       "stream": "stdout",
       "text": [
        "- "
       ]
      },
      {
       "output_type": "stream",
       "stream": "stdout",
       "text": [
        "- "
       ]
      },
      {
       "output_type": "stream",
       "stream": "stdout",
       "text": [
        "- "
       ]
      },
      {
       "output_type": "stream",
       "stream": "stdout",
       "text": [
        "- "
       ]
      },
      {
       "output_type": "stream",
       "stream": "stdout",
       "text": [
        "- "
       ]
      },
      {
       "output_type": "stream",
       "stream": "stdout",
       "text": [
        "- "
       ]
      },
      {
       "output_type": "stream",
       "stream": "stdout",
       "text": [
        "- "
       ]
      },
      {
       "output_type": "stream",
       "stream": "stdout",
       "text": [
        "- "
       ]
      },
      {
       "output_type": "stream",
       "stream": "stdout",
       "text": [
        "- "
       ]
      },
      {
       "output_type": "stream",
       "stream": "stdout",
       "text": [
        "- "
       ]
      },
      {
       "output_type": "stream",
       "stream": "stdout",
       "text": [
        "- "
       ]
      },
      {
       "output_type": "stream",
       "stream": "stdout",
       "text": [
        "- "
       ]
      },
      {
       "output_type": "stream",
       "stream": "stdout",
       "text": [
        "- "
       ]
      },
      {
       "output_type": "stream",
       "stream": "stdout",
       "text": [
        "- "
       ]
      },
      {
       "output_type": "stream",
       "stream": "stdout",
       "text": [
        "- "
       ]
      },
      {
       "output_type": "stream",
       "stream": "stdout",
       "text": [
        "- "
       ]
      },
      {
       "output_type": "stream",
       "stream": "stdout",
       "text": [
        "- "
       ]
      },
      {
       "output_type": "stream",
       "stream": "stdout",
       "text": [
        "- "
       ]
      },
      {
       "output_type": "stream",
       "stream": "stdout",
       "text": [
        "- "
       ]
      },
      {
       "output_type": "stream",
       "stream": "stdout",
       "text": [
        "- "
       ]
      },
      {
       "output_type": "stream",
       "stream": "stdout",
       "text": [
        "- "
       ]
      },
      {
       "output_type": "stream",
       "stream": "stdout",
       "text": [
        "- "
       ]
      },
      {
       "output_type": "stream",
       "stream": "stdout",
       "text": [
        "- "
       ]
      },
      {
       "output_type": "stream",
       "stream": "stdout",
       "text": [
        "- "
       ]
      },
      {
       "output_type": "stream",
       "stream": "stdout",
       "text": [
        "- "
       ]
      },
      {
       "output_type": "stream",
       "stream": "stdout",
       "text": [
        "- "
       ]
      },
      {
       "output_type": "stream",
       "stream": "stdout",
       "text": [
        "- "
       ]
      },
      {
       "output_type": "stream",
       "stream": "stdout",
       "text": [
        "- "
       ]
      },
      {
       "output_type": "stream",
       "stream": "stdout",
       "text": [
        "- "
       ]
      },
      {
       "output_type": "stream",
       "stream": "stdout",
       "text": [
        "- "
       ]
      },
      {
       "output_type": "stream",
       "stream": "stdout",
       "text": [
        "- "
       ]
      },
      {
       "output_type": "stream",
       "stream": "stdout",
       "text": [
        "- "
       ]
      },
      {
       "output_type": "stream",
       "stream": "stdout",
       "text": [
        "- "
       ]
      },
      {
       "output_type": "stream",
       "stream": "stdout",
       "text": [
        "- "
       ]
      },
      {
       "output_type": "stream",
       "stream": "stdout",
       "text": [
        "- "
       ]
      },
      {
       "output_type": "stream",
       "stream": "stdout",
       "text": [
        "- "
       ]
      },
      {
       "output_type": "stream",
       "stream": "stdout",
       "text": [
        "- "
       ]
      },
      {
       "output_type": "stream",
       "stream": "stdout",
       "text": [
        "- "
       ]
      },
      {
       "output_type": "stream",
       "stream": "stdout",
       "text": [
        "- "
       ]
      },
      {
       "output_type": "stream",
       "stream": "stdout",
       "text": [
        "- "
       ]
      },
      {
       "output_type": "stream",
       "stream": "stdout",
       "text": [
        "- "
       ]
      },
      {
       "output_type": "stream",
       "stream": "stdout",
       "text": [
        "Epoch 0 complete\n",
        "- "
       ]
      },
      {
       "output_type": "stream",
       "stream": "stdout",
       "text": [
        "- "
       ]
      },
      {
       "output_type": "stream",
       "stream": "stdout",
       "text": [
        "- "
       ]
      },
      {
       "output_type": "stream",
       "stream": "stdout",
       "text": [
        "- "
       ]
      },
      {
       "output_type": "stream",
       "stream": "stdout",
       "text": [
        "- "
       ]
      },
      {
       "output_type": "stream",
       "stream": "stdout",
       "text": [
        "- "
       ]
      },
      {
       "output_type": "stream",
       "stream": "stdout",
       "text": [
        "- "
       ]
      },
      {
       "output_type": "stream",
       "stream": "stdout",
       "text": [
        "- "
       ]
      },
      {
       "output_type": "stream",
       "stream": "stdout",
       "text": [
        "- "
       ]
      },
      {
       "output_type": "stream",
       "stream": "stdout",
       "text": [
        "- "
       ]
      },
      {
       "output_type": "stream",
       "stream": "stdout",
       "text": [
        "- "
       ]
      },
      {
       "output_type": "stream",
       "stream": "stdout",
       "text": [
        "- "
       ]
      },
      {
       "output_type": "stream",
       "stream": "stdout",
       "text": [
        "- "
       ]
      },
      {
       "output_type": "stream",
       "stream": "stdout",
       "text": [
        "- "
       ]
      },
      {
       "output_type": "stream",
       "stream": "stdout",
       "text": [
        "- "
       ]
      },
      {
       "output_type": "stream",
       "stream": "stdout",
       "text": [
        "- "
       ]
      },
      {
       "output_type": "stream",
       "stream": "stdout",
       "text": [
        "- "
       ]
      },
      {
       "output_type": "stream",
       "stream": "stdout",
       "text": [
        "- "
       ]
      },
      {
       "output_type": "stream",
       "stream": "stdout",
       "text": [
        "- "
       ]
      },
      {
       "output_type": "stream",
       "stream": "stdout",
       "text": [
        "- "
       ]
      },
      {
       "output_type": "stream",
       "stream": "stdout",
       "text": [
        "- "
       ]
      },
      {
       "output_type": "stream",
       "stream": "stdout",
       "text": [
        "- "
       ]
      },
      {
       "output_type": "stream",
       "stream": "stdout",
       "text": [
        "- "
       ]
      },
      {
       "output_type": "stream",
       "stream": "stdout",
       "text": [
        "- "
       ]
      },
      {
       "output_type": "stream",
       "stream": "stdout",
       "text": [
        "- "
       ]
      },
      {
       "output_type": "stream",
       "stream": "stdout",
       "text": [
        "- "
       ]
      },
      {
       "output_type": "stream",
       "stream": "stdout",
       "text": [
        "- "
       ]
      },
      {
       "output_type": "stream",
       "stream": "stdout",
       "text": [
        "- "
       ]
      },
      {
       "output_type": "stream",
       "stream": "stdout",
       "text": [
        "- "
       ]
      },
      {
       "output_type": "stream",
       "stream": "stdout",
       "text": [
        "- "
       ]
      },
      {
       "output_type": "stream",
       "stream": "stdout",
       "text": [
        "- "
       ]
      },
      {
       "output_type": "stream",
       "stream": "stdout",
       "text": [
        "- "
       ]
      },
      {
       "output_type": "stream",
       "stream": "stdout",
       "text": [
        "- "
       ]
      },
      {
       "output_type": "stream",
       "stream": "stdout",
       "text": [
        "- "
       ]
      },
      {
       "output_type": "stream",
       "stream": "stdout",
       "text": [
        "- "
       ]
      },
      {
       "output_type": "stream",
       "stream": "stdout",
       "text": [
        "- "
       ]
      },
      {
       "output_type": "stream",
       "stream": "stdout",
       "text": [
        "- "
       ]
      },
      {
       "output_type": "stream",
       "stream": "stdout",
       "text": [
        "- "
       ]
      },
      {
       "output_type": "stream",
       "stream": "stdout",
       "text": [
        "- "
       ]
      },
      {
       "output_type": "stream",
       "stream": "stdout",
       "text": [
        "- "
       ]
      },
      {
       "output_type": "stream",
       "stream": "stdout",
       "text": [
        "- "
       ]
      },
      {
       "output_type": "stream",
       "stream": "stdout",
       "text": [
        "- "
       ]
      },
      {
       "output_type": "stream",
       "stream": "stdout",
       "text": [
        "- "
       ]
      },
      {
       "output_type": "stream",
       "stream": "stdout",
       "text": [
        "- "
       ]
      },
      {
       "output_type": "stream",
       "stream": "stdout",
       "text": [
        "- "
       ]
      },
      {
       "output_type": "stream",
       "stream": "stdout",
       "text": [
        "- "
       ]
      },
      {
       "output_type": "stream",
       "stream": "stdout",
       "text": [
        "- "
       ]
      },
      {
       "output_type": "stream",
       "stream": "stdout",
       "text": [
        "- "
       ]
      },
      {
       "output_type": "stream",
       "stream": "stdout",
       "text": [
        "- "
       ]
      },
      {
       "output_type": "stream",
       "stream": "stdout",
       "text": [
        "- "
       ]
      },
      {
       "output_type": "stream",
       "stream": "stdout",
       "text": [
        "- "
       ]
      },
      {
       "output_type": "stream",
       "stream": "stdout",
       "text": [
        "- "
       ]
      },
      {
       "output_type": "stream",
       "stream": "stdout",
       "text": [
        "- "
       ]
      },
      {
       "output_type": "stream",
       "stream": "stdout",
       "text": [
        "- "
       ]
      },
      {
       "output_type": "stream",
       "stream": "stdout",
       "text": [
        "- "
       ]
      },
      {
       "output_type": "stream",
       "stream": "stdout",
       "text": [
        "- "
       ]
      },
      {
       "output_type": "stream",
       "stream": "stdout",
       "text": [
        "- "
       ]
      },
      {
       "output_type": "stream",
       "stream": "stdout",
       "text": [
        "- "
       ]
      },
      {
       "output_type": "stream",
       "stream": "stdout",
       "text": [
        "- "
       ]
      },
      {
       "output_type": "stream",
       "stream": "stdout",
       "text": [
        "- "
       ]
      },
      {
       "output_type": "stream",
       "stream": "stdout",
       "text": [
        "- "
       ]
      },
      {
       "output_type": "stream",
       "stream": "stdout",
       "text": [
        "- "
       ]
      },
      {
       "output_type": "stream",
       "stream": "stdout",
       "text": [
        "- "
       ]
      },
      {
       "output_type": "stream",
       "stream": "stdout",
       "text": [
        "- "
       ]
      },
      {
       "output_type": "stream",
       "stream": "stdout",
       "text": [
        "- "
       ]
      },
      {
       "output_type": "stream",
       "stream": "stdout",
       "text": [
        "- "
       ]
      },
      {
       "output_type": "stream",
       "stream": "stdout",
       "text": [
        "- "
       ]
      },
      {
       "output_type": "stream",
       "stream": "stdout",
       "text": [
        "- "
       ]
      },
      {
       "output_type": "stream",
       "stream": "stdout",
       "text": [
        "- "
       ]
      },
      {
       "output_type": "stream",
       "stream": "stdout",
       "text": [
        "- "
       ]
      },
      {
       "output_type": "stream",
       "stream": "stdout",
       "text": [
        "- "
       ]
      },
      {
       "output_type": "stream",
       "stream": "stdout",
       "text": [
        "- "
       ]
      },
      {
       "output_type": "stream",
       "stream": "stdout",
       "text": [
        "- "
       ]
      },
      {
       "output_type": "stream",
       "stream": "stdout",
       "text": [
        "- "
       ]
      },
      {
       "output_type": "stream",
       "stream": "stdout",
       "text": [
        "- "
       ]
      },
      {
       "output_type": "stream",
       "stream": "stdout",
       "text": [
        "- "
       ]
      },
      {
       "output_type": "stream",
       "stream": "stdout",
       "text": [
        "- "
       ]
      },
      {
       "output_type": "stream",
       "stream": "stdout",
       "text": [
        "- "
       ]
      },
      {
       "output_type": "stream",
       "stream": "stdout",
       "text": [
        "- "
       ]
      },
      {
       "output_type": "stream",
       "stream": "stdout",
       "text": [
        "- "
       ]
      },
      {
       "output_type": "stream",
       "stream": "stdout",
       "text": [
        "- "
       ]
      },
      {
       "output_type": "stream",
       "stream": "stdout",
       "text": [
        "- "
       ]
      },
      {
       "output_type": "stream",
       "stream": "stdout",
       "text": [
        "- "
       ]
      },
      {
       "output_type": "stream",
       "stream": "stdout",
       "text": [
        "- "
       ]
      },
      {
       "output_type": "stream",
       "stream": "stdout",
       "text": [
        "- "
       ]
      },
      {
       "output_type": "stream",
       "stream": "stdout",
       "text": [
        "- "
       ]
      },
      {
       "output_type": "stream",
       "stream": "stdout",
       "text": [
        "- "
       ]
      },
      {
       "output_type": "stream",
       "stream": "stdout",
       "text": [
        "- "
       ]
      },
      {
       "output_type": "stream",
       "stream": "stdout",
       "text": [
        "- "
       ]
      },
      {
       "output_type": "stream",
       "stream": "stdout",
       "text": [
        "- "
       ]
      },
      {
       "output_type": "stream",
       "stream": "stdout",
       "text": [
        "- "
       ]
      },
      {
       "output_type": "stream",
       "stream": "stdout",
       "text": [
        "- "
       ]
      },
      {
       "output_type": "stream",
       "stream": "stdout",
       "text": [
        "- "
       ]
      },
      {
       "output_type": "stream",
       "stream": "stdout",
       "text": [
        "- "
       ]
      },
      {
       "output_type": "stream",
       "stream": "stdout",
       "text": [
        "- "
       ]
      },
      {
       "output_type": "stream",
       "stream": "stdout",
       "text": [
        "- "
       ]
      },
      {
       "output_type": "stream",
       "stream": "stdout",
       "text": [
        "- "
       ]
      },
      {
       "output_type": "stream",
       "stream": "stdout",
       "text": [
        "- "
       ]
      },
      {
       "output_type": "stream",
       "stream": "stdout",
       "text": [
        "- "
       ]
      },
      {
       "output_type": "stream",
       "stream": "stdout",
       "text": [
        "- "
       ]
      },
      {
       "output_type": "stream",
       "stream": "stdout",
       "text": [
        "- "
       ]
      },
      {
       "output_type": "stream",
       "stream": "stdout",
       "text": [
        "- "
       ]
      },
      {
       "output_type": "stream",
       "stream": "stdout",
       "text": [
        "- "
       ]
      },
      {
       "output_type": "stream",
       "stream": "stdout",
       "text": [
        "- "
       ]
      },
      {
       "output_type": "stream",
       "stream": "stdout",
       "text": [
        "- "
       ]
      },
      {
       "output_type": "stream",
       "stream": "stdout",
       "text": [
        "- "
       ]
      },
      {
       "output_type": "stream",
       "stream": "stdout",
       "text": [
        "- "
       ]
      },
      {
       "output_type": "stream",
       "stream": "stdout",
       "text": [
        "- "
       ]
      },
      {
       "output_type": "stream",
       "stream": "stdout",
       "text": [
        "- "
       ]
      },
      {
       "output_type": "stream",
       "stream": "stdout",
       "text": [
        "- "
       ]
      },
      {
       "output_type": "stream",
       "stream": "stdout",
       "text": [
        "- "
       ]
      },
      {
       "output_type": "stream",
       "stream": "stdout",
       "text": [
        "- "
       ]
      },
      {
       "output_type": "stream",
       "stream": "stdout",
       "text": [
        "- "
       ]
      },
      {
       "output_type": "stream",
       "stream": "stdout",
       "text": [
        "- "
       ]
      },
      {
       "output_type": "stream",
       "stream": "stdout",
       "text": [
        "- "
       ]
      },
      {
       "output_type": "stream",
       "stream": "stdout",
       "text": [
        "- "
       ]
      },
      {
       "output_type": "stream",
       "stream": "stdout",
       "text": [
        "- "
       ]
      },
      {
       "output_type": "stream",
       "stream": "stdout",
       "text": [
        "- "
       ]
      },
      {
       "output_type": "stream",
       "stream": "stdout",
       "text": [
        "- "
       ]
      },
      {
       "output_type": "stream",
       "stream": "stdout",
       "text": [
        "- "
       ]
      },
      {
       "output_type": "stream",
       "stream": "stdout",
       "text": [
        "- "
       ]
      },
      {
       "output_type": "stream",
       "stream": "stdout",
       "text": [
        "- "
       ]
      },
      {
       "output_type": "stream",
       "stream": "stdout",
       "text": [
        "- "
       ]
      },
      {
       "output_type": "stream",
       "stream": "stdout",
       "text": [
        "- "
       ]
      },
      {
       "output_type": "stream",
       "stream": "stdout",
       "text": [
        "- "
       ]
      },
      {
       "output_type": "stream",
       "stream": "stdout",
       "text": [
        "- "
       ]
      },
      {
       "output_type": "stream",
       "stream": "stdout",
       "text": [
        "- "
       ]
      },
      {
       "output_type": "stream",
       "stream": "stdout",
       "text": [
        "- "
       ]
      },
      {
       "output_type": "stream",
       "stream": "stdout",
       "text": [
        "- "
       ]
      },
      {
       "output_type": "stream",
       "stream": "stdout",
       "text": [
        "- "
       ]
      },
      {
       "output_type": "stream",
       "stream": "stdout",
       "text": [
        "- "
       ]
      },
      {
       "output_type": "stream",
       "stream": "stdout",
       "text": [
        "- "
       ]
      },
      {
       "output_type": "stream",
       "stream": "stdout",
       "text": [
        "- "
       ]
      },
      {
       "output_type": "stream",
       "stream": "stdout",
       "text": [
        "- "
       ]
      },
      {
       "output_type": "stream",
       "stream": "stdout",
       "text": [
        "- "
       ]
      },
      {
       "output_type": "stream",
       "stream": "stdout",
       "text": [
        "- "
       ]
      },
      {
       "output_type": "stream",
       "stream": "stdout",
       "text": [
        "- "
       ]
      },
      {
       "output_type": "stream",
       "stream": "stdout",
       "text": [
        "- "
       ]
      },
      {
       "output_type": "stream",
       "stream": "stdout",
       "text": [
        "- "
       ]
      },
      {
       "output_type": "stream",
       "stream": "stdout",
       "text": [
        "- "
       ]
      },
      {
       "output_type": "stream",
       "stream": "stdout",
       "text": [
        "- "
       ]
      },
      {
       "output_type": "stream",
       "stream": "stdout",
       "text": [
        "- "
       ]
      },
      {
       "output_type": "stream",
       "stream": "stdout",
       "text": [
        "- "
       ]
      },
      {
       "output_type": "stream",
       "stream": "stdout",
       "text": [
        "- "
       ]
      },
      {
       "output_type": "stream",
       "stream": "stdout",
       "text": [
        "- "
       ]
      },
      {
       "output_type": "stream",
       "stream": "stdout",
       "text": [
        "- "
       ]
      },
      {
       "output_type": "stream",
       "stream": "stdout",
       "text": [
        "- "
       ]
      },
      {
       "output_type": "stream",
       "stream": "stdout",
       "text": [
        "- "
       ]
      },
      {
       "output_type": "stream",
       "stream": "stdout",
       "text": [
        "- "
       ]
      },
      {
       "output_type": "stream",
       "stream": "stdout",
       "text": [
        "- "
       ]
      },
      {
       "output_type": "stream",
       "stream": "stdout",
       "text": [
        "- "
       ]
      },
      {
       "output_type": "stream",
       "stream": "stdout",
       "text": [
        "- "
       ]
      },
      {
       "output_type": "stream",
       "stream": "stdout",
       "text": [
        "- "
       ]
      },
      {
       "output_type": "stream",
       "stream": "stdout",
       "text": [
        "- "
       ]
      },
      {
       "output_type": "stream",
       "stream": "stdout",
       "text": [
        "- "
       ]
      },
      {
       "output_type": "stream",
       "stream": "stdout",
       "text": [
        "- "
       ]
      },
      {
       "output_type": "stream",
       "stream": "stdout",
       "text": [
        "- "
       ]
      },
      {
       "output_type": "stream",
       "stream": "stdout",
       "text": [
        "- "
       ]
      },
      {
       "output_type": "stream",
       "stream": "stdout",
       "text": [
        "- "
       ]
      },
      {
       "output_type": "stream",
       "stream": "stdout",
       "text": [
        "- "
       ]
      },
      {
       "output_type": "stream",
       "stream": "stdout",
       "text": [
        "- "
       ]
      },
      {
       "output_type": "stream",
       "stream": "stdout",
       "text": [
        "- "
       ]
      },
      {
       "output_type": "stream",
       "stream": "stdout",
       "text": [
        "- "
       ]
      },
      {
       "output_type": "stream",
       "stream": "stdout",
       "text": [
        "- "
       ]
      },
      {
       "output_type": "stream",
       "stream": "stdout",
       "text": [
        "- "
       ]
      },
      {
       "output_type": "stream",
       "stream": "stdout",
       "text": [
        "- "
       ]
      },
      {
       "output_type": "stream",
       "stream": "stdout",
       "text": [
        "- "
       ]
      },
      {
       "output_type": "stream",
       "stream": "stdout",
       "text": [
        "- "
       ]
      },
      {
       "output_type": "stream",
       "stream": "stdout",
       "text": [
        "- "
       ]
      },
      {
       "output_type": "stream",
       "stream": "stdout",
       "text": [
        "- "
       ]
      },
      {
       "output_type": "stream",
       "stream": "stdout",
       "text": [
        "- "
       ]
      },
      {
       "output_type": "stream",
       "stream": "stdout",
       "text": [
        "- "
       ]
      },
      {
       "output_type": "stream",
       "stream": "stdout",
       "text": [
        "- "
       ]
      },
      {
       "output_type": "stream",
       "stream": "stdout",
       "text": [
        "- "
       ]
      },
      {
       "output_type": "stream",
       "stream": "stdout",
       "text": [
        "- "
       ]
      },
      {
       "output_type": "stream",
       "stream": "stdout",
       "text": [
        "- "
       ]
      },
      {
       "output_type": "stream",
       "stream": "stdout",
       "text": [
        "- "
       ]
      },
      {
       "output_type": "stream",
       "stream": "stdout",
       "text": [
        "- "
       ]
      },
      {
       "output_type": "stream",
       "stream": "stdout",
       "text": [
        "- "
       ]
      },
      {
       "output_type": "stream",
       "stream": "stdout",
       "text": [
        "- "
       ]
      },
      {
       "output_type": "stream",
       "stream": "stdout",
       "text": [
        "- "
       ]
      },
      {
       "output_type": "stream",
       "stream": "stdout",
       "text": [
        "- "
       ]
      },
      {
       "output_type": "stream",
       "stream": "stdout",
       "text": [
        "- "
       ]
      },
      {
       "output_type": "stream",
       "stream": "stdout",
       "text": [
        "- "
       ]
      },
      {
       "output_type": "stream",
       "stream": "stdout",
       "text": [
        "- "
       ]
      },
      {
       "output_type": "stream",
       "stream": "stdout",
       "text": [
        "- "
       ]
      },
      {
       "output_type": "stream",
       "stream": "stdout",
       "text": [
        "- "
       ]
      },
      {
       "output_type": "stream",
       "stream": "stdout",
       "text": [
        "- "
       ]
      },
      {
       "output_type": "stream",
       "stream": "stdout",
       "text": [
        "- "
       ]
      },
      {
       "output_type": "stream",
       "stream": "stdout",
       "text": [
        "- "
       ]
      },
      {
       "output_type": "stream",
       "stream": "stdout",
       "text": [
        "- "
       ]
      },
      {
       "output_type": "stream",
       "stream": "stdout",
       "text": [
        "- "
       ]
      },
      {
       "output_type": "stream",
       "stream": "stdout",
       "text": [
        "- "
       ]
      },
      {
       "output_type": "stream",
       "stream": "stdout",
       "text": [
        "- "
       ]
      },
      {
       "output_type": "stream",
       "stream": "stdout",
       "text": [
        "- "
       ]
      },
      {
       "output_type": "stream",
       "stream": "stdout",
       "text": [
        "- "
       ]
      },
      {
       "output_type": "stream",
       "stream": "stdout",
       "text": [
        "- "
       ]
      },
      {
       "output_type": "stream",
       "stream": "stdout",
       "text": [
        "- "
       ]
      },
      {
       "output_type": "stream",
       "stream": "stdout",
       "text": [
        "- "
       ]
      },
      {
       "output_type": "stream",
       "stream": "stdout",
       "text": [
        "- "
       ]
      },
      {
       "output_type": "stream",
       "stream": "stdout",
       "text": [
        "- "
       ]
      },
      {
       "output_type": "stream",
       "stream": "stdout",
       "text": [
        "- "
       ]
      },
      {
       "output_type": "stream",
       "stream": "stdout",
       "text": [
        "- "
       ]
      },
      {
       "output_type": "stream",
       "stream": "stdout",
       "text": [
        "- "
       ]
      },
      {
       "output_type": "stream",
       "stream": "stdout",
       "text": [
        "- "
       ]
      },
      {
       "output_type": "stream",
       "stream": "stdout",
       "text": [
        "- "
       ]
      },
      {
       "output_type": "stream",
       "stream": "stdout",
       "text": [
        "- "
       ]
      },
      {
       "output_type": "stream",
       "stream": "stdout",
       "text": [
        "- "
       ]
      },
      {
       "output_type": "stream",
       "stream": "stdout",
       "text": [
        "- "
       ]
      },
      {
       "output_type": "stream",
       "stream": "stdout",
       "text": [
        "- "
       ]
      },
      {
       "output_type": "stream",
       "stream": "stdout",
       "text": [
        "- "
       ]
      },
      {
       "output_type": "stream",
       "stream": "stdout",
       "text": [
        "- "
       ]
      },
      {
       "output_type": "stream",
       "stream": "stdout",
       "text": [
        "- "
       ]
      },
      {
       "output_type": "stream",
       "stream": "stdout",
       "text": [
        "- "
       ]
      },
      {
       "output_type": "stream",
       "stream": "stdout",
       "text": [
        "- "
       ]
      },
      {
       "output_type": "stream",
       "stream": "stdout",
       "text": [
        "- "
       ]
      },
      {
       "output_type": "stream",
       "stream": "stdout",
       "text": [
        "- "
       ]
      },
      {
       "output_type": "stream",
       "stream": "stdout",
       "text": [
        "- "
       ]
      },
      {
       "output_type": "stream",
       "stream": "stdout",
       "text": [
        "- "
       ]
      },
      {
       "output_type": "stream",
       "stream": "stdout",
       "text": [
        "- "
       ]
      },
      {
       "output_type": "stream",
       "stream": "stdout",
       "text": [
        "- "
       ]
      },
      {
       "output_type": "stream",
       "stream": "stdout",
       "text": [
        "- "
       ]
      },
      {
       "output_type": "stream",
       "stream": "stdout",
       "text": [
        "- "
       ]
      },
      {
       "output_type": "stream",
       "stream": "stdout",
       "text": [
        "- "
       ]
      },
      {
       "output_type": "stream",
       "stream": "stdout",
       "text": [
        "- "
       ]
      },
      {
       "output_type": "stream",
       "stream": "stdout",
       "text": [
        "- "
       ]
      },
      {
       "output_type": "stream",
       "stream": "stdout",
       "text": [
        "- "
       ]
      },
      {
       "output_type": "stream",
       "stream": "stdout",
       "text": [
        "- "
       ]
      },
      {
       "output_type": "stream",
       "stream": "stdout",
       "text": [
        "- "
       ]
      },
      {
       "output_type": "stream",
       "stream": "stdout",
       "text": [
        "- "
       ]
      },
      {
       "output_type": "stream",
       "stream": "stdout",
       "text": [
        "- "
       ]
      },
      {
       "output_type": "stream",
       "stream": "stdout",
       "text": [
        "- "
       ]
      },
      {
       "output_type": "stream",
       "stream": "stdout",
       "text": [
        "- "
       ]
      },
      {
       "output_type": "stream",
       "stream": "stdout",
       "text": [
        "- "
       ]
      },
      {
       "output_type": "stream",
       "stream": "stdout",
       "text": [
        "- "
       ]
      },
      {
       "output_type": "stream",
       "stream": "stdout",
       "text": [
        "- "
       ]
      },
      {
       "output_type": "stream",
       "stream": "stdout",
       "text": [
        "- "
       ]
      },
      {
       "output_type": "stream",
       "stream": "stdout",
       "text": [
        "- "
       ]
      },
      {
       "output_type": "stream",
       "stream": "stdout",
       "text": [
        "- "
       ]
      },
      {
       "output_type": "stream",
       "stream": "stdout",
       "text": [
        "- "
       ]
      },
      {
       "output_type": "stream",
       "stream": "stdout",
       "text": [
        "- "
       ]
      },
      {
       "output_type": "stream",
       "stream": "stdout",
       "text": [
        "- "
       ]
      },
      {
       "output_type": "stream",
       "stream": "stdout",
       "text": [
        "- "
       ]
      },
      {
       "output_type": "stream",
       "stream": "stdout",
       "text": [
        "- "
       ]
      },
      {
       "output_type": "stream",
       "stream": "stdout",
       "text": [
        "- "
       ]
      },
      {
       "output_type": "stream",
       "stream": "stdout",
       "text": [
        "- "
       ]
      },
      {
       "output_type": "stream",
       "stream": "stdout",
       "text": [
        "- "
       ]
      },
      {
       "output_type": "stream",
       "stream": "stdout",
       "text": [
        "- "
       ]
      },
      {
       "output_type": "stream",
       "stream": "stdout",
       "text": [
        "- "
       ]
      },
      {
       "output_type": "stream",
       "stream": "stdout",
       "text": [
        "- "
       ]
      },
      {
       "output_type": "stream",
       "stream": "stdout",
       "text": [
        "- "
       ]
      },
      {
       "output_type": "stream",
       "stream": "stdout",
       "text": [
        "- "
       ]
      },
      {
       "output_type": "stream",
       "stream": "stdout",
       "text": [
        "- "
       ]
      },
      {
       "output_type": "stream",
       "stream": "stdout",
       "text": [
        "- "
       ]
      },
      {
       "output_type": "stream",
       "stream": "stdout",
       "text": [
        "- "
       ]
      },
      {
       "output_type": "stream",
       "stream": "stdout",
       "text": [
        "- "
       ]
      },
      {
       "output_type": "stream",
       "stream": "stdout",
       "text": [
        "- "
       ]
      },
      {
       "output_type": "stream",
       "stream": "stdout",
       "text": [
        "- "
       ]
      },
      {
       "output_type": "stream",
       "stream": "stdout",
       "text": [
        "- "
       ]
      },
      {
       "output_type": "stream",
       "stream": "stdout",
       "text": [
        "- "
       ]
      },
      {
       "output_type": "stream",
       "stream": "stdout",
       "text": [
        "- "
       ]
      },
      {
       "output_type": "stream",
       "stream": "stdout",
       "text": [
        "- "
       ]
      },
      {
       "output_type": "stream",
       "stream": "stdout",
       "text": [
        "- "
       ]
      },
      {
       "output_type": "stream",
       "stream": "stdout",
       "text": [
        "- "
       ]
      },
      {
       "output_type": "stream",
       "stream": "stdout",
       "text": [
        "- "
       ]
      },
      {
       "output_type": "stream",
       "stream": "stdout",
       "text": [
        "- "
       ]
      },
      {
       "output_type": "stream",
       "stream": "stdout",
       "text": [
        "- "
       ]
      },
      {
       "output_type": "stream",
       "stream": "stdout",
       "text": [
        "- "
       ]
      },
      {
       "output_type": "stream",
       "stream": "stdout",
       "text": [
        "- "
       ]
      },
      {
       "output_type": "stream",
       "stream": "stdout",
       "text": [
        "- "
       ]
      },
      {
       "output_type": "stream",
       "stream": "stdout",
       "text": [
        "- "
       ]
      },
      {
       "output_type": "stream",
       "stream": "stdout",
       "text": [
        "- "
       ]
      },
      {
       "output_type": "stream",
       "stream": "stdout",
       "text": [
        "- "
       ]
      },
      {
       "output_type": "stream",
       "stream": "stdout",
       "text": [
        "- "
       ]
      },
      {
       "output_type": "stream",
       "stream": "stdout",
       "text": [
        "- "
       ]
      },
      {
       "output_type": "stream",
       "stream": "stdout",
       "text": [
        "- "
       ]
      },
      {
       "output_type": "stream",
       "stream": "stdout",
       "text": [
        "- "
       ]
      },
      {
       "output_type": "stream",
       "stream": "stdout",
       "text": [
        "- "
       ]
      },
      {
       "output_type": "stream",
       "stream": "stdout",
       "text": [
        "- "
       ]
      },
      {
       "output_type": "stream",
       "stream": "stdout",
       "text": [
        "- "
       ]
      },
      {
       "output_type": "stream",
       "stream": "stdout",
       "text": [
        "- "
       ]
      },
      {
       "output_type": "stream",
       "stream": "stdout",
       "text": [
        "- "
       ]
      },
      {
       "output_type": "stream",
       "stream": "stdout",
       "text": [
        "- "
       ]
      },
      {
       "output_type": "stream",
       "stream": "stdout",
       "text": [
        "- "
       ]
      },
      {
       "output_type": "stream",
       "stream": "stdout",
       "text": [
        "- "
       ]
      },
      {
       "output_type": "stream",
       "stream": "stdout",
       "text": [
        "- "
       ]
      },
      {
       "output_type": "stream",
       "stream": "stdout",
       "text": [
        "- "
       ]
      },
      {
       "output_type": "stream",
       "stream": "stdout",
       "text": [
        "- "
       ]
      },
      {
       "output_type": "stream",
       "stream": "stdout",
       "text": [
        "- "
       ]
      },
      {
       "output_type": "stream",
       "stream": "stdout",
       "text": [
        "- "
       ]
      },
      {
       "output_type": "stream",
       "stream": "stdout",
       "text": [
        "- "
       ]
      },
      {
       "output_type": "stream",
       "stream": "stdout",
       "text": [
        "- "
       ]
      },
      {
       "output_type": "stream",
       "stream": "stdout",
       "text": [
        "- "
       ]
      },
      {
       "output_type": "stream",
       "stream": "stdout",
       "text": [
        "- "
       ]
      },
      {
       "output_type": "stream",
       "stream": "stdout",
       "text": [
        "- "
       ]
      },
      {
       "output_type": "stream",
       "stream": "stdout",
       "text": [
        "- "
       ]
      },
      {
       "output_type": "stream",
       "stream": "stdout",
       "text": [
        "- "
       ]
      },
      {
       "output_type": "stream",
       "stream": "stdout",
       "text": [
        "- "
       ]
      },
      {
       "output_type": "stream",
       "stream": "stdout",
       "text": [
        "- "
       ]
      },
      {
       "output_type": "stream",
       "stream": "stdout",
       "text": [
        "- "
       ]
      },
      {
       "output_type": "stream",
       "stream": "stdout",
       "text": [
        "- "
       ]
      },
      {
       "output_type": "stream",
       "stream": "stdout",
       "text": [
        "- "
       ]
      },
      {
       "output_type": "stream",
       "stream": "stdout",
       "text": [
        "- "
       ]
      },
      {
       "output_type": "stream",
       "stream": "stdout",
       "text": [
        "- "
       ]
      },
      {
       "output_type": "stream",
       "stream": "stdout",
       "text": [
        "- "
       ]
      },
      {
       "output_type": "stream",
       "stream": "stdout",
       "text": [
        "- "
       ]
      },
      {
       "output_type": "stream",
       "stream": "stdout",
       "text": [
        "- "
       ]
      },
      {
       "output_type": "stream",
       "stream": "stdout",
       "text": [
        "- "
       ]
      },
      {
       "output_type": "stream",
       "stream": "stdout",
       "text": [
        "- "
       ]
      },
      {
       "output_type": "stream",
       "stream": "stdout",
       "text": [
        "- "
       ]
      },
      {
       "output_type": "stream",
       "stream": "stdout",
       "text": [
        "- "
       ]
      },
      {
       "output_type": "stream",
       "stream": "stdout",
       "text": [
        "- "
       ]
      },
      {
       "output_type": "stream",
       "stream": "stdout",
       "text": [
        "- "
       ]
      },
      {
       "output_type": "stream",
       "stream": "stdout",
       "text": [
        "- "
       ]
      },
      {
       "output_type": "stream",
       "stream": "stdout",
       "text": [
        "- "
       ]
      },
      {
       "output_type": "stream",
       "stream": "stdout",
       "text": [
        "- "
       ]
      },
      {
       "output_type": "stream",
       "stream": "stdout",
       "text": [
        "- "
       ]
      },
      {
       "output_type": "stream",
       "stream": "stdout",
       "text": [
        "- "
       ]
      },
      {
       "output_type": "stream",
       "stream": "stdout",
       "text": [
        "- "
       ]
      },
      {
       "output_type": "stream",
       "stream": "stdout",
       "text": [
        "- "
       ]
      },
      {
       "output_type": "stream",
       "stream": "stdout",
       "text": [
        "- "
       ]
      },
      {
       "output_type": "stream",
       "stream": "stdout",
       "text": [
        "- "
       ]
      },
      {
       "output_type": "stream",
       "stream": "stdout",
       "text": [
        "- "
       ]
      },
      {
       "output_type": "stream",
       "stream": "stdout",
       "text": [
        "- "
       ]
      },
      {
       "output_type": "stream",
       "stream": "stdout",
       "text": [
        "- "
       ]
      },
      {
       "output_type": "stream",
       "stream": "stdout",
       "text": [
        "- "
       ]
      },
      {
       "output_type": "stream",
       "stream": "stdout",
       "text": [
        "- "
       ]
      },
      {
       "output_type": "stream",
       "stream": "stdout",
       "text": [
        "- "
       ]
      },
      {
       "output_type": "stream",
       "stream": "stdout",
       "text": [
        "- "
       ]
      },
      {
       "output_type": "stream",
       "stream": "stdout",
       "text": [
        "- "
       ]
      },
      {
       "output_type": "stream",
       "stream": "stdout",
       "text": [
        "- "
       ]
      },
      {
       "output_type": "stream",
       "stream": "stdout",
       "text": [
        "- "
       ]
      },
      {
       "output_type": "stream",
       "stream": "stdout",
       "text": [
        "- "
       ]
      },
      {
       "output_type": "stream",
       "stream": "stdout",
       "text": [
        "- "
       ]
      },
      {
       "output_type": "stream",
       "stream": "stdout",
       "text": [
        "- "
       ]
      },
      {
       "output_type": "stream",
       "stream": "stdout",
       "text": [
        "- "
       ]
      },
      {
       "output_type": "stream",
       "stream": "stdout",
       "text": [
        "- "
       ]
      },
      {
       "output_type": "stream",
       "stream": "stdout",
       "text": [
        "- "
       ]
      },
      {
       "output_type": "stream",
       "stream": "stdout",
       "text": [
        "- "
       ]
      },
      {
       "output_type": "stream",
       "stream": "stdout",
       "text": [
        "- "
       ]
      },
      {
       "output_type": "stream",
       "stream": "stdout",
       "text": [
        "- "
       ]
      },
      {
       "output_type": "stream",
       "stream": "stdout",
       "text": [
        "- "
       ]
      },
      {
       "output_type": "stream",
       "stream": "stdout",
       "text": [
        "- "
       ]
      },
      {
       "output_type": "stream",
       "stream": "stdout",
       "text": [
        "- "
       ]
      },
      {
       "output_type": "stream",
       "stream": "stdout",
       "text": [
        "- "
       ]
      },
      {
       "output_type": "stream",
       "stream": "stdout",
       "text": [
        "- "
       ]
      },
      {
       "output_type": "stream",
       "stream": "stdout",
       "text": [
        "- "
       ]
      },
      {
       "output_type": "stream",
       "stream": "stdout",
       "text": [
        "- "
       ]
      },
      {
       "output_type": "stream",
       "stream": "stdout",
       "text": [
        "- "
       ]
      },
      {
       "output_type": "stream",
       "stream": "stdout",
       "text": [
        "- "
       ]
      },
      {
       "output_type": "stream",
       "stream": "stdout",
       "text": [
        "- "
       ]
      },
      {
       "output_type": "stream",
       "stream": "stdout",
       "text": [
        "- "
       ]
      },
      {
       "output_type": "stream",
       "stream": "stdout",
       "text": [
        "- "
       ]
      },
      {
       "output_type": "stream",
       "stream": "stdout",
       "text": [
        "- "
       ]
      },
      {
       "output_type": "stream",
       "stream": "stdout",
       "text": [
        "- "
       ]
      },
      {
       "output_type": "stream",
       "stream": "stdout",
       "text": [
        "- "
       ]
      },
      {
       "output_type": "stream",
       "stream": "stdout",
       "text": [
        "- "
       ]
      },
      {
       "output_type": "stream",
       "stream": "stdout",
       "text": [
        "- "
       ]
      },
      {
       "output_type": "stream",
       "stream": "stdout",
       "text": [
        "- "
       ]
      },
      {
       "output_type": "stream",
       "stream": "stdout",
       "text": [
        "- "
       ]
      },
      {
       "output_type": "stream",
       "stream": "stdout",
       "text": [
        "- "
       ]
      },
      {
       "output_type": "stream",
       "stream": "stdout",
       "text": [
        "- "
       ]
      },
      {
       "output_type": "stream",
       "stream": "stdout",
       "text": [
        "- "
       ]
      },
      {
       "output_type": "stream",
       "stream": "stdout",
       "text": [
        "- "
       ]
      },
      {
       "output_type": "stream",
       "stream": "stdout",
       "text": [
        "- "
       ]
      },
      {
       "output_type": "stream",
       "stream": "stdout",
       "text": [
        "- "
       ]
      },
      {
       "output_type": "stream",
       "stream": "stdout",
       "text": [
        "- "
       ]
      },
      {
       "output_type": "stream",
       "stream": "stdout",
       "text": [
        "- "
       ]
      },
      {
       "output_type": "stream",
       "stream": "stdout",
       "text": [
        "- "
       ]
      },
      {
       "output_type": "stream",
       "stream": "stdout",
       "text": [
        "- "
       ]
      },
      {
       "output_type": "stream",
       "stream": "stdout",
       "text": [
        "- "
       ]
      },
      {
       "output_type": "stream",
       "stream": "stdout",
       "text": [
        "- "
       ]
      },
      {
       "output_type": "stream",
       "stream": "stdout",
       "text": [
        "- "
       ]
      },
      {
       "output_type": "stream",
       "stream": "stdout",
       "text": [
        "- "
       ]
      },
      {
       "output_type": "stream",
       "stream": "stdout",
       "text": [
        "- "
       ]
      },
      {
       "output_type": "stream",
       "stream": "stdout",
       "text": [
        "- "
       ]
      },
      {
       "output_type": "stream",
       "stream": "stdout",
       "text": [
        "- "
       ]
      },
      {
       "output_type": "stream",
       "stream": "stdout",
       "text": [
        "- "
       ]
      },
      {
       "output_type": "stream",
       "stream": "stdout",
       "text": [
        "- "
       ]
      },
      {
       "output_type": "stream",
       "stream": "stdout",
       "text": [
        "- "
       ]
      },
      {
       "output_type": "stream",
       "stream": "stdout",
       "text": [
        "- "
       ]
      },
      {
       "output_type": "stream",
       "stream": "stdout",
       "text": [
        "- "
       ]
      },
      {
       "output_type": "stream",
       "stream": "stdout",
       "text": [
        "- "
       ]
      },
      {
       "output_type": "stream",
       "stream": "stdout",
       "text": [
        "- "
       ]
      },
      {
       "output_type": "stream",
       "stream": "stdout",
       "text": [
        "- "
       ]
      },
      {
       "output_type": "stream",
       "stream": "stdout",
       "text": [
        "- "
       ]
      },
      {
       "output_type": "stream",
       "stream": "stdout",
       "text": [
        "- "
       ]
      },
      {
       "output_type": "stream",
       "stream": "stdout",
       "text": [
        "- "
       ]
      },
      {
       "output_type": "stream",
       "stream": "stdout",
       "text": [
        "- "
       ]
      },
      {
       "output_type": "stream",
       "stream": "stdout",
       "text": [
        "- "
       ]
      },
      {
       "output_type": "stream",
       "stream": "stdout",
       "text": [
        "- "
       ]
      },
      {
       "output_type": "stream",
       "stream": "stdout",
       "text": [
        "- "
       ]
      },
      {
       "output_type": "stream",
       "stream": "stdout",
       "text": [
        "- "
       ]
      },
      {
       "output_type": "stream",
       "stream": "stdout",
       "text": [
        "- "
       ]
      },
      {
       "output_type": "stream",
       "stream": "stdout",
       "text": [
        "- "
       ]
      },
      {
       "output_type": "stream",
       "stream": "stdout",
       "text": [
        "- "
       ]
      },
      {
       "output_type": "stream",
       "stream": "stdout",
       "text": [
        "- "
       ]
      },
      {
       "output_type": "stream",
       "stream": "stdout",
       "text": [
        "- "
       ]
      },
      {
       "output_type": "stream",
       "stream": "stdout",
       "text": [
        "- "
       ]
      },
      {
       "output_type": "stream",
       "stream": "stdout",
       "text": [
        "- "
       ]
      },
      {
       "output_type": "stream",
       "stream": "stdout",
       "text": [
        "- "
       ]
      },
      {
       "output_type": "stream",
       "stream": "stdout",
       "text": [
        "- "
       ]
      },
      {
       "output_type": "stream",
       "stream": "stdout",
       "text": [
        "- "
       ]
      },
      {
       "output_type": "stream",
       "stream": "stdout",
       "text": [
        "- "
       ]
      },
      {
       "output_type": "stream",
       "stream": "stdout",
       "text": [
        "- "
       ]
      },
      {
       "output_type": "stream",
       "stream": "stdout",
       "text": [
        "- "
       ]
      },
      {
       "output_type": "stream",
       "stream": "stdout",
       "text": [
        "- "
       ]
      },
      {
       "output_type": "stream",
       "stream": "stdout",
       "text": [
        "- "
       ]
      },
      {
       "output_type": "stream",
       "stream": "stdout",
       "text": [
        "- "
       ]
      },
      {
       "output_type": "stream",
       "stream": "stdout",
       "text": [
        "- "
       ]
      },
      {
       "output_type": "stream",
       "stream": "stdout",
       "text": [
        "- "
       ]
      },
      {
       "output_type": "stream",
       "stream": "stdout",
       "text": [
        "- "
       ]
      },
      {
       "output_type": "stream",
       "stream": "stdout",
       "text": [
        "- "
       ]
      },
      {
       "output_type": "stream",
       "stream": "stdout",
       "text": [
        "- "
       ]
      },
      {
       "output_type": "stream",
       "stream": "stdout",
       "text": [
        "- "
       ]
      },
      {
       "output_type": "stream",
       "stream": "stdout",
       "text": [
        "- "
       ]
      },
      {
       "output_type": "stream",
       "stream": "stdout",
       "text": [
        "- "
       ]
      },
      {
       "output_type": "stream",
       "stream": "stdout",
       "text": [
        "- "
       ]
      },
      {
       "output_type": "stream",
       "stream": "stdout",
       "text": [
        "- "
       ]
      },
      {
       "output_type": "stream",
       "stream": "stdout",
       "text": [
        "- "
       ]
      },
      {
       "output_type": "stream",
       "stream": "stdout",
       "text": [
        "- "
       ]
      },
      {
       "output_type": "stream",
       "stream": "stdout",
       "text": [
        "- "
       ]
      },
      {
       "output_type": "stream",
       "stream": "stdout",
       "text": [
        "- "
       ]
      },
      {
       "output_type": "stream",
       "stream": "stdout",
       "text": [
        "- "
       ]
      },
      {
       "output_type": "stream",
       "stream": "stdout",
       "text": [
        "- "
       ]
      },
      {
       "output_type": "stream",
       "stream": "stdout",
       "text": [
        "- "
       ]
      },
      {
       "output_type": "stream",
       "stream": "stdout",
       "text": [
        "- "
       ]
      },
      {
       "output_type": "stream",
       "stream": "stdout",
       "text": [
        "- "
       ]
      },
      {
       "output_type": "stream",
       "stream": "stdout",
       "text": [
        "- "
       ]
      },
      {
       "output_type": "stream",
       "stream": "stdout",
       "text": [
        "- "
       ]
      },
      {
       "output_type": "stream",
       "stream": "stdout",
       "text": [
        "- "
       ]
      },
      {
       "output_type": "stream",
       "stream": "stdout",
       "text": [
        "- "
       ]
      },
      {
       "output_type": "stream",
       "stream": "stdout",
       "text": [
        "- "
       ]
      },
      {
       "output_type": "stream",
       "stream": "stdout",
       "text": [
        "- "
       ]
      },
      {
       "output_type": "stream",
       "stream": "stdout",
       "text": [
        "- "
       ]
      },
      {
       "output_type": "stream",
       "stream": "stdout",
       "text": [
        "- "
       ]
      },
      {
       "output_type": "stream",
       "stream": "stdout",
       "text": [
        "- "
       ]
      },
      {
       "output_type": "stream",
       "stream": "stdout",
       "text": [
        "- "
       ]
      },
      {
       "output_type": "stream",
       "stream": "stdout",
       "text": [
        "- "
       ]
      },
      {
       "output_type": "stream",
       "stream": "stdout",
       "text": [
        "- "
       ]
      },
      {
       "output_type": "stream",
       "stream": "stdout",
       "text": [
        "- "
       ]
      },
      {
       "output_type": "stream",
       "stream": "stdout",
       "text": [
        "- "
       ]
      },
      {
       "output_type": "stream",
       "stream": "stdout",
       "text": [
        "- "
       ]
      },
      {
       "output_type": "stream",
       "stream": "stdout",
       "text": [
        "- "
       ]
      },
      {
       "output_type": "stream",
       "stream": "stdout",
       "text": [
        "- "
       ]
      },
      {
       "output_type": "stream",
       "stream": "stdout",
       "text": [
        "- "
       ]
      },
      {
       "output_type": "stream",
       "stream": "stdout",
       "text": [
        "- "
       ]
      },
      {
       "output_type": "stream",
       "stream": "stdout",
       "text": [
        "- "
       ]
      },
      {
       "output_type": "stream",
       "stream": "stdout",
       "text": [
        "- "
       ]
      },
      {
       "output_type": "stream",
       "stream": "stdout",
       "text": [
        "- "
       ]
      },
      {
       "output_type": "stream",
       "stream": "stdout",
       "text": [
        "- "
       ]
      },
      {
       "output_type": "stream",
       "stream": "stdout",
       "text": [
        "- "
       ]
      },
      {
       "output_type": "stream",
       "stream": "stdout",
       "text": [
        "- "
       ]
      },
      {
       "output_type": "stream",
       "stream": "stdout",
       "text": [
        "- "
       ]
      },
      {
       "output_type": "stream",
       "stream": "stdout",
       "text": [
        "- "
       ]
      },
      {
       "output_type": "stream",
       "stream": "stdout",
       "text": [
        "- "
       ]
      },
      {
       "output_type": "stream",
       "stream": "stdout",
       "text": [
        "- "
       ]
      },
      {
       "output_type": "stream",
       "stream": "stdout",
       "text": [
        "- "
       ]
      },
      {
       "output_type": "stream",
       "stream": "stdout",
       "text": [
        "- "
       ]
      },
      {
       "output_type": "stream",
       "stream": "stdout",
       "text": [
        "- "
       ]
      },
      {
       "output_type": "stream",
       "stream": "stdout",
       "text": [
        "- "
       ]
      },
      {
       "output_type": "stream",
       "stream": "stdout",
       "text": [
        "- "
       ]
      },
      {
       "output_type": "stream",
       "stream": "stdout",
       "text": [
        "- "
       ]
      },
      {
       "output_type": "stream",
       "stream": "stdout",
       "text": [
        "- "
       ]
      },
      {
       "output_type": "stream",
       "stream": "stdout",
       "text": [
        "- "
       ]
      },
      {
       "output_type": "stream",
       "stream": "stdout",
       "text": [
        "- "
       ]
      },
      {
       "output_type": "stream",
       "stream": "stdout",
       "text": [
        "- "
       ]
      },
      {
       "output_type": "stream",
       "stream": "stdout",
       "text": [
        "- "
       ]
      },
      {
       "output_type": "stream",
       "stream": "stdout",
       "text": [
        "- "
       ]
      },
      {
       "output_type": "stream",
       "stream": "stdout",
       "text": [
        "- "
       ]
      },
      {
       "output_type": "stream",
       "stream": "stdout",
       "text": [
        "- "
       ]
      },
      {
       "output_type": "stream",
       "stream": "stdout",
       "text": [
        "- "
       ]
      },
      {
       "output_type": "stream",
       "stream": "stdout",
       "text": [
        "- "
       ]
      },
      {
       "output_type": "stream",
       "stream": "stdout",
       "text": [
        "- "
       ]
      },
      {
       "output_type": "stream",
       "stream": "stdout",
       "text": [
        "- "
       ]
      },
      {
       "output_type": "stream",
       "stream": "stdout",
       "text": [
        "- "
       ]
      },
      {
       "output_type": "stream",
       "stream": "stdout",
       "text": [
        "- "
       ]
      },
      {
       "output_type": "stream",
       "stream": "stdout",
       "text": [
        "- "
       ]
      },
      {
       "output_type": "stream",
       "stream": "stdout",
       "text": [
        "- "
       ]
      },
      {
       "output_type": "stream",
       "stream": "stdout",
       "text": [
        "- "
       ]
      },
      {
       "output_type": "stream",
       "stream": "stdout",
       "text": [
        "- "
       ]
      },
      {
       "output_type": "stream",
       "stream": "stdout",
       "text": [
        "- "
       ]
      },
      {
       "output_type": "stream",
       "stream": "stdout",
       "text": [
        "- "
       ]
      },
      {
       "output_type": "stream",
       "stream": "stdout",
       "text": [
        "- "
       ]
      },
      {
       "output_type": "stream",
       "stream": "stdout",
       "text": [
        "- "
       ]
      },
      {
       "output_type": "stream",
       "stream": "stdout",
       "text": [
        "- "
       ]
      },
      {
       "output_type": "stream",
       "stream": "stdout",
       "text": [
        "- "
       ]
      },
      {
       "output_type": "stream",
       "stream": "stdout",
       "text": [
        "- "
       ]
      },
      {
       "output_type": "stream",
       "stream": "stdout",
       "text": [
        "- "
       ]
      },
      {
       "output_type": "stream",
       "stream": "stdout",
       "text": [
        "- "
       ]
      },
      {
       "output_type": "stream",
       "stream": "stdout",
       "text": [
        "- "
       ]
      },
      {
       "output_type": "stream",
       "stream": "stdout",
       "text": [
        "- "
       ]
      },
      {
       "output_type": "stream",
       "stream": "stdout",
       "text": [
        "- "
       ]
      },
      {
       "output_type": "stream",
       "stream": "stdout",
       "text": [
        "- "
       ]
      },
      {
       "output_type": "stream",
       "stream": "stdout",
       "text": [
        "- "
       ]
      },
      {
       "output_type": "stream",
       "stream": "stdout",
       "text": [
        "- "
       ]
      },
      {
       "output_type": "stream",
       "stream": "stdout",
       "text": [
        "- "
       ]
      },
      {
       "output_type": "stream",
       "stream": "stdout",
       "text": [
        "- "
       ]
      },
      {
       "output_type": "stream",
       "stream": "stdout",
       "text": [
        "- "
       ]
      },
      {
       "output_type": "stream",
       "stream": "stdout",
       "text": [
        "- "
       ]
      },
      {
       "output_type": "stream",
       "stream": "stdout",
       "text": [
        "Epoch 1 complete\n",
        "- "
       ]
      },
      {
       "output_type": "stream",
       "stream": "stdout",
       "text": [
        "- "
       ]
      },
      {
       "output_type": "stream",
       "stream": "stdout",
       "text": [
        "- "
       ]
      },
      {
       "output_type": "stream",
       "stream": "stdout",
       "text": [
        "- "
       ]
      },
      {
       "output_type": "stream",
       "stream": "stdout",
       "text": [
        "- "
       ]
      },
      {
       "output_type": "stream",
       "stream": "stdout",
       "text": [
        "- "
       ]
      },
      {
       "output_type": "stream",
       "stream": "stdout",
       "text": [
        "- "
       ]
      },
      {
       "output_type": "stream",
       "stream": "stdout",
       "text": [
        "- "
       ]
      },
      {
       "output_type": "stream",
       "stream": "stdout",
       "text": [
        "- "
       ]
      },
      {
       "output_type": "stream",
       "stream": "stdout",
       "text": [
        "- "
       ]
      },
      {
       "output_type": "stream",
       "stream": "stdout",
       "text": [
        "- "
       ]
      },
      {
       "output_type": "stream",
       "stream": "stdout",
       "text": [
        "- "
       ]
      },
      {
       "output_type": "stream",
       "stream": "stdout",
       "text": [
        "- "
       ]
      },
      {
       "output_type": "stream",
       "stream": "stdout",
       "text": [
        "- "
       ]
      },
      {
       "output_type": "stream",
       "stream": "stdout",
       "text": [
        "- "
       ]
      },
      {
       "output_type": "stream",
       "stream": "stdout",
       "text": [
        "- "
       ]
      },
      {
       "output_type": "stream",
       "stream": "stdout",
       "text": [
        "- "
       ]
      },
      {
       "output_type": "stream",
       "stream": "stdout",
       "text": [
        "- "
       ]
      },
      {
       "output_type": "stream",
       "stream": "stdout",
       "text": [
        "- "
       ]
      },
      {
       "output_type": "stream",
       "stream": "stdout",
       "text": [
        "- "
       ]
      },
      {
       "output_type": "stream",
       "stream": "stdout",
       "text": [
        "- "
       ]
      },
      {
       "output_type": "stream",
       "stream": "stdout",
       "text": [
        "- "
       ]
      },
      {
       "output_type": "stream",
       "stream": "stdout",
       "text": [
        "- "
       ]
      },
      {
       "output_type": "stream",
       "stream": "stdout",
       "text": [
        "- "
       ]
      },
      {
       "output_type": "stream",
       "stream": "stdout",
       "text": [
        "- "
       ]
      },
      {
       "output_type": "stream",
       "stream": "stdout",
       "text": [
        "- "
       ]
      },
      {
       "output_type": "stream",
       "stream": "stdout",
       "text": [
        "- "
       ]
      },
      {
       "output_type": "stream",
       "stream": "stdout",
       "text": [
        "- "
       ]
      },
      {
       "output_type": "stream",
       "stream": "stdout",
       "text": [
        "- "
       ]
      },
      {
       "output_type": "stream",
       "stream": "stdout",
       "text": [
        "- "
       ]
      },
      {
       "output_type": "stream",
       "stream": "stdout",
       "text": [
        "- "
       ]
      },
      {
       "output_type": "stream",
       "stream": "stdout",
       "text": [
        "- "
       ]
      },
      {
       "output_type": "stream",
       "stream": "stdout",
       "text": [
        "- "
       ]
      },
      {
       "output_type": "stream",
       "stream": "stdout",
       "text": [
        "- "
       ]
      },
      {
       "output_type": "stream",
       "stream": "stdout",
       "text": [
        "- "
       ]
      },
      {
       "output_type": "stream",
       "stream": "stdout",
       "text": [
        "- "
       ]
      },
      {
       "output_type": "stream",
       "stream": "stdout",
       "text": [
        "- "
       ]
      },
      {
       "output_type": "stream",
       "stream": "stdout",
       "text": [
        "- "
       ]
      },
      {
       "output_type": "stream",
       "stream": "stdout",
       "text": [
        "- "
       ]
      },
      {
       "output_type": "stream",
       "stream": "stdout",
       "text": [
        "- "
       ]
      },
      {
       "output_type": "stream",
       "stream": "stdout",
       "text": [
        "- "
       ]
      },
      {
       "output_type": "stream",
       "stream": "stdout",
       "text": [
        "- "
       ]
      },
      {
       "output_type": "stream",
       "stream": "stdout",
       "text": [
        "- "
       ]
      },
      {
       "output_type": "stream",
       "stream": "stdout",
       "text": [
        "- "
       ]
      },
      {
       "output_type": "stream",
       "stream": "stdout",
       "text": [
        "- "
       ]
      },
      {
       "output_type": "stream",
       "stream": "stdout",
       "text": [
        "- "
       ]
      },
      {
       "output_type": "stream",
       "stream": "stdout",
       "text": [
        "- "
       ]
      },
      {
       "output_type": "stream",
       "stream": "stdout",
       "text": [
        "- "
       ]
      },
      {
       "output_type": "stream",
       "stream": "stdout",
       "text": [
        "- "
       ]
      },
      {
       "output_type": "stream",
       "stream": "stdout",
       "text": [
        "- "
       ]
      },
      {
       "output_type": "stream",
       "stream": "stdout",
       "text": [
        "- "
       ]
      },
      {
       "output_type": "stream",
       "stream": "stdout",
       "text": [
        "- "
       ]
      },
      {
       "output_type": "stream",
       "stream": "stdout",
       "text": [
        "- "
       ]
      },
      {
       "output_type": "stream",
       "stream": "stdout",
       "text": [
        "- "
       ]
      },
      {
       "output_type": "stream",
       "stream": "stdout",
       "text": [
        "- "
       ]
      },
      {
       "output_type": "stream",
       "stream": "stdout",
       "text": [
        "- "
       ]
      },
      {
       "output_type": "stream",
       "stream": "stdout",
       "text": [
        "- "
       ]
      },
      {
       "output_type": "stream",
       "stream": "stdout",
       "text": [
        "- "
       ]
      },
      {
       "output_type": "stream",
       "stream": "stdout",
       "text": [
        "- "
       ]
      },
      {
       "output_type": "stream",
       "stream": "stdout",
       "text": [
        "- "
       ]
      },
      {
       "output_type": "stream",
       "stream": "stdout",
       "text": [
        "- "
       ]
      },
      {
       "output_type": "stream",
       "stream": "stdout",
       "text": [
        "- "
       ]
      },
      {
       "output_type": "stream",
       "stream": "stdout",
       "text": [
        "- "
       ]
      },
      {
       "output_type": "stream",
       "stream": "stdout",
       "text": [
        "- "
       ]
      },
      {
       "output_type": "stream",
       "stream": "stdout",
       "text": [
        "- "
       ]
      },
      {
       "output_type": "stream",
       "stream": "stdout",
       "text": [
        "- "
       ]
      },
      {
       "output_type": "stream",
       "stream": "stdout",
       "text": [
        "- "
       ]
      },
      {
       "output_type": "stream",
       "stream": "stdout",
       "text": [
        "- "
       ]
      },
      {
       "output_type": "stream",
       "stream": "stdout",
       "text": [
        "- "
       ]
      },
      {
       "output_type": "stream",
       "stream": "stdout",
       "text": [
        "- "
       ]
      },
      {
       "output_type": "stream",
       "stream": "stdout",
       "text": [
        "- "
       ]
      },
      {
       "output_type": "stream",
       "stream": "stdout",
       "text": [
        "- "
       ]
      },
      {
       "output_type": "stream",
       "stream": "stdout",
       "text": [
        "- "
       ]
      },
      {
       "output_type": "stream",
       "stream": "stdout",
       "text": [
        "- "
       ]
      },
      {
       "output_type": "stream",
       "stream": "stdout",
       "text": [
        "- "
       ]
      },
      {
       "output_type": "stream",
       "stream": "stdout",
       "text": [
        "- "
       ]
      },
      {
       "output_type": "stream",
       "stream": "stdout",
       "text": [
        "- "
       ]
      },
      {
       "output_type": "stream",
       "stream": "stdout",
       "text": [
        "- "
       ]
      },
      {
       "output_type": "stream",
       "stream": "stdout",
       "text": [
        "- "
       ]
      },
      {
       "output_type": "stream",
       "stream": "stdout",
       "text": [
        "- "
       ]
      },
      {
       "output_type": "stream",
       "stream": "stdout",
       "text": [
        "- "
       ]
      },
      {
       "output_type": "stream",
       "stream": "stdout",
       "text": [
        "- "
       ]
      },
      {
       "output_type": "stream",
       "stream": "stdout",
       "text": [
        "- "
       ]
      },
      {
       "output_type": "stream",
       "stream": "stdout",
       "text": [
        "- "
       ]
      },
      {
       "output_type": "stream",
       "stream": "stdout",
       "text": [
        "- "
       ]
      },
      {
       "output_type": "stream",
       "stream": "stdout",
       "text": [
        "- "
       ]
      },
      {
       "output_type": "stream",
       "stream": "stdout",
       "text": [
        "- "
       ]
      },
      {
       "output_type": "stream",
       "stream": "stdout",
       "text": [
        "- "
       ]
      },
      {
       "output_type": "stream",
       "stream": "stdout",
       "text": [
        "- "
       ]
      },
      {
       "output_type": "stream",
       "stream": "stdout",
       "text": [
        "- "
       ]
      },
      {
       "output_type": "stream",
       "stream": "stdout",
       "text": [
        "- "
       ]
      },
      {
       "output_type": "stream",
       "stream": "stdout",
       "text": [
        "- "
       ]
      },
      {
       "output_type": "stream",
       "stream": "stdout",
       "text": [
        "- "
       ]
      },
      {
       "output_type": "stream",
       "stream": "stdout",
       "text": [
        "- "
       ]
      },
      {
       "output_type": "stream",
       "stream": "stdout",
       "text": [
        "- "
       ]
      },
      {
       "output_type": "stream",
       "stream": "stdout",
       "text": [
        "- "
       ]
      },
      {
       "output_type": "stream",
       "stream": "stdout",
       "text": [
        "- "
       ]
      },
      {
       "output_type": "stream",
       "stream": "stdout",
       "text": [
        "- "
       ]
      },
      {
       "output_type": "stream",
       "stream": "stdout",
       "text": [
        "- "
       ]
      },
      {
       "output_type": "stream",
       "stream": "stdout",
       "text": [
        "- "
       ]
      },
      {
       "output_type": "stream",
       "stream": "stdout",
       "text": [
        "- "
       ]
      },
      {
       "output_type": "stream",
       "stream": "stdout",
       "text": [
        "- "
       ]
      },
      {
       "output_type": "stream",
       "stream": "stdout",
       "text": [
        "- "
       ]
      },
      {
       "output_type": "stream",
       "stream": "stdout",
       "text": [
        "- "
       ]
      },
      {
       "output_type": "stream",
       "stream": "stdout",
       "text": [
        "- "
       ]
      },
      {
       "output_type": "stream",
       "stream": "stdout",
       "text": [
        "- "
       ]
      },
      {
       "output_type": "stream",
       "stream": "stdout",
       "text": [
        "- "
       ]
      },
      {
       "output_type": "stream",
       "stream": "stdout",
       "text": [
        "- "
       ]
      },
      {
       "output_type": "stream",
       "stream": "stdout",
       "text": [
        "- "
       ]
      },
      {
       "output_type": "stream",
       "stream": "stdout",
       "text": [
        "- "
       ]
      },
      {
       "output_type": "stream",
       "stream": "stdout",
       "text": [
        "- "
       ]
      },
      {
       "output_type": "stream",
       "stream": "stdout",
       "text": [
        "- "
       ]
      },
      {
       "output_type": "stream",
       "stream": "stdout",
       "text": [
        "- "
       ]
      },
      {
       "output_type": "stream",
       "stream": "stdout",
       "text": [
        "- "
       ]
      },
      {
       "output_type": "stream",
       "stream": "stdout",
       "text": [
        "- "
       ]
      },
      {
       "output_type": "stream",
       "stream": "stdout",
       "text": [
        "- "
       ]
      },
      {
       "output_type": "stream",
       "stream": "stdout",
       "text": [
        "- "
       ]
      },
      {
       "output_type": "stream",
       "stream": "stdout",
       "text": [
        "- "
       ]
      },
      {
       "output_type": "stream",
       "stream": "stdout",
       "text": [
        "- "
       ]
      },
      {
       "output_type": "stream",
       "stream": "stdout",
       "text": [
        "- "
       ]
      },
      {
       "output_type": "stream",
       "stream": "stdout",
       "text": [
        "- "
       ]
      },
      {
       "output_type": "stream",
       "stream": "stdout",
       "text": [
        "- "
       ]
      },
      {
       "output_type": "stream",
       "stream": "stdout",
       "text": [
        "- "
       ]
      },
      {
       "output_type": "stream",
       "stream": "stdout",
       "text": [
        "- "
       ]
      },
      {
       "output_type": "stream",
       "stream": "stdout",
       "text": [
        "- "
       ]
      },
      {
       "output_type": "stream",
       "stream": "stdout",
       "text": [
        "- "
       ]
      },
      {
       "output_type": "stream",
       "stream": "stdout",
       "text": [
        "- "
       ]
      },
      {
       "output_type": "stream",
       "stream": "stdout",
       "text": [
        "- "
       ]
      },
      {
       "output_type": "stream",
       "stream": "stdout",
       "text": [
        "- "
       ]
      },
      {
       "output_type": "stream",
       "stream": "stdout",
       "text": [
        "- "
       ]
      },
      {
       "output_type": "stream",
       "stream": "stdout",
       "text": [
        "- "
       ]
      },
      {
       "output_type": "stream",
       "stream": "stdout",
       "text": [
        "- "
       ]
      },
      {
       "output_type": "stream",
       "stream": "stdout",
       "text": [
        "- "
       ]
      },
      {
       "output_type": "stream",
       "stream": "stdout",
       "text": [
        "- "
       ]
      },
      {
       "output_type": "stream",
       "stream": "stdout",
       "text": [
        "- "
       ]
      },
      {
       "output_type": "stream",
       "stream": "stdout",
       "text": [
        "- "
       ]
      },
      {
       "output_type": "stream",
       "stream": "stdout",
       "text": [
        "- "
       ]
      },
      {
       "output_type": "stream",
       "stream": "stdout",
       "text": [
        "- "
       ]
      },
      {
       "output_type": "stream",
       "stream": "stdout",
       "text": [
        "- "
       ]
      },
      {
       "output_type": "stream",
       "stream": "stdout",
       "text": [
        "- "
       ]
      },
      {
       "output_type": "stream",
       "stream": "stdout",
       "text": [
        "- "
       ]
      },
      {
       "output_type": "stream",
       "stream": "stdout",
       "text": [
        "- "
       ]
      },
      {
       "output_type": "stream",
       "stream": "stdout",
       "text": [
        "- "
       ]
      },
      {
       "output_type": "stream",
       "stream": "stdout",
       "text": [
        "- "
       ]
      },
      {
       "output_type": "stream",
       "stream": "stdout",
       "text": [
        "- "
       ]
      },
      {
       "output_type": "stream",
       "stream": "stdout",
       "text": [
        "- "
       ]
      },
      {
       "output_type": "stream",
       "stream": "stdout",
       "text": [
        "- "
       ]
      },
      {
       "output_type": "stream",
       "stream": "stdout",
       "text": [
        "- "
       ]
      },
      {
       "output_type": "stream",
       "stream": "stdout",
       "text": [
        "- "
       ]
      },
      {
       "output_type": "stream",
       "stream": "stdout",
       "text": [
        "- "
       ]
      },
      {
       "output_type": "stream",
       "stream": "stdout",
       "text": [
        "- "
       ]
      },
      {
       "output_type": "stream",
       "stream": "stdout",
       "text": [
        "- "
       ]
      },
      {
       "output_type": "stream",
       "stream": "stdout",
       "text": [
        "- "
       ]
      },
      {
       "output_type": "stream",
       "stream": "stdout",
       "text": [
        "- "
       ]
      },
      {
       "output_type": "stream",
       "stream": "stdout",
       "text": [
        "- "
       ]
      },
      {
       "output_type": "stream",
       "stream": "stdout",
       "text": [
        "- "
       ]
      },
      {
       "output_type": "stream",
       "stream": "stdout",
       "text": [
        "- "
       ]
      },
      {
       "output_type": "stream",
       "stream": "stdout",
       "text": [
        "- "
       ]
      },
      {
       "output_type": "stream",
       "stream": "stdout",
       "text": [
        "- "
       ]
      },
      {
       "output_type": "stream",
       "stream": "stdout",
       "text": [
        "- "
       ]
      },
      {
       "output_type": "stream",
       "stream": "stdout",
       "text": [
        "- "
       ]
      },
      {
       "output_type": "stream",
       "stream": "stdout",
       "text": [
        "- "
       ]
      },
      {
       "output_type": "stream",
       "stream": "stdout",
       "text": [
        "- "
       ]
      },
      {
       "output_type": "stream",
       "stream": "stdout",
       "text": [
        "- "
       ]
      },
      {
       "output_type": "stream",
       "stream": "stdout",
       "text": [
        "- "
       ]
      },
      {
       "output_type": "stream",
       "stream": "stdout",
       "text": [
        "- "
       ]
      },
      {
       "output_type": "stream",
       "stream": "stdout",
       "text": [
        "- "
       ]
      },
      {
       "output_type": "stream",
       "stream": "stdout",
       "text": [
        "- "
       ]
      },
      {
       "output_type": "stream",
       "stream": "stdout",
       "text": [
        "- "
       ]
      },
      {
       "output_type": "stream",
       "stream": "stdout",
       "text": [
        "- "
       ]
      },
      {
       "output_type": "stream",
       "stream": "stdout",
       "text": [
        "- "
       ]
      },
      {
       "output_type": "stream",
       "stream": "stdout",
       "text": [
        "- "
       ]
      },
      {
       "output_type": "stream",
       "stream": "stdout",
       "text": [
        "- "
       ]
      },
      {
       "output_type": "stream",
       "stream": "stdout",
       "text": [
        "- "
       ]
      },
      {
       "output_type": "stream",
       "stream": "stdout",
       "text": [
        "- "
       ]
      },
      {
       "output_type": "stream",
       "stream": "stdout",
       "text": [
        "- "
       ]
      },
      {
       "output_type": "stream",
       "stream": "stdout",
       "text": [
        "- "
       ]
      },
      {
       "output_type": "stream",
       "stream": "stdout",
       "text": [
        "- "
       ]
      },
      {
       "output_type": "stream",
       "stream": "stdout",
       "text": [
        "- "
       ]
      },
      {
       "output_type": "stream",
       "stream": "stdout",
       "text": [
        "- "
       ]
      },
      {
       "output_type": "stream",
       "stream": "stdout",
       "text": [
        "- "
       ]
      },
      {
       "output_type": "stream",
       "stream": "stdout",
       "text": [
        "- "
       ]
      },
      {
       "output_type": "stream",
       "stream": "stdout",
       "text": [
        "- "
       ]
      },
      {
       "output_type": "stream",
       "stream": "stdout",
       "text": [
        "- "
       ]
      },
      {
       "output_type": "stream",
       "stream": "stdout",
       "text": [
        "- "
       ]
      },
      {
       "output_type": "stream",
       "stream": "stdout",
       "text": [
        "- "
       ]
      },
      {
       "output_type": "stream",
       "stream": "stdout",
       "text": [
        "- "
       ]
      },
      {
       "output_type": "stream",
       "stream": "stdout",
       "text": [
        "- "
       ]
      },
      {
       "output_type": "stream",
       "stream": "stdout",
       "text": [
        "- "
       ]
      },
      {
       "output_type": "stream",
       "stream": "stdout",
       "text": [
        "- "
       ]
      },
      {
       "output_type": "stream",
       "stream": "stdout",
       "text": [
        "- "
       ]
      },
      {
       "output_type": "stream",
       "stream": "stdout",
       "text": [
        "- "
       ]
      },
      {
       "output_type": "stream",
       "stream": "stdout",
       "text": [
        "- "
       ]
      },
      {
       "output_type": "stream",
       "stream": "stdout",
       "text": [
        "- "
       ]
      },
      {
       "output_type": "stream",
       "stream": "stdout",
       "text": [
        "- "
       ]
      },
      {
       "output_type": "stream",
       "stream": "stdout",
       "text": [
        "- "
       ]
      },
      {
       "output_type": "stream",
       "stream": "stdout",
       "text": [
        "- "
       ]
      },
      {
       "output_type": "stream",
       "stream": "stdout",
       "text": [
        "- "
       ]
      },
      {
       "output_type": "stream",
       "stream": "stdout",
       "text": [
        "- "
       ]
      },
      {
       "output_type": "stream",
       "stream": "stdout",
       "text": [
        "- "
       ]
      },
      {
       "output_type": "stream",
       "stream": "stdout",
       "text": [
        "- "
       ]
      },
      {
       "output_type": "stream",
       "stream": "stdout",
       "text": [
        "- "
       ]
      },
      {
       "output_type": "stream",
       "stream": "stdout",
       "text": [
        "- "
       ]
      },
      {
       "output_type": "stream",
       "stream": "stdout",
       "text": [
        "- "
       ]
      },
      {
       "output_type": "stream",
       "stream": "stdout",
       "text": [
        "- "
       ]
      },
      {
       "output_type": "stream",
       "stream": "stdout",
       "text": [
        "- "
       ]
      },
      {
       "output_type": "stream",
       "stream": "stdout",
       "text": [
        "- "
       ]
      },
      {
       "output_type": "stream",
       "stream": "stdout",
       "text": [
        "- "
       ]
      },
      {
       "output_type": "stream",
       "stream": "stdout",
       "text": [
        "- "
       ]
      },
      {
       "output_type": "stream",
       "stream": "stdout",
       "text": [
        "- "
       ]
      },
      {
       "output_type": "stream",
       "stream": "stdout",
       "text": [
        "- "
       ]
      },
      {
       "output_type": "stream",
       "stream": "stdout",
       "text": [
        "- "
       ]
      },
      {
       "output_type": "stream",
       "stream": "stdout",
       "text": [
        "- "
       ]
      },
      {
       "output_type": "stream",
       "stream": "stdout",
       "text": [
        "- "
       ]
      },
      {
       "output_type": "stream",
       "stream": "stdout",
       "text": [
        "- "
       ]
      },
      {
       "output_type": "stream",
       "stream": "stdout",
       "text": [
        "- "
       ]
      },
      {
       "output_type": "stream",
       "stream": "stdout",
       "text": [
        "- "
       ]
      },
      {
       "output_type": "stream",
       "stream": "stdout",
       "text": [
        "- "
       ]
      },
      {
       "output_type": "stream",
       "stream": "stdout",
       "text": [
        "- "
       ]
      },
      {
       "output_type": "stream",
       "stream": "stdout",
       "text": [
        "- "
       ]
      },
      {
       "output_type": "stream",
       "stream": "stdout",
       "text": [
        "- "
       ]
      },
      {
       "output_type": "stream",
       "stream": "stdout",
       "text": [
        "- "
       ]
      },
      {
       "output_type": "stream",
       "stream": "stdout",
       "text": [
        "- "
       ]
      },
      {
       "output_type": "stream",
       "stream": "stdout",
       "text": [
        "- "
       ]
      },
      {
       "output_type": "stream",
       "stream": "stdout",
       "text": [
        "- "
       ]
      },
      {
       "output_type": "stream",
       "stream": "stdout",
       "text": [
        "- "
       ]
      },
      {
       "output_type": "stream",
       "stream": "stdout",
       "text": [
        "- "
       ]
      },
      {
       "output_type": "stream",
       "stream": "stdout",
       "text": [
        "- "
       ]
      },
      {
       "output_type": "stream",
       "stream": "stdout",
       "text": [
        "- "
       ]
      },
      {
       "output_type": "stream",
       "stream": "stdout",
       "text": [
        "- "
       ]
      },
      {
       "output_type": "stream",
       "stream": "stdout",
       "text": [
        "- "
       ]
      },
      {
       "output_type": "stream",
       "stream": "stdout",
       "text": [
        "- "
       ]
      },
      {
       "output_type": "stream",
       "stream": "stdout",
       "text": [
        "- "
       ]
      },
      {
       "output_type": "stream",
       "stream": "stdout",
       "text": [
        "- "
       ]
      },
      {
       "output_type": "stream",
       "stream": "stdout",
       "text": [
        "- "
       ]
      },
      {
       "output_type": "stream",
       "stream": "stdout",
       "text": [
        "- "
       ]
      },
      {
       "output_type": "stream",
       "stream": "stdout",
       "text": [
        "- "
       ]
      },
      {
       "output_type": "stream",
       "stream": "stdout",
       "text": [
        "- "
       ]
      },
      {
       "output_type": "stream",
       "stream": "stdout",
       "text": [
        "- "
       ]
      },
      {
       "output_type": "stream",
       "stream": "stdout",
       "text": [
        "- "
       ]
      },
      {
       "output_type": "stream",
       "stream": "stdout",
       "text": [
        "- "
       ]
      },
      {
       "output_type": "stream",
       "stream": "stdout",
       "text": [
        "- "
       ]
      },
      {
       "output_type": "stream",
       "stream": "stdout",
       "text": [
        "- "
       ]
      },
      {
       "output_type": "stream",
       "stream": "stdout",
       "text": [
        "- "
       ]
      },
      {
       "output_type": "stream",
       "stream": "stdout",
       "text": [
        "- "
       ]
      },
      {
       "output_type": "stream",
       "stream": "stdout",
       "text": [
        "- "
       ]
      },
      {
       "output_type": "stream",
       "stream": "stdout",
       "text": [
        "- "
       ]
      },
      {
       "output_type": "stream",
       "stream": "stdout",
       "text": [
        "- "
       ]
      },
      {
       "output_type": "stream",
       "stream": "stdout",
       "text": [
        "- "
       ]
      },
      {
       "output_type": "stream",
       "stream": "stdout",
       "text": [
        "- "
       ]
      },
      {
       "output_type": "stream",
       "stream": "stdout",
       "text": [
        "- "
       ]
      },
      {
       "output_type": "stream",
       "stream": "stdout",
       "text": [
        "- "
       ]
      },
      {
       "output_type": "stream",
       "stream": "stdout",
       "text": [
        "- "
       ]
      },
      {
       "output_type": "stream",
       "stream": "stdout",
       "text": [
        "- "
       ]
      },
      {
       "output_type": "stream",
       "stream": "stdout",
       "text": [
        "- "
       ]
      },
      {
       "output_type": "stream",
       "stream": "stdout",
       "text": [
        "- "
       ]
      },
      {
       "output_type": "stream",
       "stream": "stdout",
       "text": [
        "- "
       ]
      },
      {
       "output_type": "stream",
       "stream": "stdout",
       "text": [
        "- "
       ]
      },
      {
       "output_type": "stream",
       "stream": "stdout",
       "text": [
        "- "
       ]
      },
      {
       "output_type": "stream",
       "stream": "stdout",
       "text": [
        "- "
       ]
      },
      {
       "output_type": "stream",
       "stream": "stdout",
       "text": [
        "- "
       ]
      },
      {
       "output_type": "stream",
       "stream": "stdout",
       "text": [
        "- "
       ]
      },
      {
       "output_type": "stream",
       "stream": "stdout",
       "text": [
        "- "
       ]
      },
      {
       "output_type": "stream",
       "stream": "stdout",
       "text": [
        "- "
       ]
      },
      {
       "output_type": "stream",
       "stream": "stdout",
       "text": [
        "- "
       ]
      },
      {
       "output_type": "stream",
       "stream": "stdout",
       "text": [
        "- "
       ]
      },
      {
       "output_type": "stream",
       "stream": "stdout",
       "text": [
        "- "
       ]
      },
      {
       "output_type": "stream",
       "stream": "stdout",
       "text": [
        "- "
       ]
      },
      {
       "output_type": "stream",
       "stream": "stdout",
       "text": [
        "- "
       ]
      },
      {
       "output_type": "stream",
       "stream": "stdout",
       "text": [
        "- "
       ]
      },
      {
       "output_type": "stream",
       "stream": "stdout",
       "text": [
        "- "
       ]
      },
      {
       "output_type": "stream",
       "stream": "stdout",
       "text": [
        "- "
       ]
      },
      {
       "output_type": "stream",
       "stream": "stdout",
       "text": [
        "- "
       ]
      },
      {
       "output_type": "stream",
       "stream": "stdout",
       "text": [
        "- "
       ]
      },
      {
       "output_type": "stream",
       "stream": "stdout",
       "text": [
        "- "
       ]
      },
      {
       "output_type": "stream",
       "stream": "stdout",
       "text": [
        "- "
       ]
      },
      {
       "output_type": "stream",
       "stream": "stdout",
       "text": [
        "- "
       ]
      },
      {
       "output_type": "stream",
       "stream": "stdout",
       "text": [
        "- "
       ]
      },
      {
       "output_type": "stream",
       "stream": "stdout",
       "text": [
        "- "
       ]
      },
      {
       "output_type": "stream",
       "stream": "stdout",
       "text": [
        "- "
       ]
      },
      {
       "output_type": "stream",
       "stream": "stdout",
       "text": [
        "- "
       ]
      },
      {
       "output_type": "stream",
       "stream": "stdout",
       "text": [
        "- "
       ]
      },
      {
       "output_type": "stream",
       "stream": "stdout",
       "text": [
        "- "
       ]
      },
      {
       "output_type": "stream",
       "stream": "stdout",
       "text": [
        "- "
       ]
      },
      {
       "output_type": "stream",
       "stream": "stdout",
       "text": [
        "- "
       ]
      },
      {
       "output_type": "stream",
       "stream": "stdout",
       "text": [
        "- "
       ]
      },
      {
       "output_type": "stream",
       "stream": "stdout",
       "text": [
        "- "
       ]
      },
      {
       "output_type": "stream",
       "stream": "stdout",
       "text": [
        "- "
       ]
      },
      {
       "output_type": "stream",
       "stream": "stdout",
       "text": [
        "- "
       ]
      },
      {
       "output_type": "stream",
       "stream": "stdout",
       "text": [
        "- "
       ]
      },
      {
       "output_type": "stream",
       "stream": "stdout",
       "text": [
        "- "
       ]
      },
      {
       "output_type": "stream",
       "stream": "stdout",
       "text": [
        "- "
       ]
      },
      {
       "output_type": "stream",
       "stream": "stdout",
       "text": [
        "- "
       ]
      },
      {
       "output_type": "stream",
       "stream": "stdout",
       "text": [
        "- "
       ]
      },
      {
       "output_type": "stream",
       "stream": "stdout",
       "text": [
        "- "
       ]
      },
      {
       "output_type": "stream",
       "stream": "stdout",
       "text": [
        "- "
       ]
      },
      {
       "output_type": "stream",
       "stream": "stdout",
       "text": [
        "- "
       ]
      },
      {
       "output_type": "stream",
       "stream": "stdout",
       "text": [
        "- "
       ]
      },
      {
       "output_type": "stream",
       "stream": "stdout",
       "text": [
        "- "
       ]
      },
      {
       "output_type": "stream",
       "stream": "stdout",
       "text": [
        "- "
       ]
      },
      {
       "output_type": "stream",
       "stream": "stdout",
       "text": [
        "- "
       ]
      },
      {
       "output_type": "stream",
       "stream": "stdout",
       "text": [
        "- "
       ]
      },
      {
       "output_type": "stream",
       "stream": "stdout",
       "text": [
        "- "
       ]
      },
      {
       "output_type": "stream",
       "stream": "stdout",
       "text": [
        "- "
       ]
      },
      {
       "output_type": "stream",
       "stream": "stdout",
       "text": [
        "- "
       ]
      },
      {
       "output_type": "stream",
       "stream": "stdout",
       "text": [
        "- "
       ]
      },
      {
       "output_type": "stream",
       "stream": "stdout",
       "text": [
        "- "
       ]
      },
      {
       "output_type": "stream",
       "stream": "stdout",
       "text": [
        "- "
       ]
      },
      {
       "output_type": "stream",
       "stream": "stdout",
       "text": [
        "- "
       ]
      },
      {
       "output_type": "stream",
       "stream": "stdout",
       "text": [
        "- "
       ]
      },
      {
       "output_type": "stream",
       "stream": "stdout",
       "text": [
        "- "
       ]
      },
      {
       "output_type": "stream",
       "stream": "stdout",
       "text": [
        "- "
       ]
      },
      {
       "output_type": "stream",
       "stream": "stdout",
       "text": [
        "- "
       ]
      },
      {
       "output_type": "stream",
       "stream": "stdout",
       "text": [
        "- "
       ]
      },
      {
       "output_type": "stream",
       "stream": "stdout",
       "text": [
        "- "
       ]
      },
      {
       "output_type": "stream",
       "stream": "stdout",
       "text": [
        "- "
       ]
      },
      {
       "output_type": "stream",
       "stream": "stdout",
       "text": [
        "- "
       ]
      },
      {
       "output_type": "stream",
       "stream": "stdout",
       "text": [
        "- "
       ]
      },
      {
       "output_type": "stream",
       "stream": "stdout",
       "text": [
        "- "
       ]
      },
      {
       "output_type": "stream",
       "stream": "stdout",
       "text": [
        "- "
       ]
      },
      {
       "output_type": "stream",
       "stream": "stdout",
       "text": [
        "- "
       ]
      },
      {
       "output_type": "stream",
       "stream": "stdout",
       "text": [
        "- "
       ]
      },
      {
       "output_type": "stream",
       "stream": "stdout",
       "text": [
        "- "
       ]
      },
      {
       "output_type": "stream",
       "stream": "stdout",
       "text": [
        "- "
       ]
      },
      {
       "output_type": "stream",
       "stream": "stdout",
       "text": [
        "- "
       ]
      },
      {
       "output_type": "stream",
       "stream": "stdout",
       "text": [
        "- "
       ]
      },
      {
       "output_type": "stream",
       "stream": "stdout",
       "text": [
        "- "
       ]
      },
      {
       "output_type": "stream",
       "stream": "stdout",
       "text": [
        "- "
       ]
      },
      {
       "output_type": "stream",
       "stream": "stdout",
       "text": [
        "- "
       ]
      },
      {
       "output_type": "stream",
       "stream": "stdout",
       "text": [
        "- "
       ]
      },
      {
       "output_type": "stream",
       "stream": "stdout",
       "text": [
        "- "
       ]
      },
      {
       "output_type": "stream",
       "stream": "stdout",
       "text": [
        "- "
       ]
      },
      {
       "output_type": "stream",
       "stream": "stdout",
       "text": [
        "- "
       ]
      },
      {
       "output_type": "stream",
       "stream": "stdout",
       "text": [
        "- "
       ]
      },
      {
       "output_type": "stream",
       "stream": "stdout",
       "text": [
        "- "
       ]
      },
      {
       "output_type": "stream",
       "stream": "stdout",
       "text": [
        "- "
       ]
      },
      {
       "output_type": "stream",
       "stream": "stdout",
       "text": [
        "- "
       ]
      },
      {
       "output_type": "stream",
       "stream": "stdout",
       "text": [
        "- "
       ]
      },
      {
       "output_type": "stream",
       "stream": "stdout",
       "text": [
        "- "
       ]
      },
      {
       "output_type": "stream",
       "stream": "stdout",
       "text": [
        "- "
       ]
      },
      {
       "output_type": "stream",
       "stream": "stdout",
       "text": [
        "- "
       ]
      },
      {
       "output_type": "stream",
       "stream": "stdout",
       "text": [
        "- "
       ]
      },
      {
       "output_type": "stream",
       "stream": "stdout",
       "text": [
        "- "
       ]
      },
      {
       "output_type": "stream",
       "stream": "stdout",
       "text": [
        "- "
       ]
      },
      {
       "output_type": "stream",
       "stream": "stdout",
       "text": [
        "- "
       ]
      },
      {
       "output_type": "stream",
       "stream": "stdout",
       "text": [
        "- "
       ]
      },
      {
       "output_type": "stream",
       "stream": "stdout",
       "text": [
        "- "
       ]
      },
      {
       "output_type": "stream",
       "stream": "stdout",
       "text": [
        "- "
       ]
      },
      {
       "output_type": "stream",
       "stream": "stdout",
       "text": [
        "- "
       ]
      },
      {
       "output_type": "stream",
       "stream": "stdout",
       "text": [
        "- "
       ]
      },
      {
       "output_type": "stream",
       "stream": "stdout",
       "text": [
        "- "
       ]
      },
      {
       "output_type": "stream",
       "stream": "stdout",
       "text": [
        "- "
       ]
      },
      {
       "output_type": "stream",
       "stream": "stdout",
       "text": [
        "- "
       ]
      },
      {
       "output_type": "stream",
       "stream": "stdout",
       "text": [
        "- "
       ]
      },
      {
       "output_type": "stream",
       "stream": "stdout",
       "text": [
        "- "
       ]
      },
      {
       "output_type": "stream",
       "stream": "stdout",
       "text": [
        "- "
       ]
      },
      {
       "output_type": "stream",
       "stream": "stdout",
       "text": [
        "- "
       ]
      },
      {
       "output_type": "stream",
       "stream": "stdout",
       "text": [
        "- "
       ]
      },
      {
       "output_type": "stream",
       "stream": "stdout",
       "text": [
        "- "
       ]
      },
      {
       "output_type": "stream",
       "stream": "stdout",
       "text": [
        "- "
       ]
      },
      {
       "output_type": "stream",
       "stream": "stdout",
       "text": [
        "- "
       ]
      },
      {
       "output_type": "stream",
       "stream": "stdout",
       "text": [
        "- "
       ]
      },
      {
       "output_type": "stream",
       "stream": "stdout",
       "text": [
        "- "
       ]
      },
      {
       "output_type": "stream",
       "stream": "stdout",
       "text": [
        "- "
       ]
      },
      {
       "output_type": "stream",
       "stream": "stdout",
       "text": [
        "- "
       ]
      },
      {
       "output_type": "stream",
       "stream": "stdout",
       "text": [
        "- "
       ]
      },
      {
       "output_type": "stream",
       "stream": "stdout",
       "text": [
        "- "
       ]
      },
      {
       "output_type": "stream",
       "stream": "stdout",
       "text": [
        "- "
       ]
      },
      {
       "output_type": "stream",
       "stream": "stdout",
       "text": [
        "- "
       ]
      },
      {
       "output_type": "stream",
       "stream": "stdout",
       "text": [
        "- "
       ]
      },
      {
       "output_type": "stream",
       "stream": "stdout",
       "text": [
        "- "
       ]
      },
      {
       "output_type": "stream",
       "stream": "stdout",
       "text": [
        "- "
       ]
      },
      {
       "output_type": "stream",
       "stream": "stdout",
       "text": [
        "- "
       ]
      },
      {
       "output_type": "stream",
       "stream": "stdout",
       "text": [
        "- "
       ]
      },
      {
       "output_type": "stream",
       "stream": "stdout",
       "text": [
        "- "
       ]
      },
      {
       "output_type": "stream",
       "stream": "stdout",
       "text": [
        "- "
       ]
      },
      {
       "output_type": "stream",
       "stream": "stdout",
       "text": [
        "- "
       ]
      },
      {
       "output_type": "stream",
       "stream": "stdout",
       "text": [
        "- "
       ]
      },
      {
       "output_type": "stream",
       "stream": "stdout",
       "text": [
        "- "
       ]
      },
      {
       "output_type": "stream",
       "stream": "stdout",
       "text": [
        "- "
       ]
      },
      {
       "output_type": "stream",
       "stream": "stdout",
       "text": [
        "- "
       ]
      },
      {
       "output_type": "stream",
       "stream": "stdout",
       "text": [
        "- "
       ]
      },
      {
       "output_type": "stream",
       "stream": "stdout",
       "text": [
        "- "
       ]
      },
      {
       "output_type": "stream",
       "stream": "stdout",
       "text": [
        "- "
       ]
      },
      {
       "output_type": "stream",
       "stream": "stdout",
       "text": [
        "- "
       ]
      },
      {
       "output_type": "stream",
       "stream": "stdout",
       "text": [
        "- "
       ]
      },
      {
       "output_type": "stream",
       "stream": "stdout",
       "text": [
        "- "
       ]
      },
      {
       "output_type": "stream",
       "stream": "stdout",
       "text": [
        "- "
       ]
      },
      {
       "output_type": "stream",
       "stream": "stdout",
       "text": [
        "- "
       ]
      },
      {
       "output_type": "stream",
       "stream": "stdout",
       "text": [
        "- "
       ]
      },
      {
       "output_type": "stream",
       "stream": "stdout",
       "text": [
        "- "
       ]
      },
      {
       "output_type": "stream",
       "stream": "stdout",
       "text": [
        "- "
       ]
      },
      {
       "output_type": "stream",
       "stream": "stdout",
       "text": [
        "- "
       ]
      },
      {
       "output_type": "stream",
       "stream": "stdout",
       "text": [
        "- "
       ]
      },
      {
       "output_type": "stream",
       "stream": "stdout",
       "text": [
        "- "
       ]
      },
      {
       "output_type": "stream",
       "stream": "stdout",
       "text": [
        "- "
       ]
      },
      {
       "output_type": "stream",
       "stream": "stdout",
       "text": [
        "- "
       ]
      },
      {
       "output_type": "stream",
       "stream": "stdout",
       "text": [
        "- "
       ]
      },
      {
       "output_type": "stream",
       "stream": "stdout",
       "text": [
        "- "
       ]
      },
      {
       "output_type": "stream",
       "stream": "stdout",
       "text": [
        "- "
       ]
      },
      {
       "output_type": "stream",
       "stream": "stdout",
       "text": [
        "- "
       ]
      },
      {
       "output_type": "stream",
       "stream": "stdout",
       "text": [
        "- "
       ]
      },
      {
       "output_type": "stream",
       "stream": "stdout",
       "text": [
        "- "
       ]
      },
      {
       "output_type": "stream",
       "stream": "stdout",
       "text": [
        "- "
       ]
      },
      {
       "output_type": "stream",
       "stream": "stdout",
       "text": [
        "- "
       ]
      },
      {
       "output_type": "stream",
       "stream": "stdout",
       "text": [
        "- "
       ]
      },
      {
       "output_type": "stream",
       "stream": "stdout",
       "text": [
        "- "
       ]
      },
      {
       "output_type": "stream",
       "stream": "stdout",
       "text": [
        "- "
       ]
      },
      {
       "output_type": "stream",
       "stream": "stdout",
       "text": [
        "- "
       ]
      },
      {
       "output_type": "stream",
       "stream": "stdout",
       "text": [
        "- "
       ]
      },
      {
       "output_type": "stream",
       "stream": "stdout",
       "text": [
        "- "
       ]
      },
      {
       "output_type": "stream",
       "stream": "stdout",
       "text": [
        "- "
       ]
      },
      {
       "output_type": "stream",
       "stream": "stdout",
       "text": [
        "- "
       ]
      },
      {
       "output_type": "stream",
       "stream": "stdout",
       "text": [
        "- "
       ]
      },
      {
       "output_type": "stream",
       "stream": "stdout",
       "text": [
        "- "
       ]
      },
      {
       "output_type": "stream",
       "stream": "stdout",
       "text": [
        "- "
       ]
      },
      {
       "output_type": "stream",
       "stream": "stdout",
       "text": [
        "- "
       ]
      },
      {
       "output_type": "stream",
       "stream": "stdout",
       "text": [
        "- "
       ]
      },
      {
       "output_type": "stream",
       "stream": "stdout",
       "text": [
        "- "
       ]
      },
      {
       "output_type": "stream",
       "stream": "stdout",
       "text": [
        "- "
       ]
      },
      {
       "output_type": "stream",
       "stream": "stdout",
       "text": [
        "- "
       ]
      },
      {
       "output_type": "stream",
       "stream": "stdout",
       "text": [
        "- "
       ]
      },
      {
       "output_type": "stream",
       "stream": "stdout",
       "text": [
        "- "
       ]
      },
      {
       "output_type": "stream",
       "stream": "stdout",
       "text": [
        "- "
       ]
      },
      {
       "output_type": "stream",
       "stream": "stdout",
       "text": [
        "- "
       ]
      },
      {
       "output_type": "stream",
       "stream": "stdout",
       "text": [
        "- "
       ]
      },
      {
       "output_type": "stream",
       "stream": "stdout",
       "text": [
        "- "
       ]
      },
      {
       "output_type": "stream",
       "stream": "stdout",
       "text": [
        "- "
       ]
      },
      {
       "output_type": "stream",
       "stream": "stdout",
       "text": [
        "- "
       ]
      },
      {
       "output_type": "stream",
       "stream": "stdout",
       "text": [
        "- "
       ]
      },
      {
       "output_type": "stream",
       "stream": "stdout",
       "text": [
        "- "
       ]
      },
      {
       "output_type": "stream",
       "stream": "stdout",
       "text": [
        "- "
       ]
      },
      {
       "output_type": "stream",
       "stream": "stdout",
       "text": [
        "- "
       ]
      },
      {
       "output_type": "stream",
       "stream": "stdout",
       "text": [
        "- "
       ]
      },
      {
       "output_type": "stream",
       "stream": "stdout",
       "text": [
        "- "
       ]
      },
      {
       "output_type": "stream",
       "stream": "stdout",
       "text": [
        "- "
       ]
      },
      {
       "output_type": "stream",
       "stream": "stdout",
       "text": [
        "- "
       ]
      },
      {
       "output_type": "stream",
       "stream": "stdout",
       "text": [
        "- "
       ]
      },
      {
       "output_type": "stream",
       "stream": "stdout",
       "text": [
        "- "
       ]
      },
      {
       "output_type": "stream",
       "stream": "stdout",
       "text": [
        "- "
       ]
      },
      {
       "output_type": "stream",
       "stream": "stdout",
       "text": [
        "- "
       ]
      },
      {
       "output_type": "stream",
       "stream": "stdout",
       "text": [
        "- "
       ]
      },
      {
       "output_type": "stream",
       "stream": "stdout",
       "text": [
        "- "
       ]
      },
      {
       "output_type": "stream",
       "stream": "stdout",
       "text": [
        "- "
       ]
      },
      {
       "output_type": "stream",
       "stream": "stdout",
       "text": [
        "- "
       ]
      },
      {
       "output_type": "stream",
       "stream": "stdout",
       "text": [
        "- "
       ]
      },
      {
       "output_type": "stream",
       "stream": "stdout",
       "text": [
        "- "
       ]
      },
      {
       "output_type": "stream",
       "stream": "stdout",
       "text": [
        "- "
       ]
      },
      {
       "output_type": "stream",
       "stream": "stdout",
       "text": [
        "- "
       ]
      },
      {
       "output_type": "stream",
       "stream": "stdout",
       "text": [
        "- "
       ]
      },
      {
       "output_type": "stream",
       "stream": "stdout",
       "text": [
        "- "
       ]
      },
      {
       "output_type": "stream",
       "stream": "stdout",
       "text": [
        "- "
       ]
      },
      {
       "output_type": "stream",
       "stream": "stdout",
       "text": [
        "- "
       ]
      },
      {
       "output_type": "stream",
       "stream": "stdout",
       "text": [
        "- "
       ]
      },
      {
       "output_type": "stream",
       "stream": "stdout",
       "text": [
        "- "
       ]
      },
      {
       "output_type": "stream",
       "stream": "stdout",
       "text": [
        "- "
       ]
      },
      {
       "output_type": "stream",
       "stream": "stdout",
       "text": [
        "- "
       ]
      },
      {
       "output_type": "stream",
       "stream": "stdout",
       "text": [
        "- "
       ]
      },
      {
       "output_type": "stream",
       "stream": "stdout",
       "text": [
        "- "
       ]
      },
      {
       "output_type": "stream",
       "stream": "stdout",
       "text": [
        "- "
       ]
      },
      {
       "output_type": "stream",
       "stream": "stdout",
       "text": [
        "- "
       ]
      },
      {
       "output_type": "stream",
       "stream": "stdout",
       "text": [
        "- "
       ]
      },
      {
       "output_type": "stream",
       "stream": "stdout",
       "text": [
        "- "
       ]
      },
      {
       "output_type": "stream",
       "stream": "stdout",
       "text": [
        "- "
       ]
      },
      {
       "output_type": "stream",
       "stream": "stdout",
       "text": [
        "- "
       ]
      },
      {
       "output_type": "stream",
       "stream": "stdout",
       "text": [
        "- "
       ]
      },
      {
       "output_type": "stream",
       "stream": "stdout",
       "text": [
        "- "
       ]
      },
      {
       "output_type": "stream",
       "stream": "stdout",
       "text": [
        "- "
       ]
      },
      {
       "output_type": "stream",
       "stream": "stdout",
       "text": [
        "- "
       ]
      },
      {
       "output_type": "stream",
       "stream": "stdout",
       "text": [
        "- "
       ]
      },
      {
       "output_type": "stream",
       "stream": "stdout",
       "text": [
        "- "
       ]
      },
      {
       "output_type": "stream",
       "stream": "stdout",
       "text": [
        "- "
       ]
      },
      {
       "output_type": "stream",
       "stream": "stdout",
       "text": [
        "- "
       ]
      },
      {
       "output_type": "stream",
       "stream": "stdout",
       "text": [
        "- "
       ]
      },
      {
       "output_type": "stream",
       "stream": "stdout",
       "text": [
        "- "
       ]
      },
      {
       "output_type": "stream",
       "stream": "stdout",
       "text": [
        "- "
       ]
      },
      {
       "output_type": "stream",
       "stream": "stdout",
       "text": [
        "- "
       ]
      },
      {
       "output_type": "stream",
       "stream": "stdout",
       "text": [
        "- "
       ]
      },
      {
       "output_type": "stream",
       "stream": "stdout",
       "text": [
        "- "
       ]
      },
      {
       "output_type": "stream",
       "stream": "stdout",
       "text": [
        "- "
       ]
      },
      {
       "output_type": "stream",
       "stream": "stdout",
       "text": [
        "- "
       ]
      },
      {
       "output_type": "stream",
       "stream": "stdout",
       "text": [
        "- "
       ]
      },
      {
       "output_type": "stream",
       "stream": "stdout",
       "text": [
        "- "
       ]
      },
      {
       "output_type": "stream",
       "stream": "stdout",
       "text": [
        "- "
       ]
      },
      {
       "output_type": "stream",
       "stream": "stdout",
       "text": [
        "- "
       ]
      },
      {
       "output_type": "stream",
       "stream": "stdout",
       "text": [
        "- "
       ]
      },
      {
       "output_type": "stream",
       "stream": "stdout",
       "text": [
        "- "
       ]
      },
      {
       "output_type": "stream",
       "stream": "stdout",
       "text": [
        "- "
       ]
      },
      {
       "output_type": "stream",
       "stream": "stdout",
       "text": [
        "- "
       ]
      },
      {
       "output_type": "stream",
       "stream": "stdout",
       "text": [
        "- "
       ]
      },
      {
       "output_type": "stream",
       "stream": "stdout",
       "text": [
        "- "
       ]
      },
      {
       "output_type": "stream",
       "stream": "stdout",
       "text": [
        "- "
       ]
      },
      {
       "output_type": "stream",
       "stream": "stdout",
       "text": [
        "- "
       ]
      },
      {
       "output_type": "stream",
       "stream": "stdout",
       "text": [
        "- "
       ]
      },
      {
       "output_type": "stream",
       "stream": "stdout",
       "text": [
        "- "
       ]
      },
      {
       "output_type": "stream",
       "stream": "stdout",
       "text": [
        "- "
       ]
      },
      {
       "output_type": "stream",
       "stream": "stdout",
       "text": [
        "- "
       ]
      },
      {
       "output_type": "stream",
       "stream": "stdout",
       "text": [
        "- "
       ]
      },
      {
       "output_type": "stream",
       "stream": "stdout",
       "text": [
        "- "
       ]
      },
      {
       "output_type": "stream",
       "stream": "stdout",
       "text": [
        "- "
       ]
      },
      {
       "output_type": "stream",
       "stream": "stdout",
       "text": [
        "Epoch 2 complete\n",
        "- "
       ]
      },
      {
       "output_type": "stream",
       "stream": "stdout",
       "text": [
        "- "
       ]
      },
      {
       "output_type": "stream",
       "stream": "stdout",
       "text": [
        "- "
       ]
      },
      {
       "output_type": "stream",
       "stream": "stdout",
       "text": [
        "- "
       ]
      },
      {
       "output_type": "stream",
       "stream": "stdout",
       "text": [
        "- "
       ]
      },
      {
       "output_type": "stream",
       "stream": "stdout",
       "text": [
        "- "
       ]
      },
      {
       "output_type": "stream",
       "stream": "stdout",
       "text": [
        "- "
       ]
      },
      {
       "output_type": "stream",
       "stream": "stdout",
       "text": [
        "- "
       ]
      },
      {
       "output_type": "stream",
       "stream": "stdout",
       "text": [
        "- "
       ]
      },
      {
       "output_type": "stream",
       "stream": "stdout",
       "text": [
        "- "
       ]
      },
      {
       "output_type": "stream",
       "stream": "stdout",
       "text": [
        "- "
       ]
      },
      {
       "output_type": "stream",
       "stream": "stdout",
       "text": [
        "- "
       ]
      },
      {
       "output_type": "stream",
       "stream": "stdout",
       "text": [
        "- "
       ]
      },
      {
       "output_type": "stream",
       "stream": "stdout",
       "text": [
        "- "
       ]
      },
      {
       "output_type": "stream",
       "stream": "stdout",
       "text": [
        "- "
       ]
      },
      {
       "output_type": "stream",
       "stream": "stdout",
       "text": [
        "- "
       ]
      },
      {
       "output_type": "stream",
       "stream": "stdout",
       "text": [
        "- "
       ]
      },
      {
       "output_type": "stream",
       "stream": "stdout",
       "text": [
        "- "
       ]
      },
      {
       "output_type": "stream",
       "stream": "stdout",
       "text": [
        "- "
       ]
      },
      {
       "output_type": "stream",
       "stream": "stdout",
       "text": [
        "- "
       ]
      },
      {
       "output_type": "stream",
       "stream": "stdout",
       "text": [
        "- "
       ]
      },
      {
       "output_type": "stream",
       "stream": "stdout",
       "text": [
        "- "
       ]
      },
      {
       "output_type": "stream",
       "stream": "stdout",
       "text": [
        "- "
       ]
      },
      {
       "output_type": "stream",
       "stream": "stdout",
       "text": [
        "- "
       ]
      },
      {
       "output_type": "stream",
       "stream": "stdout",
       "text": [
        "- "
       ]
      },
      {
       "output_type": "stream",
       "stream": "stdout",
       "text": [
        "- "
       ]
      },
      {
       "output_type": "stream",
       "stream": "stdout",
       "text": [
        "- "
       ]
      },
      {
       "output_type": "stream",
       "stream": "stdout",
       "text": [
        "- "
       ]
      },
      {
       "output_type": "stream",
       "stream": "stdout",
       "text": [
        "- "
       ]
      },
      {
       "output_type": "stream",
       "stream": "stdout",
       "text": [
        "- "
       ]
      },
      {
       "output_type": "stream",
       "stream": "stdout",
       "text": [
        "- "
       ]
      },
      {
       "output_type": "stream",
       "stream": "stdout",
       "text": [
        "- "
       ]
      },
      {
       "output_type": "stream",
       "stream": "stdout",
       "text": [
        "- "
       ]
      },
      {
       "output_type": "stream",
       "stream": "stdout",
       "text": [
        "- "
       ]
      },
      {
       "output_type": "stream",
       "stream": "stdout",
       "text": [
        "- "
       ]
      },
      {
       "output_type": "stream",
       "stream": "stdout",
       "text": [
        "- "
       ]
      },
      {
       "output_type": "stream",
       "stream": "stdout",
       "text": [
        "- "
       ]
      },
      {
       "output_type": "stream",
       "stream": "stdout",
       "text": [
        "- "
       ]
      },
      {
       "output_type": "stream",
       "stream": "stdout",
       "text": [
        "- "
       ]
      },
      {
       "output_type": "stream",
       "stream": "stdout",
       "text": [
        "- "
       ]
      },
      {
       "output_type": "stream",
       "stream": "stdout",
       "text": [
        "- "
       ]
      },
      {
       "output_type": "stream",
       "stream": "stdout",
       "text": [
        "- "
       ]
      },
      {
       "output_type": "stream",
       "stream": "stdout",
       "text": [
        "- "
       ]
      },
      {
       "output_type": "stream",
       "stream": "stdout",
       "text": [
        "- "
       ]
      },
      {
       "output_type": "stream",
       "stream": "stdout",
       "text": [
        "- "
       ]
      },
      {
       "output_type": "stream",
       "stream": "stdout",
       "text": [
        "- "
       ]
      },
      {
       "output_type": "stream",
       "stream": "stdout",
       "text": [
        "- "
       ]
      },
      {
       "output_type": "stream",
       "stream": "stdout",
       "text": [
        "- "
       ]
      },
      {
       "output_type": "stream",
       "stream": "stdout",
       "text": [
        "- "
       ]
      },
      {
       "output_type": "stream",
       "stream": "stdout",
       "text": [
        "- "
       ]
      },
      {
       "output_type": "stream",
       "stream": "stdout",
       "text": [
        "- "
       ]
      },
      {
       "output_type": "stream",
       "stream": "stdout",
       "text": [
        "- "
       ]
      },
      {
       "output_type": "stream",
       "stream": "stdout",
       "text": [
        "- "
       ]
      },
      {
       "output_type": "stream",
       "stream": "stdout",
       "text": [
        "- "
       ]
      },
      {
       "output_type": "stream",
       "stream": "stdout",
       "text": [
        "- "
       ]
      },
      {
       "output_type": "stream",
       "stream": "stdout",
       "text": [
        "- "
       ]
      },
      {
       "output_type": "stream",
       "stream": "stdout",
       "text": [
        "- "
       ]
      },
      {
       "output_type": "stream",
       "stream": "stdout",
       "text": [
        "- "
       ]
      },
      {
       "output_type": "stream",
       "stream": "stdout",
       "text": [
        "- "
       ]
      },
      {
       "output_type": "stream",
       "stream": "stdout",
       "text": [
        "- "
       ]
      },
      {
       "output_type": "stream",
       "stream": "stdout",
       "text": [
        "- "
       ]
      },
      {
       "output_type": "stream",
       "stream": "stdout",
       "text": [
        "- "
       ]
      },
      {
       "output_type": "stream",
       "stream": "stdout",
       "text": [
        "- "
       ]
      },
      {
       "output_type": "stream",
       "stream": "stdout",
       "text": [
        "- "
       ]
      },
      {
       "output_type": "stream",
       "stream": "stdout",
       "text": [
        "- "
       ]
      },
      {
       "output_type": "stream",
       "stream": "stdout",
       "text": [
        "- "
       ]
      },
      {
       "output_type": "stream",
       "stream": "stdout",
       "text": [
        "- "
       ]
      },
      {
       "output_type": "stream",
       "stream": "stdout",
       "text": [
        "- "
       ]
      },
      {
       "output_type": "stream",
       "stream": "stdout",
       "text": [
        "- "
       ]
      },
      {
       "output_type": "stream",
       "stream": "stdout",
       "text": [
        "- "
       ]
      },
      {
       "output_type": "stream",
       "stream": "stdout",
       "text": [
        "- "
       ]
      },
      {
       "output_type": "stream",
       "stream": "stdout",
       "text": [
        "- "
       ]
      },
      {
       "output_type": "stream",
       "stream": "stdout",
       "text": [
        "- "
       ]
      },
      {
       "output_type": "stream",
       "stream": "stdout",
       "text": [
        "- "
       ]
      },
      {
       "output_type": "stream",
       "stream": "stdout",
       "text": [
        "- "
       ]
      },
      {
       "output_type": "stream",
       "stream": "stdout",
       "text": [
        "- "
       ]
      },
      {
       "output_type": "stream",
       "stream": "stdout",
       "text": [
        "- "
       ]
      },
      {
       "output_type": "stream",
       "stream": "stdout",
       "text": [
        "- "
       ]
      },
      {
       "output_type": "stream",
       "stream": "stdout",
       "text": [
        "- "
       ]
      },
      {
       "output_type": "stream",
       "stream": "stdout",
       "text": [
        "- "
       ]
      },
      {
       "output_type": "stream",
       "stream": "stdout",
       "text": [
        "- "
       ]
      },
      {
       "output_type": "stream",
       "stream": "stdout",
       "text": [
        "- "
       ]
      },
      {
       "output_type": "stream",
       "stream": "stdout",
       "text": [
        "- "
       ]
      },
      {
       "output_type": "stream",
       "stream": "stdout",
       "text": [
        "- "
       ]
      },
      {
       "output_type": "stream",
       "stream": "stdout",
       "text": [
        "- "
       ]
      },
      {
       "output_type": "stream",
       "stream": "stdout",
       "text": [
        "- "
       ]
      },
      {
       "output_type": "stream",
       "stream": "stdout",
       "text": [
        "- "
       ]
      },
      {
       "output_type": "stream",
       "stream": "stdout",
       "text": [
        "- "
       ]
      },
      {
       "output_type": "stream",
       "stream": "stdout",
       "text": [
        "- "
       ]
      },
      {
       "output_type": "stream",
       "stream": "stdout",
       "text": [
        "- "
       ]
      },
      {
       "output_type": "stream",
       "stream": "stdout",
       "text": [
        "- "
       ]
      },
      {
       "output_type": "stream",
       "stream": "stdout",
       "text": [
        "- "
       ]
      },
      {
       "output_type": "stream",
       "stream": "stdout",
       "text": [
        "- "
       ]
      },
      {
       "output_type": "stream",
       "stream": "stdout",
       "text": [
        "- "
       ]
      },
      {
       "output_type": "stream",
       "stream": "stdout",
       "text": [
        "- "
       ]
      },
      {
       "output_type": "stream",
       "stream": "stdout",
       "text": [
        "- "
       ]
      },
      {
       "output_type": "stream",
       "stream": "stdout",
       "text": [
        "- "
       ]
      },
      {
       "output_type": "stream",
       "stream": "stdout",
       "text": [
        "- "
       ]
      },
      {
       "output_type": "stream",
       "stream": "stdout",
       "text": [
        "- "
       ]
      },
      {
       "output_type": "stream",
       "stream": "stdout",
       "text": [
        "- "
       ]
      },
      {
       "output_type": "stream",
       "stream": "stdout",
       "text": [
        "- "
       ]
      },
      {
       "output_type": "stream",
       "stream": "stdout",
       "text": [
        "- "
       ]
      },
      {
       "output_type": "stream",
       "stream": "stdout",
       "text": [
        "- "
       ]
      },
      {
       "output_type": "stream",
       "stream": "stdout",
       "text": [
        "- "
       ]
      },
      {
       "output_type": "stream",
       "stream": "stdout",
       "text": [
        "- "
       ]
      },
      {
       "output_type": "stream",
       "stream": "stdout",
       "text": [
        "- "
       ]
      },
      {
       "output_type": "stream",
       "stream": "stdout",
       "text": [
        "- "
       ]
      },
      {
       "output_type": "stream",
       "stream": "stdout",
       "text": [
        "- "
       ]
      },
      {
       "output_type": "stream",
       "stream": "stdout",
       "text": [
        "- "
       ]
      },
      {
       "output_type": "stream",
       "stream": "stdout",
       "text": [
        "- "
       ]
      },
      {
       "output_type": "stream",
       "stream": "stdout",
       "text": [
        "- "
       ]
      },
      {
       "output_type": "stream",
       "stream": "stdout",
       "text": [
        "- "
       ]
      },
      {
       "output_type": "stream",
       "stream": "stdout",
       "text": [
        "- "
       ]
      },
      {
       "output_type": "stream",
       "stream": "stdout",
       "text": [
        "- "
       ]
      },
      {
       "output_type": "stream",
       "stream": "stdout",
       "text": [
        "- "
       ]
      },
      {
       "output_type": "stream",
       "stream": "stdout",
       "text": [
        "- "
       ]
      },
      {
       "output_type": "stream",
       "stream": "stdout",
       "text": [
        "- "
       ]
      },
      {
       "output_type": "stream",
       "stream": "stdout",
       "text": [
        "- "
       ]
      },
      {
       "output_type": "stream",
       "stream": "stdout",
       "text": [
        "- "
       ]
      },
      {
       "output_type": "stream",
       "stream": "stdout",
       "text": [
        "- "
       ]
      },
      {
       "output_type": "stream",
       "stream": "stdout",
       "text": [
        "- "
       ]
      },
      {
       "output_type": "stream",
       "stream": "stdout",
       "text": [
        "- "
       ]
      },
      {
       "output_type": "stream",
       "stream": "stdout",
       "text": [
        "- "
       ]
      },
      {
       "output_type": "stream",
       "stream": "stdout",
       "text": [
        "- "
       ]
      },
      {
       "output_type": "stream",
       "stream": "stdout",
       "text": [
        "- "
       ]
      },
      {
       "output_type": "stream",
       "stream": "stdout",
       "text": [
        "- "
       ]
      },
      {
       "output_type": "stream",
       "stream": "stdout",
       "text": [
        "- "
       ]
      },
      {
       "output_type": "stream",
       "stream": "stdout",
       "text": [
        "- "
       ]
      },
      {
       "output_type": "stream",
       "stream": "stdout",
       "text": [
        "- "
       ]
      },
      {
       "output_type": "stream",
       "stream": "stdout",
       "text": [
        "- "
       ]
      },
      {
       "output_type": "stream",
       "stream": "stdout",
       "text": [
        "- "
       ]
      },
      {
       "output_type": "stream",
       "stream": "stdout",
       "text": [
        "- "
       ]
      },
      {
       "output_type": "stream",
       "stream": "stdout",
       "text": [
        "- "
       ]
      },
      {
       "output_type": "stream",
       "stream": "stdout",
       "text": [
        "- "
       ]
      },
      {
       "output_type": "stream",
       "stream": "stdout",
       "text": [
        "- "
       ]
      },
      {
       "output_type": "stream",
       "stream": "stdout",
       "text": [
        "- "
       ]
      },
      {
       "output_type": "stream",
       "stream": "stdout",
       "text": [
        "- "
       ]
      },
      {
       "output_type": "stream",
       "stream": "stdout",
       "text": [
        "- "
       ]
      },
      {
       "output_type": "stream",
       "stream": "stdout",
       "text": [
        "- "
       ]
      },
      {
       "output_type": "stream",
       "stream": "stdout",
       "text": [
        "- "
       ]
      },
      {
       "output_type": "stream",
       "stream": "stdout",
       "text": [
        "- "
       ]
      },
      {
       "output_type": "stream",
       "stream": "stdout",
       "text": [
        "- "
       ]
      },
      {
       "output_type": "stream",
       "stream": "stdout",
       "text": [
        "- "
       ]
      },
      {
       "output_type": "stream",
       "stream": "stdout",
       "text": [
        "- "
       ]
      },
      {
       "output_type": "stream",
       "stream": "stdout",
       "text": [
        "- "
       ]
      },
      {
       "output_type": "stream",
       "stream": "stdout",
       "text": [
        "- "
       ]
      },
      {
       "output_type": "stream",
       "stream": "stdout",
       "text": [
        "- "
       ]
      },
      {
       "output_type": "stream",
       "stream": "stdout",
       "text": [
        "- "
       ]
      },
      {
       "output_type": "stream",
       "stream": "stdout",
       "text": [
        "- "
       ]
      },
      {
       "output_type": "stream",
       "stream": "stdout",
       "text": [
        "- "
       ]
      },
      {
       "output_type": "stream",
       "stream": "stdout",
       "text": [
        "- "
       ]
      },
      {
       "output_type": "stream",
       "stream": "stdout",
       "text": [
        "- "
       ]
      },
      {
       "output_type": "stream",
       "stream": "stdout",
       "text": [
        "- "
       ]
      },
      {
       "output_type": "stream",
       "stream": "stdout",
       "text": [
        "- "
       ]
      },
      {
       "output_type": "stream",
       "stream": "stdout",
       "text": [
        "- "
       ]
      },
      {
       "output_type": "stream",
       "stream": "stdout",
       "text": [
        "- "
       ]
      },
      {
       "output_type": "stream",
       "stream": "stdout",
       "text": [
        "- "
       ]
      },
      {
       "output_type": "stream",
       "stream": "stdout",
       "text": [
        "- "
       ]
      },
      {
       "output_type": "stream",
       "stream": "stdout",
       "text": [
        "- "
       ]
      },
      {
       "output_type": "stream",
       "stream": "stdout",
       "text": [
        "- "
       ]
      },
      {
       "output_type": "stream",
       "stream": "stdout",
       "text": [
        "- "
       ]
      },
      {
       "output_type": "stream",
       "stream": "stdout",
       "text": [
        "- "
       ]
      },
      {
       "output_type": "stream",
       "stream": "stdout",
       "text": [
        "- "
       ]
      },
      {
       "output_type": "stream",
       "stream": "stdout",
       "text": [
        "- "
       ]
      },
      {
       "output_type": "stream",
       "stream": "stdout",
       "text": [
        "- "
       ]
      },
      {
       "output_type": "stream",
       "stream": "stdout",
       "text": [
        "- "
       ]
      },
      {
       "output_type": "stream",
       "stream": "stdout",
       "text": [
        "- "
       ]
      },
      {
       "output_type": "stream",
       "stream": "stdout",
       "text": [
        "- "
       ]
      },
      {
       "output_type": "stream",
       "stream": "stdout",
       "text": [
        "- "
       ]
      },
      {
       "output_type": "stream",
       "stream": "stdout",
       "text": [
        "- "
       ]
      },
      {
       "output_type": "stream",
       "stream": "stdout",
       "text": [
        "- "
       ]
      },
      {
       "output_type": "stream",
       "stream": "stdout",
       "text": [
        "- "
       ]
      },
      {
       "output_type": "stream",
       "stream": "stdout",
       "text": [
        "- "
       ]
      },
      {
       "output_type": "stream",
       "stream": "stdout",
       "text": [
        "- "
       ]
      },
      {
       "output_type": "stream",
       "stream": "stdout",
       "text": [
        "- "
       ]
      },
      {
       "output_type": "stream",
       "stream": "stdout",
       "text": [
        "- "
       ]
      },
      {
       "output_type": "stream",
       "stream": "stdout",
       "text": [
        "- "
       ]
      },
      {
       "output_type": "stream",
       "stream": "stdout",
       "text": [
        "- "
       ]
      },
      {
       "output_type": "stream",
       "stream": "stdout",
       "text": [
        "- "
       ]
      },
      {
       "output_type": "stream",
       "stream": "stdout",
       "text": [
        "- "
       ]
      },
      {
       "output_type": "stream",
       "stream": "stdout",
       "text": [
        "- "
       ]
      },
      {
       "output_type": "stream",
       "stream": "stdout",
       "text": [
        "- "
       ]
      },
      {
       "output_type": "stream",
       "stream": "stdout",
       "text": [
        "- "
       ]
      },
      {
       "output_type": "stream",
       "stream": "stdout",
       "text": [
        "- "
       ]
      },
      {
       "output_type": "stream",
       "stream": "stdout",
       "text": [
        "- "
       ]
      },
      {
       "output_type": "stream",
       "stream": "stdout",
       "text": [
        "- "
       ]
      },
      {
       "output_type": "stream",
       "stream": "stdout",
       "text": [
        "- "
       ]
      },
      {
       "output_type": "stream",
       "stream": "stdout",
       "text": [
        "- "
       ]
      },
      {
       "output_type": "stream",
       "stream": "stdout",
       "text": [
        "- "
       ]
      },
      {
       "output_type": "stream",
       "stream": "stdout",
       "text": [
        "- "
       ]
      },
      {
       "output_type": "stream",
       "stream": "stdout",
       "text": [
        "- "
       ]
      },
      {
       "output_type": "stream",
       "stream": "stdout",
       "text": [
        "- "
       ]
      },
      {
       "output_type": "stream",
       "stream": "stdout",
       "text": [
        "- "
       ]
      },
      {
       "output_type": "stream",
       "stream": "stdout",
       "text": [
        "- "
       ]
      },
      {
       "output_type": "stream",
       "stream": "stdout",
       "text": [
        "- "
       ]
      },
      {
       "output_type": "stream",
       "stream": "stdout",
       "text": [
        "- "
       ]
      },
      {
       "output_type": "stream",
       "stream": "stdout",
       "text": [
        "- "
       ]
      },
      {
       "output_type": "stream",
       "stream": "stdout",
       "text": [
        "- "
       ]
      },
      {
       "output_type": "stream",
       "stream": "stdout",
       "text": [
        "- "
       ]
      },
      {
       "output_type": "stream",
       "stream": "stdout",
       "text": [
        "- "
       ]
      },
      {
       "output_type": "stream",
       "stream": "stdout",
       "text": [
        "- "
       ]
      },
      {
       "output_type": "stream",
       "stream": "stdout",
       "text": [
        "- "
       ]
      },
      {
       "output_type": "stream",
       "stream": "stdout",
       "text": [
        "- "
       ]
      },
      {
       "output_type": "stream",
       "stream": "stdout",
       "text": [
        "- "
       ]
      },
      {
       "output_type": "stream",
       "stream": "stdout",
       "text": [
        "- "
       ]
      },
      {
       "output_type": "stream",
       "stream": "stdout",
       "text": [
        "- "
       ]
      },
      {
       "output_type": "stream",
       "stream": "stdout",
       "text": [
        "- "
       ]
      },
      {
       "output_type": "stream",
       "stream": "stdout",
       "text": [
        "- "
       ]
      },
      {
       "output_type": "stream",
       "stream": "stdout",
       "text": [
        "- "
       ]
      },
      {
       "output_type": "stream",
       "stream": "stdout",
       "text": [
        "- "
       ]
      },
      {
       "output_type": "stream",
       "stream": "stdout",
       "text": [
        "- "
       ]
      },
      {
       "output_type": "stream",
       "stream": "stdout",
       "text": [
        "- "
       ]
      },
      {
       "output_type": "stream",
       "stream": "stdout",
       "text": [
        "- "
       ]
      },
      {
       "output_type": "stream",
       "stream": "stdout",
       "text": [
        "- "
       ]
      },
      {
       "output_type": "stream",
       "stream": "stdout",
       "text": [
        "- "
       ]
      },
      {
       "output_type": "stream",
       "stream": "stdout",
       "text": [
        "- "
       ]
      },
      {
       "output_type": "stream",
       "stream": "stdout",
       "text": [
        "- "
       ]
      },
      {
       "output_type": "stream",
       "stream": "stdout",
       "text": [
        "- "
       ]
      },
      {
       "output_type": "stream",
       "stream": "stdout",
       "text": [
        "- "
       ]
      },
      {
       "output_type": "stream",
       "stream": "stdout",
       "text": [
        "- "
       ]
      },
      {
       "output_type": "stream",
       "stream": "stdout",
       "text": [
        "- "
       ]
      },
      {
       "output_type": "stream",
       "stream": "stdout",
       "text": [
        "- "
       ]
      },
      {
       "output_type": "stream",
       "stream": "stdout",
       "text": [
        "- "
       ]
      },
      {
       "output_type": "stream",
       "stream": "stdout",
       "text": [
        "- "
       ]
      },
      {
       "output_type": "stream",
       "stream": "stdout",
       "text": [
        "- "
       ]
      },
      {
       "output_type": "stream",
       "stream": "stdout",
       "text": [
        "- "
       ]
      },
      {
       "output_type": "stream",
       "stream": "stdout",
       "text": [
        "- "
       ]
      },
      {
       "output_type": "stream",
       "stream": "stdout",
       "text": [
        "- "
       ]
      },
      {
       "output_type": "stream",
       "stream": "stdout",
       "text": [
        "- "
       ]
      },
      {
       "output_type": "stream",
       "stream": "stdout",
       "text": [
        "- "
       ]
      },
      {
       "output_type": "stream",
       "stream": "stdout",
       "text": [
        "- "
       ]
      },
      {
       "output_type": "stream",
       "stream": "stdout",
       "text": [
        "- "
       ]
      },
      {
       "output_type": "stream",
       "stream": "stdout",
       "text": [
        "- "
       ]
      },
      {
       "output_type": "stream",
       "stream": "stdout",
       "text": [
        "- "
       ]
      },
      {
       "output_type": "stream",
       "stream": "stdout",
       "text": [
        "- "
       ]
      },
      {
       "output_type": "stream",
       "stream": "stdout",
       "text": [
        "- "
       ]
      },
      {
       "output_type": "stream",
       "stream": "stdout",
       "text": [
        "- "
       ]
      },
      {
       "output_type": "stream",
       "stream": "stdout",
       "text": [
        "- "
       ]
      },
      {
       "output_type": "stream",
       "stream": "stdout",
       "text": [
        "- "
       ]
      },
      {
       "output_type": "stream",
       "stream": "stdout",
       "text": [
        "- "
       ]
      },
      {
       "output_type": "stream",
       "stream": "stdout",
       "text": [
        "- "
       ]
      },
      {
       "output_type": "stream",
       "stream": "stdout",
       "text": [
        "- "
       ]
      },
      {
       "output_type": "stream",
       "stream": "stdout",
       "text": [
        "- "
       ]
      },
      {
       "output_type": "stream",
       "stream": "stdout",
       "text": [
        "- "
       ]
      },
      {
       "output_type": "stream",
       "stream": "stdout",
       "text": [
        "- "
       ]
      },
      {
       "output_type": "stream",
       "stream": "stdout",
       "text": [
        "- "
       ]
      },
      {
       "output_type": "stream",
       "stream": "stdout",
       "text": [
        "- "
       ]
      },
      {
       "output_type": "stream",
       "stream": "stdout",
       "text": [
        "- "
       ]
      },
      {
       "output_type": "stream",
       "stream": "stdout",
       "text": [
        "- "
       ]
      },
      {
       "output_type": "stream",
       "stream": "stdout",
       "text": [
        "- "
       ]
      },
      {
       "output_type": "stream",
       "stream": "stdout",
       "text": [
        "- "
       ]
      },
      {
       "output_type": "stream",
       "stream": "stdout",
       "text": [
        "- "
       ]
      },
      {
       "output_type": "stream",
       "stream": "stdout",
       "text": [
        "- "
       ]
      },
      {
       "output_type": "stream",
       "stream": "stdout",
       "text": [
        "- "
       ]
      },
      {
       "output_type": "stream",
       "stream": "stdout",
       "text": [
        "- "
       ]
      },
      {
       "output_type": "stream",
       "stream": "stdout",
       "text": [
        "- "
       ]
      },
      {
       "output_type": "stream",
       "stream": "stdout",
       "text": [
        "- "
       ]
      },
      {
       "output_type": "stream",
       "stream": "stdout",
       "text": [
        "- "
       ]
      },
      {
       "output_type": "stream",
       "stream": "stdout",
       "text": [
        "- "
       ]
      },
      {
       "output_type": "stream",
       "stream": "stdout",
       "text": [
        "- "
       ]
      },
      {
       "output_type": "stream",
       "stream": "stdout",
       "text": [
        "- "
       ]
      },
      {
       "output_type": "stream",
       "stream": "stdout",
       "text": [
        "- "
       ]
      },
      {
       "output_type": "stream",
       "stream": "stdout",
       "text": [
        "- "
       ]
      },
      {
       "output_type": "stream",
       "stream": "stdout",
       "text": [
        "- "
       ]
      },
      {
       "output_type": "stream",
       "stream": "stdout",
       "text": [
        "- "
       ]
      },
      {
       "output_type": "stream",
       "stream": "stdout",
       "text": [
        "- "
       ]
      },
      {
       "output_type": "stream",
       "stream": "stdout",
       "text": [
        "- "
       ]
      },
      {
       "output_type": "stream",
       "stream": "stdout",
       "text": [
        "- "
       ]
      },
      {
       "output_type": "stream",
       "stream": "stdout",
       "text": [
        "- "
       ]
      },
      {
       "output_type": "stream",
       "stream": "stdout",
       "text": [
        "- "
       ]
      },
      {
       "output_type": "stream",
       "stream": "stdout",
       "text": [
        "- "
       ]
      },
      {
       "output_type": "stream",
       "stream": "stdout",
       "text": [
        "- "
       ]
      },
      {
       "output_type": "stream",
       "stream": "stdout",
       "text": [
        "- "
       ]
      },
      {
       "output_type": "stream",
       "stream": "stdout",
       "text": [
        "- "
       ]
      },
      {
       "output_type": "stream",
       "stream": "stdout",
       "text": [
        "- "
       ]
      },
      {
       "output_type": "stream",
       "stream": "stdout",
       "text": [
        "- "
       ]
      },
      {
       "output_type": "stream",
       "stream": "stdout",
       "text": [
        "- "
       ]
      },
      {
       "output_type": "stream",
       "stream": "stdout",
       "text": [
        "- "
       ]
      },
      {
       "output_type": "stream",
       "stream": "stdout",
       "text": [
        "- "
       ]
      },
      {
       "output_type": "stream",
       "stream": "stdout",
       "text": [
        "- "
       ]
      },
      {
       "output_type": "stream",
       "stream": "stdout",
       "text": [
        "- "
       ]
      },
      {
       "output_type": "stream",
       "stream": "stdout",
       "text": [
        "- "
       ]
      },
      {
       "output_type": "stream",
       "stream": "stdout",
       "text": [
        "- "
       ]
      },
      {
       "output_type": "stream",
       "stream": "stdout",
       "text": [
        "- "
       ]
      },
      {
       "output_type": "stream",
       "stream": "stdout",
       "text": [
        "- "
       ]
      },
      {
       "output_type": "stream",
       "stream": "stdout",
       "text": [
        "- "
       ]
      },
      {
       "output_type": "stream",
       "stream": "stdout",
       "text": [
        "- "
       ]
      },
      {
       "output_type": "stream",
       "stream": "stdout",
       "text": [
        "- "
       ]
      },
      {
       "output_type": "stream",
       "stream": "stdout",
       "text": [
        "- "
       ]
      },
      {
       "output_type": "stream",
       "stream": "stdout",
       "text": [
        "- "
       ]
      },
      {
       "output_type": "stream",
       "stream": "stdout",
       "text": [
        "- "
       ]
      },
      {
       "output_type": "stream",
       "stream": "stdout",
       "text": [
        "- "
       ]
      },
      {
       "output_type": "stream",
       "stream": "stdout",
       "text": [
        "- "
       ]
      },
      {
       "output_type": "stream",
       "stream": "stdout",
       "text": [
        "- "
       ]
      },
      {
       "output_type": "stream",
       "stream": "stdout",
       "text": [
        "- "
       ]
      },
      {
       "output_type": "stream",
       "stream": "stdout",
       "text": [
        "- "
       ]
      },
      {
       "output_type": "stream",
       "stream": "stdout",
       "text": [
        "- "
       ]
      },
      {
       "output_type": "stream",
       "stream": "stdout",
       "text": [
        "- "
       ]
      },
      {
       "output_type": "stream",
       "stream": "stdout",
       "text": [
        "- "
       ]
      },
      {
       "output_type": "stream",
       "stream": "stdout",
       "text": [
        "- "
       ]
      },
      {
       "output_type": "stream",
       "stream": "stdout",
       "text": [
        "- "
       ]
      },
      {
       "output_type": "stream",
       "stream": "stdout",
       "text": [
        "- "
       ]
      },
      {
       "output_type": "stream",
       "stream": "stdout",
       "text": [
        "- "
       ]
      },
      {
       "output_type": "stream",
       "stream": "stdout",
       "text": [
        "- "
       ]
      },
      {
       "output_type": "stream",
       "stream": "stdout",
       "text": [
        "- "
       ]
      },
      {
       "output_type": "stream",
       "stream": "stdout",
       "text": [
        "- "
       ]
      },
      {
       "output_type": "stream",
       "stream": "stdout",
       "text": [
        "- "
       ]
      },
      {
       "output_type": "stream",
       "stream": "stdout",
       "text": [
        "- "
       ]
      },
      {
       "output_type": "stream",
       "stream": "stdout",
       "text": [
        "- "
       ]
      },
      {
       "output_type": "stream",
       "stream": "stdout",
       "text": [
        "- "
       ]
      },
      {
       "output_type": "stream",
       "stream": "stdout",
       "text": [
        "- "
       ]
      },
      {
       "output_type": "stream",
       "stream": "stdout",
       "text": [
        "- "
       ]
      },
      {
       "output_type": "stream",
       "stream": "stdout",
       "text": [
        "- "
       ]
      },
      {
       "output_type": "stream",
       "stream": "stdout",
       "text": [
        "- "
       ]
      },
      {
       "output_type": "stream",
       "stream": "stdout",
       "text": [
        "- "
       ]
      },
      {
       "output_type": "stream",
       "stream": "stdout",
       "text": [
        "- "
       ]
      },
      {
       "output_type": "stream",
       "stream": "stdout",
       "text": [
        "- "
       ]
      },
      {
       "output_type": "stream",
       "stream": "stdout",
       "text": [
        "- "
       ]
      },
      {
       "output_type": "stream",
       "stream": "stdout",
       "text": [
        "- "
       ]
      },
      {
       "output_type": "stream",
       "stream": "stdout",
       "text": [
        "- "
       ]
      },
      {
       "output_type": "stream",
       "stream": "stdout",
       "text": [
        "- "
       ]
      },
      {
       "output_type": "stream",
       "stream": "stdout",
       "text": [
        "- "
       ]
      },
      {
       "output_type": "stream",
       "stream": "stdout",
       "text": [
        "- "
       ]
      },
      {
       "output_type": "stream",
       "stream": "stdout",
       "text": [
        "- "
       ]
      },
      {
       "output_type": "stream",
       "stream": "stdout",
       "text": [
        "- "
       ]
      },
      {
       "output_type": "stream",
       "stream": "stdout",
       "text": [
        "- "
       ]
      },
      {
       "output_type": "stream",
       "stream": "stdout",
       "text": [
        "- "
       ]
      },
      {
       "output_type": "stream",
       "stream": "stdout",
       "text": [
        "- "
       ]
      },
      {
       "output_type": "stream",
       "stream": "stdout",
       "text": [
        "- "
       ]
      },
      {
       "output_type": "stream",
       "stream": "stdout",
       "text": [
        "- "
       ]
      },
      {
       "output_type": "stream",
       "stream": "stdout",
       "text": [
        "- "
       ]
      },
      {
       "output_type": "stream",
       "stream": "stdout",
       "text": [
        "- "
       ]
      },
      {
       "output_type": "stream",
       "stream": "stdout",
       "text": [
        "- "
       ]
      },
      {
       "output_type": "stream",
       "stream": "stdout",
       "text": [
        "- "
       ]
      },
      {
       "output_type": "stream",
       "stream": "stdout",
       "text": [
        "- "
       ]
      },
      {
       "output_type": "stream",
       "stream": "stdout",
       "text": [
        "- "
       ]
      },
      {
       "output_type": "stream",
       "stream": "stdout",
       "text": [
        "- "
       ]
      },
      {
       "output_type": "stream",
       "stream": "stdout",
       "text": [
        "- "
       ]
      },
      {
       "output_type": "stream",
       "stream": "stdout",
       "text": [
        "- "
       ]
      },
      {
       "output_type": "stream",
       "stream": "stdout",
       "text": [
        "- "
       ]
      },
      {
       "output_type": "stream",
       "stream": "stdout",
       "text": [
        "- "
       ]
      },
      {
       "output_type": "stream",
       "stream": "stdout",
       "text": [
        "- "
       ]
      },
      {
       "output_type": "stream",
       "stream": "stdout",
       "text": [
        "- "
       ]
      },
      {
       "output_type": "stream",
       "stream": "stdout",
       "text": [
        "- "
       ]
      },
      {
       "output_type": "stream",
       "stream": "stdout",
       "text": [
        "- "
       ]
      },
      {
       "output_type": "stream",
       "stream": "stdout",
       "text": [
        "- "
       ]
      },
      {
       "output_type": "stream",
       "stream": "stdout",
       "text": [
        "- "
       ]
      },
      {
       "output_type": "stream",
       "stream": "stdout",
       "text": [
        "- "
       ]
      },
      {
       "output_type": "stream",
       "stream": "stdout",
       "text": [
        "- "
       ]
      },
      {
       "output_type": "stream",
       "stream": "stdout",
       "text": [
        "- "
       ]
      },
      {
       "output_type": "stream",
       "stream": "stdout",
       "text": [
        "- "
       ]
      },
      {
       "output_type": "stream",
       "stream": "stdout",
       "text": [
        "- "
       ]
      },
      {
       "output_type": "stream",
       "stream": "stdout",
       "text": [
        "- "
       ]
      },
      {
       "output_type": "stream",
       "stream": "stdout",
       "text": [
        "- "
       ]
      },
      {
       "output_type": "stream",
       "stream": "stdout",
       "text": [
        "- "
       ]
      },
      {
       "output_type": "stream",
       "stream": "stdout",
       "text": [
        "- "
       ]
      },
      {
       "output_type": "stream",
       "stream": "stdout",
       "text": [
        "- "
       ]
      },
      {
       "output_type": "stream",
       "stream": "stdout",
       "text": [
        "- "
       ]
      },
      {
       "output_type": "stream",
       "stream": "stdout",
       "text": [
        "- "
       ]
      },
      {
       "output_type": "stream",
       "stream": "stdout",
       "text": [
        "- "
       ]
      },
      {
       "output_type": "stream",
       "stream": "stdout",
       "text": [
        "- "
       ]
      },
      {
       "output_type": "stream",
       "stream": "stdout",
       "text": [
        "- "
       ]
      },
      {
       "output_type": "stream",
       "stream": "stdout",
       "text": [
        "- "
       ]
      },
      {
       "output_type": "stream",
       "stream": "stdout",
       "text": [
        "- "
       ]
      },
      {
       "output_type": "stream",
       "stream": "stdout",
       "text": [
        "- "
       ]
      },
      {
       "output_type": "stream",
       "stream": "stdout",
       "text": [
        "- "
       ]
      },
      {
       "output_type": "stream",
       "stream": "stdout",
       "text": [
        "- "
       ]
      },
      {
       "output_type": "stream",
       "stream": "stdout",
       "text": [
        "- "
       ]
      },
      {
       "output_type": "stream",
       "stream": "stdout",
       "text": [
        "- "
       ]
      },
      {
       "output_type": "stream",
       "stream": "stdout",
       "text": [
        "- "
       ]
      },
      {
       "output_type": "stream",
       "stream": "stdout",
       "text": [
        "- "
       ]
      },
      {
       "output_type": "stream",
       "stream": "stdout",
       "text": [
        "- "
       ]
      },
      {
       "output_type": "stream",
       "stream": "stdout",
       "text": [
        "- "
       ]
      },
      {
       "output_type": "stream",
       "stream": "stdout",
       "text": [
        "- "
       ]
      },
      {
       "output_type": "stream",
       "stream": "stdout",
       "text": [
        "- "
       ]
      },
      {
       "output_type": "stream",
       "stream": "stdout",
       "text": [
        "- "
       ]
      },
      {
       "output_type": "stream",
       "stream": "stdout",
       "text": [
        "- "
       ]
      },
      {
       "output_type": "stream",
       "stream": "stdout",
       "text": [
        "- "
       ]
      },
      {
       "output_type": "stream",
       "stream": "stdout",
       "text": [
        "- "
       ]
      },
      {
       "output_type": "stream",
       "stream": "stdout",
       "text": [
        "- "
       ]
      },
      {
       "output_type": "stream",
       "stream": "stdout",
       "text": [
        "- "
       ]
      },
      {
       "output_type": "stream",
       "stream": "stdout",
       "text": [
        "- "
       ]
      },
      {
       "output_type": "stream",
       "stream": "stdout",
       "text": [
        "- "
       ]
      },
      {
       "output_type": "stream",
       "stream": "stdout",
       "text": [
        "- "
       ]
      },
      {
       "output_type": "stream",
       "stream": "stdout",
       "text": [
        "- "
       ]
      },
      {
       "output_type": "stream",
       "stream": "stdout",
       "text": [
        "- "
       ]
      },
      {
       "output_type": "stream",
       "stream": "stdout",
       "text": [
        "- "
       ]
      },
      {
       "output_type": "stream",
       "stream": "stdout",
       "text": [
        "- "
       ]
      },
      {
       "output_type": "stream",
       "stream": "stdout",
       "text": [
        "- "
       ]
      },
      {
       "output_type": "stream",
       "stream": "stdout",
       "text": [
        "- "
       ]
      },
      {
       "output_type": "stream",
       "stream": "stdout",
       "text": [
        "- "
       ]
      },
      {
       "output_type": "stream",
       "stream": "stdout",
       "text": [
        "- "
       ]
      },
      {
       "output_type": "stream",
       "stream": "stdout",
       "text": [
        "- "
       ]
      },
      {
       "output_type": "stream",
       "stream": "stdout",
       "text": [
        "- "
       ]
      },
      {
       "output_type": "stream",
       "stream": "stdout",
       "text": [
        "- "
       ]
      },
      {
       "output_type": "stream",
       "stream": "stdout",
       "text": [
        "- "
       ]
      },
      {
       "output_type": "stream",
       "stream": "stdout",
       "text": [
        "- "
       ]
      },
      {
       "output_type": "stream",
       "stream": "stdout",
       "text": [
        "- "
       ]
      },
      {
       "output_type": "stream",
       "stream": "stdout",
       "text": [
        "- "
       ]
      },
      {
       "output_type": "stream",
       "stream": "stdout",
       "text": [
        "- "
       ]
      },
      {
       "output_type": "stream",
       "stream": "stdout",
       "text": [
        "- "
       ]
      },
      {
       "output_type": "stream",
       "stream": "stdout",
       "text": [
        "- "
       ]
      },
      {
       "output_type": "stream",
       "stream": "stdout",
       "text": [
        "- "
       ]
      },
      {
       "output_type": "stream",
       "stream": "stdout",
       "text": [
        "- "
       ]
      },
      {
       "output_type": "stream",
       "stream": "stdout",
       "text": [
        "- "
       ]
      },
      {
       "output_type": "stream",
       "stream": "stdout",
       "text": [
        "- "
       ]
      },
      {
       "output_type": "stream",
       "stream": "stdout",
       "text": [
        "- "
       ]
      },
      {
       "output_type": "stream",
       "stream": "stdout",
       "text": [
        "- "
       ]
      },
      {
       "output_type": "stream",
       "stream": "stdout",
       "text": [
        "- "
       ]
      },
      {
       "output_type": "stream",
       "stream": "stdout",
       "text": [
        "- "
       ]
      },
      {
       "output_type": "stream",
       "stream": "stdout",
       "text": [
        "- "
       ]
      },
      {
       "output_type": "stream",
       "stream": "stdout",
       "text": [
        "- "
       ]
      },
      {
       "output_type": "stream",
       "stream": "stdout",
       "text": [
        "- "
       ]
      },
      {
       "output_type": "stream",
       "stream": "stdout",
       "text": [
        "- "
       ]
      },
      {
       "output_type": "stream",
       "stream": "stdout",
       "text": [
        "- "
       ]
      },
      {
       "output_type": "stream",
       "stream": "stdout",
       "text": [
        "- "
       ]
      },
      {
       "output_type": "stream",
       "stream": "stdout",
       "text": [
        "- "
       ]
      },
      {
       "output_type": "stream",
       "stream": "stdout",
       "text": [
        "- "
       ]
      },
      {
       "output_type": "stream",
       "stream": "stdout",
       "text": [
        "- "
       ]
      },
      {
       "output_type": "stream",
       "stream": "stdout",
       "text": [
        "- "
       ]
      },
      {
       "output_type": "stream",
       "stream": "stdout",
       "text": [
        "- "
       ]
      },
      {
       "output_type": "stream",
       "stream": "stdout",
       "text": [
        "- "
       ]
      },
      {
       "output_type": "stream",
       "stream": "stdout",
       "text": [
        "- "
       ]
      },
      {
       "output_type": "stream",
       "stream": "stdout",
       "text": [
        "- "
       ]
      },
      {
       "output_type": "stream",
       "stream": "stdout",
       "text": [
        "- "
       ]
      },
      {
       "output_type": "stream",
       "stream": "stdout",
       "text": [
        "- "
       ]
      },
      {
       "output_type": "stream",
       "stream": "stdout",
       "text": [
        "- "
       ]
      },
      {
       "output_type": "stream",
       "stream": "stdout",
       "text": [
        "- "
       ]
      },
      {
       "output_type": "stream",
       "stream": "stdout",
       "text": [
        "- "
       ]
      },
      {
       "output_type": "stream",
       "stream": "stdout",
       "text": [
        "- "
       ]
      },
      {
       "output_type": "stream",
       "stream": "stdout",
       "text": [
        "- "
       ]
      },
      {
       "output_type": "stream",
       "stream": "stdout",
       "text": [
        "- "
       ]
      },
      {
       "output_type": "stream",
       "stream": "stdout",
       "text": [
        "- "
       ]
      },
      {
       "output_type": "stream",
       "stream": "stdout",
       "text": [
        "- "
       ]
      },
      {
       "output_type": "stream",
       "stream": "stdout",
       "text": [
        "- "
       ]
      },
      {
       "output_type": "stream",
       "stream": "stdout",
       "text": [
        "- "
       ]
      },
      {
       "output_type": "stream",
       "stream": "stdout",
       "text": [
        "- "
       ]
      },
      {
       "output_type": "stream",
       "stream": "stdout",
       "text": [
        "- "
       ]
      },
      {
       "output_type": "stream",
       "stream": "stdout",
       "text": [
        "- "
       ]
      },
      {
       "output_type": "stream",
       "stream": "stdout",
       "text": [
        "- "
       ]
      },
      {
       "output_type": "stream",
       "stream": "stdout",
       "text": [
        "- "
       ]
      },
      {
       "output_type": "stream",
       "stream": "stdout",
       "text": [
        "- "
       ]
      },
      {
       "output_type": "stream",
       "stream": "stdout",
       "text": [
        "- "
       ]
      },
      {
       "output_type": "stream",
       "stream": "stdout",
       "text": [
        "- "
       ]
      },
      {
       "output_type": "stream",
       "stream": "stdout",
       "text": [
        "- "
       ]
      },
      {
       "output_type": "stream",
       "stream": "stdout",
       "text": [
        "- "
       ]
      },
      {
       "output_type": "stream",
       "stream": "stdout",
       "text": [
        "- "
       ]
      },
      {
       "output_type": "stream",
       "stream": "stdout",
       "text": [
        "- "
       ]
      },
      {
       "output_type": "stream",
       "stream": "stdout",
       "text": [
        "- "
       ]
      },
      {
       "output_type": "stream",
       "stream": "stdout",
       "text": [
        "- "
       ]
      },
      {
       "output_type": "stream",
       "stream": "stdout",
       "text": [
        "- "
       ]
      },
      {
       "output_type": "stream",
       "stream": "stdout",
       "text": [
        "- "
       ]
      },
      {
       "output_type": "stream",
       "stream": "stdout",
       "text": [
        "- "
       ]
      },
      {
       "output_type": "stream",
       "stream": "stdout",
       "text": [
        "- "
       ]
      },
      {
       "output_type": "stream",
       "stream": "stdout",
       "text": [
        "- "
       ]
      },
      {
       "output_type": "stream",
       "stream": "stdout",
       "text": [
        "- "
       ]
      },
      {
       "output_type": "stream",
       "stream": "stdout",
       "text": [
        "- "
       ]
      },
      {
       "output_type": "stream",
       "stream": "stdout",
       "text": [
        "- "
       ]
      },
      {
       "output_type": "stream",
       "stream": "stdout",
       "text": [
        "- "
       ]
      },
      {
       "output_type": "stream",
       "stream": "stdout",
       "text": [
        "- "
       ]
      },
      {
       "output_type": "stream",
       "stream": "stdout",
       "text": [
        "- "
       ]
      },
      {
       "output_type": "stream",
       "stream": "stdout",
       "text": [
        "- "
       ]
      },
      {
       "output_type": "stream",
       "stream": "stdout",
       "text": [
        "- "
       ]
      },
      {
       "output_type": "stream",
       "stream": "stdout",
       "text": [
        "- "
       ]
      },
      {
       "output_type": "stream",
       "stream": "stdout",
       "text": [
        "- "
       ]
      },
      {
       "output_type": "stream",
       "stream": "stdout",
       "text": [
        "- "
       ]
      },
      {
       "output_type": "stream",
       "stream": "stdout",
       "text": [
        "- "
       ]
      },
      {
       "output_type": "stream",
       "stream": "stdout",
       "text": [
        "- "
       ]
      },
      {
       "output_type": "stream",
       "stream": "stdout",
       "text": [
        "- "
       ]
      },
      {
       "output_type": "stream",
       "stream": "stdout",
       "text": [
        "- "
       ]
      },
      {
       "output_type": "stream",
       "stream": "stdout",
       "text": [
        "- "
       ]
      },
      {
       "output_type": "stream",
       "stream": "stdout",
       "text": [
        "- "
       ]
      },
      {
       "output_type": "stream",
       "stream": "stdout",
       "text": [
        "- "
       ]
      },
      {
       "output_type": "stream",
       "stream": "stdout",
       "text": [
        "- "
       ]
      },
      {
       "output_type": "stream",
       "stream": "stdout",
       "text": [
        "- "
       ]
      },
      {
       "output_type": "stream",
       "stream": "stdout",
       "text": [
        "- "
       ]
      },
      {
       "output_type": "stream",
       "stream": "stdout",
       "text": [
        "- "
       ]
      },
      {
       "output_type": "stream",
       "stream": "stdout",
       "text": [
        "- "
       ]
      },
      {
       "output_type": "stream",
       "stream": "stdout",
       "text": [
        "- "
       ]
      },
      {
       "output_type": "stream",
       "stream": "stdout",
       "text": [
        "- "
       ]
      },
      {
       "output_type": "stream",
       "stream": "stdout",
       "text": [
        "- "
       ]
      },
      {
       "output_type": "stream",
       "stream": "stdout",
       "text": [
        "- "
       ]
      },
      {
       "output_type": "stream",
       "stream": "stdout",
       "text": [
        "- "
       ]
      },
      {
       "output_type": "stream",
       "stream": "stdout",
       "text": [
        "- "
       ]
      },
      {
       "output_type": "stream",
       "stream": "stdout",
       "text": [
        "- "
       ]
      },
      {
       "output_type": "stream",
       "stream": "stdout",
       "text": [
        "- "
       ]
      },
      {
       "output_type": "stream",
       "stream": "stdout",
       "text": [
        "- "
       ]
      },
      {
       "output_type": "stream",
       "stream": "stdout",
       "text": [
        "- "
       ]
      },
      {
       "output_type": "stream",
       "stream": "stdout",
       "text": [
        "- "
       ]
      },
      {
       "output_type": "stream",
       "stream": "stdout",
       "text": [
        "- "
       ]
      },
      {
       "output_type": "stream",
       "stream": "stdout",
       "text": [
        "- "
       ]
      },
      {
       "output_type": "stream",
       "stream": "stdout",
       "text": [
        "- "
       ]
      },
      {
       "output_type": "stream",
       "stream": "stdout",
       "text": [
        "- "
       ]
      },
      {
       "output_type": "stream",
       "stream": "stdout",
       "text": [
        "- "
       ]
      },
      {
       "output_type": "stream",
       "stream": "stdout",
       "text": [
        "- "
       ]
      },
      {
       "output_type": "stream",
       "stream": "stdout",
       "text": [
        "- "
       ]
      },
      {
       "output_type": "stream",
       "stream": "stdout",
       "text": [
        "- "
       ]
      },
      {
       "output_type": "stream",
       "stream": "stdout",
       "text": [
        "- "
       ]
      },
      {
       "output_type": "stream",
       "stream": "stdout",
       "text": [
        "- "
       ]
      },
      {
       "output_type": "stream",
       "stream": "stdout",
       "text": [
        "- "
       ]
      },
      {
       "output_type": "stream",
       "stream": "stdout",
       "text": [
        "Epoch 3 complete\n",
        "- "
       ]
      },
      {
       "output_type": "stream",
       "stream": "stdout",
       "text": [
        "- "
       ]
      },
      {
       "output_type": "stream",
       "stream": "stdout",
       "text": [
        "- "
       ]
      },
      {
       "output_type": "stream",
       "stream": "stdout",
       "text": [
        "- "
       ]
      },
      {
       "output_type": "stream",
       "stream": "stdout",
       "text": [
        "- "
       ]
      },
      {
       "output_type": "stream",
       "stream": "stdout",
       "text": [
        "- "
       ]
      },
      {
       "output_type": "stream",
       "stream": "stdout",
       "text": [
        "- "
       ]
      },
      {
       "output_type": "stream",
       "stream": "stdout",
       "text": [
        "- "
       ]
      },
      {
       "output_type": "stream",
       "stream": "stdout",
       "text": [
        "- "
       ]
      },
      {
       "output_type": "stream",
       "stream": "stdout",
       "text": [
        "- "
       ]
      },
      {
       "output_type": "stream",
       "stream": "stdout",
       "text": [
        "- "
       ]
      },
      {
       "output_type": "stream",
       "stream": "stdout",
       "text": [
        "- "
       ]
      },
      {
       "output_type": "stream",
       "stream": "stdout",
       "text": [
        "- "
       ]
      },
      {
       "output_type": "stream",
       "stream": "stdout",
       "text": [
        "- "
       ]
      },
      {
       "output_type": "stream",
       "stream": "stdout",
       "text": [
        "- "
       ]
      },
      {
       "output_type": "stream",
       "stream": "stdout",
       "text": [
        "- "
       ]
      },
      {
       "output_type": "stream",
       "stream": "stdout",
       "text": [
        "- "
       ]
      },
      {
       "output_type": "stream",
       "stream": "stdout",
       "text": [
        "- "
       ]
      },
      {
       "output_type": "stream",
       "stream": "stdout",
       "text": [
        "- "
       ]
      },
      {
       "output_type": "stream",
       "stream": "stdout",
       "text": [
        "- "
       ]
      },
      {
       "output_type": "stream",
       "stream": "stdout",
       "text": [
        "- "
       ]
      },
      {
       "output_type": "stream",
       "stream": "stdout",
       "text": [
        "- "
       ]
      },
      {
       "output_type": "stream",
       "stream": "stdout",
       "text": [
        "- "
       ]
      },
      {
       "output_type": "stream",
       "stream": "stdout",
       "text": [
        "- "
       ]
      },
      {
       "output_type": "stream",
       "stream": "stdout",
       "text": [
        "- "
       ]
      },
      {
       "output_type": "stream",
       "stream": "stdout",
       "text": [
        "- "
       ]
      },
      {
       "output_type": "stream",
       "stream": "stdout",
       "text": [
        "- "
       ]
      },
      {
       "output_type": "stream",
       "stream": "stdout",
       "text": [
        "- "
       ]
      },
      {
       "output_type": "stream",
       "stream": "stdout",
       "text": [
        "- "
       ]
      },
      {
       "output_type": "stream",
       "stream": "stdout",
       "text": [
        "- "
       ]
      },
      {
       "output_type": "stream",
       "stream": "stdout",
       "text": [
        "- "
       ]
      },
      {
       "output_type": "stream",
       "stream": "stdout",
       "text": [
        "- "
       ]
      },
      {
       "output_type": "stream",
       "stream": "stdout",
       "text": [
        "- "
       ]
      },
      {
       "output_type": "stream",
       "stream": "stdout",
       "text": [
        "- "
       ]
      },
      {
       "output_type": "stream",
       "stream": "stdout",
       "text": [
        "- "
       ]
      },
      {
       "output_type": "stream",
       "stream": "stdout",
       "text": [
        "- "
       ]
      },
      {
       "output_type": "stream",
       "stream": "stdout",
       "text": [
        "- "
       ]
      },
      {
       "output_type": "stream",
       "stream": "stdout",
       "text": [
        "- "
       ]
      },
      {
       "output_type": "stream",
       "stream": "stdout",
       "text": [
        "- "
       ]
      },
      {
       "output_type": "stream",
       "stream": "stdout",
       "text": [
        "- "
       ]
      },
      {
       "output_type": "stream",
       "stream": "stdout",
       "text": [
        "- "
       ]
      },
      {
       "output_type": "stream",
       "stream": "stdout",
       "text": [
        "- "
       ]
      },
      {
       "output_type": "stream",
       "stream": "stdout",
       "text": [
        "- "
       ]
      },
      {
       "output_type": "stream",
       "stream": "stdout",
       "text": [
        "- "
       ]
      },
      {
       "output_type": "stream",
       "stream": "stdout",
       "text": [
        "- "
       ]
      },
      {
       "output_type": "stream",
       "stream": "stdout",
       "text": [
        "- "
       ]
      },
      {
       "output_type": "stream",
       "stream": "stdout",
       "text": [
        "- "
       ]
      },
      {
       "output_type": "stream",
       "stream": "stdout",
       "text": [
        "- "
       ]
      },
      {
       "output_type": "stream",
       "stream": "stdout",
       "text": [
        "- "
       ]
      },
      {
       "output_type": "stream",
       "stream": "stdout",
       "text": [
        "- "
       ]
      },
      {
       "output_type": "stream",
       "stream": "stdout",
       "text": [
        "- "
       ]
      },
      {
       "output_type": "stream",
       "stream": "stdout",
       "text": [
        "- "
       ]
      },
      {
       "output_type": "stream",
       "stream": "stdout",
       "text": [
        "- "
       ]
      },
      {
       "output_type": "stream",
       "stream": "stdout",
       "text": [
        "- "
       ]
      },
      {
       "output_type": "stream",
       "stream": "stdout",
       "text": [
        "- "
       ]
      },
      {
       "output_type": "stream",
       "stream": "stdout",
       "text": [
        "- "
       ]
      },
      {
       "output_type": "stream",
       "stream": "stdout",
       "text": [
        "- "
       ]
      },
      {
       "output_type": "stream",
       "stream": "stdout",
       "text": [
        "- "
       ]
      },
      {
       "output_type": "stream",
       "stream": "stdout",
       "text": [
        "- "
       ]
      },
      {
       "output_type": "stream",
       "stream": "stdout",
       "text": [
        "- "
       ]
      },
      {
       "output_type": "stream",
       "stream": "stdout",
       "text": [
        "- "
       ]
      },
      {
       "output_type": "stream",
       "stream": "stdout",
       "text": [
        "- "
       ]
      },
      {
       "output_type": "stream",
       "stream": "stdout",
       "text": [
        "- "
       ]
      },
      {
       "output_type": "stream",
       "stream": "stdout",
       "text": [
        "- "
       ]
      },
      {
       "output_type": "stream",
       "stream": "stdout",
       "text": [
        "- "
       ]
      },
      {
       "output_type": "stream",
       "stream": "stdout",
       "text": [
        "- "
       ]
      },
      {
       "output_type": "stream",
       "stream": "stdout",
       "text": [
        "- "
       ]
      },
      {
       "output_type": "stream",
       "stream": "stdout",
       "text": [
        "- "
       ]
      },
      {
       "output_type": "stream",
       "stream": "stdout",
       "text": [
        "- "
       ]
      },
      {
       "output_type": "stream",
       "stream": "stdout",
       "text": [
        "- "
       ]
      },
      {
       "output_type": "stream",
       "stream": "stdout",
       "text": [
        "- "
       ]
      },
      {
       "output_type": "stream",
       "stream": "stdout",
       "text": [
        "- "
       ]
      },
      {
       "output_type": "stream",
       "stream": "stdout",
       "text": [
        "- "
       ]
      },
      {
       "output_type": "stream",
       "stream": "stdout",
       "text": [
        "- "
       ]
      },
      {
       "output_type": "stream",
       "stream": "stdout",
       "text": [
        "- "
       ]
      },
      {
       "output_type": "stream",
       "stream": "stdout",
       "text": [
        "- "
       ]
      },
      {
       "output_type": "stream",
       "stream": "stdout",
       "text": [
        "- "
       ]
      },
      {
       "output_type": "stream",
       "stream": "stdout",
       "text": [
        "- "
       ]
      },
      {
       "output_type": "stream",
       "stream": "stdout",
       "text": [
        "- "
       ]
      },
      {
       "output_type": "stream",
       "stream": "stdout",
       "text": [
        "- "
       ]
      },
      {
       "output_type": "stream",
       "stream": "stdout",
       "text": [
        "- "
       ]
      },
      {
       "output_type": "stream",
       "stream": "stdout",
       "text": [
        "- "
       ]
      },
      {
       "output_type": "stream",
       "stream": "stdout",
       "text": [
        "- "
       ]
      },
      {
       "output_type": "stream",
       "stream": "stdout",
       "text": [
        "- "
       ]
      },
      {
       "output_type": "stream",
       "stream": "stdout",
       "text": [
        "- "
       ]
      },
      {
       "output_type": "stream",
       "stream": "stdout",
       "text": [
        "- "
       ]
      },
      {
       "output_type": "stream",
       "stream": "stdout",
       "text": [
        "- "
       ]
      },
      {
       "output_type": "stream",
       "stream": "stdout",
       "text": [
        "- "
       ]
      },
      {
       "output_type": "stream",
       "stream": "stdout",
       "text": [
        "- "
       ]
      },
      {
       "output_type": "stream",
       "stream": "stdout",
       "text": [
        "- "
       ]
      },
      {
       "output_type": "stream",
       "stream": "stdout",
       "text": [
        "- "
       ]
      },
      {
       "output_type": "stream",
       "stream": "stdout",
       "text": [
        "- "
       ]
      },
      {
       "output_type": "stream",
       "stream": "stdout",
       "text": [
        "- "
       ]
      },
      {
       "output_type": "stream",
       "stream": "stdout",
       "text": [
        "- "
       ]
      },
      {
       "output_type": "stream",
       "stream": "stdout",
       "text": [
        "- "
       ]
      },
      {
       "output_type": "stream",
       "stream": "stdout",
       "text": [
        "- "
       ]
      },
      {
       "output_type": "stream",
       "stream": "stdout",
       "text": [
        "- "
       ]
      },
      {
       "output_type": "stream",
       "stream": "stdout",
       "text": [
        "- "
       ]
      },
      {
       "output_type": "stream",
       "stream": "stdout",
       "text": [
        "- "
       ]
      },
      {
       "output_type": "stream",
       "stream": "stdout",
       "text": [
        "- "
       ]
      },
      {
       "output_type": "stream",
       "stream": "stdout",
       "text": [
        "- "
       ]
      },
      {
       "output_type": "stream",
       "stream": "stdout",
       "text": [
        "- "
       ]
      },
      {
       "output_type": "stream",
       "stream": "stdout",
       "text": [
        "- "
       ]
      },
      {
       "output_type": "stream",
       "stream": "stdout",
       "text": [
        "- "
       ]
      },
      {
       "output_type": "stream",
       "stream": "stdout",
       "text": [
        "- "
       ]
      },
      {
       "output_type": "stream",
       "stream": "stdout",
       "text": [
        "- "
       ]
      },
      {
       "output_type": "stream",
       "stream": "stdout",
       "text": [
        "- "
       ]
      },
      {
       "output_type": "stream",
       "stream": "stdout",
       "text": [
        "- "
       ]
      },
      {
       "output_type": "stream",
       "stream": "stdout",
       "text": [
        "- "
       ]
      },
      {
       "output_type": "stream",
       "stream": "stdout",
       "text": [
        "- "
       ]
      },
      {
       "output_type": "stream",
       "stream": "stdout",
       "text": [
        "- "
       ]
      },
      {
       "output_type": "stream",
       "stream": "stdout",
       "text": [
        "- "
       ]
      },
      {
       "output_type": "stream",
       "stream": "stdout",
       "text": [
        "- "
       ]
      },
      {
       "output_type": "stream",
       "stream": "stdout",
       "text": [
        "- "
       ]
      },
      {
       "output_type": "stream",
       "stream": "stdout",
       "text": [
        "- "
       ]
      },
      {
       "output_type": "stream",
       "stream": "stdout",
       "text": [
        "- "
       ]
      },
      {
       "output_type": "stream",
       "stream": "stdout",
       "text": [
        "- "
       ]
      },
      {
       "output_type": "stream",
       "stream": "stdout",
       "text": [
        "- "
       ]
      },
      {
       "output_type": "stream",
       "stream": "stdout",
       "text": [
        "- "
       ]
      },
      {
       "output_type": "stream",
       "stream": "stdout",
       "text": [
        "- "
       ]
      },
      {
       "output_type": "stream",
       "stream": "stdout",
       "text": [
        "- "
       ]
      },
      {
       "output_type": "stream",
       "stream": "stdout",
       "text": [
        "- "
       ]
      },
      {
       "output_type": "stream",
       "stream": "stdout",
       "text": [
        "- "
       ]
      },
      {
       "output_type": "stream",
       "stream": "stdout",
       "text": [
        "- "
       ]
      },
      {
       "output_type": "stream",
       "stream": "stdout",
       "text": [
        "- "
       ]
      },
      {
       "output_type": "stream",
       "stream": "stdout",
       "text": [
        "- "
       ]
      },
      {
       "output_type": "stream",
       "stream": "stdout",
       "text": [
        "- "
       ]
      },
      {
       "output_type": "stream",
       "stream": "stdout",
       "text": [
        "- "
       ]
      },
      {
       "output_type": "stream",
       "stream": "stdout",
       "text": [
        "- "
       ]
      },
      {
       "output_type": "stream",
       "stream": "stdout",
       "text": [
        "- "
       ]
      },
      {
       "output_type": "stream",
       "stream": "stdout",
       "text": [
        "- "
       ]
      },
      {
       "output_type": "stream",
       "stream": "stdout",
       "text": [
        "- "
       ]
      },
      {
       "output_type": "stream",
       "stream": "stdout",
       "text": [
        "- "
       ]
      },
      {
       "output_type": "stream",
       "stream": "stdout",
       "text": [
        "- "
       ]
      },
      {
       "output_type": "stream",
       "stream": "stdout",
       "text": [
        "- "
       ]
      },
      {
       "output_type": "stream",
       "stream": "stdout",
       "text": [
        "- "
       ]
      },
      {
       "output_type": "stream",
       "stream": "stdout",
       "text": [
        "- "
       ]
      },
      {
       "output_type": "stream",
       "stream": "stdout",
       "text": [
        "- "
       ]
      },
      {
       "output_type": "stream",
       "stream": "stdout",
       "text": [
        "- "
       ]
      },
      {
       "output_type": "stream",
       "stream": "stdout",
       "text": [
        "- "
       ]
      },
      {
       "output_type": "stream",
       "stream": "stdout",
       "text": [
        "- "
       ]
      },
      {
       "output_type": "stream",
       "stream": "stdout",
       "text": [
        "- "
       ]
      },
      {
       "output_type": "stream",
       "stream": "stdout",
       "text": [
        "- "
       ]
      },
      {
       "output_type": "stream",
       "stream": "stdout",
       "text": [
        "- "
       ]
      },
      {
       "output_type": "stream",
       "stream": "stdout",
       "text": [
        "- "
       ]
      },
      {
       "output_type": "stream",
       "stream": "stdout",
       "text": [
        "- "
       ]
      },
      {
       "output_type": "stream",
       "stream": "stdout",
       "text": [
        "- "
       ]
      },
      {
       "output_type": "stream",
       "stream": "stdout",
       "text": [
        "- "
       ]
      },
      {
       "output_type": "stream",
       "stream": "stdout",
       "text": [
        "- "
       ]
      },
      {
       "output_type": "stream",
       "stream": "stdout",
       "text": [
        "- "
       ]
      },
      {
       "output_type": "stream",
       "stream": "stdout",
       "text": [
        "- "
       ]
      },
      {
       "output_type": "stream",
       "stream": "stdout",
       "text": [
        "- "
       ]
      },
      {
       "output_type": "stream",
       "stream": "stdout",
       "text": [
        "- "
       ]
      },
      {
       "output_type": "stream",
       "stream": "stdout",
       "text": [
        "- "
       ]
      },
      {
       "output_type": "stream",
       "stream": "stdout",
       "text": [
        "- "
       ]
      },
      {
       "output_type": "stream",
       "stream": "stdout",
       "text": [
        "- "
       ]
      },
      {
       "output_type": "stream",
       "stream": "stdout",
       "text": [
        "- "
       ]
      },
      {
       "output_type": "stream",
       "stream": "stdout",
       "text": [
        "- "
       ]
      },
      {
       "output_type": "stream",
       "stream": "stdout",
       "text": [
        "- "
       ]
      },
      {
       "output_type": "stream",
       "stream": "stdout",
       "text": [
        "- "
       ]
      },
      {
       "output_type": "stream",
       "stream": "stdout",
       "text": [
        "- "
       ]
      },
      {
       "output_type": "stream",
       "stream": "stdout",
       "text": [
        "- "
       ]
      },
      {
       "output_type": "stream",
       "stream": "stdout",
       "text": [
        "- "
       ]
      },
      {
       "output_type": "stream",
       "stream": "stdout",
       "text": [
        "- "
       ]
      },
      {
       "output_type": "stream",
       "stream": "stdout",
       "text": [
        "- "
       ]
      },
      {
       "output_type": "stream",
       "stream": "stdout",
       "text": [
        "- "
       ]
      },
      {
       "output_type": "stream",
       "stream": "stdout",
       "text": [
        "- "
       ]
      },
      {
       "output_type": "stream",
       "stream": "stdout",
       "text": [
        "- "
       ]
      },
      {
       "output_type": "stream",
       "stream": "stdout",
       "text": [
        "- "
       ]
      },
      {
       "output_type": "stream",
       "stream": "stdout",
       "text": [
        "- "
       ]
      },
      {
       "output_type": "stream",
       "stream": "stdout",
       "text": [
        "- "
       ]
      },
      {
       "output_type": "stream",
       "stream": "stdout",
       "text": [
        "- "
       ]
      },
      {
       "output_type": "stream",
       "stream": "stdout",
       "text": [
        "- "
       ]
      },
      {
       "output_type": "stream",
       "stream": "stdout",
       "text": [
        "- "
       ]
      },
      {
       "output_type": "stream",
       "stream": "stdout",
       "text": [
        "- "
       ]
      },
      {
       "output_type": "stream",
       "stream": "stdout",
       "text": [
        "- "
       ]
      },
      {
       "output_type": "stream",
       "stream": "stdout",
       "text": [
        "- "
       ]
      },
      {
       "output_type": "stream",
       "stream": "stdout",
       "text": [
        "- "
       ]
      },
      {
       "output_type": "stream",
       "stream": "stdout",
       "text": [
        "- "
       ]
      },
      {
       "output_type": "stream",
       "stream": "stdout",
       "text": [
        "- "
       ]
      },
      {
       "output_type": "stream",
       "stream": "stdout",
       "text": [
        "- "
       ]
      },
      {
       "output_type": "stream",
       "stream": "stdout",
       "text": [
        "- "
       ]
      },
      {
       "output_type": "stream",
       "stream": "stdout",
       "text": [
        "- "
       ]
      },
      {
       "output_type": "stream",
       "stream": "stdout",
       "text": [
        "- "
       ]
      },
      {
       "output_type": "stream",
       "stream": "stdout",
       "text": [
        "- "
       ]
      },
      {
       "output_type": "stream",
       "stream": "stdout",
       "text": [
        "- "
       ]
      },
      {
       "output_type": "stream",
       "stream": "stdout",
       "text": [
        "- "
       ]
      },
      {
       "output_type": "stream",
       "stream": "stdout",
       "text": [
        "- "
       ]
      },
      {
       "output_type": "stream",
       "stream": "stdout",
       "text": [
        "- "
       ]
      },
      {
       "output_type": "stream",
       "stream": "stdout",
       "text": [
        "- "
       ]
      },
      {
       "output_type": "stream",
       "stream": "stdout",
       "text": [
        "- "
       ]
      },
      {
       "output_type": "stream",
       "stream": "stdout",
       "text": [
        "- "
       ]
      },
      {
       "output_type": "stream",
       "stream": "stdout",
       "text": [
        "- "
       ]
      },
      {
       "output_type": "stream",
       "stream": "stdout",
       "text": [
        "- "
       ]
      },
      {
       "output_type": "stream",
       "stream": "stdout",
       "text": [
        "- "
       ]
      },
      {
       "output_type": "stream",
       "stream": "stdout",
       "text": [
        "- "
       ]
      },
      {
       "output_type": "stream",
       "stream": "stdout",
       "text": [
        "- "
       ]
      },
      {
       "output_type": "stream",
       "stream": "stdout",
       "text": [
        "- "
       ]
      },
      {
       "output_type": "stream",
       "stream": "stdout",
       "text": [
        "- "
       ]
      },
      {
       "output_type": "stream",
       "stream": "stdout",
       "text": [
        "- "
       ]
      },
      {
       "output_type": "stream",
       "stream": "stdout",
       "text": [
        "- "
       ]
      },
      {
       "output_type": "stream",
       "stream": "stdout",
       "text": [
        "- "
       ]
      },
      {
       "output_type": "stream",
       "stream": "stdout",
       "text": [
        "- "
       ]
      },
      {
       "output_type": "stream",
       "stream": "stdout",
       "text": [
        "- "
       ]
      },
      {
       "output_type": "stream",
       "stream": "stdout",
       "text": [
        "- "
       ]
      },
      {
       "output_type": "stream",
       "stream": "stdout",
       "text": [
        "- "
       ]
      },
      {
       "output_type": "stream",
       "stream": "stdout",
       "text": [
        "- "
       ]
      },
      {
       "output_type": "stream",
       "stream": "stdout",
       "text": [
        "- "
       ]
      },
      {
       "output_type": "stream",
       "stream": "stdout",
       "text": [
        "- "
       ]
      },
      {
       "output_type": "stream",
       "stream": "stdout",
       "text": [
        "- "
       ]
      },
      {
       "output_type": "stream",
       "stream": "stdout",
       "text": [
        "- "
       ]
      },
      {
       "output_type": "stream",
       "stream": "stdout",
       "text": [
        "- "
       ]
      },
      {
       "output_type": "stream",
       "stream": "stdout",
       "text": [
        "- "
       ]
      },
      {
       "output_type": "stream",
       "stream": "stdout",
       "text": [
        "- "
       ]
      },
      {
       "output_type": "stream",
       "stream": "stdout",
       "text": [
        "- "
       ]
      },
      {
       "output_type": "stream",
       "stream": "stdout",
       "text": [
        "- "
       ]
      },
      {
       "output_type": "stream",
       "stream": "stdout",
       "text": [
        "- "
       ]
      },
      {
       "output_type": "stream",
       "stream": "stdout",
       "text": [
        "- "
       ]
      },
      {
       "output_type": "stream",
       "stream": "stdout",
       "text": [
        "- "
       ]
      },
      {
       "output_type": "stream",
       "stream": "stdout",
       "text": [
        "- "
       ]
      },
      {
       "output_type": "stream",
       "stream": "stdout",
       "text": [
        "- "
       ]
      },
      {
       "output_type": "stream",
       "stream": "stdout",
       "text": [
        "- "
       ]
      },
      {
       "output_type": "stream",
       "stream": "stdout",
       "text": [
        "- "
       ]
      },
      {
       "output_type": "stream",
       "stream": "stdout",
       "text": [
        "- "
       ]
      },
      {
       "output_type": "stream",
       "stream": "stdout",
       "text": [
        "- "
       ]
      },
      {
       "output_type": "stream",
       "stream": "stdout",
       "text": [
        "- "
       ]
      },
      {
       "output_type": "stream",
       "stream": "stdout",
       "text": [
        "- "
       ]
      },
      {
       "output_type": "stream",
       "stream": "stdout",
       "text": [
        "- "
       ]
      },
      {
       "output_type": "stream",
       "stream": "stdout",
       "text": [
        "- "
       ]
      },
      {
       "output_type": "stream",
       "stream": "stdout",
       "text": [
        "- "
       ]
      },
      {
       "output_type": "stream",
       "stream": "stdout",
       "text": [
        "- "
       ]
      },
      {
       "output_type": "stream",
       "stream": "stdout",
       "text": [
        "- "
       ]
      },
      {
       "output_type": "stream",
       "stream": "stdout",
       "text": [
        "- "
       ]
      },
      {
       "output_type": "stream",
       "stream": "stdout",
       "text": [
        "- "
       ]
      },
      {
       "output_type": "stream",
       "stream": "stdout",
       "text": [
        "- "
       ]
      },
      {
       "output_type": "stream",
       "stream": "stdout",
       "text": [
        "- "
       ]
      },
      {
       "output_type": "stream",
       "stream": "stdout",
       "text": [
        "- "
       ]
      },
      {
       "output_type": "stream",
       "stream": "stdout",
       "text": [
        "- "
       ]
      },
      {
       "output_type": "stream",
       "stream": "stdout",
       "text": [
        "- "
       ]
      },
      {
       "output_type": "stream",
       "stream": "stdout",
       "text": [
        "- "
       ]
      },
      {
       "output_type": "stream",
       "stream": "stdout",
       "text": [
        "- "
       ]
      },
      {
       "output_type": "stream",
       "stream": "stdout",
       "text": [
        "- "
       ]
      },
      {
       "output_type": "stream",
       "stream": "stdout",
       "text": [
        "- "
       ]
      },
      {
       "output_type": "stream",
       "stream": "stdout",
       "text": [
        "- "
       ]
      },
      {
       "output_type": "stream",
       "stream": "stdout",
       "text": [
        "- "
       ]
      },
      {
       "output_type": "stream",
       "stream": "stdout",
       "text": [
        "- "
       ]
      },
      {
       "output_type": "stream",
       "stream": "stdout",
       "text": [
        "- "
       ]
      },
      {
       "output_type": "stream",
       "stream": "stdout",
       "text": [
        "- "
       ]
      },
      {
       "output_type": "stream",
       "stream": "stdout",
       "text": [
        "- "
       ]
      },
      {
       "output_type": "stream",
       "stream": "stdout",
       "text": [
        "- "
       ]
      },
      {
       "output_type": "stream",
       "stream": "stdout",
       "text": [
        "- "
       ]
      },
      {
       "output_type": "stream",
       "stream": "stdout",
       "text": [
        "- "
       ]
      },
      {
       "output_type": "stream",
       "stream": "stdout",
       "text": [
        "- "
       ]
      },
      {
       "output_type": "stream",
       "stream": "stdout",
       "text": [
        "- "
       ]
      },
      {
       "output_type": "stream",
       "stream": "stdout",
       "text": [
        "- "
       ]
      },
      {
       "output_type": "stream",
       "stream": "stdout",
       "text": [
        "- "
       ]
      },
      {
       "output_type": "stream",
       "stream": "stdout",
       "text": [
        "- "
       ]
      },
      {
       "output_type": "stream",
       "stream": "stdout",
       "text": [
        "- "
       ]
      },
      {
       "output_type": "stream",
       "stream": "stdout",
       "text": [
        "- "
       ]
      },
      {
       "output_type": "stream",
       "stream": "stdout",
       "text": [
        "- "
       ]
      },
      {
       "output_type": "stream",
       "stream": "stdout",
       "text": [
        "- "
       ]
      },
      {
       "output_type": "stream",
       "stream": "stdout",
       "text": [
        "- "
       ]
      },
      {
       "output_type": "stream",
       "stream": "stdout",
       "text": [
        "- "
       ]
      },
      {
       "output_type": "stream",
       "stream": "stdout",
       "text": [
        "- "
       ]
      },
      {
       "output_type": "stream",
       "stream": "stdout",
       "text": [
        "- "
       ]
      },
      {
       "output_type": "stream",
       "stream": "stdout",
       "text": [
        "- "
       ]
      },
      {
       "output_type": "stream",
       "stream": "stdout",
       "text": [
        "- "
       ]
      },
      {
       "output_type": "stream",
       "stream": "stdout",
       "text": [
        "- "
       ]
      },
      {
       "output_type": "stream",
       "stream": "stdout",
       "text": [
        "- "
       ]
      },
      {
       "output_type": "stream",
       "stream": "stdout",
       "text": [
        "- "
       ]
      },
      {
       "output_type": "stream",
       "stream": "stdout",
       "text": [
        "- "
       ]
      },
      {
       "output_type": "stream",
       "stream": "stdout",
       "text": [
        "- "
       ]
      },
      {
       "output_type": "stream",
       "stream": "stdout",
       "text": [
        "- "
       ]
      },
      {
       "output_type": "stream",
       "stream": "stdout",
       "text": [
        "- "
       ]
      },
      {
       "output_type": "stream",
       "stream": "stdout",
       "text": [
        "- "
       ]
      },
      {
       "output_type": "stream",
       "stream": "stdout",
       "text": [
        "- "
       ]
      },
      {
       "output_type": "stream",
       "stream": "stdout",
       "text": [
        "- "
       ]
      },
      {
       "output_type": "stream",
       "stream": "stdout",
       "text": [
        "- "
       ]
      },
      {
       "output_type": "stream",
       "stream": "stdout",
       "text": [
        "- "
       ]
      },
      {
       "output_type": "stream",
       "stream": "stdout",
       "text": [
        "- "
       ]
      },
      {
       "output_type": "stream",
       "stream": "stdout",
       "text": [
        "- "
       ]
      },
      {
       "output_type": "stream",
       "stream": "stdout",
       "text": [
        "- "
       ]
      },
      {
       "output_type": "stream",
       "stream": "stdout",
       "text": [
        "- "
       ]
      },
      {
       "output_type": "stream",
       "stream": "stdout",
       "text": [
        "- "
       ]
      },
      {
       "output_type": "stream",
       "stream": "stdout",
       "text": [
        "- "
       ]
      },
      {
       "output_type": "stream",
       "stream": "stdout",
       "text": [
        "- "
       ]
      },
      {
       "output_type": "stream",
       "stream": "stdout",
       "text": [
        "- "
       ]
      },
      {
       "output_type": "stream",
       "stream": "stdout",
       "text": [
        "- "
       ]
      },
      {
       "output_type": "stream",
       "stream": "stdout",
       "text": [
        "- "
       ]
      },
      {
       "output_type": "stream",
       "stream": "stdout",
       "text": [
        "- "
       ]
      },
      {
       "output_type": "stream",
       "stream": "stdout",
       "text": [
        "- "
       ]
      },
      {
       "output_type": "stream",
       "stream": "stdout",
       "text": [
        "- "
       ]
      },
      {
       "output_type": "stream",
       "stream": "stdout",
       "text": [
        "- "
       ]
      },
      {
       "output_type": "stream",
       "stream": "stdout",
       "text": [
        "- "
       ]
      },
      {
       "output_type": "stream",
       "stream": "stdout",
       "text": [
        "- "
       ]
      },
      {
       "output_type": "stream",
       "stream": "stdout",
       "text": [
        "- "
       ]
      },
      {
       "output_type": "stream",
       "stream": "stdout",
       "text": [
        "- "
       ]
      },
      {
       "output_type": "stream",
       "stream": "stdout",
       "text": [
        "- "
       ]
      },
      {
       "output_type": "stream",
       "stream": "stdout",
       "text": [
        "- "
       ]
      },
      {
       "output_type": "stream",
       "stream": "stdout",
       "text": [
        "- "
       ]
      },
      {
       "output_type": "stream",
       "stream": "stdout",
       "text": [
        "- "
       ]
      },
      {
       "output_type": "stream",
       "stream": "stdout",
       "text": [
        "- "
       ]
      },
      {
       "output_type": "stream",
       "stream": "stdout",
       "text": [
        "- "
       ]
      },
      {
       "output_type": "stream",
       "stream": "stdout",
       "text": [
        "- "
       ]
      },
      {
       "output_type": "stream",
       "stream": "stdout",
       "text": [
        "- "
       ]
      },
      {
       "output_type": "stream",
       "stream": "stdout",
       "text": [
        "- "
       ]
      },
      {
       "output_type": "stream",
       "stream": "stdout",
       "text": [
        "- "
       ]
      },
      {
       "output_type": "stream",
       "stream": "stdout",
       "text": [
        "- "
       ]
      },
      {
       "output_type": "stream",
       "stream": "stdout",
       "text": [
        "- "
       ]
      },
      {
       "output_type": "stream",
       "stream": "stdout",
       "text": [
        "- "
       ]
      },
      {
       "output_type": "stream",
       "stream": "stdout",
       "text": [
        "- "
       ]
      },
      {
       "output_type": "stream",
       "stream": "stdout",
       "text": [
        "- "
       ]
      },
      {
       "output_type": "stream",
       "stream": "stdout",
       "text": [
        "- "
       ]
      },
      {
       "output_type": "stream",
       "stream": "stdout",
       "text": [
        "- "
       ]
      },
      {
       "output_type": "stream",
       "stream": "stdout",
       "text": [
        "- "
       ]
      },
      {
       "output_type": "stream",
       "stream": "stdout",
       "text": [
        "- "
       ]
      },
      {
       "output_type": "stream",
       "stream": "stdout",
       "text": [
        "- "
       ]
      },
      {
       "output_type": "stream",
       "stream": "stdout",
       "text": [
        "- "
       ]
      },
      {
       "output_type": "stream",
       "stream": "stdout",
       "text": [
        "- "
       ]
      },
      {
       "output_type": "stream",
       "stream": "stdout",
       "text": [
        "- "
       ]
      },
      {
       "output_type": "stream",
       "stream": "stdout",
       "text": [
        "- "
       ]
      },
      {
       "output_type": "stream",
       "stream": "stdout",
       "text": [
        "- "
       ]
      },
      {
       "output_type": "stream",
       "stream": "stdout",
       "text": [
        "- "
       ]
      },
      {
       "output_type": "stream",
       "stream": "stdout",
       "text": [
        "- "
       ]
      },
      {
       "output_type": "stream",
       "stream": "stdout",
       "text": [
        "- "
       ]
      },
      {
       "output_type": "stream",
       "stream": "stdout",
       "text": [
        "- "
       ]
      },
      {
       "output_type": "stream",
       "stream": "stdout",
       "text": [
        "- "
       ]
      },
      {
       "output_type": "stream",
       "stream": "stdout",
       "text": [
        "- "
       ]
      },
      {
       "output_type": "stream",
       "stream": "stdout",
       "text": [
        "- "
       ]
      },
      {
       "output_type": "stream",
       "stream": "stdout",
       "text": [
        "- "
       ]
      },
      {
       "output_type": "stream",
       "stream": "stdout",
       "text": [
        "- "
       ]
      },
      {
       "output_type": "stream",
       "stream": "stdout",
       "text": [
        "- "
       ]
      },
      {
       "output_type": "stream",
       "stream": "stdout",
       "text": [
        "- "
       ]
      },
      {
       "output_type": "stream",
       "stream": "stdout",
       "text": [
        "- "
       ]
      },
      {
       "output_type": "stream",
       "stream": "stdout",
       "text": [
        "- "
       ]
      },
      {
       "output_type": "stream",
       "stream": "stdout",
       "text": [
        "- "
       ]
      },
      {
       "output_type": "stream",
       "stream": "stdout",
       "text": [
        "- "
       ]
      },
      {
       "output_type": "stream",
       "stream": "stdout",
       "text": [
        "- "
       ]
      },
      {
       "output_type": "stream",
       "stream": "stdout",
       "text": [
        "- "
       ]
      },
      {
       "output_type": "stream",
       "stream": "stdout",
       "text": [
        "- "
       ]
      },
      {
       "output_type": "stream",
       "stream": "stdout",
       "text": [
        "- "
       ]
      },
      {
       "output_type": "stream",
       "stream": "stdout",
       "text": [
        "- "
       ]
      },
      {
       "output_type": "stream",
       "stream": "stdout",
       "text": [
        "- "
       ]
      },
      {
       "output_type": "stream",
       "stream": "stdout",
       "text": [
        "- "
       ]
      },
      {
       "output_type": "stream",
       "stream": "stdout",
       "text": [
        "- "
       ]
      },
      {
       "output_type": "stream",
       "stream": "stdout",
       "text": [
        "- "
       ]
      },
      {
       "output_type": "stream",
       "stream": "stdout",
       "text": [
        "- "
       ]
      },
      {
       "output_type": "stream",
       "stream": "stdout",
       "text": [
        "- "
       ]
      },
      {
       "output_type": "stream",
       "stream": "stdout",
       "text": [
        "- "
       ]
      },
      {
       "output_type": "stream",
       "stream": "stdout",
       "text": [
        "- "
       ]
      },
      {
       "output_type": "stream",
       "stream": "stdout",
       "text": [
        "- "
       ]
      },
      {
       "output_type": "stream",
       "stream": "stdout",
       "text": [
        "- "
       ]
      },
      {
       "output_type": "stream",
       "stream": "stdout",
       "text": [
        "- "
       ]
      },
      {
       "output_type": "stream",
       "stream": "stdout",
       "text": [
        "- "
       ]
      },
      {
       "output_type": "stream",
       "stream": "stdout",
       "text": [
        "- "
       ]
      },
      {
       "output_type": "stream",
       "stream": "stdout",
       "text": [
        "- "
       ]
      },
      {
       "output_type": "stream",
       "stream": "stdout",
       "text": [
        "- "
       ]
      },
      {
       "output_type": "stream",
       "stream": "stdout",
       "text": [
        "- "
       ]
      },
      {
       "output_type": "stream",
       "stream": "stdout",
       "text": [
        "- "
       ]
      },
      {
       "output_type": "stream",
       "stream": "stdout",
       "text": [
        "- "
       ]
      },
      {
       "output_type": "stream",
       "stream": "stdout",
       "text": [
        "- "
       ]
      },
      {
       "output_type": "stream",
       "stream": "stdout",
       "text": [
        "- "
       ]
      },
      {
       "output_type": "stream",
       "stream": "stdout",
       "text": [
        "- "
       ]
      },
      {
       "output_type": "stream",
       "stream": "stdout",
       "text": [
        "- "
       ]
      },
      {
       "output_type": "stream",
       "stream": "stdout",
       "text": [
        "- "
       ]
      },
      {
       "output_type": "stream",
       "stream": "stdout",
       "text": [
        "- "
       ]
      },
      {
       "output_type": "stream",
       "stream": "stdout",
       "text": [
        "- "
       ]
      },
      {
       "output_type": "stream",
       "stream": "stdout",
       "text": [
        "- "
       ]
      },
      {
       "output_type": "stream",
       "stream": "stdout",
       "text": [
        "- "
       ]
      },
      {
       "output_type": "stream",
       "stream": "stdout",
       "text": [
        "- "
       ]
      },
      {
       "output_type": "stream",
       "stream": "stdout",
       "text": [
        "- "
       ]
      },
      {
       "output_type": "stream",
       "stream": "stdout",
       "text": [
        "- "
       ]
      },
      {
       "output_type": "stream",
       "stream": "stdout",
       "text": [
        "- "
       ]
      },
      {
       "output_type": "stream",
       "stream": "stdout",
       "text": [
        "- "
       ]
      },
      {
       "output_type": "stream",
       "stream": "stdout",
       "text": [
        "- "
       ]
      },
      {
       "output_type": "stream",
       "stream": "stdout",
       "text": [
        "- "
       ]
      },
      {
       "output_type": "stream",
       "stream": "stdout",
       "text": [
        "- "
       ]
      },
      {
       "output_type": "stream",
       "stream": "stdout",
       "text": [
        "- "
       ]
      },
      {
       "output_type": "stream",
       "stream": "stdout",
       "text": [
        "- "
       ]
      },
      {
       "output_type": "stream",
       "stream": "stdout",
       "text": [
        "- "
       ]
      },
      {
       "output_type": "stream",
       "stream": "stdout",
       "text": [
        "- "
       ]
      },
      {
       "output_type": "stream",
       "stream": "stdout",
       "text": [
        "- "
       ]
      },
      {
       "output_type": "stream",
       "stream": "stdout",
       "text": [
        "- "
       ]
      },
      {
       "output_type": "stream",
       "stream": "stdout",
       "text": [
        "- "
       ]
      },
      {
       "output_type": "stream",
       "stream": "stdout",
       "text": [
        "- "
       ]
      },
      {
       "output_type": "stream",
       "stream": "stdout",
       "text": [
        "- "
       ]
      },
      {
       "output_type": "stream",
       "stream": "stdout",
       "text": [
        "- "
       ]
      },
      {
       "output_type": "stream",
       "stream": "stdout",
       "text": [
        "- "
       ]
      },
      {
       "output_type": "stream",
       "stream": "stdout",
       "text": [
        "- "
       ]
      },
      {
       "output_type": "stream",
       "stream": "stdout",
       "text": [
        "- "
       ]
      },
      {
       "output_type": "stream",
       "stream": "stdout",
       "text": [
        "- "
       ]
      },
      {
       "output_type": "stream",
       "stream": "stdout",
       "text": [
        "- "
       ]
      },
      {
       "output_type": "stream",
       "stream": "stdout",
       "text": [
        "- "
       ]
      },
      {
       "output_type": "stream",
       "stream": "stdout",
       "text": [
        "- "
       ]
      },
      {
       "output_type": "stream",
       "stream": "stdout",
       "text": [
        "- "
       ]
      },
      {
       "output_type": "stream",
       "stream": "stdout",
       "text": [
        "- "
       ]
      },
      {
       "output_type": "stream",
       "stream": "stdout",
       "text": [
        "- "
       ]
      },
      {
       "output_type": "stream",
       "stream": "stdout",
       "text": [
        "- "
       ]
      },
      {
       "output_type": "stream",
       "stream": "stdout",
       "text": [
        "- "
       ]
      },
      {
       "output_type": "stream",
       "stream": "stdout",
       "text": [
        "- "
       ]
      },
      {
       "output_type": "stream",
       "stream": "stdout",
       "text": [
        "- "
       ]
      },
      {
       "output_type": "stream",
       "stream": "stdout",
       "text": [
        "- "
       ]
      },
      {
       "output_type": "stream",
       "stream": "stdout",
       "text": [
        "- "
       ]
      },
      {
       "output_type": "stream",
       "stream": "stdout",
       "text": [
        "- "
       ]
      },
      {
       "output_type": "stream",
       "stream": "stdout",
       "text": [
        "- "
       ]
      },
      {
       "output_type": "stream",
       "stream": "stdout",
       "text": [
        "- "
       ]
      },
      {
       "output_type": "stream",
       "stream": "stdout",
       "text": [
        "- "
       ]
      },
      {
       "output_type": "stream",
       "stream": "stdout",
       "text": [
        "- "
       ]
      },
      {
       "output_type": "stream",
       "stream": "stdout",
       "text": [
        "- "
       ]
      },
      {
       "output_type": "stream",
       "stream": "stdout",
       "text": [
        "- "
       ]
      },
      {
       "output_type": "stream",
       "stream": "stdout",
       "text": [
        "- "
       ]
      },
      {
       "output_type": "stream",
       "stream": "stdout",
       "text": [
        "- "
       ]
      },
      {
       "output_type": "stream",
       "stream": "stdout",
       "text": [
        "- "
       ]
      },
      {
       "output_type": "stream",
       "stream": "stdout",
       "text": [
        "- "
       ]
      },
      {
       "output_type": "stream",
       "stream": "stdout",
       "text": [
        "- "
       ]
      },
      {
       "output_type": "stream",
       "stream": "stdout",
       "text": [
        "- "
       ]
      },
      {
       "output_type": "stream",
       "stream": "stdout",
       "text": [
        "- "
       ]
      },
      {
       "output_type": "stream",
       "stream": "stdout",
       "text": [
        "- "
       ]
      },
      {
       "output_type": "stream",
       "stream": "stdout",
       "text": [
        "- "
       ]
      },
      {
       "output_type": "stream",
       "stream": "stdout",
       "text": [
        "- "
       ]
      },
      {
       "output_type": "stream",
       "stream": "stdout",
       "text": [
        "- "
       ]
      },
      {
       "output_type": "stream",
       "stream": "stdout",
       "text": [
        "- "
       ]
      },
      {
       "output_type": "stream",
       "stream": "stdout",
       "text": [
        "- "
       ]
      },
      {
       "output_type": "stream",
       "stream": "stdout",
       "text": [
        "- "
       ]
      },
      {
       "output_type": "stream",
       "stream": "stdout",
       "text": [
        "- "
       ]
      },
      {
       "output_type": "stream",
       "stream": "stdout",
       "text": [
        "- "
       ]
      },
      {
       "output_type": "stream",
       "stream": "stdout",
       "text": [
        "- "
       ]
      },
      {
       "output_type": "stream",
       "stream": "stdout",
       "text": [
        "- "
       ]
      },
      {
       "output_type": "stream",
       "stream": "stdout",
       "text": [
        "- "
       ]
      },
      {
       "output_type": "stream",
       "stream": "stdout",
       "text": [
        "- "
       ]
      },
      {
       "output_type": "stream",
       "stream": "stdout",
       "text": [
        "- "
       ]
      },
      {
       "output_type": "stream",
       "stream": "stdout",
       "text": [
        "- "
       ]
      },
      {
       "output_type": "stream",
       "stream": "stdout",
       "text": [
        "- "
       ]
      },
      {
       "output_type": "stream",
       "stream": "stdout",
       "text": [
        "- "
       ]
      },
      {
       "output_type": "stream",
       "stream": "stdout",
       "text": [
        "- "
       ]
      },
      {
       "output_type": "stream",
       "stream": "stdout",
       "text": [
        "- "
       ]
      },
      {
       "output_type": "stream",
       "stream": "stdout",
       "text": [
        "- "
       ]
      },
      {
       "output_type": "stream",
       "stream": "stdout",
       "text": [
        "- "
       ]
      },
      {
       "output_type": "stream",
       "stream": "stdout",
       "text": [
        "- "
       ]
      },
      {
       "output_type": "stream",
       "stream": "stdout",
       "text": [
        "- "
       ]
      },
      {
       "output_type": "stream",
       "stream": "stdout",
       "text": [
        "- "
       ]
      },
      {
       "output_type": "stream",
       "stream": "stdout",
       "text": [
        "- "
       ]
      },
      {
       "output_type": "stream",
       "stream": "stdout",
       "text": [
        "- "
       ]
      },
      {
       "output_type": "stream",
       "stream": "stdout",
       "text": [
        "- "
       ]
      },
      {
       "output_type": "stream",
       "stream": "stdout",
       "text": [
        "- "
       ]
      },
      {
       "output_type": "stream",
       "stream": "stdout",
       "text": [
        "- "
       ]
      },
      {
       "output_type": "stream",
       "stream": "stdout",
       "text": [
        "- "
       ]
      },
      {
       "output_type": "stream",
       "stream": "stdout",
       "text": [
        "- "
       ]
      },
      {
       "output_type": "stream",
       "stream": "stdout",
       "text": [
        "- "
       ]
      },
      {
       "output_type": "stream",
       "stream": "stdout",
       "text": [
        "- "
       ]
      },
      {
       "output_type": "stream",
       "stream": "stdout",
       "text": [
        "- "
       ]
      },
      {
       "output_type": "stream",
       "stream": "stdout",
       "text": [
        "- "
       ]
      },
      {
       "output_type": "stream",
       "stream": "stdout",
       "text": [
        "- "
       ]
      },
      {
       "output_type": "stream",
       "stream": "stdout",
       "text": [
        "- "
       ]
      },
      {
       "output_type": "stream",
       "stream": "stdout",
       "text": [
        "- "
       ]
      },
      {
       "output_type": "stream",
       "stream": "stdout",
       "text": [
        "- "
       ]
      },
      {
       "output_type": "stream",
       "stream": "stdout",
       "text": [
        "- "
       ]
      },
      {
       "output_type": "stream",
       "stream": "stdout",
       "text": [
        "- "
       ]
      },
      {
       "output_type": "stream",
       "stream": "stdout",
       "text": [
        "- "
       ]
      },
      {
       "output_type": "stream",
       "stream": "stdout",
       "text": [
        "- "
       ]
      },
      {
       "output_type": "stream",
       "stream": "stdout",
       "text": [
        "- "
       ]
      },
      {
       "output_type": "stream",
       "stream": "stdout",
       "text": [
        "- "
       ]
      },
      {
       "output_type": "stream",
       "stream": "stdout",
       "text": [
        "- "
       ]
      },
      {
       "output_type": "stream",
       "stream": "stdout",
       "text": [
        "- "
       ]
      },
      {
       "output_type": "stream",
       "stream": "stdout",
       "text": [
        "- "
       ]
      },
      {
       "output_type": "stream",
       "stream": "stdout",
       "text": [
        "- "
       ]
      },
      {
       "output_type": "stream",
       "stream": "stdout",
       "text": [
        "- "
       ]
      },
      {
       "output_type": "stream",
       "stream": "stdout",
       "text": [
        "- "
       ]
      },
      {
       "output_type": "stream",
       "stream": "stdout",
       "text": [
        "- "
       ]
      },
      {
       "output_type": "stream",
       "stream": "stdout",
       "text": [
        "- "
       ]
      },
      {
       "output_type": "stream",
       "stream": "stdout",
       "text": [
        "- "
       ]
      },
      {
       "output_type": "stream",
       "stream": "stdout",
       "text": [
        "- "
       ]
      },
      {
       "output_type": "stream",
       "stream": "stdout",
       "text": [
        "- "
       ]
      },
      {
       "output_type": "stream",
       "stream": "stdout",
       "text": [
        "- "
       ]
      },
      {
       "output_type": "stream",
       "stream": "stdout",
       "text": [
        "- "
       ]
      },
      {
       "output_type": "stream",
       "stream": "stdout",
       "text": [
        "- "
       ]
      },
      {
       "output_type": "stream",
       "stream": "stdout",
       "text": [
        "- "
       ]
      },
      {
       "output_type": "stream",
       "stream": "stdout",
       "text": [
        "- "
       ]
      },
      {
       "output_type": "stream",
       "stream": "stdout",
       "text": [
        "- "
       ]
      },
      {
       "output_type": "stream",
       "stream": "stdout",
       "text": [
        "- "
       ]
      },
      {
       "output_type": "stream",
       "stream": "stdout",
       "text": [
        "- "
       ]
      },
      {
       "output_type": "stream",
       "stream": "stdout",
       "text": [
        "- "
       ]
      },
      {
       "output_type": "stream",
       "stream": "stdout",
       "text": [
        "- "
       ]
      },
      {
       "output_type": "stream",
       "stream": "stdout",
       "text": [
        "- "
       ]
      },
      {
       "output_type": "stream",
       "stream": "stdout",
       "text": [
        "- "
       ]
      },
      {
       "output_type": "stream",
       "stream": "stdout",
       "text": [
        "- "
       ]
      },
      {
       "output_type": "stream",
       "stream": "stdout",
       "text": [
        "- "
       ]
      },
      {
       "output_type": "stream",
       "stream": "stdout",
       "text": [
        "- "
       ]
      },
      {
       "output_type": "stream",
       "stream": "stdout",
       "text": [
        "- "
       ]
      },
      {
       "output_type": "stream",
       "stream": "stdout",
       "text": [
        "- "
       ]
      },
      {
       "output_type": "stream",
       "stream": "stdout",
       "text": [
        "- "
       ]
      },
      {
       "output_type": "stream",
       "stream": "stdout",
       "text": [
        "- "
       ]
      },
      {
       "output_type": "stream",
       "stream": "stdout",
       "text": [
        "- "
       ]
      },
      {
       "output_type": "stream",
       "stream": "stdout",
       "text": [
        "- "
       ]
      },
      {
       "output_type": "stream",
       "stream": "stdout",
       "text": [
        "- "
       ]
      },
      {
       "output_type": "stream",
       "stream": "stdout",
       "text": [
        "- "
       ]
      },
      {
       "output_type": "stream",
       "stream": "stdout",
       "text": [
        "- "
       ]
      },
      {
       "output_type": "stream",
       "stream": "stdout",
       "text": [
        "- "
       ]
      },
      {
       "output_type": "stream",
       "stream": "stdout",
       "text": [
        "- "
       ]
      },
      {
       "output_type": "stream",
       "stream": "stdout",
       "text": [
        "- "
       ]
      },
      {
       "output_type": "stream",
       "stream": "stdout",
       "text": [
        "Epoch 4 complete\n",
        "- "
       ]
      },
      {
       "output_type": "stream",
       "stream": "stdout",
       "text": [
        "- "
       ]
      },
      {
       "output_type": "stream",
       "stream": "stdout",
       "text": [
        "- "
       ]
      },
      {
       "output_type": "stream",
       "stream": "stdout",
       "text": [
        "- "
       ]
      },
      {
       "output_type": "stream",
       "stream": "stdout",
       "text": [
        "- "
       ]
      },
      {
       "output_type": "stream",
       "stream": "stdout",
       "text": [
        "- "
       ]
      },
      {
       "output_type": "stream",
       "stream": "stdout",
       "text": [
        "- "
       ]
      },
      {
       "output_type": "stream",
       "stream": "stdout",
       "text": [
        "- "
       ]
      },
      {
       "output_type": "stream",
       "stream": "stdout",
       "text": [
        "- "
       ]
      },
      {
       "output_type": "stream",
       "stream": "stdout",
       "text": [
        "- "
       ]
      },
      {
       "output_type": "stream",
       "stream": "stdout",
       "text": [
        "- "
       ]
      },
      {
       "output_type": "stream",
       "stream": "stdout",
       "text": [
        "- "
       ]
      },
      {
       "output_type": "stream",
       "stream": "stdout",
       "text": [
        "- "
       ]
      },
      {
       "output_type": "stream",
       "stream": "stdout",
       "text": [
        "- "
       ]
      },
      {
       "output_type": "stream",
       "stream": "stdout",
       "text": [
        "- "
       ]
      },
      {
       "output_type": "stream",
       "stream": "stdout",
       "text": [
        "- "
       ]
      },
      {
       "output_type": "stream",
       "stream": "stdout",
       "text": [
        "- "
       ]
      },
      {
       "output_type": "stream",
       "stream": "stdout",
       "text": [
        "- "
       ]
      },
      {
       "output_type": "stream",
       "stream": "stdout",
       "text": [
        "- "
       ]
      },
      {
       "output_type": "stream",
       "stream": "stdout",
       "text": [
        "- "
       ]
      },
      {
       "output_type": "stream",
       "stream": "stdout",
       "text": [
        "- "
       ]
      },
      {
       "output_type": "stream",
       "stream": "stdout",
       "text": [
        "- "
       ]
      },
      {
       "output_type": "stream",
       "stream": "stdout",
       "text": [
        "- "
       ]
      },
      {
       "output_type": "stream",
       "stream": "stdout",
       "text": [
        "- "
       ]
      },
      {
       "output_type": "stream",
       "stream": "stdout",
       "text": [
        "- "
       ]
      },
      {
       "output_type": "stream",
       "stream": "stdout",
       "text": [
        "- "
       ]
      },
      {
       "output_type": "stream",
       "stream": "stdout",
       "text": [
        "- "
       ]
      },
      {
       "output_type": "stream",
       "stream": "stdout",
       "text": [
        "- "
       ]
      },
      {
       "output_type": "stream",
       "stream": "stdout",
       "text": [
        "- "
       ]
      },
      {
       "output_type": "stream",
       "stream": "stdout",
       "text": [
        "- "
       ]
      },
      {
       "output_type": "stream",
       "stream": "stdout",
       "text": [
        "- "
       ]
      },
      {
       "output_type": "stream",
       "stream": "stdout",
       "text": [
        "- "
       ]
      },
      {
       "output_type": "stream",
       "stream": "stdout",
       "text": [
        "- "
       ]
      },
      {
       "output_type": "stream",
       "stream": "stdout",
       "text": [
        "- "
       ]
      },
      {
       "output_type": "stream",
       "stream": "stdout",
       "text": [
        "- "
       ]
      },
      {
       "output_type": "stream",
       "stream": "stdout",
       "text": [
        "- "
       ]
      },
      {
       "output_type": "stream",
       "stream": "stdout",
       "text": [
        "- "
       ]
      },
      {
       "output_type": "stream",
       "stream": "stdout",
       "text": [
        "- "
       ]
      },
      {
       "output_type": "stream",
       "stream": "stdout",
       "text": [
        "- "
       ]
      },
      {
       "output_type": "stream",
       "stream": "stdout",
       "text": [
        "- "
       ]
      },
      {
       "output_type": "stream",
       "stream": "stdout",
       "text": [
        "- "
       ]
      },
      {
       "output_type": "stream",
       "stream": "stdout",
       "text": [
        "- "
       ]
      },
      {
       "output_type": "stream",
       "stream": "stdout",
       "text": [
        "- "
       ]
      },
      {
       "output_type": "stream",
       "stream": "stdout",
       "text": [
        "- "
       ]
      },
      {
       "output_type": "stream",
       "stream": "stdout",
       "text": [
        "- "
       ]
      },
      {
       "output_type": "stream",
       "stream": "stdout",
       "text": [
        "- "
       ]
      },
      {
       "output_type": "stream",
       "stream": "stdout",
       "text": [
        "- "
       ]
      },
      {
       "output_type": "stream",
       "stream": "stdout",
       "text": [
        "- "
       ]
      },
      {
       "output_type": "stream",
       "stream": "stdout",
       "text": [
        "- "
       ]
      },
      {
       "output_type": "stream",
       "stream": "stdout",
       "text": [
        "- "
       ]
      },
      {
       "output_type": "stream",
       "stream": "stdout",
       "text": [
        "- "
       ]
      },
      {
       "output_type": "stream",
       "stream": "stdout",
       "text": [
        "- "
       ]
      },
      {
       "output_type": "stream",
       "stream": "stdout",
       "text": [
        "- "
       ]
      },
      {
       "output_type": "stream",
       "stream": "stdout",
       "text": [
        "- "
       ]
      },
      {
       "output_type": "stream",
       "stream": "stdout",
       "text": [
        "- "
       ]
      },
      {
       "output_type": "stream",
       "stream": "stdout",
       "text": [
        "- "
       ]
      },
      {
       "output_type": "stream",
       "stream": "stdout",
       "text": [
        "- "
       ]
      },
      {
       "output_type": "stream",
       "stream": "stdout",
       "text": [
        "- "
       ]
      },
      {
       "output_type": "stream",
       "stream": "stdout",
       "text": [
        "- "
       ]
      },
      {
       "output_type": "stream",
       "stream": "stdout",
       "text": [
        "- "
       ]
      },
      {
       "output_type": "stream",
       "stream": "stdout",
       "text": [
        "- "
       ]
      },
      {
       "output_type": "stream",
       "stream": "stdout",
       "text": [
        "- "
       ]
      },
      {
       "output_type": "stream",
       "stream": "stdout",
       "text": [
        "- "
       ]
      },
      {
       "output_type": "stream",
       "stream": "stdout",
       "text": [
        "- "
       ]
      },
      {
       "output_type": "stream",
       "stream": "stdout",
       "text": [
        "- "
       ]
      },
      {
       "output_type": "stream",
       "stream": "stdout",
       "text": [
        "- "
       ]
      },
      {
       "output_type": "stream",
       "stream": "stdout",
       "text": [
        "- "
       ]
      },
      {
       "output_type": "stream",
       "stream": "stdout",
       "text": [
        "- "
       ]
      },
      {
       "output_type": "stream",
       "stream": "stdout",
       "text": [
        "- "
       ]
      },
      {
       "output_type": "stream",
       "stream": "stdout",
       "text": [
        "- "
       ]
      },
      {
       "output_type": "stream",
       "stream": "stdout",
       "text": [
        "- "
       ]
      },
      {
       "output_type": "stream",
       "stream": "stdout",
       "text": [
        "- "
       ]
      },
      {
       "output_type": "stream",
       "stream": "stdout",
       "text": [
        "- "
       ]
      },
      {
       "output_type": "stream",
       "stream": "stdout",
       "text": [
        "- "
       ]
      },
      {
       "output_type": "stream",
       "stream": "stdout",
       "text": [
        "- "
       ]
      },
      {
       "output_type": "stream",
       "stream": "stdout",
       "text": [
        "- "
       ]
      },
      {
       "output_type": "stream",
       "stream": "stdout",
       "text": [
        "- "
       ]
      },
      {
       "output_type": "stream",
       "stream": "stdout",
       "text": [
        "- "
       ]
      },
      {
       "output_type": "stream",
       "stream": "stdout",
       "text": [
        "- "
       ]
      },
      {
       "output_type": "stream",
       "stream": "stdout",
       "text": [
        "- "
       ]
      },
      {
       "output_type": "stream",
       "stream": "stdout",
       "text": [
        "- "
       ]
      },
      {
       "output_type": "stream",
       "stream": "stdout",
       "text": [
        "- "
       ]
      },
      {
       "output_type": "stream",
       "stream": "stdout",
       "text": [
        "- "
       ]
      },
      {
       "output_type": "stream",
       "stream": "stdout",
       "text": [
        "- "
       ]
      },
      {
       "output_type": "stream",
       "stream": "stdout",
       "text": [
        "- "
       ]
      },
      {
       "output_type": "stream",
       "stream": "stdout",
       "text": [
        "- "
       ]
      },
      {
       "output_type": "stream",
       "stream": "stdout",
       "text": [
        "- "
       ]
      },
      {
       "output_type": "stream",
       "stream": "stdout",
       "text": [
        "- "
       ]
      },
      {
       "output_type": "stream",
       "stream": "stdout",
       "text": [
        "- "
       ]
      },
      {
       "output_type": "stream",
       "stream": "stdout",
       "text": [
        "- "
       ]
      },
      {
       "output_type": "stream",
       "stream": "stdout",
       "text": [
        "- "
       ]
      },
      {
       "output_type": "stream",
       "stream": "stdout",
       "text": [
        "- "
       ]
      },
      {
       "output_type": "stream",
       "stream": "stdout",
       "text": [
        "- "
       ]
      },
      {
       "output_type": "stream",
       "stream": "stdout",
       "text": [
        "- "
       ]
      },
      {
       "output_type": "stream",
       "stream": "stdout",
       "text": [
        "- "
       ]
      },
      {
       "output_type": "stream",
       "stream": "stdout",
       "text": [
        "- "
       ]
      },
      {
       "output_type": "stream",
       "stream": "stdout",
       "text": [
        "- "
       ]
      },
      {
       "output_type": "stream",
       "stream": "stdout",
       "text": [
        "- "
       ]
      },
      {
       "output_type": "stream",
       "stream": "stdout",
       "text": [
        "- "
       ]
      },
      {
       "output_type": "stream",
       "stream": "stdout",
       "text": [
        "- "
       ]
      },
      {
       "output_type": "stream",
       "stream": "stdout",
       "text": [
        "- "
       ]
      },
      {
       "output_type": "stream",
       "stream": "stdout",
       "text": [
        "- "
       ]
      },
      {
       "output_type": "stream",
       "stream": "stdout",
       "text": [
        "- "
       ]
      },
      {
       "output_type": "stream",
       "stream": "stdout",
       "text": [
        "- "
       ]
      },
      {
       "output_type": "stream",
       "stream": "stdout",
       "text": [
        "- "
       ]
      },
      {
       "output_type": "stream",
       "stream": "stdout",
       "text": [
        "- "
       ]
      },
      {
       "output_type": "stream",
       "stream": "stdout",
       "text": [
        "- "
       ]
      },
      {
       "output_type": "stream",
       "stream": "stdout",
       "text": [
        "- "
       ]
      },
      {
       "output_type": "stream",
       "stream": "stdout",
       "text": [
        "- "
       ]
      },
      {
       "output_type": "stream",
       "stream": "stdout",
       "text": [
        "- "
       ]
      },
      {
       "output_type": "stream",
       "stream": "stdout",
       "text": [
        "- "
       ]
      },
      {
       "output_type": "stream",
       "stream": "stdout",
       "text": [
        "- "
       ]
      },
      {
       "output_type": "stream",
       "stream": "stdout",
       "text": [
        "- "
       ]
      },
      {
       "output_type": "stream",
       "stream": "stdout",
       "text": [
        "- "
       ]
      },
      {
       "output_type": "stream",
       "stream": "stdout",
       "text": [
        "- "
       ]
      },
      {
       "output_type": "stream",
       "stream": "stdout",
       "text": [
        "- "
       ]
      },
      {
       "output_type": "stream",
       "stream": "stdout",
       "text": [
        "- "
       ]
      },
      {
       "output_type": "stream",
       "stream": "stdout",
       "text": [
        "- "
       ]
      },
      {
       "output_type": "stream",
       "stream": "stdout",
       "text": [
        "- "
       ]
      },
      {
       "output_type": "stream",
       "stream": "stdout",
       "text": [
        "- "
       ]
      },
      {
       "output_type": "stream",
       "stream": "stdout",
       "text": [
        "- "
       ]
      },
      {
       "output_type": "stream",
       "stream": "stdout",
       "text": [
        "- "
       ]
      },
      {
       "output_type": "stream",
       "stream": "stdout",
       "text": [
        "- "
       ]
      },
      {
       "output_type": "stream",
       "stream": "stdout",
       "text": [
        "- "
       ]
      },
      {
       "output_type": "stream",
       "stream": "stdout",
       "text": [
        "- "
       ]
      },
      {
       "output_type": "stream",
       "stream": "stdout",
       "text": [
        "- "
       ]
      },
      {
       "output_type": "stream",
       "stream": "stdout",
       "text": [
        "- "
       ]
      },
      {
       "output_type": "stream",
       "stream": "stdout",
       "text": [
        "- "
       ]
      },
      {
       "output_type": "stream",
       "stream": "stdout",
       "text": [
        "- "
       ]
      },
      {
       "output_type": "stream",
       "stream": "stdout",
       "text": [
        "- "
       ]
      },
      {
       "output_type": "stream",
       "stream": "stdout",
       "text": [
        "- "
       ]
      },
      {
       "output_type": "stream",
       "stream": "stdout",
       "text": [
        "- "
       ]
      },
      {
       "output_type": "stream",
       "stream": "stdout",
       "text": [
        "- "
       ]
      },
      {
       "output_type": "stream",
       "stream": "stdout",
       "text": [
        "- "
       ]
      },
      {
       "output_type": "stream",
       "stream": "stdout",
       "text": [
        "- "
       ]
      },
      {
       "output_type": "stream",
       "stream": "stdout",
       "text": [
        "- "
       ]
      },
      {
       "output_type": "stream",
       "stream": "stdout",
       "text": [
        "- "
       ]
      },
      {
       "output_type": "stream",
       "stream": "stdout",
       "text": [
        "- "
       ]
      },
      {
       "output_type": "stream",
       "stream": "stdout",
       "text": [
        "- "
       ]
      },
      {
       "output_type": "stream",
       "stream": "stdout",
       "text": [
        "- "
       ]
      },
      {
       "output_type": "stream",
       "stream": "stdout",
       "text": [
        "- "
       ]
      },
      {
       "output_type": "stream",
       "stream": "stdout",
       "text": [
        "- "
       ]
      },
      {
       "output_type": "stream",
       "stream": "stdout",
       "text": [
        "- "
       ]
      },
      {
       "output_type": "stream",
       "stream": "stdout",
       "text": [
        "- "
       ]
      },
      {
       "output_type": "stream",
       "stream": "stdout",
       "text": [
        "- "
       ]
      },
      {
       "output_type": "stream",
       "stream": "stdout",
       "text": [
        "- "
       ]
      },
      {
       "output_type": "stream",
       "stream": "stdout",
       "text": [
        "- "
       ]
      },
      {
       "output_type": "stream",
       "stream": "stdout",
       "text": [
        "- "
       ]
      },
      {
       "output_type": "stream",
       "stream": "stdout",
       "text": [
        "- "
       ]
      },
      {
       "output_type": "stream",
       "stream": "stdout",
       "text": [
        "- "
       ]
      },
      {
       "output_type": "stream",
       "stream": "stdout",
       "text": [
        "- "
       ]
      },
      {
       "output_type": "stream",
       "stream": "stdout",
       "text": [
        "- "
       ]
      },
      {
       "output_type": "stream",
       "stream": "stdout",
       "text": [
        "- "
       ]
      },
      {
       "output_type": "stream",
       "stream": "stdout",
       "text": [
        "- "
       ]
      },
      {
       "output_type": "stream",
       "stream": "stdout",
       "text": [
        "- "
       ]
      },
      {
       "output_type": "stream",
       "stream": "stdout",
       "text": [
        "- "
       ]
      },
      {
       "output_type": "stream",
       "stream": "stdout",
       "text": [
        "- "
       ]
      },
      {
       "output_type": "stream",
       "stream": "stdout",
       "text": [
        "- "
       ]
      },
      {
       "output_type": "stream",
       "stream": "stdout",
       "text": [
        "- "
       ]
      },
      {
       "output_type": "stream",
       "stream": "stdout",
       "text": [
        "- "
       ]
      },
      {
       "output_type": "stream",
       "stream": "stdout",
       "text": [
        "- "
       ]
      },
      {
       "output_type": "stream",
       "stream": "stdout",
       "text": [
        "- "
       ]
      },
      {
       "output_type": "stream",
       "stream": "stdout",
       "text": [
        "- "
       ]
      },
      {
       "output_type": "stream",
       "stream": "stdout",
       "text": [
        "- "
       ]
      },
      {
       "output_type": "stream",
       "stream": "stdout",
       "text": [
        "- "
       ]
      },
      {
       "output_type": "stream",
       "stream": "stdout",
       "text": [
        "- "
       ]
      },
      {
       "output_type": "stream",
       "stream": "stdout",
       "text": [
        "- "
       ]
      },
      {
       "output_type": "stream",
       "stream": "stdout",
       "text": [
        "- "
       ]
      },
      {
       "output_type": "stream",
       "stream": "stdout",
       "text": [
        "- "
       ]
      },
      {
       "output_type": "stream",
       "stream": "stdout",
       "text": [
        "- "
       ]
      },
      {
       "output_type": "stream",
       "stream": "stdout",
       "text": [
        "- "
       ]
      },
      {
       "output_type": "stream",
       "stream": "stdout",
       "text": [
        "- "
       ]
      },
      {
       "output_type": "stream",
       "stream": "stdout",
       "text": [
        "- "
       ]
      },
      {
       "output_type": "stream",
       "stream": "stdout",
       "text": [
        "- "
       ]
      },
      {
       "output_type": "stream",
       "stream": "stdout",
       "text": [
        "- "
       ]
      },
      {
       "output_type": "stream",
       "stream": "stdout",
       "text": [
        "- "
       ]
      },
      {
       "output_type": "stream",
       "stream": "stdout",
       "text": [
        "- "
       ]
      },
      {
       "output_type": "stream",
       "stream": "stdout",
       "text": [
        "- "
       ]
      },
      {
       "output_type": "stream",
       "stream": "stdout",
       "text": [
        "- "
       ]
      },
      {
       "output_type": "stream",
       "stream": "stdout",
       "text": [
        "- "
       ]
      },
      {
       "output_type": "stream",
       "stream": "stdout",
       "text": [
        "- "
       ]
      },
      {
       "output_type": "stream",
       "stream": "stdout",
       "text": [
        "- "
       ]
      },
      {
       "output_type": "stream",
       "stream": "stdout",
       "text": [
        "- "
       ]
      },
      {
       "output_type": "stream",
       "stream": "stdout",
       "text": [
        "- "
       ]
      },
      {
       "output_type": "stream",
       "stream": "stdout",
       "text": [
        "- "
       ]
      },
      {
       "output_type": "stream",
       "stream": "stdout",
       "text": [
        "- "
       ]
      },
      {
       "output_type": "stream",
       "stream": "stdout",
       "text": [
        "- "
       ]
      },
      {
       "output_type": "stream",
       "stream": "stdout",
       "text": [
        "- "
       ]
      },
      {
       "output_type": "stream",
       "stream": "stdout",
       "text": [
        "- "
       ]
      },
      {
       "output_type": "stream",
       "stream": "stdout",
       "text": [
        "- "
       ]
      },
      {
       "output_type": "stream",
       "stream": "stdout",
       "text": [
        "- "
       ]
      },
      {
       "output_type": "stream",
       "stream": "stdout",
       "text": [
        "- "
       ]
      },
      {
       "output_type": "stream",
       "stream": "stdout",
       "text": [
        "- "
       ]
      },
      {
       "output_type": "stream",
       "stream": "stdout",
       "text": [
        "- "
       ]
      },
      {
       "output_type": "stream",
       "stream": "stdout",
       "text": [
        "- "
       ]
      },
      {
       "output_type": "stream",
       "stream": "stdout",
       "text": [
        "- "
       ]
      },
      {
       "output_type": "stream",
       "stream": "stdout",
       "text": [
        "- "
       ]
      },
      {
       "output_type": "stream",
       "stream": "stdout",
       "text": [
        "- "
       ]
      },
      {
       "output_type": "stream",
       "stream": "stdout",
       "text": [
        "- "
       ]
      },
      {
       "output_type": "stream",
       "stream": "stdout",
       "text": [
        "- "
       ]
      },
      {
       "output_type": "stream",
       "stream": "stdout",
       "text": [
        "- "
       ]
      },
      {
       "output_type": "stream",
       "stream": "stdout",
       "text": [
        "- "
       ]
      },
      {
       "output_type": "stream",
       "stream": "stdout",
       "text": [
        "- "
       ]
      },
      {
       "output_type": "stream",
       "stream": "stdout",
       "text": [
        "- "
       ]
      },
      {
       "output_type": "stream",
       "stream": "stdout",
       "text": [
        "- "
       ]
      },
      {
       "output_type": "stream",
       "stream": "stdout",
       "text": [
        "- "
       ]
      },
      {
       "output_type": "stream",
       "stream": "stdout",
       "text": [
        "- "
       ]
      },
      {
       "output_type": "stream",
       "stream": "stdout",
       "text": [
        "- "
       ]
      },
      {
       "output_type": "stream",
       "stream": "stdout",
       "text": [
        "- "
       ]
      },
      {
       "output_type": "stream",
       "stream": "stdout",
       "text": [
        "- "
       ]
      },
      {
       "output_type": "stream",
       "stream": "stdout",
       "text": [
        "- "
       ]
      },
      {
       "output_type": "stream",
       "stream": "stdout",
       "text": [
        "- "
       ]
      },
      {
       "output_type": "stream",
       "stream": "stdout",
       "text": [
        "- "
       ]
      },
      {
       "output_type": "stream",
       "stream": "stdout",
       "text": [
        "- "
       ]
      },
      {
       "output_type": "stream",
       "stream": "stdout",
       "text": [
        "- "
       ]
      },
      {
       "output_type": "stream",
       "stream": "stdout",
       "text": [
        "- "
       ]
      },
      {
       "output_type": "stream",
       "stream": "stdout",
       "text": [
        "- "
       ]
      },
      {
       "output_type": "stream",
       "stream": "stdout",
       "text": [
        "- "
       ]
      },
      {
       "output_type": "stream",
       "stream": "stdout",
       "text": [
        "- "
       ]
      },
      {
       "output_type": "stream",
       "stream": "stdout",
       "text": [
        "- "
       ]
      },
      {
       "output_type": "stream",
       "stream": "stdout",
       "text": [
        "- "
       ]
      },
      {
       "output_type": "stream",
       "stream": "stdout",
       "text": [
        "- "
       ]
      },
      {
       "output_type": "stream",
       "stream": "stdout",
       "text": [
        "- "
       ]
      },
      {
       "output_type": "stream",
       "stream": "stdout",
       "text": [
        "- "
       ]
      },
      {
       "output_type": "stream",
       "stream": "stdout",
       "text": [
        "- "
       ]
      },
      {
       "output_type": "stream",
       "stream": "stdout",
       "text": [
        "- "
       ]
      },
      {
       "output_type": "stream",
       "stream": "stdout",
       "text": [
        "- "
       ]
      },
      {
       "output_type": "stream",
       "stream": "stdout",
       "text": [
        "- "
       ]
      },
      {
       "output_type": "stream",
       "stream": "stdout",
       "text": [
        "- "
       ]
      },
      {
       "output_type": "stream",
       "stream": "stdout",
       "text": [
        "- "
       ]
      },
      {
       "output_type": "stream",
       "stream": "stdout",
       "text": [
        "- "
       ]
      },
      {
       "output_type": "stream",
       "stream": "stdout",
       "text": [
        "- "
       ]
      },
      {
       "output_type": "stream",
       "stream": "stdout",
       "text": [
        "- "
       ]
      },
      {
       "output_type": "stream",
       "stream": "stdout",
       "text": [
        "- "
       ]
      },
      {
       "output_type": "stream",
       "stream": "stdout",
       "text": [
        "- "
       ]
      },
      {
       "output_type": "stream",
       "stream": "stdout",
       "text": [
        "- "
       ]
      },
      {
       "output_type": "stream",
       "stream": "stdout",
       "text": [
        "- "
       ]
      },
      {
       "output_type": "stream",
       "stream": "stdout",
       "text": [
        "- "
       ]
      },
      {
       "output_type": "stream",
       "stream": "stdout",
       "text": [
        "- "
       ]
      },
      {
       "output_type": "stream",
       "stream": "stdout",
       "text": [
        "- "
       ]
      },
      {
       "output_type": "stream",
       "stream": "stdout",
       "text": [
        "- "
       ]
      },
      {
       "output_type": "stream",
       "stream": "stdout",
       "text": [
        "- "
       ]
      },
      {
       "output_type": "stream",
       "stream": "stdout",
       "text": [
        "- "
       ]
      },
      {
       "output_type": "stream",
       "stream": "stdout",
       "text": [
        "- "
       ]
      },
      {
       "output_type": "stream",
       "stream": "stdout",
       "text": [
        "- "
       ]
      },
      {
       "output_type": "stream",
       "stream": "stdout",
       "text": [
        "- "
       ]
      },
      {
       "output_type": "stream",
       "stream": "stdout",
       "text": [
        "- "
       ]
      },
      {
       "output_type": "stream",
       "stream": "stdout",
       "text": [
        "- "
       ]
      },
      {
       "output_type": "stream",
       "stream": "stdout",
       "text": [
        "- "
       ]
      },
      {
       "output_type": "stream",
       "stream": "stdout",
       "text": [
        "- "
       ]
      },
      {
       "output_type": "stream",
       "stream": "stdout",
       "text": [
        "- "
       ]
      },
      {
       "output_type": "stream",
       "stream": "stdout",
       "text": [
        "- "
       ]
      },
      {
       "output_type": "stream",
       "stream": "stdout",
       "text": [
        "- "
       ]
      },
      {
       "output_type": "stream",
       "stream": "stdout",
       "text": [
        "- "
       ]
      },
      {
       "output_type": "stream",
       "stream": "stdout",
       "text": [
        "- "
       ]
      },
      {
       "output_type": "stream",
       "stream": "stdout",
       "text": [
        "- "
       ]
      },
      {
       "output_type": "stream",
       "stream": "stdout",
       "text": [
        "- "
       ]
      },
      {
       "output_type": "stream",
       "stream": "stdout",
       "text": [
        "- "
       ]
      },
      {
       "output_type": "stream",
       "stream": "stdout",
       "text": [
        "- "
       ]
      },
      {
       "output_type": "stream",
       "stream": "stdout",
       "text": [
        "- "
       ]
      },
      {
       "output_type": "stream",
       "stream": "stdout",
       "text": [
        "- "
       ]
      },
      {
       "output_type": "stream",
       "stream": "stdout",
       "text": [
        "- "
       ]
      },
      {
       "output_type": "stream",
       "stream": "stdout",
       "text": [
        "- "
       ]
      },
      {
       "output_type": "stream",
       "stream": "stdout",
       "text": [
        "- "
       ]
      },
      {
       "output_type": "stream",
       "stream": "stdout",
       "text": [
        "- "
       ]
      },
      {
       "output_type": "stream",
       "stream": "stdout",
       "text": [
        "- "
       ]
      },
      {
       "output_type": "stream",
       "stream": "stdout",
       "text": [
        "- "
       ]
      },
      {
       "output_type": "stream",
       "stream": "stdout",
       "text": [
        "- "
       ]
      },
      {
       "output_type": "stream",
       "stream": "stdout",
       "text": [
        "- "
       ]
      },
      {
       "output_type": "stream",
       "stream": "stdout",
       "text": [
        "- "
       ]
      },
      {
       "output_type": "stream",
       "stream": "stdout",
       "text": [
        "- "
       ]
      },
      {
       "output_type": "stream",
       "stream": "stdout",
       "text": [
        "- "
       ]
      },
      {
       "output_type": "stream",
       "stream": "stdout",
       "text": [
        "- "
       ]
      },
      {
       "output_type": "stream",
       "stream": "stdout",
       "text": [
        "- "
       ]
      },
      {
       "output_type": "stream",
       "stream": "stdout",
       "text": [
        "- "
       ]
      },
      {
       "output_type": "stream",
       "stream": "stdout",
       "text": [
        "- "
       ]
      },
      {
       "output_type": "stream",
       "stream": "stdout",
       "text": [
        "- "
       ]
      },
      {
       "output_type": "stream",
       "stream": "stdout",
       "text": [
        "- "
       ]
      },
      {
       "output_type": "stream",
       "stream": "stdout",
       "text": [
        "- "
       ]
      },
      {
       "output_type": "stream",
       "stream": "stdout",
       "text": [
        "- "
       ]
      },
      {
       "output_type": "stream",
       "stream": "stdout",
       "text": [
        "- "
       ]
      },
      {
       "output_type": "stream",
       "stream": "stdout",
       "text": [
        "- "
       ]
      },
      {
       "output_type": "stream",
       "stream": "stdout",
       "text": [
        "- "
       ]
      },
      {
       "output_type": "stream",
       "stream": "stdout",
       "text": [
        "- "
       ]
      },
      {
       "output_type": "stream",
       "stream": "stdout",
       "text": [
        "- "
       ]
      },
      {
       "output_type": "stream",
       "stream": "stdout",
       "text": [
        "- "
       ]
      },
      {
       "output_type": "stream",
       "stream": "stdout",
       "text": [
        "- "
       ]
      },
      {
       "output_type": "stream",
       "stream": "stdout",
       "text": [
        "- "
       ]
      },
      {
       "output_type": "stream",
       "stream": "stdout",
       "text": [
        "- "
       ]
      },
      {
       "output_type": "stream",
       "stream": "stdout",
       "text": [
        "- "
       ]
      },
      {
       "output_type": "stream",
       "stream": "stdout",
       "text": [
        "- "
       ]
      },
      {
       "output_type": "stream",
       "stream": "stdout",
       "text": [
        "- "
       ]
      },
      {
       "output_type": "stream",
       "stream": "stdout",
       "text": [
        "- "
       ]
      },
      {
       "output_type": "stream",
       "stream": "stdout",
       "text": [
        "- "
       ]
      },
      {
       "output_type": "stream",
       "stream": "stdout",
       "text": [
        "- "
       ]
      },
      {
       "output_type": "stream",
       "stream": "stdout",
       "text": [
        "- "
       ]
      },
      {
       "output_type": "stream",
       "stream": "stdout",
       "text": [
        "- "
       ]
      },
      {
       "output_type": "stream",
       "stream": "stdout",
       "text": [
        "- "
       ]
      },
      {
       "output_type": "stream",
       "stream": "stdout",
       "text": [
        "- "
       ]
      },
      {
       "output_type": "stream",
       "stream": "stdout",
       "text": [
        "- "
       ]
      },
      {
       "output_type": "stream",
       "stream": "stdout",
       "text": [
        "- "
       ]
      },
      {
       "output_type": "stream",
       "stream": "stdout",
       "text": [
        "- "
       ]
      },
      {
       "output_type": "stream",
       "stream": "stdout",
       "text": [
        "- "
       ]
      },
      {
       "output_type": "stream",
       "stream": "stdout",
       "text": [
        "- "
       ]
      },
      {
       "output_type": "stream",
       "stream": "stdout",
       "text": [
        "- "
       ]
      },
      {
       "output_type": "stream",
       "stream": "stdout",
       "text": [
        "- "
       ]
      },
      {
       "output_type": "stream",
       "stream": "stdout",
       "text": [
        "- "
       ]
      },
      {
       "output_type": "stream",
       "stream": "stdout",
       "text": [
        "- "
       ]
      },
      {
       "output_type": "stream",
       "stream": "stdout",
       "text": [
        "- "
       ]
      },
      {
       "output_type": "stream",
       "stream": "stdout",
       "text": [
        "- "
       ]
      },
      {
       "output_type": "stream",
       "stream": "stdout",
       "text": [
        "- "
       ]
      },
      {
       "output_type": "stream",
       "stream": "stdout",
       "text": [
        "- "
       ]
      },
      {
       "output_type": "stream",
       "stream": "stdout",
       "text": [
        "- "
       ]
      },
      {
       "output_type": "stream",
       "stream": "stdout",
       "text": [
        "- "
       ]
      },
      {
       "output_type": "stream",
       "stream": "stdout",
       "text": [
        "- "
       ]
      },
      {
       "output_type": "stream",
       "stream": "stdout",
       "text": [
        "- "
       ]
      },
      {
       "output_type": "stream",
       "stream": "stdout",
       "text": [
        "- "
       ]
      },
      {
       "output_type": "stream",
       "stream": "stdout",
       "text": [
        "- "
       ]
      },
      {
       "output_type": "stream",
       "stream": "stdout",
       "text": [
        "- "
       ]
      },
      {
       "output_type": "stream",
       "stream": "stdout",
       "text": [
        "- "
       ]
      },
      {
       "output_type": "stream",
       "stream": "stdout",
       "text": [
        "- "
       ]
      },
      {
       "output_type": "stream",
       "stream": "stdout",
       "text": [
        "- "
       ]
      },
      {
       "output_type": "stream",
       "stream": "stdout",
       "text": [
        "- "
       ]
      },
      {
       "output_type": "stream",
       "stream": "stdout",
       "text": [
        "- "
       ]
      },
      {
       "output_type": "stream",
       "stream": "stdout",
       "text": [
        "- "
       ]
      },
      {
       "output_type": "stream",
       "stream": "stdout",
       "text": [
        "- "
       ]
      },
      {
       "output_type": "stream",
       "stream": "stdout",
       "text": [
        "- "
       ]
      },
      {
       "output_type": "stream",
       "stream": "stdout",
       "text": [
        "- "
       ]
      },
      {
       "output_type": "stream",
       "stream": "stdout",
       "text": [
        "- "
       ]
      },
      {
       "output_type": "stream",
       "stream": "stdout",
       "text": [
        "- "
       ]
      },
      {
       "output_type": "stream",
       "stream": "stdout",
       "text": [
        "- "
       ]
      },
      {
       "output_type": "stream",
       "stream": "stdout",
       "text": [
        "- "
       ]
      },
      {
       "output_type": "stream",
       "stream": "stdout",
       "text": [
        "- "
       ]
      },
      {
       "output_type": "stream",
       "stream": "stdout",
       "text": [
        "- "
       ]
      },
      {
       "output_type": "stream",
       "stream": "stdout",
       "text": [
        "- "
       ]
      },
      {
       "output_type": "stream",
       "stream": "stdout",
       "text": [
        "- "
       ]
      },
      {
       "output_type": "stream",
       "stream": "stdout",
       "text": [
        "- "
       ]
      },
      {
       "output_type": "stream",
       "stream": "stdout",
       "text": [
        "- "
       ]
      },
      {
       "output_type": "stream",
       "stream": "stdout",
       "text": [
        "- "
       ]
      },
      {
       "output_type": "stream",
       "stream": "stdout",
       "text": [
        "- "
       ]
      },
      {
       "output_type": "stream",
       "stream": "stdout",
       "text": [
        "- "
       ]
      },
      {
       "output_type": "stream",
       "stream": "stdout",
       "text": [
        "- "
       ]
      },
      {
       "output_type": "stream",
       "stream": "stdout",
       "text": [
        "- "
       ]
      },
      {
       "output_type": "stream",
       "stream": "stdout",
       "text": [
        "- "
       ]
      },
      {
       "output_type": "stream",
       "stream": "stdout",
       "text": [
        "- "
       ]
      },
      {
       "output_type": "stream",
       "stream": "stdout",
       "text": [
        "- "
       ]
      },
      {
       "output_type": "stream",
       "stream": "stdout",
       "text": [
        "- "
       ]
      },
      {
       "output_type": "stream",
       "stream": "stdout",
       "text": [
        "- "
       ]
      },
      {
       "output_type": "stream",
       "stream": "stdout",
       "text": [
        "- "
       ]
      },
      {
       "output_type": "stream",
       "stream": "stdout",
       "text": [
        "- "
       ]
      },
      {
       "output_type": "stream",
       "stream": "stdout",
       "text": [
        "- "
       ]
      },
      {
       "output_type": "stream",
       "stream": "stdout",
       "text": [
        "- "
       ]
      },
      {
       "output_type": "stream",
       "stream": "stdout",
       "text": [
        "- "
       ]
      },
      {
       "output_type": "stream",
       "stream": "stdout",
       "text": [
        "- "
       ]
      },
      {
       "output_type": "stream",
       "stream": "stdout",
       "text": [
        "- "
       ]
      },
      {
       "output_type": "stream",
       "stream": "stdout",
       "text": [
        "- "
       ]
      },
      {
       "output_type": "stream",
       "stream": "stdout",
       "text": [
        "- "
       ]
      },
      {
       "output_type": "stream",
       "stream": "stdout",
       "text": [
        "- "
       ]
      },
      {
       "output_type": "stream",
       "stream": "stdout",
       "text": [
        "- "
       ]
      },
      {
       "output_type": "stream",
       "stream": "stdout",
       "text": [
        "- "
       ]
      },
      {
       "output_type": "stream",
       "stream": "stdout",
       "text": [
        "- "
       ]
      },
      {
       "output_type": "stream",
       "stream": "stdout",
       "text": [
        "- "
       ]
      },
      {
       "output_type": "stream",
       "stream": "stdout",
       "text": [
        "- "
       ]
      },
      {
       "output_type": "stream",
       "stream": "stdout",
       "text": [
        "- "
       ]
      },
      {
       "output_type": "stream",
       "stream": "stdout",
       "text": [
        "- "
       ]
      },
      {
       "output_type": "stream",
       "stream": "stdout",
       "text": [
        "- "
       ]
      },
      {
       "output_type": "stream",
       "stream": "stdout",
       "text": [
        "- "
       ]
      },
      {
       "output_type": "stream",
       "stream": "stdout",
       "text": [
        "- "
       ]
      },
      {
       "output_type": "stream",
       "stream": "stdout",
       "text": [
        "- "
       ]
      },
      {
       "output_type": "stream",
       "stream": "stdout",
       "text": [
        "- "
       ]
      },
      {
       "output_type": "stream",
       "stream": "stdout",
       "text": [
        "- "
       ]
      },
      {
       "output_type": "stream",
       "stream": "stdout",
       "text": [
        "- "
       ]
      },
      {
       "output_type": "stream",
       "stream": "stdout",
       "text": [
        "- "
       ]
      },
      {
       "output_type": "stream",
       "stream": "stdout",
       "text": [
        "- "
       ]
      },
      {
       "output_type": "stream",
       "stream": "stdout",
       "text": [
        "- "
       ]
      },
      {
       "output_type": "stream",
       "stream": "stdout",
       "text": [
        "- "
       ]
      },
      {
       "output_type": "stream",
       "stream": "stdout",
       "text": [
        "- "
       ]
      },
      {
       "output_type": "stream",
       "stream": "stdout",
       "text": [
        "- "
       ]
      },
      {
       "output_type": "stream",
       "stream": "stdout",
       "text": [
        "- "
       ]
      },
      {
       "output_type": "stream",
       "stream": "stdout",
       "text": [
        "- "
       ]
      },
      {
       "output_type": "stream",
       "stream": "stdout",
       "text": [
        "- "
       ]
      },
      {
       "output_type": "stream",
       "stream": "stdout",
       "text": [
        "- "
       ]
      },
      {
       "output_type": "stream",
       "stream": "stdout",
       "text": [
        "- "
       ]
      },
      {
       "output_type": "stream",
       "stream": "stdout",
       "text": [
        "- "
       ]
      },
      {
       "output_type": "stream",
       "stream": "stdout",
       "text": [
        "- "
       ]
      },
      {
       "output_type": "stream",
       "stream": "stdout",
       "text": [
        "- "
       ]
      },
      {
       "output_type": "stream",
       "stream": "stdout",
       "text": [
        "- "
       ]
      },
      {
       "output_type": "stream",
       "stream": "stdout",
       "text": [
        "- "
       ]
      },
      {
       "output_type": "stream",
       "stream": "stdout",
       "text": [
        "- "
       ]
      },
      {
       "output_type": "stream",
       "stream": "stdout",
       "text": [
        "- "
       ]
      },
      {
       "output_type": "stream",
       "stream": "stdout",
       "text": [
        "- "
       ]
      },
      {
       "output_type": "stream",
       "stream": "stdout",
       "text": [
        "- "
       ]
      },
      {
       "output_type": "stream",
       "stream": "stdout",
       "text": [
        "- "
       ]
      },
      {
       "output_type": "stream",
       "stream": "stdout",
       "text": [
        "- "
       ]
      },
      {
       "output_type": "stream",
       "stream": "stdout",
       "text": [
        "- "
       ]
      },
      {
       "output_type": "stream",
       "stream": "stdout",
       "text": [
        "- "
       ]
      },
      {
       "output_type": "stream",
       "stream": "stdout",
       "text": [
        "- "
       ]
      },
      {
       "output_type": "stream",
       "stream": "stdout",
       "text": [
        "- "
       ]
      },
      {
       "output_type": "stream",
       "stream": "stdout",
       "text": [
        "- "
       ]
      },
      {
       "output_type": "stream",
       "stream": "stdout",
       "text": [
        "- "
       ]
      },
      {
       "output_type": "stream",
       "stream": "stdout",
       "text": [
        "- "
       ]
      },
      {
       "output_type": "stream",
       "stream": "stdout",
       "text": [
        "- "
       ]
      },
      {
       "output_type": "stream",
       "stream": "stdout",
       "text": [
        "- "
       ]
      },
      {
       "output_type": "stream",
       "stream": "stdout",
       "text": [
        "- "
       ]
      },
      {
       "output_type": "stream",
       "stream": "stdout",
       "text": [
        "- "
       ]
      },
      {
       "output_type": "stream",
       "stream": "stdout",
       "text": [
        "- "
       ]
      },
      {
       "output_type": "stream",
       "stream": "stdout",
       "text": [
        "- "
       ]
      },
      {
       "output_type": "stream",
       "stream": "stdout",
       "text": [
        "- "
       ]
      },
      {
       "output_type": "stream",
       "stream": "stdout",
       "text": [
        "- "
       ]
      },
      {
       "output_type": "stream",
       "stream": "stdout",
       "text": [
        "- "
       ]
      },
      {
       "output_type": "stream",
       "stream": "stdout",
       "text": [
        "- "
       ]
      },
      {
       "output_type": "stream",
       "stream": "stdout",
       "text": [
        "- "
       ]
      },
      {
       "output_type": "stream",
       "stream": "stdout",
       "text": [
        "- "
       ]
      },
      {
       "output_type": "stream",
       "stream": "stdout",
       "text": [
        "- "
       ]
      },
      {
       "output_type": "stream",
       "stream": "stdout",
       "text": [
        "- "
       ]
      },
      {
       "output_type": "stream",
       "stream": "stdout",
       "text": [
        "- "
       ]
      },
      {
       "output_type": "stream",
       "stream": "stdout",
       "text": [
        "- "
       ]
      },
      {
       "output_type": "stream",
       "stream": "stdout",
       "text": [
        "- "
       ]
      },
      {
       "output_type": "stream",
       "stream": "stdout",
       "text": [
        "- "
       ]
      },
      {
       "output_type": "stream",
       "stream": "stdout",
       "text": [
        "- "
       ]
      },
      {
       "output_type": "stream",
       "stream": "stdout",
       "text": [
        "- "
       ]
      },
      {
       "output_type": "stream",
       "stream": "stdout",
       "text": [
        "- "
       ]
      },
      {
       "output_type": "stream",
       "stream": "stdout",
       "text": [
        "- "
       ]
      },
      {
       "output_type": "stream",
       "stream": "stdout",
       "text": [
        "- "
       ]
      },
      {
       "output_type": "stream",
       "stream": "stdout",
       "text": [
        "- "
       ]
      },
      {
       "output_type": "stream",
       "stream": "stdout",
       "text": [
        "- "
       ]
      },
      {
       "output_type": "stream",
       "stream": "stdout",
       "text": [
        "- "
       ]
      },
      {
       "output_type": "stream",
       "stream": "stdout",
       "text": [
        "- "
       ]
      },
      {
       "output_type": "stream",
       "stream": "stdout",
       "text": [
        "- "
       ]
      },
      {
       "output_type": "stream",
       "stream": "stdout",
       "text": [
        "- "
       ]
      },
      {
       "output_type": "stream",
       "stream": "stdout",
       "text": [
        "- "
       ]
      },
      {
       "output_type": "stream",
       "stream": "stdout",
       "text": [
        "- "
       ]
      },
      {
       "output_type": "stream",
       "stream": "stdout",
       "text": [
        "- "
       ]
      },
      {
       "output_type": "stream",
       "stream": "stdout",
       "text": [
        "- "
       ]
      },
      {
       "output_type": "stream",
       "stream": "stdout",
       "text": [
        "- "
       ]
      },
      {
       "output_type": "stream",
       "stream": "stdout",
       "text": [
        "- "
       ]
      },
      {
       "output_type": "stream",
       "stream": "stdout",
       "text": [
        "- "
       ]
      },
      {
       "output_type": "stream",
       "stream": "stdout",
       "text": [
        "- "
       ]
      },
      {
       "output_type": "stream",
       "stream": "stdout",
       "text": [
        "- "
       ]
      },
      {
       "output_type": "stream",
       "stream": "stdout",
       "text": [
        "- "
       ]
      },
      {
       "output_type": "stream",
       "stream": "stdout",
       "text": [
        "- "
       ]
      },
      {
       "output_type": "stream",
       "stream": "stdout",
       "text": [
        "- "
       ]
      },
      {
       "output_type": "stream",
       "stream": "stdout",
       "text": [
        "- "
       ]
      },
      {
       "output_type": "stream",
       "stream": "stdout",
       "text": [
        "- "
       ]
      },
      {
       "output_type": "stream",
       "stream": "stdout",
       "text": [
        "- "
       ]
      },
      {
       "output_type": "stream",
       "stream": "stdout",
       "text": [
        "- "
       ]
      },
      {
       "output_type": "stream",
       "stream": "stdout",
       "text": [
        "- "
       ]
      },
      {
       "output_type": "stream",
       "stream": "stdout",
       "text": [
        "- "
       ]
      },
      {
       "output_type": "stream",
       "stream": "stdout",
       "text": [
        "- "
       ]
      },
      {
       "output_type": "stream",
       "stream": "stdout",
       "text": [
        "- "
       ]
      },
      {
       "output_type": "stream",
       "stream": "stdout",
       "text": [
        "- "
       ]
      },
      {
       "output_type": "stream",
       "stream": "stdout",
       "text": [
        "- "
       ]
      },
      {
       "output_type": "stream",
       "stream": "stdout",
       "text": [
        "- "
       ]
      },
      {
       "output_type": "stream",
       "stream": "stdout",
       "text": [
        "- "
       ]
      },
      {
       "output_type": "stream",
       "stream": "stdout",
       "text": [
        "- "
       ]
      },
      {
       "output_type": "stream",
       "stream": "stdout",
       "text": [
        "- "
       ]
      },
      {
       "output_type": "stream",
       "stream": "stdout",
       "text": [
        "- "
       ]
      },
      {
       "output_type": "stream",
       "stream": "stdout",
       "text": [
        "- "
       ]
      },
      {
       "output_type": "stream",
       "stream": "stdout",
       "text": [
        "- "
       ]
      },
      {
       "output_type": "stream",
       "stream": "stdout",
       "text": [
        "- "
       ]
      },
      {
       "output_type": "stream",
       "stream": "stdout",
       "text": [
        "- "
       ]
      },
      {
       "output_type": "stream",
       "stream": "stdout",
       "text": [
        "- "
       ]
      },
      {
       "output_type": "stream",
       "stream": "stdout",
       "text": [
        "- "
       ]
      },
      {
       "output_type": "stream",
       "stream": "stdout",
       "text": [
        "- "
       ]
      },
      {
       "output_type": "stream",
       "stream": "stdout",
       "text": [
        "- "
       ]
      },
      {
       "output_type": "stream",
       "stream": "stdout",
       "text": [
        "- "
       ]
      },
      {
       "output_type": "stream",
       "stream": "stdout",
       "text": [
        "- "
       ]
      },
      {
       "output_type": "stream",
       "stream": "stdout",
       "text": [
        "- "
       ]
      },
      {
       "output_type": "stream",
       "stream": "stdout",
       "text": [
        "- "
       ]
      },
      {
       "output_type": "stream",
       "stream": "stdout",
       "text": [
        "- "
       ]
      },
      {
       "output_type": "stream",
       "stream": "stdout",
       "text": [
        "- "
       ]
      },
      {
       "output_type": "stream",
       "stream": "stdout",
       "text": [
        "- "
       ]
      },
      {
       "output_type": "stream",
       "stream": "stdout",
       "text": [
        "- "
       ]
      },
      {
       "output_type": "stream",
       "stream": "stdout",
       "text": [
        "- "
       ]
      },
      {
       "output_type": "stream",
       "stream": "stdout",
       "text": [
        "- "
       ]
      },
      {
       "output_type": "stream",
       "stream": "stdout",
       "text": [
        "- "
       ]
      },
      {
       "output_type": "stream",
       "stream": "stdout",
       "text": [
        "- "
       ]
      },
      {
       "output_type": "stream",
       "stream": "stdout",
       "text": [
        "- "
       ]
      },
      {
       "output_type": "stream",
       "stream": "stdout",
       "text": [
        "- "
       ]
      },
      {
       "output_type": "stream",
       "stream": "stdout",
       "text": [
        "- "
       ]
      },
      {
       "output_type": "stream",
       "stream": "stdout",
       "text": [
        "- "
       ]
      },
      {
       "output_type": "stream",
       "stream": "stdout",
       "text": [
        "- "
       ]
      },
      {
       "output_type": "stream",
       "stream": "stdout",
       "text": [
        "- "
       ]
      },
      {
       "output_type": "stream",
       "stream": "stdout",
       "text": [
        "- "
       ]
      },
      {
       "output_type": "stream",
       "stream": "stdout",
       "text": [
        "- "
       ]
      },
      {
       "output_type": "stream",
       "stream": "stdout",
       "text": [
        "- "
       ]
      },
      {
       "output_type": "stream",
       "stream": "stdout",
       "text": [
        "- "
       ]
      },
      {
       "output_type": "stream",
       "stream": "stdout",
       "text": [
        "- "
       ]
      },
      {
       "output_type": "stream",
       "stream": "stdout",
       "text": [
        "- "
       ]
      },
      {
       "output_type": "stream",
       "stream": "stdout",
       "text": [
        "- "
       ]
      },
      {
       "output_type": "stream",
       "stream": "stdout",
       "text": [
        "- "
       ]
      },
      {
       "output_type": "stream",
       "stream": "stdout",
       "text": [
        "- "
       ]
      },
      {
       "output_type": "stream",
       "stream": "stdout",
       "text": [
        "- "
       ]
      },
      {
       "output_type": "stream",
       "stream": "stdout",
       "text": [
        "- "
       ]
      },
      {
       "output_type": "stream",
       "stream": "stdout",
       "text": [
        "- "
       ]
      },
      {
       "output_type": "stream",
       "stream": "stdout",
       "text": [
        "- "
       ]
      },
      {
       "output_type": "stream",
       "stream": "stdout",
       "text": [
        "- "
       ]
      },
      {
       "output_type": "stream",
       "stream": "stdout",
       "text": [
        "- "
       ]
      },
      {
       "output_type": "stream",
       "stream": "stdout",
       "text": [
        "- "
       ]
      },
      {
       "output_type": "stream",
       "stream": "stdout",
       "text": [
        "- "
       ]
      },
      {
       "output_type": "stream",
       "stream": "stdout",
       "text": [
        "Epoch 5 complete\n",
        "- "
       ]
      },
      {
       "output_type": "stream",
       "stream": "stdout",
       "text": [
        "- "
       ]
      },
      {
       "output_type": "stream",
       "stream": "stdout",
       "text": [
        "- "
       ]
      },
      {
       "output_type": "stream",
       "stream": "stdout",
       "text": [
        "- "
       ]
      },
      {
       "output_type": "stream",
       "stream": "stdout",
       "text": [
        "- "
       ]
      },
      {
       "output_type": "stream",
       "stream": "stdout",
       "text": [
        "- "
       ]
      },
      {
       "output_type": "stream",
       "stream": "stdout",
       "text": [
        "- "
       ]
      },
      {
       "output_type": "stream",
       "stream": "stdout",
       "text": [
        "- "
       ]
      },
      {
       "output_type": "stream",
       "stream": "stdout",
       "text": [
        "- "
       ]
      },
      {
       "output_type": "stream",
       "stream": "stdout",
       "text": [
        "- "
       ]
      },
      {
       "output_type": "stream",
       "stream": "stdout",
       "text": [
        "- "
       ]
      },
      {
       "output_type": "stream",
       "stream": "stdout",
       "text": [
        "- "
       ]
      },
      {
       "output_type": "stream",
       "stream": "stdout",
       "text": [
        "- "
       ]
      },
      {
       "output_type": "stream",
       "stream": "stdout",
       "text": [
        "- "
       ]
      },
      {
       "output_type": "stream",
       "stream": "stdout",
       "text": [
        "- "
       ]
      },
      {
       "output_type": "stream",
       "stream": "stdout",
       "text": [
        "- "
       ]
      },
      {
       "output_type": "stream",
       "stream": "stdout",
       "text": [
        "- "
       ]
      },
      {
       "output_type": "stream",
       "stream": "stdout",
       "text": [
        "- "
       ]
      },
      {
       "output_type": "stream",
       "stream": "stdout",
       "text": [
        "- "
       ]
      },
      {
       "output_type": "stream",
       "stream": "stdout",
       "text": [
        "- "
       ]
      },
      {
       "output_type": "stream",
       "stream": "stdout",
       "text": [
        "- "
       ]
      },
      {
       "output_type": "stream",
       "stream": "stdout",
       "text": [
        "- "
       ]
      },
      {
       "output_type": "stream",
       "stream": "stdout",
       "text": [
        "- "
       ]
      },
      {
       "output_type": "stream",
       "stream": "stdout",
       "text": [
        "- "
       ]
      },
      {
       "output_type": "stream",
       "stream": "stdout",
       "text": [
        "- "
       ]
      },
      {
       "output_type": "stream",
       "stream": "stdout",
       "text": [
        "- "
       ]
      },
      {
       "output_type": "stream",
       "stream": "stdout",
       "text": [
        "- "
       ]
      },
      {
       "output_type": "stream",
       "stream": "stdout",
       "text": [
        "- "
       ]
      },
      {
       "output_type": "stream",
       "stream": "stdout",
       "text": [
        "- "
       ]
      },
      {
       "output_type": "stream",
       "stream": "stdout",
       "text": [
        "- "
       ]
      },
      {
       "output_type": "stream",
       "stream": "stdout",
       "text": [
        "- "
       ]
      },
      {
       "output_type": "stream",
       "stream": "stdout",
       "text": [
        "- "
       ]
      },
      {
       "output_type": "stream",
       "stream": "stdout",
       "text": [
        "- "
       ]
      },
      {
       "output_type": "stream",
       "stream": "stdout",
       "text": [
        "- "
       ]
      },
      {
       "output_type": "stream",
       "stream": "stdout",
       "text": [
        "- "
       ]
      },
      {
       "output_type": "stream",
       "stream": "stdout",
       "text": [
        "- "
       ]
      },
      {
       "output_type": "stream",
       "stream": "stdout",
       "text": [
        "- "
       ]
      },
      {
       "output_type": "stream",
       "stream": "stdout",
       "text": [
        "- "
       ]
      },
      {
       "output_type": "stream",
       "stream": "stdout",
       "text": [
        "- "
       ]
      },
      {
       "output_type": "stream",
       "stream": "stdout",
       "text": [
        "- "
       ]
      },
      {
       "output_type": "stream",
       "stream": "stdout",
       "text": [
        "- "
       ]
      },
      {
       "output_type": "stream",
       "stream": "stdout",
       "text": [
        "- "
       ]
      },
      {
       "output_type": "stream",
       "stream": "stdout",
       "text": [
        "- "
       ]
      },
      {
       "output_type": "stream",
       "stream": "stdout",
       "text": [
        "- "
       ]
      },
      {
       "output_type": "stream",
       "stream": "stdout",
       "text": [
        "- "
       ]
      },
      {
       "output_type": "stream",
       "stream": "stdout",
       "text": [
        "- "
       ]
      },
      {
       "output_type": "stream",
       "stream": "stdout",
       "text": [
        "- "
       ]
      },
      {
       "output_type": "stream",
       "stream": "stdout",
       "text": [
        "- "
       ]
      },
      {
       "output_type": "stream",
       "stream": "stdout",
       "text": [
        "- "
       ]
      },
      {
       "output_type": "stream",
       "stream": "stdout",
       "text": [
        "- "
       ]
      },
      {
       "output_type": "stream",
       "stream": "stdout",
       "text": [
        "- "
       ]
      },
      {
       "output_type": "stream",
       "stream": "stdout",
       "text": [
        "- "
       ]
      },
      {
       "output_type": "stream",
       "stream": "stdout",
       "text": [
        "- "
       ]
      },
      {
       "output_type": "stream",
       "stream": "stdout",
       "text": [
        "- "
       ]
      },
      {
       "output_type": "stream",
       "stream": "stdout",
       "text": [
        "- "
       ]
      },
      {
       "output_type": "stream",
       "stream": "stdout",
       "text": [
        "- "
       ]
      },
      {
       "output_type": "stream",
       "stream": "stdout",
       "text": [
        "- "
       ]
      },
      {
       "output_type": "stream",
       "stream": "stdout",
       "text": [
        "- "
       ]
      },
      {
       "output_type": "stream",
       "stream": "stdout",
       "text": [
        "- "
       ]
      },
      {
       "output_type": "stream",
       "stream": "stdout",
       "text": [
        "- "
       ]
      },
      {
       "output_type": "stream",
       "stream": "stdout",
       "text": [
        "- "
       ]
      },
      {
       "output_type": "stream",
       "stream": "stdout",
       "text": [
        "- "
       ]
      },
      {
       "output_type": "stream",
       "stream": "stdout",
       "text": [
        "- "
       ]
      },
      {
       "output_type": "stream",
       "stream": "stdout",
       "text": [
        "- "
       ]
      },
      {
       "output_type": "stream",
       "stream": "stdout",
       "text": [
        "- "
       ]
      },
      {
       "output_type": "stream",
       "stream": "stdout",
       "text": [
        "- "
       ]
      },
      {
       "output_type": "stream",
       "stream": "stdout",
       "text": [
        "- "
       ]
      },
      {
       "output_type": "stream",
       "stream": "stdout",
       "text": [
        "- "
       ]
      },
      {
       "output_type": "stream",
       "stream": "stdout",
       "text": [
        "- "
       ]
      },
      {
       "output_type": "stream",
       "stream": "stdout",
       "text": [
        "- "
       ]
      },
      {
       "output_type": "stream",
       "stream": "stdout",
       "text": [
        "- "
       ]
      },
      {
       "output_type": "stream",
       "stream": "stdout",
       "text": [
        "- "
       ]
      },
      {
       "output_type": "stream",
       "stream": "stdout",
       "text": [
        "- "
       ]
      },
      {
       "output_type": "stream",
       "stream": "stdout",
       "text": [
        "- "
       ]
      },
      {
       "output_type": "stream",
       "stream": "stdout",
       "text": [
        "- "
       ]
      },
      {
       "output_type": "stream",
       "stream": "stdout",
       "text": [
        "- "
       ]
      },
      {
       "output_type": "stream",
       "stream": "stdout",
       "text": [
        "- "
       ]
      },
      {
       "output_type": "stream",
       "stream": "stdout",
       "text": [
        "- "
       ]
      },
      {
       "output_type": "stream",
       "stream": "stdout",
       "text": [
        "- "
       ]
      },
      {
       "output_type": "stream",
       "stream": "stdout",
       "text": [
        "- "
       ]
      },
      {
       "output_type": "stream",
       "stream": "stdout",
       "text": [
        "- "
       ]
      },
      {
       "output_type": "stream",
       "stream": "stdout",
       "text": [
        "- "
       ]
      },
      {
       "output_type": "stream",
       "stream": "stdout",
       "text": [
        "- "
       ]
      },
      {
       "output_type": "stream",
       "stream": "stdout",
       "text": [
        "- "
       ]
      },
      {
       "output_type": "stream",
       "stream": "stdout",
       "text": [
        "- "
       ]
      },
      {
       "output_type": "stream",
       "stream": "stdout",
       "text": [
        "- "
       ]
      },
      {
       "output_type": "stream",
       "stream": "stdout",
       "text": [
        "- "
       ]
      },
      {
       "output_type": "stream",
       "stream": "stdout",
       "text": [
        "- "
       ]
      },
      {
       "output_type": "stream",
       "stream": "stdout",
       "text": [
        "- "
       ]
      },
      {
       "output_type": "stream",
       "stream": "stdout",
       "text": [
        "- "
       ]
      },
      {
       "output_type": "stream",
       "stream": "stdout",
       "text": [
        "- "
       ]
      },
      {
       "output_type": "stream",
       "stream": "stdout",
       "text": [
        "- "
       ]
      },
      {
       "output_type": "stream",
       "stream": "stdout",
       "text": [
        "- "
       ]
      },
      {
       "output_type": "stream",
       "stream": "stdout",
       "text": [
        "- "
       ]
      },
      {
       "output_type": "stream",
       "stream": "stdout",
       "text": [
        "- "
       ]
      },
      {
       "output_type": "stream",
       "stream": "stdout",
       "text": [
        "- "
       ]
      },
      {
       "output_type": "stream",
       "stream": "stdout",
       "text": [
        "- "
       ]
      },
      {
       "output_type": "stream",
       "stream": "stdout",
       "text": [
        "- "
       ]
      },
      {
       "output_type": "stream",
       "stream": "stdout",
       "text": [
        "- "
       ]
      },
      {
       "output_type": "stream",
       "stream": "stdout",
       "text": [
        "- "
       ]
      },
      {
       "output_type": "stream",
       "stream": "stdout",
       "text": [
        "- "
       ]
      },
      {
       "output_type": "stream",
       "stream": "stdout",
       "text": [
        "- "
       ]
      },
      {
       "output_type": "stream",
       "stream": "stdout",
       "text": [
        "- "
       ]
      },
      {
       "output_type": "stream",
       "stream": "stdout",
       "text": [
        "- "
       ]
      },
      {
       "output_type": "stream",
       "stream": "stdout",
       "text": [
        "- "
       ]
      },
      {
       "output_type": "stream",
       "stream": "stdout",
       "text": [
        "- "
       ]
      },
      {
       "output_type": "stream",
       "stream": "stdout",
       "text": [
        "- "
       ]
      },
      {
       "output_type": "stream",
       "stream": "stdout",
       "text": [
        "- "
       ]
      },
      {
       "output_type": "stream",
       "stream": "stdout",
       "text": [
        "- "
       ]
      },
      {
       "output_type": "stream",
       "stream": "stdout",
       "text": [
        "- "
       ]
      },
      {
       "output_type": "stream",
       "stream": "stdout",
       "text": [
        "- "
       ]
      },
      {
       "output_type": "stream",
       "stream": "stdout",
       "text": [
        "- "
       ]
      },
      {
       "output_type": "stream",
       "stream": "stdout",
       "text": [
        "- "
       ]
      },
      {
       "output_type": "stream",
       "stream": "stdout",
       "text": [
        "- "
       ]
      },
      {
       "output_type": "stream",
       "stream": "stdout",
       "text": [
        "- "
       ]
      },
      {
       "output_type": "stream",
       "stream": "stdout",
       "text": [
        "- "
       ]
      },
      {
       "output_type": "stream",
       "stream": "stdout",
       "text": [
        "- "
       ]
      },
      {
       "output_type": "stream",
       "stream": "stdout",
       "text": [
        "- "
       ]
      },
      {
       "output_type": "stream",
       "stream": "stdout",
       "text": [
        "- "
       ]
      },
      {
       "output_type": "stream",
       "stream": "stdout",
       "text": [
        "- "
       ]
      },
      {
       "output_type": "stream",
       "stream": "stdout",
       "text": [
        "- "
       ]
      },
      {
       "output_type": "stream",
       "stream": "stdout",
       "text": [
        "- "
       ]
      },
      {
       "output_type": "stream",
       "stream": "stdout",
       "text": [
        "- "
       ]
      },
      {
       "output_type": "stream",
       "stream": "stdout",
       "text": [
        "- "
       ]
      },
      {
       "output_type": "stream",
       "stream": "stdout",
       "text": [
        "- "
       ]
      },
      {
       "output_type": "stream",
       "stream": "stdout",
       "text": [
        "- "
       ]
      },
      {
       "output_type": "stream",
       "stream": "stdout",
       "text": [
        "- "
       ]
      },
      {
       "output_type": "stream",
       "stream": "stdout",
       "text": [
        "- "
       ]
      },
      {
       "output_type": "stream",
       "stream": "stdout",
       "text": [
        "- "
       ]
      },
      {
       "output_type": "stream",
       "stream": "stdout",
       "text": [
        "- "
       ]
      },
      {
       "output_type": "stream",
       "stream": "stdout",
       "text": [
        "- "
       ]
      },
      {
       "output_type": "stream",
       "stream": "stdout",
       "text": [
        "- "
       ]
      },
      {
       "output_type": "stream",
       "stream": "stdout",
       "text": [
        "- "
       ]
      },
      {
       "output_type": "stream",
       "stream": "stdout",
       "text": [
        "- "
       ]
      },
      {
       "output_type": "stream",
       "stream": "stdout",
       "text": [
        "- "
       ]
      },
      {
       "output_type": "stream",
       "stream": "stdout",
       "text": [
        "- "
       ]
      },
      {
       "output_type": "stream",
       "stream": "stdout",
       "text": [
        "- "
       ]
      },
      {
       "output_type": "stream",
       "stream": "stdout",
       "text": [
        "- "
       ]
      },
      {
       "output_type": "stream",
       "stream": "stdout",
       "text": [
        "- "
       ]
      },
      {
       "output_type": "stream",
       "stream": "stdout",
       "text": [
        "- "
       ]
      },
      {
       "output_type": "stream",
       "stream": "stdout",
       "text": [
        "- "
       ]
      },
      {
       "output_type": "stream",
       "stream": "stdout",
       "text": [
        "- "
       ]
      },
      {
       "output_type": "stream",
       "stream": "stdout",
       "text": [
        "- "
       ]
      },
      {
       "output_type": "stream",
       "stream": "stdout",
       "text": [
        "- "
       ]
      },
      {
       "output_type": "stream",
       "stream": "stdout",
       "text": [
        "- "
       ]
      },
      {
       "output_type": "stream",
       "stream": "stdout",
       "text": [
        "- "
       ]
      },
      {
       "output_type": "stream",
       "stream": "stdout",
       "text": [
        "- "
       ]
      },
      {
       "output_type": "stream",
       "stream": "stdout",
       "text": [
        "- "
       ]
      },
      {
       "output_type": "stream",
       "stream": "stdout",
       "text": [
        "- "
       ]
      },
      {
       "output_type": "stream",
       "stream": "stdout",
       "text": [
        "- "
       ]
      },
      {
       "output_type": "stream",
       "stream": "stdout",
       "text": [
        "- "
       ]
      },
      {
       "output_type": "stream",
       "stream": "stdout",
       "text": [
        "- "
       ]
      },
      {
       "output_type": "stream",
       "stream": "stdout",
       "text": [
        "- "
       ]
      },
      {
       "output_type": "stream",
       "stream": "stdout",
       "text": [
        "- "
       ]
      },
      {
       "output_type": "stream",
       "stream": "stdout",
       "text": [
        "- "
       ]
      },
      {
       "output_type": "stream",
       "stream": "stdout",
       "text": [
        "- "
       ]
      },
      {
       "output_type": "stream",
       "stream": "stdout",
       "text": [
        "- "
       ]
      },
      {
       "output_type": "stream",
       "stream": "stdout",
       "text": [
        "- "
       ]
      },
      {
       "output_type": "stream",
       "stream": "stdout",
       "text": [
        "- "
       ]
      },
      {
       "output_type": "stream",
       "stream": "stdout",
       "text": [
        "- "
       ]
      },
      {
       "output_type": "stream",
       "stream": "stdout",
       "text": [
        "- "
       ]
      },
      {
       "output_type": "stream",
       "stream": "stdout",
       "text": [
        "- "
       ]
      },
      {
       "output_type": "stream",
       "stream": "stdout",
       "text": [
        "- "
       ]
      },
      {
       "output_type": "stream",
       "stream": "stdout",
       "text": [
        "- "
       ]
      },
      {
       "output_type": "stream",
       "stream": "stdout",
       "text": [
        "- "
       ]
      },
      {
       "output_type": "stream",
       "stream": "stdout",
       "text": [
        "- "
       ]
      },
      {
       "output_type": "stream",
       "stream": "stdout",
       "text": [
        "- "
       ]
      },
      {
       "output_type": "stream",
       "stream": "stdout",
       "text": [
        "- "
       ]
      },
      {
       "output_type": "stream",
       "stream": "stdout",
       "text": [
        "- "
       ]
      },
      {
       "output_type": "stream",
       "stream": "stdout",
       "text": [
        "- "
       ]
      },
      {
       "output_type": "stream",
       "stream": "stdout",
       "text": [
        "- "
       ]
      },
      {
       "output_type": "stream",
       "stream": "stdout",
       "text": [
        "- "
       ]
      },
      {
       "output_type": "stream",
       "stream": "stdout",
       "text": [
        "- "
       ]
      },
      {
       "output_type": "stream",
       "stream": "stdout",
       "text": [
        "- "
       ]
      },
      {
       "output_type": "stream",
       "stream": "stdout",
       "text": [
        "- "
       ]
      },
      {
       "output_type": "stream",
       "stream": "stdout",
       "text": [
        "- "
       ]
      },
      {
       "output_type": "stream",
       "stream": "stdout",
       "text": [
        "- "
       ]
      },
      {
       "output_type": "stream",
       "stream": "stdout",
       "text": [
        "- "
       ]
      },
      {
       "output_type": "stream",
       "stream": "stdout",
       "text": [
        "- "
       ]
      },
      {
       "output_type": "stream",
       "stream": "stdout",
       "text": [
        "- "
       ]
      },
      {
       "output_type": "stream",
       "stream": "stdout",
       "text": [
        "- "
       ]
      },
      {
       "output_type": "stream",
       "stream": "stdout",
       "text": [
        "- "
       ]
      },
      {
       "output_type": "stream",
       "stream": "stdout",
       "text": [
        "- "
       ]
      },
      {
       "output_type": "stream",
       "stream": "stdout",
       "text": [
        "- "
       ]
      },
      {
       "output_type": "stream",
       "stream": "stdout",
       "text": [
        "- "
       ]
      },
      {
       "output_type": "stream",
       "stream": "stdout",
       "text": [
        "- "
       ]
      },
      {
       "output_type": "stream",
       "stream": "stdout",
       "text": [
        "- "
       ]
      },
      {
       "output_type": "stream",
       "stream": "stdout",
       "text": [
        "- "
       ]
      },
      {
       "output_type": "stream",
       "stream": "stdout",
       "text": [
        "- "
       ]
      },
      {
       "output_type": "stream",
       "stream": "stdout",
       "text": [
        "- "
       ]
      },
      {
       "output_type": "stream",
       "stream": "stdout",
       "text": [
        "- "
       ]
      },
      {
       "output_type": "stream",
       "stream": "stdout",
       "text": [
        "- "
       ]
      },
      {
       "output_type": "stream",
       "stream": "stdout",
       "text": [
        "- "
       ]
      },
      {
       "output_type": "stream",
       "stream": "stdout",
       "text": [
        "- "
       ]
      },
      {
       "output_type": "stream",
       "stream": "stdout",
       "text": [
        "- "
       ]
      },
      {
       "output_type": "stream",
       "stream": "stdout",
       "text": [
        "- "
       ]
      },
      {
       "output_type": "stream",
       "stream": "stdout",
       "text": [
        "- "
       ]
      },
      {
       "output_type": "stream",
       "stream": "stdout",
       "text": [
        "- "
       ]
      },
      {
       "output_type": "stream",
       "stream": "stdout",
       "text": [
        "- "
       ]
      },
      {
       "output_type": "stream",
       "stream": "stdout",
       "text": [
        "- "
       ]
      },
      {
       "output_type": "stream",
       "stream": "stdout",
       "text": [
        "- "
       ]
      },
      {
       "output_type": "stream",
       "stream": "stdout",
       "text": [
        "- "
       ]
      },
      {
       "output_type": "stream",
       "stream": "stdout",
       "text": [
        "- "
       ]
      },
      {
       "output_type": "stream",
       "stream": "stdout",
       "text": [
        "- "
       ]
      },
      {
       "output_type": "stream",
       "stream": "stdout",
       "text": [
        "- "
       ]
      },
      {
       "output_type": "stream",
       "stream": "stdout",
       "text": [
        "- "
       ]
      },
      {
       "output_type": "stream",
       "stream": "stdout",
       "text": [
        "- "
       ]
      },
      {
       "output_type": "stream",
       "stream": "stdout",
       "text": [
        "- "
       ]
      },
      {
       "output_type": "stream",
       "stream": "stdout",
       "text": [
        "- "
       ]
      },
      {
       "output_type": "stream",
       "stream": "stdout",
       "text": [
        "- "
       ]
      },
      {
       "output_type": "stream",
       "stream": "stdout",
       "text": [
        "- "
       ]
      },
      {
       "output_type": "stream",
       "stream": "stdout",
       "text": [
        "- "
       ]
      },
      {
       "output_type": "stream",
       "stream": "stdout",
       "text": [
        "- "
       ]
      },
      {
       "output_type": "stream",
       "stream": "stdout",
       "text": [
        "- "
       ]
      },
      {
       "output_type": "stream",
       "stream": "stdout",
       "text": [
        "- "
       ]
      },
      {
       "output_type": "stream",
       "stream": "stdout",
       "text": [
        "- "
       ]
      },
      {
       "output_type": "stream",
       "stream": "stdout",
       "text": [
        "- "
       ]
      },
      {
       "output_type": "stream",
       "stream": "stdout",
       "text": [
        "- "
       ]
      },
      {
       "output_type": "stream",
       "stream": "stdout",
       "text": [
        "- "
       ]
      },
      {
       "output_type": "stream",
       "stream": "stdout",
       "text": [
        "- "
       ]
      },
      {
       "output_type": "stream",
       "stream": "stdout",
       "text": [
        "- "
       ]
      },
      {
       "output_type": "stream",
       "stream": "stdout",
       "text": [
        "- "
       ]
      },
      {
       "output_type": "stream",
       "stream": "stdout",
       "text": [
        "- "
       ]
      },
      {
       "output_type": "stream",
       "stream": "stdout",
       "text": [
        "- "
       ]
      },
      {
       "output_type": "stream",
       "stream": "stdout",
       "text": [
        "- "
       ]
      },
      {
       "output_type": "stream",
       "stream": "stdout",
       "text": [
        "- "
       ]
      },
      {
       "output_type": "stream",
       "stream": "stdout",
       "text": [
        "- "
       ]
      },
      {
       "output_type": "stream",
       "stream": "stdout",
       "text": [
        "- "
       ]
      },
      {
       "output_type": "stream",
       "stream": "stdout",
       "text": [
        "- "
       ]
      },
      {
       "output_type": "stream",
       "stream": "stdout",
       "text": [
        "- "
       ]
      },
      {
       "output_type": "stream",
       "stream": "stdout",
       "text": [
        "- "
       ]
      },
      {
       "output_type": "stream",
       "stream": "stdout",
       "text": [
        "- "
       ]
      },
      {
       "output_type": "stream",
       "stream": "stdout",
       "text": [
        "- "
       ]
      },
      {
       "output_type": "stream",
       "stream": "stdout",
       "text": [
        "- "
       ]
      },
      {
       "output_type": "stream",
       "stream": "stdout",
       "text": [
        "- "
       ]
      },
      {
       "output_type": "stream",
       "stream": "stdout",
       "text": [
        "- "
       ]
      },
      {
       "output_type": "stream",
       "stream": "stdout",
       "text": [
        "- "
       ]
      },
      {
       "output_type": "stream",
       "stream": "stdout",
       "text": [
        "- "
       ]
      },
      {
       "output_type": "stream",
       "stream": "stdout",
       "text": [
        "- "
       ]
      },
      {
       "output_type": "stream",
       "stream": "stdout",
       "text": [
        "- "
       ]
      },
      {
       "output_type": "stream",
       "stream": "stdout",
       "text": [
        "- "
       ]
      },
      {
       "output_type": "stream",
       "stream": "stdout",
       "text": [
        "- "
       ]
      },
      {
       "output_type": "stream",
       "stream": "stdout",
       "text": [
        "- "
       ]
      },
      {
       "output_type": "stream",
       "stream": "stdout",
       "text": [
        "- "
       ]
      },
      {
       "output_type": "stream",
       "stream": "stdout",
       "text": [
        "- "
       ]
      },
      {
       "output_type": "stream",
       "stream": "stdout",
       "text": [
        "- "
       ]
      },
      {
       "output_type": "stream",
       "stream": "stdout",
       "text": [
        "- "
       ]
      },
      {
       "output_type": "stream",
       "stream": "stdout",
       "text": [
        "- "
       ]
      },
      {
       "output_type": "stream",
       "stream": "stdout",
       "text": [
        "- "
       ]
      },
      {
       "output_type": "stream",
       "stream": "stdout",
       "text": [
        "- "
       ]
      },
      {
       "output_type": "stream",
       "stream": "stdout",
       "text": [
        "- "
       ]
      },
      {
       "output_type": "stream",
       "stream": "stdout",
       "text": [
        "- "
       ]
      },
      {
       "output_type": "stream",
       "stream": "stdout",
       "text": [
        "- "
       ]
      },
      {
       "output_type": "stream",
       "stream": "stdout",
       "text": [
        "- "
       ]
      },
      {
       "output_type": "stream",
       "stream": "stdout",
       "text": [
        "- "
       ]
      },
      {
       "output_type": "stream",
       "stream": "stdout",
       "text": [
        "- "
       ]
      },
      {
       "output_type": "stream",
       "stream": "stdout",
       "text": [
        "- "
       ]
      },
      {
       "output_type": "stream",
       "stream": "stdout",
       "text": [
        "- "
       ]
      },
      {
       "output_type": "stream",
       "stream": "stdout",
       "text": [
        "- "
       ]
      },
      {
       "output_type": "stream",
       "stream": "stdout",
       "text": [
        "- "
       ]
      },
      {
       "output_type": "stream",
       "stream": "stdout",
       "text": [
        "- "
       ]
      },
      {
       "output_type": "stream",
       "stream": "stdout",
       "text": [
        "- "
       ]
      },
      {
       "output_type": "stream",
       "stream": "stdout",
       "text": [
        "- "
       ]
      },
      {
       "output_type": "stream",
       "stream": "stdout",
       "text": [
        "- "
       ]
      },
      {
       "output_type": "stream",
       "stream": "stdout",
       "text": [
        "- "
       ]
      },
      {
       "output_type": "stream",
       "stream": "stdout",
       "text": [
        "- "
       ]
      },
      {
       "output_type": "stream",
       "stream": "stdout",
       "text": [
        "- "
       ]
      },
      {
       "output_type": "stream",
       "stream": "stdout",
       "text": [
        "- "
       ]
      },
      {
       "output_type": "stream",
       "stream": "stdout",
       "text": [
        "- "
       ]
      },
      {
       "output_type": "stream",
       "stream": "stdout",
       "text": [
        "- "
       ]
      },
      {
       "output_type": "stream",
       "stream": "stdout",
       "text": [
        "- "
       ]
      },
      {
       "output_type": "stream",
       "stream": "stdout",
       "text": [
        "- "
       ]
      },
      {
       "output_type": "stream",
       "stream": "stdout",
       "text": [
        "- "
       ]
      },
      {
       "output_type": "stream",
       "stream": "stdout",
       "text": [
        "- "
       ]
      },
      {
       "output_type": "stream",
       "stream": "stdout",
       "text": [
        "- "
       ]
      },
      {
       "output_type": "stream",
       "stream": "stdout",
       "text": [
        "- "
       ]
      },
      {
       "output_type": "stream",
       "stream": "stdout",
       "text": [
        "- "
       ]
      },
      {
       "output_type": "stream",
       "stream": "stdout",
       "text": [
        "- "
       ]
      },
      {
       "output_type": "stream",
       "stream": "stdout",
       "text": [
        "- "
       ]
      },
      {
       "output_type": "stream",
       "stream": "stdout",
       "text": [
        "- "
       ]
      },
      {
       "output_type": "stream",
       "stream": "stdout",
       "text": [
        "- "
       ]
      },
      {
       "output_type": "stream",
       "stream": "stdout",
       "text": [
        "- "
       ]
      },
      {
       "output_type": "stream",
       "stream": "stdout",
       "text": [
        "- "
       ]
      },
      {
       "output_type": "stream",
       "stream": "stdout",
       "text": [
        "- "
       ]
      },
      {
       "output_type": "stream",
       "stream": "stdout",
       "text": [
        "- "
       ]
      },
      {
       "output_type": "stream",
       "stream": "stdout",
       "text": [
        "- "
       ]
      },
      {
       "output_type": "stream",
       "stream": "stdout",
       "text": [
        "- "
       ]
      },
      {
       "output_type": "stream",
       "stream": "stdout",
       "text": [
        "- "
       ]
      },
      {
       "output_type": "stream",
       "stream": "stdout",
       "text": [
        "- "
       ]
      },
      {
       "output_type": "stream",
       "stream": "stdout",
       "text": [
        "- "
       ]
      },
      {
       "output_type": "stream",
       "stream": "stdout",
       "text": [
        "- "
       ]
      },
      {
       "output_type": "stream",
       "stream": "stdout",
       "text": [
        "- "
       ]
      },
      {
       "output_type": "stream",
       "stream": "stdout",
       "text": [
        "- "
       ]
      },
      {
       "output_type": "stream",
       "stream": "stdout",
       "text": [
        "- "
       ]
      },
      {
       "output_type": "stream",
       "stream": "stdout",
       "text": [
        "- "
       ]
      },
      {
       "output_type": "stream",
       "stream": "stdout",
       "text": [
        "- "
       ]
      },
      {
       "output_type": "stream",
       "stream": "stdout",
       "text": [
        "- "
       ]
      },
      {
       "output_type": "stream",
       "stream": "stdout",
       "text": [
        "- "
       ]
      },
      {
       "output_type": "stream",
       "stream": "stdout",
       "text": [
        "- "
       ]
      },
      {
       "output_type": "stream",
       "stream": "stdout",
       "text": [
        "- "
       ]
      },
      {
       "output_type": "stream",
       "stream": "stdout",
       "text": [
        "- "
       ]
      },
      {
       "output_type": "stream",
       "stream": "stdout",
       "text": [
        "- "
       ]
      },
      {
       "output_type": "stream",
       "stream": "stdout",
       "text": [
        "- "
       ]
      },
      {
       "output_type": "stream",
       "stream": "stdout",
       "text": [
        "- "
       ]
      },
      {
       "output_type": "stream",
       "stream": "stdout",
       "text": [
        "- "
       ]
      },
      {
       "output_type": "stream",
       "stream": "stdout",
       "text": [
        "- "
       ]
      },
      {
       "output_type": "stream",
       "stream": "stdout",
       "text": [
        "- "
       ]
      },
      {
       "output_type": "stream",
       "stream": "stdout",
       "text": [
        "- "
       ]
      },
      {
       "output_type": "stream",
       "stream": "stdout",
       "text": [
        "- "
       ]
      },
      {
       "output_type": "stream",
       "stream": "stdout",
       "text": [
        "- "
       ]
      },
      {
       "output_type": "stream",
       "stream": "stdout",
       "text": [
        "- "
       ]
      },
      {
       "output_type": "stream",
       "stream": "stdout",
       "text": [
        "- "
       ]
      },
      {
       "output_type": "stream",
       "stream": "stdout",
       "text": [
        "- "
       ]
      },
      {
       "output_type": "stream",
       "stream": "stdout",
       "text": [
        "- "
       ]
      },
      {
       "output_type": "stream",
       "stream": "stdout",
       "text": [
        "- "
       ]
      },
      {
       "output_type": "stream",
       "stream": "stdout",
       "text": [
        "- "
       ]
      },
      {
       "output_type": "stream",
       "stream": "stdout",
       "text": [
        "- "
       ]
      },
      {
       "output_type": "stream",
       "stream": "stdout",
       "text": [
        "- "
       ]
      },
      {
       "output_type": "stream",
       "stream": "stdout",
       "text": [
        "- "
       ]
      },
      {
       "output_type": "stream",
       "stream": "stdout",
       "text": [
        "- "
       ]
      },
      {
       "output_type": "stream",
       "stream": "stdout",
       "text": [
        "- "
       ]
      },
      {
       "output_type": "stream",
       "stream": "stdout",
       "text": [
        "- "
       ]
      },
      {
       "output_type": "stream",
       "stream": "stdout",
       "text": [
        "- "
       ]
      },
      {
       "output_type": "stream",
       "stream": "stdout",
       "text": [
        "- "
       ]
      },
      {
       "output_type": "stream",
       "stream": "stdout",
       "text": [
        "- "
       ]
      },
      {
       "output_type": "stream",
       "stream": "stdout",
       "text": [
        "- "
       ]
      },
      {
       "output_type": "stream",
       "stream": "stdout",
       "text": [
        "- "
       ]
      },
      {
       "output_type": "stream",
       "stream": "stdout",
       "text": [
        "- "
       ]
      },
      {
       "output_type": "stream",
       "stream": "stdout",
       "text": [
        "- "
       ]
      },
      {
       "output_type": "stream",
       "stream": "stdout",
       "text": [
        "- "
       ]
      },
      {
       "output_type": "stream",
       "stream": "stdout",
       "text": [
        "- "
       ]
      },
      {
       "output_type": "stream",
       "stream": "stdout",
       "text": [
        "- "
       ]
      },
      {
       "output_type": "stream",
       "stream": "stdout",
       "text": [
        "- "
       ]
      },
      {
       "output_type": "stream",
       "stream": "stdout",
       "text": [
        "- "
       ]
      },
      {
       "output_type": "stream",
       "stream": "stdout",
       "text": [
        "- "
       ]
      },
      {
       "output_type": "stream",
       "stream": "stdout",
       "text": [
        "- "
       ]
      },
      {
       "output_type": "stream",
       "stream": "stdout",
       "text": [
        "- "
       ]
      },
      {
       "output_type": "stream",
       "stream": "stdout",
       "text": [
        "- "
       ]
      },
      {
       "output_type": "stream",
       "stream": "stdout",
       "text": [
        "- "
       ]
      },
      {
       "output_type": "stream",
       "stream": "stdout",
       "text": [
        "- "
       ]
      },
      {
       "output_type": "stream",
       "stream": "stdout",
       "text": [
        "- "
       ]
      },
      {
       "output_type": "stream",
       "stream": "stdout",
       "text": [
        "- "
       ]
      },
      {
       "output_type": "stream",
       "stream": "stdout",
       "text": [
        "- "
       ]
      },
      {
       "output_type": "stream",
       "stream": "stdout",
       "text": [
        "- "
       ]
      },
      {
       "output_type": "stream",
       "stream": "stdout",
       "text": [
        "- "
       ]
      },
      {
       "output_type": "stream",
       "stream": "stdout",
       "text": [
        "- "
       ]
      },
      {
       "output_type": "stream",
       "stream": "stdout",
       "text": [
        "- "
       ]
      },
      {
       "output_type": "stream",
       "stream": "stdout",
       "text": [
        "- "
       ]
      },
      {
       "output_type": "stream",
       "stream": "stdout",
       "text": [
        "- "
       ]
      },
      {
       "output_type": "stream",
       "stream": "stdout",
       "text": [
        "- "
       ]
      },
      {
       "output_type": "stream",
       "stream": "stdout",
       "text": [
        "- "
       ]
      },
      {
       "output_type": "stream",
       "stream": "stdout",
       "text": [
        "- "
       ]
      },
      {
       "output_type": "stream",
       "stream": "stdout",
       "text": [
        "- "
       ]
      },
      {
       "output_type": "stream",
       "stream": "stdout",
       "text": [
        "- "
       ]
      },
      {
       "output_type": "stream",
       "stream": "stdout",
       "text": [
        "- "
       ]
      },
      {
       "output_type": "stream",
       "stream": "stdout",
       "text": [
        "- "
       ]
      },
      {
       "output_type": "stream",
       "stream": "stdout",
       "text": [
        "- "
       ]
      },
      {
       "output_type": "stream",
       "stream": "stdout",
       "text": [
        "- "
       ]
      },
      {
       "output_type": "stream",
       "stream": "stdout",
       "text": [
        "- "
       ]
      },
      {
       "output_type": "stream",
       "stream": "stdout",
       "text": [
        "- "
       ]
      },
      {
       "output_type": "stream",
       "stream": "stdout",
       "text": [
        "- "
       ]
      },
      {
       "output_type": "stream",
       "stream": "stdout",
       "text": [
        "- "
       ]
      },
      {
       "output_type": "stream",
       "stream": "stdout",
       "text": [
        "- "
       ]
      },
      {
       "output_type": "stream",
       "stream": "stdout",
       "text": [
        "- "
       ]
      },
      {
       "output_type": "stream",
       "stream": "stdout",
       "text": [
        "- "
       ]
      },
      {
       "output_type": "stream",
       "stream": "stdout",
       "text": [
        "- "
       ]
      },
      {
       "output_type": "stream",
       "stream": "stdout",
       "text": [
        "- "
       ]
      },
      {
       "output_type": "stream",
       "stream": "stdout",
       "text": [
        "- "
       ]
      },
      {
       "output_type": "stream",
       "stream": "stdout",
       "text": [
        "- "
       ]
      },
      {
       "output_type": "stream",
       "stream": "stdout",
       "text": [
        "- "
       ]
      },
      {
       "output_type": "stream",
       "stream": "stdout",
       "text": [
        "- "
       ]
      },
      {
       "output_type": "stream",
       "stream": "stdout",
       "text": [
        "- "
       ]
      },
      {
       "output_type": "stream",
       "stream": "stdout",
       "text": [
        "- "
       ]
      },
      {
       "output_type": "stream",
       "stream": "stdout",
       "text": [
        "- "
       ]
      },
      {
       "output_type": "stream",
       "stream": "stdout",
       "text": [
        "- "
       ]
      },
      {
       "output_type": "stream",
       "stream": "stdout",
       "text": [
        "- "
       ]
      },
      {
       "output_type": "stream",
       "stream": "stdout",
       "text": [
        "- "
       ]
      },
      {
       "output_type": "stream",
       "stream": "stdout",
       "text": [
        "- "
       ]
      },
      {
       "output_type": "stream",
       "stream": "stdout",
       "text": [
        "- "
       ]
      },
      {
       "output_type": "stream",
       "stream": "stdout",
       "text": [
        "- "
       ]
      },
      {
       "output_type": "stream",
       "stream": "stdout",
       "text": [
        "- "
       ]
      },
      {
       "output_type": "stream",
       "stream": "stdout",
       "text": [
        "- "
       ]
      },
      {
       "output_type": "stream",
       "stream": "stdout",
       "text": [
        "- "
       ]
      },
      {
       "output_type": "stream",
       "stream": "stdout",
       "text": [
        "- "
       ]
      },
      {
       "output_type": "stream",
       "stream": "stdout",
       "text": [
        "- "
       ]
      },
      {
       "output_type": "stream",
       "stream": "stdout",
       "text": [
        "- "
       ]
      },
      {
       "output_type": "stream",
       "stream": "stdout",
       "text": [
        "- "
       ]
      },
      {
       "output_type": "stream",
       "stream": "stdout",
       "text": [
        "- "
       ]
      },
      {
       "output_type": "stream",
       "stream": "stdout",
       "text": [
        "- "
       ]
      },
      {
       "output_type": "stream",
       "stream": "stdout",
       "text": [
        "- "
       ]
      },
      {
       "output_type": "stream",
       "stream": "stdout",
       "text": [
        "- "
       ]
      },
      {
       "output_type": "stream",
       "stream": "stdout",
       "text": [
        "- "
       ]
      },
      {
       "output_type": "stream",
       "stream": "stdout",
       "text": [
        "- "
       ]
      },
      {
       "output_type": "stream",
       "stream": "stdout",
       "text": [
        "- "
       ]
      },
      {
       "output_type": "stream",
       "stream": "stdout",
       "text": [
        "- "
       ]
      },
      {
       "output_type": "stream",
       "stream": "stdout",
       "text": [
        "- "
       ]
      },
      {
       "output_type": "stream",
       "stream": "stdout",
       "text": [
        "- "
       ]
      },
      {
       "output_type": "stream",
       "stream": "stdout",
       "text": [
        "- "
       ]
      },
      {
       "output_type": "stream",
       "stream": "stdout",
       "text": [
        "- "
       ]
      },
      {
       "output_type": "stream",
       "stream": "stdout",
       "text": [
        "- "
       ]
      },
      {
       "output_type": "stream",
       "stream": "stdout",
       "text": [
        "- "
       ]
      },
      {
       "output_type": "stream",
       "stream": "stdout",
       "text": [
        "- "
       ]
      },
      {
       "output_type": "stream",
       "stream": "stdout",
       "text": [
        "- "
       ]
      },
      {
       "output_type": "stream",
       "stream": "stdout",
       "text": [
        "- "
       ]
      },
      {
       "output_type": "stream",
       "stream": "stdout",
       "text": [
        "- "
       ]
      },
      {
       "output_type": "stream",
       "stream": "stdout",
       "text": [
        "- "
       ]
      },
      {
       "output_type": "stream",
       "stream": "stdout",
       "text": [
        "- "
       ]
      },
      {
       "output_type": "stream",
       "stream": "stdout",
       "text": [
        "- "
       ]
      },
      {
       "output_type": "stream",
       "stream": "stdout",
       "text": [
        "- "
       ]
      },
      {
       "output_type": "stream",
       "stream": "stdout",
       "text": [
        "- "
       ]
      },
      {
       "output_type": "stream",
       "stream": "stdout",
       "text": [
        "- "
       ]
      },
      {
       "output_type": "stream",
       "stream": "stdout",
       "text": [
        "- "
       ]
      },
      {
       "output_type": "stream",
       "stream": "stdout",
       "text": [
        "- "
       ]
      },
      {
       "output_type": "stream",
       "stream": "stdout",
       "text": [
        "- "
       ]
      },
      {
       "output_type": "stream",
       "stream": "stdout",
       "text": [
        "- "
       ]
      },
      {
       "output_type": "stream",
       "stream": "stdout",
       "text": [
        "- "
       ]
      },
      {
       "output_type": "stream",
       "stream": "stdout",
       "text": [
        "- "
       ]
      },
      {
       "output_type": "stream",
       "stream": "stdout",
       "text": [
        "- "
       ]
      },
      {
       "output_type": "stream",
       "stream": "stdout",
       "text": [
        "- "
       ]
      },
      {
       "output_type": "stream",
       "stream": "stdout",
       "text": [
        "- "
       ]
      },
      {
       "output_type": "stream",
       "stream": "stdout",
       "text": [
        "- "
       ]
      },
      {
       "output_type": "stream",
       "stream": "stdout",
       "text": [
        "- "
       ]
      },
      {
       "output_type": "stream",
       "stream": "stdout",
       "text": [
        "- "
       ]
      },
      {
       "output_type": "stream",
       "stream": "stdout",
       "text": [
        "- "
       ]
      },
      {
       "output_type": "stream",
       "stream": "stdout",
       "text": [
        "- "
       ]
      },
      {
       "output_type": "stream",
       "stream": "stdout",
       "text": [
        "- "
       ]
      },
      {
       "output_type": "stream",
       "stream": "stdout",
       "text": [
        "- "
       ]
      },
      {
       "output_type": "stream",
       "stream": "stdout",
       "text": [
        "- "
       ]
      },
      {
       "output_type": "stream",
       "stream": "stdout",
       "text": [
        "- "
       ]
      },
      {
       "output_type": "stream",
       "stream": "stdout",
       "text": [
        "- "
       ]
      },
      {
       "output_type": "stream",
       "stream": "stdout",
       "text": [
        "- "
       ]
      },
      {
       "output_type": "stream",
       "stream": "stdout",
       "text": [
        "- "
       ]
      },
      {
       "output_type": "stream",
       "stream": "stdout",
       "text": [
        "- "
       ]
      },
      {
       "output_type": "stream",
       "stream": "stdout",
       "text": [
        "- "
       ]
      },
      {
       "output_type": "stream",
       "stream": "stdout",
       "text": [
        "- "
       ]
      },
      {
       "output_type": "stream",
       "stream": "stdout",
       "text": [
        "- "
       ]
      },
      {
       "output_type": "stream",
       "stream": "stdout",
       "text": [
        "- "
       ]
      },
      {
       "output_type": "stream",
       "stream": "stdout",
       "text": [
        "- "
       ]
      },
      {
       "output_type": "stream",
       "stream": "stdout",
       "text": [
        "- "
       ]
      },
      {
       "output_type": "stream",
       "stream": "stdout",
       "text": [
        "- "
       ]
      },
      {
       "output_type": "stream",
       "stream": "stdout",
       "text": [
        "- "
       ]
      },
      {
       "output_type": "stream",
       "stream": "stdout",
       "text": [
        "- "
       ]
      },
      {
       "output_type": "stream",
       "stream": "stdout",
       "text": [
        "- "
       ]
      },
      {
       "output_type": "stream",
       "stream": "stdout",
       "text": [
        "- "
       ]
      },
      {
       "output_type": "stream",
       "stream": "stdout",
       "text": [
        "- "
       ]
      },
      {
       "output_type": "stream",
       "stream": "stdout",
       "text": [
        "- "
       ]
      },
      {
       "output_type": "stream",
       "stream": "stdout",
       "text": [
        "- "
       ]
      },
      {
       "output_type": "stream",
       "stream": "stdout",
       "text": [
        "- "
       ]
      },
      {
       "output_type": "stream",
       "stream": "stdout",
       "text": [
        "- "
       ]
      },
      {
       "output_type": "stream",
       "stream": "stdout",
       "text": [
        "- "
       ]
      },
      {
       "output_type": "stream",
       "stream": "stdout",
       "text": [
        "- "
       ]
      },
      {
       "output_type": "stream",
       "stream": "stdout",
       "text": [
        "- "
       ]
      },
      {
       "output_type": "stream",
       "stream": "stdout",
       "text": [
        "- "
       ]
      },
      {
       "output_type": "stream",
       "stream": "stdout",
       "text": [
        "- "
       ]
      },
      {
       "output_type": "stream",
       "stream": "stdout",
       "text": [
        "- "
       ]
      },
      {
       "output_type": "stream",
       "stream": "stdout",
       "text": [
        "- "
       ]
      },
      {
       "output_type": "stream",
       "stream": "stdout",
       "text": [
        "- "
       ]
      },
      {
       "output_type": "stream",
       "stream": "stdout",
       "text": [
        "- "
       ]
      },
      {
       "output_type": "stream",
       "stream": "stdout",
       "text": [
        "- "
       ]
      },
      {
       "output_type": "stream",
       "stream": "stdout",
       "text": [
        "- "
       ]
      },
      {
       "output_type": "stream",
       "stream": "stdout",
       "text": [
        "- "
       ]
      },
      {
       "output_type": "stream",
       "stream": "stdout",
       "text": [
        "- "
       ]
      },
      {
       "output_type": "stream",
       "stream": "stdout",
       "text": [
        "- "
       ]
      },
      {
       "output_type": "stream",
       "stream": "stdout",
       "text": [
        "- "
       ]
      },
      {
       "output_type": "stream",
       "stream": "stdout",
       "text": [
        "- "
       ]
      },
      {
       "output_type": "stream",
       "stream": "stdout",
       "text": [
        "- "
       ]
      },
      {
       "output_type": "stream",
       "stream": "stdout",
       "text": [
        "- "
       ]
      },
      {
       "output_type": "stream",
       "stream": "stdout",
       "text": [
        "- "
       ]
      },
      {
       "output_type": "stream",
       "stream": "stdout",
       "text": [
        "- "
       ]
      },
      {
       "output_type": "stream",
       "stream": "stdout",
       "text": [
        "- "
       ]
      },
      {
       "output_type": "stream",
       "stream": "stdout",
       "text": [
        "- "
       ]
      },
      {
       "output_type": "stream",
       "stream": "stdout",
       "text": [
        "- "
       ]
      },
      {
       "output_type": "stream",
       "stream": "stdout",
       "text": [
        "- "
       ]
      },
      {
       "output_type": "stream",
       "stream": "stdout",
       "text": [
        "- "
       ]
      },
      {
       "output_type": "stream",
       "stream": "stdout",
       "text": [
        "- "
       ]
      },
      {
       "output_type": "stream",
       "stream": "stdout",
       "text": [
        "- "
       ]
      },
      {
       "output_type": "stream",
       "stream": "stdout",
       "text": [
        "- "
       ]
      },
      {
       "output_type": "stream",
       "stream": "stdout",
       "text": [
        "- "
       ]
      },
      {
       "output_type": "stream",
       "stream": "stdout",
       "text": [
        "- "
       ]
      },
      {
       "output_type": "stream",
       "stream": "stdout",
       "text": [
        "- "
       ]
      },
      {
       "output_type": "stream",
       "stream": "stdout",
       "text": [
        "- "
       ]
      },
      {
       "output_type": "stream",
       "stream": "stdout",
       "text": [
        "- "
       ]
      },
      {
       "output_type": "stream",
       "stream": "stdout",
       "text": [
        "- "
       ]
      },
      {
       "output_type": "stream",
       "stream": "stdout",
       "text": [
        "- "
       ]
      },
      {
       "output_type": "stream",
       "stream": "stdout",
       "text": [
        "- "
       ]
      },
      {
       "output_type": "stream",
       "stream": "stdout",
       "text": [
        "- "
       ]
      },
      {
       "output_type": "stream",
       "stream": "stdout",
       "text": [
        "- "
       ]
      },
      {
       "output_type": "stream",
       "stream": "stdout",
       "text": [
        "- "
       ]
      },
      {
       "output_type": "stream",
       "stream": "stdout",
       "text": [
        "- "
       ]
      },
      {
       "output_type": "stream",
       "stream": "stdout",
       "text": [
        "- "
       ]
      },
      {
       "output_type": "stream",
       "stream": "stdout",
       "text": [
        "- "
       ]
      },
      {
       "output_type": "stream",
       "stream": "stdout",
       "text": [
        "- "
       ]
      },
      {
       "output_type": "stream",
       "stream": "stdout",
       "text": [
        "- "
       ]
      },
      {
       "output_type": "stream",
       "stream": "stdout",
       "text": [
        "- "
       ]
      },
      {
       "output_type": "stream",
       "stream": "stdout",
       "text": [
        "- "
       ]
      },
      {
       "output_type": "stream",
       "stream": "stdout",
       "text": [
        "- "
       ]
      },
      {
       "output_type": "stream",
       "stream": "stdout",
       "text": [
        "- "
       ]
      },
      {
       "output_type": "stream",
       "stream": "stdout",
       "text": [
        "- "
       ]
      },
      {
       "output_type": "stream",
       "stream": "stdout",
       "text": [
        "- "
       ]
      },
      {
       "output_type": "stream",
       "stream": "stdout",
       "text": [
        "- "
       ]
      },
      {
       "output_type": "stream",
       "stream": "stdout",
       "text": [
        "Epoch 6 complete\n",
        "- "
       ]
      },
      {
       "output_type": "stream",
       "stream": "stdout",
       "text": [
        "- "
       ]
      },
      {
       "output_type": "stream",
       "stream": "stdout",
       "text": [
        "- "
       ]
      },
      {
       "output_type": "stream",
       "stream": "stdout",
       "text": [
        "- "
       ]
      },
      {
       "output_type": "stream",
       "stream": "stdout",
       "text": [
        "- "
       ]
      },
      {
       "output_type": "stream",
       "stream": "stdout",
       "text": [
        "- "
       ]
      },
      {
       "output_type": "stream",
       "stream": "stdout",
       "text": [
        "- "
       ]
      },
      {
       "output_type": "stream",
       "stream": "stdout",
       "text": [
        "- "
       ]
      },
      {
       "output_type": "stream",
       "stream": "stdout",
       "text": [
        "- "
       ]
      },
      {
       "output_type": "stream",
       "stream": "stdout",
       "text": [
        "- "
       ]
      },
      {
       "output_type": "stream",
       "stream": "stdout",
       "text": [
        "- "
       ]
      },
      {
       "output_type": "stream",
       "stream": "stdout",
       "text": [
        "- "
       ]
      },
      {
       "output_type": "stream",
       "stream": "stdout",
       "text": [
        "- "
       ]
      },
      {
       "output_type": "stream",
       "stream": "stdout",
       "text": [
        "- "
       ]
      },
      {
       "output_type": "stream",
       "stream": "stdout",
       "text": [
        "- "
       ]
      },
      {
       "output_type": "stream",
       "stream": "stdout",
       "text": [
        "- "
       ]
      },
      {
       "output_type": "stream",
       "stream": "stdout",
       "text": [
        "- "
       ]
      },
      {
       "output_type": "stream",
       "stream": "stdout",
       "text": [
        "- "
       ]
      },
      {
       "output_type": "stream",
       "stream": "stdout",
       "text": [
        "- "
       ]
      },
      {
       "output_type": "stream",
       "stream": "stdout",
       "text": [
        "- "
       ]
      },
      {
       "output_type": "stream",
       "stream": "stdout",
       "text": [
        "- "
       ]
      },
      {
       "output_type": "stream",
       "stream": "stdout",
       "text": [
        "- "
       ]
      },
      {
       "output_type": "stream",
       "stream": "stdout",
       "text": [
        "- "
       ]
      },
      {
       "output_type": "stream",
       "stream": "stdout",
       "text": [
        "- "
       ]
      },
      {
       "output_type": "stream",
       "stream": "stdout",
       "text": [
        "- "
       ]
      },
      {
       "output_type": "stream",
       "stream": "stdout",
       "text": [
        "- "
       ]
      },
      {
       "output_type": "stream",
       "stream": "stdout",
       "text": [
        "- "
       ]
      },
      {
       "output_type": "stream",
       "stream": "stdout",
       "text": [
        "- "
       ]
      },
      {
       "output_type": "stream",
       "stream": "stdout",
       "text": [
        "- "
       ]
      },
      {
       "output_type": "stream",
       "stream": "stdout",
       "text": [
        "- "
       ]
      },
      {
       "output_type": "stream",
       "stream": "stdout",
       "text": [
        "- "
       ]
      },
      {
       "output_type": "stream",
       "stream": "stdout",
       "text": [
        "- "
       ]
      },
      {
       "output_type": "stream",
       "stream": "stdout",
       "text": [
        "- "
       ]
      },
      {
       "output_type": "stream",
       "stream": "stdout",
       "text": [
        "- "
       ]
      },
      {
       "output_type": "stream",
       "stream": "stdout",
       "text": [
        "- "
       ]
      },
      {
       "output_type": "stream",
       "stream": "stdout",
       "text": [
        "- "
       ]
      },
      {
       "output_type": "stream",
       "stream": "stdout",
       "text": [
        "- "
       ]
      },
      {
       "output_type": "stream",
       "stream": "stdout",
       "text": [
        "- "
       ]
      },
      {
       "output_type": "stream",
       "stream": "stdout",
       "text": [
        "- "
       ]
      },
      {
       "output_type": "stream",
       "stream": "stdout",
       "text": [
        "- "
       ]
      },
      {
       "output_type": "stream",
       "stream": "stdout",
       "text": [
        "- "
       ]
      },
      {
       "output_type": "stream",
       "stream": "stdout",
       "text": [
        "- "
       ]
      },
      {
       "output_type": "stream",
       "stream": "stdout",
       "text": [
        "- "
       ]
      },
      {
       "output_type": "stream",
       "stream": "stdout",
       "text": [
        "- "
       ]
      },
      {
       "output_type": "stream",
       "stream": "stdout",
       "text": [
        "- "
       ]
      },
      {
       "output_type": "stream",
       "stream": "stdout",
       "text": [
        "- "
       ]
      },
      {
       "output_type": "stream",
       "stream": "stdout",
       "text": [
        "- "
       ]
      },
      {
       "output_type": "stream",
       "stream": "stdout",
       "text": [
        "- "
       ]
      },
      {
       "output_type": "stream",
       "stream": "stdout",
       "text": [
        "- "
       ]
      },
      {
       "output_type": "stream",
       "stream": "stdout",
       "text": [
        "- "
       ]
      },
      {
       "output_type": "stream",
       "stream": "stdout",
       "text": [
        "- "
       ]
      },
      {
       "output_type": "stream",
       "stream": "stdout",
       "text": [
        "- "
       ]
      },
      {
       "output_type": "stream",
       "stream": "stdout",
       "text": [
        "- "
       ]
      },
      {
       "output_type": "stream",
       "stream": "stdout",
       "text": [
        "- "
       ]
      },
      {
       "output_type": "stream",
       "stream": "stdout",
       "text": [
        "- "
       ]
      },
      {
       "output_type": "stream",
       "stream": "stdout",
       "text": [
        "- "
       ]
      },
      {
       "output_type": "stream",
       "stream": "stdout",
       "text": [
        "- "
       ]
      },
      {
       "output_type": "stream",
       "stream": "stdout",
       "text": [
        "- "
       ]
      },
      {
       "output_type": "stream",
       "stream": "stdout",
       "text": [
        "- "
       ]
      },
      {
       "output_type": "stream",
       "stream": "stdout",
       "text": [
        "- "
       ]
      },
      {
       "output_type": "stream",
       "stream": "stdout",
       "text": [
        "- "
       ]
      },
      {
       "output_type": "stream",
       "stream": "stdout",
       "text": [
        "- "
       ]
      },
      {
       "output_type": "stream",
       "stream": "stdout",
       "text": [
        "- "
       ]
      },
      {
       "output_type": "stream",
       "stream": "stdout",
       "text": [
        "- "
       ]
      },
      {
       "output_type": "stream",
       "stream": "stdout",
       "text": [
        "- "
       ]
      },
      {
       "output_type": "stream",
       "stream": "stdout",
       "text": [
        "- "
       ]
      },
      {
       "output_type": "stream",
       "stream": "stdout",
       "text": [
        "- "
       ]
      },
      {
       "output_type": "stream",
       "stream": "stdout",
       "text": [
        "- "
       ]
      },
      {
       "output_type": "stream",
       "stream": "stdout",
       "text": [
        "- "
       ]
      },
      {
       "output_type": "stream",
       "stream": "stdout",
       "text": [
        "- "
       ]
      },
      {
       "output_type": "stream",
       "stream": "stdout",
       "text": [
        "- "
       ]
      },
      {
       "output_type": "stream",
       "stream": "stdout",
       "text": [
        "- "
       ]
      },
      {
       "output_type": "stream",
       "stream": "stdout",
       "text": [
        "- "
       ]
      },
      {
       "output_type": "stream",
       "stream": "stdout",
       "text": [
        "- "
       ]
      },
      {
       "output_type": "stream",
       "stream": "stdout",
       "text": [
        "- "
       ]
      },
      {
       "output_type": "stream",
       "stream": "stdout",
       "text": [
        "- "
       ]
      },
      {
       "output_type": "stream",
       "stream": "stdout",
       "text": [
        "- "
       ]
      },
      {
       "output_type": "stream",
       "stream": "stdout",
       "text": [
        "- "
       ]
      },
      {
       "output_type": "stream",
       "stream": "stdout",
       "text": [
        "- "
       ]
      },
      {
       "output_type": "stream",
       "stream": "stdout",
       "text": [
        "- "
       ]
      },
      {
       "output_type": "stream",
       "stream": "stdout",
       "text": [
        "- "
       ]
      },
      {
       "output_type": "stream",
       "stream": "stdout",
       "text": [
        "- "
       ]
      },
      {
       "output_type": "stream",
       "stream": "stdout",
       "text": [
        "- "
       ]
      },
      {
       "output_type": "stream",
       "stream": "stdout",
       "text": [
        "- "
       ]
      },
      {
       "output_type": "stream",
       "stream": "stdout",
       "text": [
        "- "
       ]
      },
      {
       "output_type": "stream",
       "stream": "stdout",
       "text": [
        "- "
       ]
      },
      {
       "output_type": "stream",
       "stream": "stdout",
       "text": [
        "- "
       ]
      },
      {
       "output_type": "stream",
       "stream": "stdout",
       "text": [
        "- "
       ]
      },
      {
       "output_type": "stream",
       "stream": "stdout",
       "text": [
        "- "
       ]
      },
      {
       "output_type": "stream",
       "stream": "stdout",
       "text": [
        "- "
       ]
      },
      {
       "output_type": "stream",
       "stream": "stdout",
       "text": [
        "- "
       ]
      },
      {
       "output_type": "stream",
       "stream": "stdout",
       "text": [
        "- "
       ]
      },
      {
       "output_type": "stream",
       "stream": "stdout",
       "text": [
        "- "
       ]
      },
      {
       "output_type": "stream",
       "stream": "stdout",
       "text": [
        "- "
       ]
      },
      {
       "output_type": "stream",
       "stream": "stdout",
       "text": [
        "- "
       ]
      },
      {
       "output_type": "stream",
       "stream": "stdout",
       "text": [
        "- "
       ]
      },
      {
       "output_type": "stream",
       "stream": "stdout",
       "text": [
        "- "
       ]
      },
      {
       "output_type": "stream",
       "stream": "stdout",
       "text": [
        "- "
       ]
      },
      {
       "output_type": "stream",
       "stream": "stdout",
       "text": [
        "- "
       ]
      },
      {
       "output_type": "stream",
       "stream": "stdout",
       "text": [
        "- "
       ]
      },
      {
       "output_type": "stream",
       "stream": "stdout",
       "text": [
        "- "
       ]
      },
      {
       "output_type": "stream",
       "stream": "stdout",
       "text": [
        "- "
       ]
      },
      {
       "output_type": "stream",
       "stream": "stdout",
       "text": [
        "- "
       ]
      },
      {
       "output_type": "stream",
       "stream": "stdout",
       "text": [
        "- "
       ]
      },
      {
       "output_type": "stream",
       "stream": "stdout",
       "text": [
        "- "
       ]
      },
      {
       "output_type": "stream",
       "stream": "stdout",
       "text": [
        "- "
       ]
      },
      {
       "output_type": "stream",
       "stream": "stdout",
       "text": [
        "- "
       ]
      },
      {
       "output_type": "stream",
       "stream": "stdout",
       "text": [
        "- "
       ]
      },
      {
       "output_type": "stream",
       "stream": "stdout",
       "text": [
        "- "
       ]
      },
      {
       "output_type": "stream",
       "stream": "stdout",
       "text": [
        "- "
       ]
      },
      {
       "output_type": "stream",
       "stream": "stdout",
       "text": [
        "- "
       ]
      },
      {
       "output_type": "stream",
       "stream": "stdout",
       "text": [
        "- "
       ]
      },
      {
       "output_type": "stream",
       "stream": "stdout",
       "text": [
        "- "
       ]
      },
      {
       "output_type": "stream",
       "stream": "stdout",
       "text": [
        "- "
       ]
      },
      {
       "output_type": "stream",
       "stream": "stdout",
       "text": [
        "- "
       ]
      },
      {
       "output_type": "stream",
       "stream": "stdout",
       "text": [
        "- "
       ]
      },
      {
       "output_type": "stream",
       "stream": "stdout",
       "text": [
        "- "
       ]
      },
      {
       "output_type": "stream",
       "stream": "stdout",
       "text": [
        "- "
       ]
      },
      {
       "output_type": "stream",
       "stream": "stdout",
       "text": [
        "- "
       ]
      },
      {
       "output_type": "stream",
       "stream": "stdout",
       "text": [
        "- "
       ]
      },
      {
       "output_type": "stream",
       "stream": "stdout",
       "text": [
        "- "
       ]
      },
      {
       "output_type": "stream",
       "stream": "stdout",
       "text": [
        "- "
       ]
      },
      {
       "output_type": "stream",
       "stream": "stdout",
       "text": [
        "- "
       ]
      },
      {
       "output_type": "stream",
       "stream": "stdout",
       "text": [
        "- "
       ]
      },
      {
       "output_type": "stream",
       "stream": "stdout",
       "text": [
        "- "
       ]
      },
      {
       "output_type": "stream",
       "stream": "stdout",
       "text": [
        "- "
       ]
      },
      {
       "output_type": "stream",
       "stream": "stdout",
       "text": [
        "- "
       ]
      },
      {
       "output_type": "stream",
       "stream": "stdout",
       "text": [
        "- "
       ]
      },
      {
       "output_type": "stream",
       "stream": "stdout",
       "text": [
        "- "
       ]
      },
      {
       "output_type": "stream",
       "stream": "stdout",
       "text": [
        "- "
       ]
      },
      {
       "output_type": "stream",
       "stream": "stdout",
       "text": [
        "- "
       ]
      },
      {
       "output_type": "stream",
       "stream": "stdout",
       "text": [
        "- "
       ]
      },
      {
       "output_type": "stream",
       "stream": "stdout",
       "text": [
        "- "
       ]
      },
      {
       "output_type": "stream",
       "stream": "stdout",
       "text": [
        "- "
       ]
      },
      {
       "output_type": "stream",
       "stream": "stdout",
       "text": [
        "- "
       ]
      },
      {
       "output_type": "stream",
       "stream": "stdout",
       "text": [
        "- "
       ]
      },
      {
       "output_type": "stream",
       "stream": "stdout",
       "text": [
        "- "
       ]
      },
      {
       "output_type": "stream",
       "stream": "stdout",
       "text": [
        "- "
       ]
      },
      {
       "output_type": "stream",
       "stream": "stdout",
       "text": [
        "- "
       ]
      },
      {
       "output_type": "stream",
       "stream": "stdout",
       "text": [
        "- "
       ]
      },
      {
       "output_type": "stream",
       "stream": "stdout",
       "text": [
        "- "
       ]
      },
      {
       "output_type": "stream",
       "stream": "stdout",
       "text": [
        "- "
       ]
      },
      {
       "output_type": "stream",
       "stream": "stdout",
       "text": [
        "- "
       ]
      },
      {
       "output_type": "stream",
       "stream": "stdout",
       "text": [
        "- "
       ]
      },
      {
       "output_type": "stream",
       "stream": "stdout",
       "text": [
        "- "
       ]
      },
      {
       "output_type": "stream",
       "stream": "stdout",
       "text": [
        "- "
       ]
      },
      {
       "output_type": "stream",
       "stream": "stdout",
       "text": [
        "- "
       ]
      },
      {
       "output_type": "stream",
       "stream": "stdout",
       "text": [
        "- "
       ]
      },
      {
       "output_type": "stream",
       "stream": "stdout",
       "text": [
        "- "
       ]
      },
      {
       "output_type": "stream",
       "stream": "stdout",
       "text": [
        "- "
       ]
      },
      {
       "output_type": "stream",
       "stream": "stdout",
       "text": [
        "- "
       ]
      },
      {
       "output_type": "stream",
       "stream": "stdout",
       "text": [
        "- "
       ]
      },
      {
       "output_type": "stream",
       "stream": "stdout",
       "text": [
        "- "
       ]
      },
      {
       "output_type": "stream",
       "stream": "stdout",
       "text": [
        "- "
       ]
      },
      {
       "output_type": "stream",
       "stream": "stdout",
       "text": [
        "- "
       ]
      },
      {
       "output_type": "stream",
       "stream": "stdout",
       "text": [
        "- "
       ]
      },
      {
       "output_type": "stream",
       "stream": "stdout",
       "text": [
        "- "
       ]
      },
      {
       "output_type": "stream",
       "stream": "stdout",
       "text": [
        "- "
       ]
      },
      {
       "output_type": "stream",
       "stream": "stdout",
       "text": [
        "- "
       ]
      },
      {
       "output_type": "stream",
       "stream": "stdout",
       "text": [
        "- "
       ]
      },
      {
       "output_type": "stream",
       "stream": "stdout",
       "text": [
        "- "
       ]
      },
      {
       "output_type": "stream",
       "stream": "stdout",
       "text": [
        "- "
       ]
      },
      {
       "output_type": "stream",
       "stream": "stdout",
       "text": [
        "- "
       ]
      },
      {
       "output_type": "stream",
       "stream": "stdout",
       "text": [
        "- "
       ]
      },
      {
       "output_type": "stream",
       "stream": "stdout",
       "text": [
        "- "
       ]
      },
      {
       "output_type": "stream",
       "stream": "stdout",
       "text": [
        "- "
       ]
      },
      {
       "output_type": "stream",
       "stream": "stdout",
       "text": [
        "- "
       ]
      },
      {
       "output_type": "stream",
       "stream": "stdout",
       "text": [
        "- "
       ]
      },
      {
       "output_type": "stream",
       "stream": "stdout",
       "text": [
        "- "
       ]
      },
      {
       "output_type": "stream",
       "stream": "stdout",
       "text": [
        "- "
       ]
      },
      {
       "output_type": "stream",
       "stream": "stdout",
       "text": [
        "- "
       ]
      },
      {
       "output_type": "stream",
       "stream": "stdout",
       "text": [
        "- "
       ]
      },
      {
       "output_type": "stream",
       "stream": "stdout",
       "text": [
        "- "
       ]
      },
      {
       "output_type": "stream",
       "stream": "stdout",
       "text": [
        "- "
       ]
      },
      {
       "output_type": "stream",
       "stream": "stdout",
       "text": [
        "- "
       ]
      },
      {
       "output_type": "stream",
       "stream": "stdout",
       "text": [
        "- "
       ]
      },
      {
       "output_type": "stream",
       "stream": "stdout",
       "text": [
        "- "
       ]
      },
      {
       "output_type": "stream",
       "stream": "stdout",
       "text": [
        "- "
       ]
      },
      {
       "output_type": "stream",
       "stream": "stdout",
       "text": [
        "- "
       ]
      },
      {
       "output_type": "stream",
       "stream": "stdout",
       "text": [
        "- "
       ]
      },
      {
       "output_type": "stream",
       "stream": "stdout",
       "text": [
        "- "
       ]
      },
      {
       "output_type": "stream",
       "stream": "stdout",
       "text": [
        "- "
       ]
      },
      {
       "output_type": "stream",
       "stream": "stdout",
       "text": [
        "- "
       ]
      },
      {
       "output_type": "stream",
       "stream": "stdout",
       "text": [
        "- "
       ]
      },
      {
       "output_type": "stream",
       "stream": "stdout",
       "text": [
        "- "
       ]
      },
      {
       "output_type": "stream",
       "stream": "stdout",
       "text": [
        "- "
       ]
      },
      {
       "output_type": "stream",
       "stream": "stdout",
       "text": [
        "- "
       ]
      },
      {
       "output_type": "stream",
       "stream": "stdout",
       "text": [
        "- "
       ]
      },
      {
       "output_type": "stream",
       "stream": "stdout",
       "text": [
        "- "
       ]
      },
      {
       "output_type": "stream",
       "stream": "stdout",
       "text": [
        "- "
       ]
      },
      {
       "output_type": "stream",
       "stream": "stdout",
       "text": [
        "- "
       ]
      },
      {
       "output_type": "stream",
       "stream": "stdout",
       "text": [
        "- "
       ]
      },
      {
       "output_type": "stream",
       "stream": "stdout",
       "text": [
        "- "
       ]
      },
      {
       "output_type": "stream",
       "stream": "stdout",
       "text": [
        "- "
       ]
      },
      {
       "output_type": "stream",
       "stream": "stdout",
       "text": [
        "- "
       ]
      },
      {
       "output_type": "stream",
       "stream": "stdout",
       "text": [
        "- "
       ]
      },
      {
       "output_type": "stream",
       "stream": "stdout",
       "text": [
        "- "
       ]
      },
      {
       "output_type": "stream",
       "stream": "stdout",
       "text": [
        "- "
       ]
      },
      {
       "output_type": "stream",
       "stream": "stdout",
       "text": [
        "- "
       ]
      },
      {
       "output_type": "stream",
       "stream": "stdout",
       "text": [
        "- "
       ]
      },
      {
       "output_type": "stream",
       "stream": "stdout",
       "text": [
        "- "
       ]
      },
      {
       "output_type": "stream",
       "stream": "stdout",
       "text": [
        "- "
       ]
      },
      {
       "output_type": "stream",
       "stream": "stdout",
       "text": [
        "- "
       ]
      },
      {
       "output_type": "stream",
       "stream": "stdout",
       "text": [
        "- "
       ]
      },
      {
       "output_type": "stream",
       "stream": "stdout",
       "text": [
        "- "
       ]
      },
      {
       "output_type": "stream",
       "stream": "stdout",
       "text": [
        "- "
       ]
      },
      {
       "output_type": "stream",
       "stream": "stdout",
       "text": [
        "- "
       ]
      },
      {
       "output_type": "stream",
       "stream": "stdout",
       "text": [
        "- "
       ]
      },
      {
       "output_type": "stream",
       "stream": "stdout",
       "text": [
        "- "
       ]
      },
      {
       "output_type": "stream",
       "stream": "stdout",
       "text": [
        "- "
       ]
      },
      {
       "output_type": "stream",
       "stream": "stdout",
       "text": [
        "- "
       ]
      },
      {
       "output_type": "stream",
       "stream": "stdout",
       "text": [
        "- "
       ]
      },
      {
       "output_type": "stream",
       "stream": "stdout",
       "text": [
        "- "
       ]
      },
      {
       "output_type": "stream",
       "stream": "stdout",
       "text": [
        "- "
       ]
      },
      {
       "output_type": "stream",
       "stream": "stdout",
       "text": [
        "- "
       ]
      },
      {
       "output_type": "stream",
       "stream": "stdout",
       "text": [
        "- "
       ]
      },
      {
       "output_type": "stream",
       "stream": "stdout",
       "text": [
        "- "
       ]
      },
      {
       "output_type": "stream",
       "stream": "stdout",
       "text": [
        "- "
       ]
      },
      {
       "output_type": "stream",
       "stream": "stdout",
       "text": [
        "- "
       ]
      },
      {
       "output_type": "stream",
       "stream": "stdout",
       "text": [
        "- "
       ]
      },
      {
       "output_type": "stream",
       "stream": "stdout",
       "text": [
        "- "
       ]
      },
      {
       "output_type": "stream",
       "stream": "stdout",
       "text": [
        "- "
       ]
      },
      {
       "output_type": "stream",
       "stream": "stdout",
       "text": [
        "- "
       ]
      },
      {
       "output_type": "stream",
       "stream": "stdout",
       "text": [
        "- "
       ]
      },
      {
       "output_type": "stream",
       "stream": "stdout",
       "text": [
        "- "
       ]
      },
      {
       "output_type": "stream",
       "stream": "stdout",
       "text": [
        "- "
       ]
      },
      {
       "output_type": "stream",
       "stream": "stdout",
       "text": [
        "- "
       ]
      },
      {
       "output_type": "stream",
       "stream": "stdout",
       "text": [
        "- "
       ]
      },
      {
       "output_type": "stream",
       "stream": "stdout",
       "text": [
        "- "
       ]
      },
      {
       "output_type": "stream",
       "stream": "stdout",
       "text": [
        "- "
       ]
      },
      {
       "output_type": "stream",
       "stream": "stdout",
       "text": [
        "- "
       ]
      },
      {
       "output_type": "stream",
       "stream": "stdout",
       "text": [
        "- "
       ]
      },
      {
       "output_type": "stream",
       "stream": "stdout",
       "text": [
        "- "
       ]
      },
      {
       "output_type": "stream",
       "stream": "stdout",
       "text": [
        "- "
       ]
      },
      {
       "output_type": "stream",
       "stream": "stdout",
       "text": [
        "- "
       ]
      },
      {
       "output_type": "stream",
       "stream": "stdout",
       "text": [
        "- "
       ]
      },
      {
       "output_type": "stream",
       "stream": "stdout",
       "text": [
        "- "
       ]
      },
      {
       "output_type": "stream",
       "stream": "stdout",
       "text": [
        "- "
       ]
      },
      {
       "output_type": "stream",
       "stream": "stdout",
       "text": [
        "- "
       ]
      },
      {
       "output_type": "stream",
       "stream": "stdout",
       "text": [
        "- "
       ]
      },
      {
       "output_type": "stream",
       "stream": "stdout",
       "text": [
        "- "
       ]
      },
      {
       "output_type": "stream",
       "stream": "stdout",
       "text": [
        "- "
       ]
      },
      {
       "output_type": "stream",
       "stream": "stdout",
       "text": [
        "- "
       ]
      },
      {
       "output_type": "stream",
       "stream": "stdout",
       "text": [
        "- "
       ]
      },
      {
       "output_type": "stream",
       "stream": "stdout",
       "text": [
        "- "
       ]
      },
      {
       "output_type": "stream",
       "stream": "stdout",
       "text": [
        "- "
       ]
      },
      {
       "output_type": "stream",
       "stream": "stdout",
       "text": [
        "- "
       ]
      },
      {
       "output_type": "stream",
       "stream": "stdout",
       "text": [
        "- "
       ]
      },
      {
       "output_type": "stream",
       "stream": "stdout",
       "text": [
        "- "
       ]
      },
      {
       "output_type": "stream",
       "stream": "stdout",
       "text": [
        "- "
       ]
      },
      {
       "output_type": "stream",
       "stream": "stdout",
       "text": [
        "- "
       ]
      },
      {
       "output_type": "stream",
       "stream": "stdout",
       "text": [
        "- "
       ]
      },
      {
       "output_type": "stream",
       "stream": "stdout",
       "text": [
        "- "
       ]
      },
      {
       "output_type": "stream",
       "stream": "stdout",
       "text": [
        "- "
       ]
      },
      {
       "output_type": "stream",
       "stream": "stdout",
       "text": [
        "- "
       ]
      },
      {
       "output_type": "stream",
       "stream": "stdout",
       "text": [
        "- "
       ]
      },
      {
       "output_type": "stream",
       "stream": "stdout",
       "text": [
        "- "
       ]
      },
      {
       "output_type": "stream",
       "stream": "stdout",
       "text": [
        "- "
       ]
      },
      {
       "output_type": "stream",
       "stream": "stdout",
       "text": [
        "- "
       ]
      },
      {
       "output_type": "stream",
       "stream": "stdout",
       "text": [
        "- "
       ]
      },
      {
       "output_type": "stream",
       "stream": "stdout",
       "text": [
        "- "
       ]
      },
      {
       "output_type": "stream",
       "stream": "stdout",
       "text": [
        "- "
       ]
      },
      {
       "output_type": "stream",
       "stream": "stdout",
       "text": [
        "- "
       ]
      },
      {
       "output_type": "stream",
       "stream": "stdout",
       "text": [
        "- "
       ]
      },
      {
       "output_type": "stream",
       "stream": "stdout",
       "text": [
        "- "
       ]
      },
      {
       "output_type": "stream",
       "stream": "stdout",
       "text": [
        "- "
       ]
      },
      {
       "output_type": "stream",
       "stream": "stdout",
       "text": [
        "- "
       ]
      },
      {
       "output_type": "stream",
       "stream": "stdout",
       "text": [
        "- "
       ]
      },
      {
       "output_type": "stream",
       "stream": "stdout",
       "text": [
        "- "
       ]
      },
      {
       "output_type": "stream",
       "stream": "stdout",
       "text": [
        "- "
       ]
      },
      {
       "output_type": "stream",
       "stream": "stdout",
       "text": [
        "- "
       ]
      },
      {
       "output_type": "stream",
       "stream": "stdout",
       "text": [
        "- "
       ]
      },
      {
       "output_type": "stream",
       "stream": "stdout",
       "text": [
        "- "
       ]
      },
      {
       "output_type": "stream",
       "stream": "stdout",
       "text": [
        "- "
       ]
      },
      {
       "output_type": "stream",
       "stream": "stdout",
       "text": [
        "- "
       ]
      },
      {
       "output_type": "stream",
       "stream": "stdout",
       "text": [
        "- "
       ]
      },
      {
       "output_type": "stream",
       "stream": "stdout",
       "text": [
        "- "
       ]
      },
      {
       "output_type": "stream",
       "stream": "stdout",
       "text": [
        "- "
       ]
      },
      {
       "output_type": "stream",
       "stream": "stdout",
       "text": [
        "- "
       ]
      },
      {
       "output_type": "stream",
       "stream": "stdout",
       "text": [
        "- "
       ]
      },
      {
       "output_type": "stream",
       "stream": "stdout",
       "text": [
        "- "
       ]
      },
      {
       "output_type": "stream",
       "stream": "stdout",
       "text": [
        "- "
       ]
      },
      {
       "output_type": "stream",
       "stream": "stdout",
       "text": [
        "- "
       ]
      },
      {
       "output_type": "stream",
       "stream": "stdout",
       "text": [
        "- "
       ]
      },
      {
       "output_type": "stream",
       "stream": "stdout",
       "text": [
        "- "
       ]
      },
      {
       "output_type": "stream",
       "stream": "stdout",
       "text": [
        "- "
       ]
      },
      {
       "output_type": "stream",
       "stream": "stdout",
       "text": [
        "- "
       ]
      },
      {
       "output_type": "stream",
       "stream": "stdout",
       "text": [
        "- "
       ]
      },
      {
       "output_type": "stream",
       "stream": "stdout",
       "text": [
        "- "
       ]
      },
      {
       "output_type": "stream",
       "stream": "stdout",
       "text": [
        "- "
       ]
      },
      {
       "output_type": "stream",
       "stream": "stdout",
       "text": [
        "- "
       ]
      },
      {
       "output_type": "stream",
       "stream": "stdout",
       "text": [
        "- "
       ]
      },
      {
       "output_type": "stream",
       "stream": "stdout",
       "text": [
        "- "
       ]
      },
      {
       "output_type": "stream",
       "stream": "stdout",
       "text": [
        "- "
       ]
      },
      {
       "output_type": "stream",
       "stream": "stdout",
       "text": [
        "- "
       ]
      },
      {
       "output_type": "stream",
       "stream": "stdout",
       "text": [
        "- "
       ]
      },
      {
       "output_type": "stream",
       "stream": "stdout",
       "text": [
        "- "
       ]
      },
      {
       "output_type": "stream",
       "stream": "stdout",
       "text": [
        "- "
       ]
      },
      {
       "output_type": "stream",
       "stream": "stdout",
       "text": [
        "- "
       ]
      },
      {
       "output_type": "stream",
       "stream": "stdout",
       "text": [
        "- "
       ]
      },
      {
       "output_type": "stream",
       "stream": "stdout",
       "text": [
        "- "
       ]
      },
      {
       "output_type": "stream",
       "stream": "stdout",
       "text": [
        "- "
       ]
      },
      {
       "output_type": "stream",
       "stream": "stdout",
       "text": [
        "- "
       ]
      },
      {
       "output_type": "stream",
       "stream": "stdout",
       "text": [
        "- "
       ]
      },
      {
       "output_type": "stream",
       "stream": "stdout",
       "text": [
        "- "
       ]
      },
      {
       "output_type": "stream",
       "stream": "stdout",
       "text": [
        "- "
       ]
      },
      {
       "output_type": "stream",
       "stream": "stdout",
       "text": [
        "- "
       ]
      },
      {
       "output_type": "stream",
       "stream": "stdout",
       "text": [
        "- "
       ]
      },
      {
       "output_type": "stream",
       "stream": "stdout",
       "text": [
        "- "
       ]
      },
      {
       "output_type": "stream",
       "stream": "stdout",
       "text": [
        "- "
       ]
      },
      {
       "output_type": "stream",
       "stream": "stdout",
       "text": [
        "- "
       ]
      },
      {
       "output_type": "stream",
       "stream": "stdout",
       "text": [
        "- "
       ]
      },
      {
       "output_type": "stream",
       "stream": "stdout",
       "text": [
        "- "
       ]
      },
      {
       "output_type": "stream",
       "stream": "stdout",
       "text": [
        "- "
       ]
      },
      {
       "output_type": "stream",
       "stream": "stdout",
       "text": [
        "- "
       ]
      },
      {
       "output_type": "stream",
       "stream": "stdout",
       "text": [
        "- "
       ]
      },
      {
       "output_type": "stream",
       "stream": "stdout",
       "text": [
        "- "
       ]
      },
      {
       "output_type": "stream",
       "stream": "stdout",
       "text": [
        "- "
       ]
      },
      {
       "output_type": "stream",
       "stream": "stdout",
       "text": [
        "- "
       ]
      },
      {
       "output_type": "stream",
       "stream": "stdout",
       "text": [
        "- "
       ]
      },
      {
       "output_type": "stream",
       "stream": "stdout",
       "text": [
        "- "
       ]
      },
      {
       "output_type": "stream",
       "stream": "stdout",
       "text": [
        "- "
       ]
      },
      {
       "output_type": "stream",
       "stream": "stdout",
       "text": [
        "- "
       ]
      },
      {
       "output_type": "stream",
       "stream": "stdout",
       "text": [
        "- "
       ]
      },
      {
       "output_type": "stream",
       "stream": "stdout",
       "text": [
        "- "
       ]
      },
      {
       "output_type": "stream",
       "stream": "stdout",
       "text": [
        "- "
       ]
      },
      {
       "output_type": "stream",
       "stream": "stdout",
       "text": [
        "- "
       ]
      },
      {
       "output_type": "stream",
       "stream": "stdout",
       "text": [
        "- "
       ]
      },
      {
       "output_type": "stream",
       "stream": "stdout",
       "text": [
        "- "
       ]
      },
      {
       "output_type": "stream",
       "stream": "stdout",
       "text": [
        "- "
       ]
      },
      {
       "output_type": "stream",
       "stream": "stdout",
       "text": [
        "- "
       ]
      },
      {
       "output_type": "stream",
       "stream": "stdout",
       "text": [
        "- "
       ]
      },
      {
       "output_type": "stream",
       "stream": "stdout",
       "text": [
        "- "
       ]
      },
      {
       "output_type": "stream",
       "stream": "stdout",
       "text": [
        "- "
       ]
      },
      {
       "output_type": "stream",
       "stream": "stdout",
       "text": [
        "- "
       ]
      },
      {
       "output_type": "stream",
       "stream": "stdout",
       "text": [
        "- "
       ]
      },
      {
       "output_type": "stream",
       "stream": "stdout",
       "text": [
        "- "
       ]
      },
      {
       "output_type": "stream",
       "stream": "stdout",
       "text": [
        "- "
       ]
      },
      {
       "output_type": "stream",
       "stream": "stdout",
       "text": [
        "- "
       ]
      },
      {
       "output_type": "stream",
       "stream": "stdout",
       "text": [
        "- "
       ]
      },
      {
       "output_type": "stream",
       "stream": "stdout",
       "text": [
        "- "
       ]
      },
      {
       "output_type": "stream",
       "stream": "stdout",
       "text": [
        "- "
       ]
      },
      {
       "output_type": "stream",
       "stream": "stdout",
       "text": [
        "- "
       ]
      },
      {
       "output_type": "stream",
       "stream": "stdout",
       "text": [
        "- "
       ]
      },
      {
       "output_type": "stream",
       "stream": "stdout",
       "text": [
        "- "
       ]
      },
      {
       "output_type": "stream",
       "stream": "stdout",
       "text": [
        "- "
       ]
      },
      {
       "output_type": "stream",
       "stream": "stdout",
       "text": [
        "- "
       ]
      },
      {
       "output_type": "stream",
       "stream": "stdout",
       "text": [
        "- "
       ]
      },
      {
       "output_type": "stream",
       "stream": "stdout",
       "text": [
        "- "
       ]
      },
      {
       "output_type": "stream",
       "stream": "stdout",
       "text": [
        "- "
       ]
      },
      {
       "output_type": "stream",
       "stream": "stdout",
       "text": [
        "- "
       ]
      },
      {
       "output_type": "stream",
       "stream": "stdout",
       "text": [
        "- "
       ]
      },
      {
       "output_type": "stream",
       "stream": "stdout",
       "text": [
        "- "
       ]
      },
      {
       "output_type": "stream",
       "stream": "stdout",
       "text": [
        "- "
       ]
      },
      {
       "output_type": "stream",
       "stream": "stdout",
       "text": [
        "- "
       ]
      },
      {
       "output_type": "stream",
       "stream": "stdout",
       "text": [
        "- "
       ]
      },
      {
       "output_type": "stream",
       "stream": "stdout",
       "text": [
        "- "
       ]
      },
      {
       "output_type": "stream",
       "stream": "stdout",
       "text": [
        "- "
       ]
      },
      {
       "output_type": "stream",
       "stream": "stdout",
       "text": [
        "- "
       ]
      },
      {
       "output_type": "stream",
       "stream": "stdout",
       "text": [
        "- "
       ]
      },
      {
       "output_type": "stream",
       "stream": "stdout",
       "text": [
        "- "
       ]
      },
      {
       "output_type": "stream",
       "stream": "stdout",
       "text": [
        "- "
       ]
      },
      {
       "output_type": "stream",
       "stream": "stdout",
       "text": [
        "- "
       ]
      },
      {
       "output_type": "stream",
       "stream": "stdout",
       "text": [
        "- "
       ]
      },
      {
       "output_type": "stream",
       "stream": "stdout",
       "text": [
        "- "
       ]
      },
      {
       "output_type": "stream",
       "stream": "stdout",
       "text": [
        "- "
       ]
      },
      {
       "output_type": "stream",
       "stream": "stdout",
       "text": [
        "- "
       ]
      },
      {
       "output_type": "stream",
       "stream": "stdout",
       "text": [
        "- "
       ]
      },
      {
       "output_type": "stream",
       "stream": "stdout",
       "text": [
        "- "
       ]
      },
      {
       "output_type": "stream",
       "stream": "stdout",
       "text": [
        "- "
       ]
      },
      {
       "output_type": "stream",
       "stream": "stdout",
       "text": [
        "- "
       ]
      },
      {
       "output_type": "stream",
       "stream": "stdout",
       "text": [
        "- "
       ]
      },
      {
       "output_type": "stream",
       "stream": "stdout",
       "text": [
        "- "
       ]
      },
      {
       "output_type": "stream",
       "stream": "stdout",
       "text": [
        "- "
       ]
      },
      {
       "output_type": "stream",
       "stream": "stdout",
       "text": [
        "- "
       ]
      },
      {
       "output_type": "stream",
       "stream": "stdout",
       "text": [
        "- "
       ]
      },
      {
       "output_type": "stream",
       "stream": "stdout",
       "text": [
        "- "
       ]
      },
      {
       "output_type": "stream",
       "stream": "stdout",
       "text": [
        "- "
       ]
      },
      {
       "output_type": "stream",
       "stream": "stdout",
       "text": [
        "- "
       ]
      },
      {
       "output_type": "stream",
       "stream": "stdout",
       "text": [
        "- "
       ]
      },
      {
       "output_type": "stream",
       "stream": "stdout",
       "text": [
        "- "
       ]
      },
      {
       "output_type": "stream",
       "stream": "stdout",
       "text": [
        "- "
       ]
      },
      {
       "output_type": "stream",
       "stream": "stdout",
       "text": [
        "- "
       ]
      },
      {
       "output_type": "stream",
       "stream": "stdout",
       "text": [
        "- "
       ]
      },
      {
       "output_type": "stream",
       "stream": "stdout",
       "text": [
        "- "
       ]
      },
      {
       "output_type": "stream",
       "stream": "stdout",
       "text": [
        "- "
       ]
      },
      {
       "output_type": "stream",
       "stream": "stdout",
       "text": [
        "- "
       ]
      },
      {
       "output_type": "stream",
       "stream": "stdout",
       "text": [
        "- "
       ]
      },
      {
       "output_type": "stream",
       "stream": "stdout",
       "text": [
        "- "
       ]
      },
      {
       "output_type": "stream",
       "stream": "stdout",
       "text": [
        "- "
       ]
      },
      {
       "output_type": "stream",
       "stream": "stdout",
       "text": [
        "- "
       ]
      },
      {
       "output_type": "stream",
       "stream": "stdout",
       "text": [
        "- "
       ]
      },
      {
       "output_type": "stream",
       "stream": "stdout",
       "text": [
        "- "
       ]
      },
      {
       "output_type": "stream",
       "stream": "stdout",
       "text": [
        "- "
       ]
      },
      {
       "output_type": "stream",
       "stream": "stdout",
       "text": [
        "- "
       ]
      },
      {
       "output_type": "stream",
       "stream": "stdout",
       "text": [
        "- "
       ]
      },
      {
       "output_type": "stream",
       "stream": "stdout",
       "text": [
        "- "
       ]
      },
      {
       "output_type": "stream",
       "stream": "stdout",
       "text": [
        "- "
       ]
      },
      {
       "output_type": "stream",
       "stream": "stdout",
       "text": [
        "- "
       ]
      },
      {
       "output_type": "stream",
       "stream": "stdout",
       "text": [
        "- "
       ]
      },
      {
       "output_type": "stream",
       "stream": "stdout",
       "text": [
        "- "
       ]
      },
      {
       "output_type": "stream",
       "stream": "stdout",
       "text": [
        "- "
       ]
      },
      {
       "output_type": "stream",
       "stream": "stdout",
       "text": [
        "- "
       ]
      },
      {
       "output_type": "stream",
       "stream": "stdout",
       "text": [
        "- "
       ]
      },
      {
       "output_type": "stream",
       "stream": "stdout",
       "text": [
        "- "
       ]
      },
      {
       "output_type": "stream",
       "stream": "stdout",
       "text": [
        "- "
       ]
      },
      {
       "output_type": "stream",
       "stream": "stdout",
       "text": [
        "- "
       ]
      },
      {
       "output_type": "stream",
       "stream": "stdout",
       "text": [
        "- "
       ]
      },
      {
       "output_type": "stream",
       "stream": "stdout",
       "text": [
        "- "
       ]
      },
      {
       "output_type": "stream",
       "stream": "stdout",
       "text": [
        "- "
       ]
      },
      {
       "output_type": "stream",
       "stream": "stdout",
       "text": [
        "- "
       ]
      },
      {
       "output_type": "stream",
       "stream": "stdout",
       "text": [
        "- "
       ]
      },
      {
       "output_type": "stream",
       "stream": "stdout",
       "text": [
        "- "
       ]
      },
      {
       "output_type": "stream",
       "stream": "stdout",
       "text": [
        "- "
       ]
      },
      {
       "output_type": "stream",
       "stream": "stdout",
       "text": [
        "- "
       ]
      },
      {
       "output_type": "stream",
       "stream": "stdout",
       "text": [
        "- "
       ]
      },
      {
       "output_type": "stream",
       "stream": "stdout",
       "text": [
        "- "
       ]
      },
      {
       "output_type": "stream",
       "stream": "stdout",
       "text": [
        "- "
       ]
      },
      {
       "output_type": "stream",
       "stream": "stdout",
       "text": [
        "- "
       ]
      },
      {
       "output_type": "stream",
       "stream": "stdout",
       "text": [
        "- "
       ]
      },
      {
       "output_type": "stream",
       "stream": "stdout",
       "text": [
        "- "
       ]
      },
      {
       "output_type": "stream",
       "stream": "stdout",
       "text": [
        "- "
       ]
      },
      {
       "output_type": "stream",
       "stream": "stdout",
       "text": [
        "- "
       ]
      },
      {
       "output_type": "stream",
       "stream": "stdout",
       "text": [
        "- "
       ]
      },
      {
       "output_type": "stream",
       "stream": "stdout",
       "text": [
        "- "
       ]
      },
      {
       "output_type": "stream",
       "stream": "stdout",
       "text": [
        "- "
       ]
      },
      {
       "output_type": "stream",
       "stream": "stdout",
       "text": [
        "- "
       ]
      },
      {
       "output_type": "stream",
       "stream": "stdout",
       "text": [
        "- "
       ]
      },
      {
       "output_type": "stream",
       "stream": "stdout",
       "text": [
        "- "
       ]
      },
      {
       "output_type": "stream",
       "stream": "stdout",
       "text": [
        "- "
       ]
      },
      {
       "output_type": "stream",
       "stream": "stdout",
       "text": [
        "- "
       ]
      },
      {
       "output_type": "stream",
       "stream": "stdout",
       "text": [
        "- "
       ]
      },
      {
       "output_type": "stream",
       "stream": "stdout",
       "text": [
        "- "
       ]
      },
      {
       "output_type": "stream",
       "stream": "stdout",
       "text": [
        "- "
       ]
      },
      {
       "output_type": "stream",
       "stream": "stdout",
       "text": [
        "- "
       ]
      },
      {
       "output_type": "stream",
       "stream": "stdout",
       "text": [
        "- "
       ]
      },
      {
       "output_type": "stream",
       "stream": "stdout",
       "text": [
        "- "
       ]
      },
      {
       "output_type": "stream",
       "stream": "stdout",
       "text": [
        "- "
       ]
      },
      {
       "output_type": "stream",
       "stream": "stdout",
       "text": [
        "- "
       ]
      },
      {
       "output_type": "stream",
       "stream": "stdout",
       "text": [
        "- "
       ]
      },
      {
       "output_type": "stream",
       "stream": "stdout",
       "text": [
        "- "
       ]
      },
      {
       "output_type": "stream",
       "stream": "stdout",
       "text": [
        "- "
       ]
      },
      {
       "output_type": "stream",
       "stream": "stdout",
       "text": [
        "- "
       ]
      },
      {
       "output_type": "stream",
       "stream": "stdout",
       "text": [
        "- "
       ]
      },
      {
       "output_type": "stream",
       "stream": "stdout",
       "text": [
        "- "
       ]
      },
      {
       "output_type": "stream",
       "stream": "stdout",
       "text": [
        "- "
       ]
      },
      {
       "output_type": "stream",
       "stream": "stdout",
       "text": [
        "- "
       ]
      },
      {
       "output_type": "stream",
       "stream": "stdout",
       "text": [
        "- "
       ]
      },
      {
       "output_type": "stream",
       "stream": "stdout",
       "text": [
        "- "
       ]
      },
      {
       "output_type": "stream",
       "stream": "stdout",
       "text": [
        "- "
       ]
      },
      {
       "output_type": "stream",
       "stream": "stdout",
       "text": [
        "- "
       ]
      },
      {
       "output_type": "stream",
       "stream": "stdout",
       "text": [
        "- "
       ]
      },
      {
       "output_type": "stream",
       "stream": "stdout",
       "text": [
        "- "
       ]
      },
      {
       "output_type": "stream",
       "stream": "stdout",
       "text": [
        "- "
       ]
      },
      {
       "output_type": "stream",
       "stream": "stdout",
       "text": [
        "- "
       ]
      },
      {
       "output_type": "stream",
       "stream": "stdout",
       "text": [
        "- "
       ]
      },
      {
       "output_type": "stream",
       "stream": "stdout",
       "text": [
        "- "
       ]
      },
      {
       "output_type": "stream",
       "stream": "stdout",
       "text": [
        "- "
       ]
      },
      {
       "output_type": "stream",
       "stream": "stdout",
       "text": [
        "- "
       ]
      },
      {
       "output_type": "stream",
       "stream": "stdout",
       "text": [
        "- "
       ]
      },
      {
       "output_type": "stream",
       "stream": "stdout",
       "text": [
        "- "
       ]
      },
      {
       "output_type": "stream",
       "stream": "stdout",
       "text": [
        "- "
       ]
      },
      {
       "output_type": "stream",
       "stream": "stdout",
       "text": [
        "- "
       ]
      },
      {
       "output_type": "stream",
       "stream": "stdout",
       "text": [
        "- "
       ]
      },
      {
       "output_type": "stream",
       "stream": "stdout",
       "text": [
        "- "
       ]
      },
      {
       "output_type": "stream",
       "stream": "stdout",
       "text": [
        "- "
       ]
      },
      {
       "output_type": "stream",
       "stream": "stdout",
       "text": [
        "- "
       ]
      },
      {
       "output_type": "stream",
       "stream": "stdout",
       "text": [
        "- "
       ]
      },
      {
       "output_type": "stream",
       "stream": "stdout",
       "text": [
        "- "
       ]
      },
      {
       "output_type": "stream",
       "stream": "stdout",
       "text": [
        "- "
       ]
      },
      {
       "output_type": "stream",
       "stream": "stdout",
       "text": [
        "- "
       ]
      },
      {
       "output_type": "stream",
       "stream": "stdout",
       "text": [
        "- "
       ]
      },
      {
       "output_type": "stream",
       "stream": "stdout",
       "text": [
        "- "
       ]
      },
      {
       "output_type": "stream",
       "stream": "stdout",
       "text": [
        "- "
       ]
      },
      {
       "output_type": "stream",
       "stream": "stdout",
       "text": [
        "- "
       ]
      },
      {
       "output_type": "stream",
       "stream": "stdout",
       "text": [
        "- "
       ]
      },
      {
       "output_type": "stream",
       "stream": "stdout",
       "text": [
        "- "
       ]
      },
      {
       "output_type": "stream",
       "stream": "stdout",
       "text": [
        "- "
       ]
      },
      {
       "output_type": "stream",
       "stream": "stdout",
       "text": [
        "- "
       ]
      },
      {
       "output_type": "stream",
       "stream": "stdout",
       "text": [
        "- "
       ]
      },
      {
       "output_type": "stream",
       "stream": "stdout",
       "text": [
        "- "
       ]
      },
      {
       "output_type": "stream",
       "stream": "stdout",
       "text": [
        "- "
       ]
      },
      {
       "output_type": "stream",
       "stream": "stdout",
       "text": [
        "- "
       ]
      },
      {
       "output_type": "stream",
       "stream": "stdout",
       "text": [
        "- "
       ]
      },
      {
       "output_type": "stream",
       "stream": "stdout",
       "text": [
        "- "
       ]
      },
      {
       "output_type": "stream",
       "stream": "stdout",
       "text": [
        "- "
       ]
      },
      {
       "output_type": "stream",
       "stream": "stdout",
       "text": [
        "- "
       ]
      },
      {
       "output_type": "stream",
       "stream": "stdout",
       "text": [
        "- "
       ]
      },
      {
       "output_type": "stream",
       "stream": "stdout",
       "text": [
        "- "
       ]
      },
      {
       "output_type": "stream",
       "stream": "stdout",
       "text": [
        "- "
       ]
      },
      {
       "output_type": "stream",
       "stream": "stdout",
       "text": [
        "- "
       ]
      },
      {
       "output_type": "stream",
       "stream": "stdout",
       "text": [
        "- "
       ]
      },
      {
       "output_type": "stream",
       "stream": "stdout",
       "text": [
        "- "
       ]
      },
      {
       "output_type": "stream",
       "stream": "stdout",
       "text": [
        "- "
       ]
      },
      {
       "output_type": "stream",
       "stream": "stdout",
       "text": [
        "- "
       ]
      },
      {
       "output_type": "stream",
       "stream": "stdout",
       "text": [
        "- "
       ]
      },
      {
       "output_type": "stream",
       "stream": "stdout",
       "text": [
        "- "
       ]
      },
      {
       "output_type": "stream",
       "stream": "stdout",
       "text": [
        "- "
       ]
      },
      {
       "output_type": "stream",
       "stream": "stdout",
       "text": [
        "- "
       ]
      },
      {
       "output_type": "stream",
       "stream": "stdout",
       "text": [
        "- "
       ]
      },
      {
       "output_type": "stream",
       "stream": "stdout",
       "text": [
        "Epoch 7 complete\n",
        "- "
       ]
      },
      {
       "output_type": "stream",
       "stream": "stdout",
       "text": [
        "- "
       ]
      },
      {
       "output_type": "stream",
       "stream": "stdout",
       "text": [
        "- "
       ]
      },
      {
       "output_type": "stream",
       "stream": "stdout",
       "text": [
        "- "
       ]
      },
      {
       "output_type": "stream",
       "stream": "stdout",
       "text": [
        "- "
       ]
      },
      {
       "output_type": "stream",
       "stream": "stdout",
       "text": [
        "- "
       ]
      },
      {
       "output_type": "stream",
       "stream": "stdout",
       "text": [
        "- "
       ]
      },
      {
       "output_type": "stream",
       "stream": "stdout",
       "text": [
        "- "
       ]
      },
      {
       "output_type": "stream",
       "stream": "stdout",
       "text": [
        "- "
       ]
      },
      {
       "output_type": "stream",
       "stream": "stdout",
       "text": [
        "- "
       ]
      },
      {
       "output_type": "stream",
       "stream": "stdout",
       "text": [
        "- "
       ]
      },
      {
       "output_type": "stream",
       "stream": "stdout",
       "text": [
        "- "
       ]
      },
      {
       "output_type": "stream",
       "stream": "stdout",
       "text": [
        "- "
       ]
      },
      {
       "output_type": "stream",
       "stream": "stdout",
       "text": [
        "- "
       ]
      },
      {
       "output_type": "stream",
       "stream": "stdout",
       "text": [
        "- "
       ]
      },
      {
       "output_type": "stream",
       "stream": "stdout",
       "text": [
        "- "
       ]
      },
      {
       "output_type": "stream",
       "stream": "stdout",
       "text": [
        "- "
       ]
      },
      {
       "output_type": "stream",
       "stream": "stdout",
       "text": [
        "- "
       ]
      },
      {
       "output_type": "stream",
       "stream": "stdout",
       "text": [
        "- "
       ]
      },
      {
       "output_type": "stream",
       "stream": "stdout",
       "text": [
        "- "
       ]
      },
      {
       "output_type": "stream",
       "stream": "stdout",
       "text": [
        "- "
       ]
      },
      {
       "output_type": "stream",
       "stream": "stdout",
       "text": [
        "- "
       ]
      },
      {
       "output_type": "stream",
       "stream": "stdout",
       "text": [
        "- "
       ]
      },
      {
       "output_type": "stream",
       "stream": "stdout",
       "text": [
        "- "
       ]
      },
      {
       "output_type": "stream",
       "stream": "stdout",
       "text": [
        "- "
       ]
      },
      {
       "output_type": "stream",
       "stream": "stdout",
       "text": [
        "- "
       ]
      },
      {
       "output_type": "stream",
       "stream": "stdout",
       "text": [
        "- "
       ]
      },
      {
       "output_type": "stream",
       "stream": "stdout",
       "text": [
        "- "
       ]
      },
      {
       "output_type": "stream",
       "stream": "stdout",
       "text": [
        "- "
       ]
      },
      {
       "output_type": "stream",
       "stream": "stdout",
       "text": [
        "- "
       ]
      },
      {
       "output_type": "stream",
       "stream": "stdout",
       "text": [
        "- "
       ]
      },
      {
       "output_type": "stream",
       "stream": "stdout",
       "text": [
        "- "
       ]
      },
      {
       "output_type": "stream",
       "stream": "stdout",
       "text": [
        "- "
       ]
      },
      {
       "output_type": "stream",
       "stream": "stdout",
       "text": [
        "- "
       ]
      },
      {
       "output_type": "stream",
       "stream": "stdout",
       "text": [
        "- "
       ]
      },
      {
       "output_type": "stream",
       "stream": "stdout",
       "text": [
        "- "
       ]
      },
      {
       "output_type": "stream",
       "stream": "stdout",
       "text": [
        "- "
       ]
      },
      {
       "output_type": "stream",
       "stream": "stdout",
       "text": [
        "- "
       ]
      },
      {
       "output_type": "stream",
       "stream": "stdout",
       "text": [
        "- "
       ]
      },
      {
       "output_type": "stream",
       "stream": "stdout",
       "text": [
        "- "
       ]
      },
      {
       "output_type": "stream",
       "stream": "stdout",
       "text": [
        "- "
       ]
      },
      {
       "output_type": "stream",
       "stream": "stdout",
       "text": [
        "- "
       ]
      },
      {
       "output_type": "stream",
       "stream": "stdout",
       "text": [
        "- "
       ]
      },
      {
       "output_type": "stream",
       "stream": "stdout",
       "text": [
        "- "
       ]
      },
      {
       "output_type": "stream",
       "stream": "stdout",
       "text": [
        "- "
       ]
      },
      {
       "output_type": "stream",
       "stream": "stdout",
       "text": [
        "- "
       ]
      },
      {
       "output_type": "stream",
       "stream": "stdout",
       "text": [
        "- "
       ]
      },
      {
       "output_type": "stream",
       "stream": "stdout",
       "text": [
        "- "
       ]
      },
      {
       "output_type": "stream",
       "stream": "stdout",
       "text": [
        "- "
       ]
      },
      {
       "output_type": "stream",
       "stream": "stdout",
       "text": [
        "- "
       ]
      },
      {
       "output_type": "stream",
       "stream": "stdout",
       "text": [
        "- "
       ]
      },
      {
       "output_type": "stream",
       "stream": "stdout",
       "text": [
        "- "
       ]
      },
      {
       "output_type": "stream",
       "stream": "stdout",
       "text": [
        "- "
       ]
      },
      {
       "output_type": "stream",
       "stream": "stdout",
       "text": [
        "- "
       ]
      },
      {
       "output_type": "stream",
       "stream": "stdout",
       "text": [
        "- "
       ]
      },
      {
       "output_type": "stream",
       "stream": "stdout",
       "text": [
        "- "
       ]
      },
      {
       "output_type": "stream",
       "stream": "stdout",
       "text": [
        "- "
       ]
      },
      {
       "output_type": "stream",
       "stream": "stdout",
       "text": [
        "- "
       ]
      },
      {
       "output_type": "stream",
       "stream": "stdout",
       "text": [
        "- "
       ]
      },
      {
       "output_type": "stream",
       "stream": "stdout",
       "text": [
        "- "
       ]
      },
      {
       "output_type": "stream",
       "stream": "stdout",
       "text": [
        "- "
       ]
      },
      {
       "output_type": "stream",
       "stream": "stdout",
       "text": [
        "- "
       ]
      },
      {
       "output_type": "stream",
       "stream": "stdout",
       "text": [
        "- "
       ]
      },
      {
       "output_type": "stream",
       "stream": "stdout",
       "text": [
        "- "
       ]
      },
      {
       "output_type": "stream",
       "stream": "stdout",
       "text": [
        "- "
       ]
      },
      {
       "output_type": "stream",
       "stream": "stdout",
       "text": [
        "- "
       ]
      },
      {
       "output_type": "stream",
       "stream": "stdout",
       "text": [
        "- "
       ]
      },
      {
       "output_type": "stream",
       "stream": "stdout",
       "text": [
        "- "
       ]
      },
      {
       "output_type": "stream",
       "stream": "stdout",
       "text": [
        "- "
       ]
      },
      {
       "output_type": "stream",
       "stream": "stdout",
       "text": [
        "- "
       ]
      },
      {
       "output_type": "stream",
       "stream": "stdout",
       "text": [
        "- "
       ]
      },
      {
       "output_type": "stream",
       "stream": "stdout",
       "text": [
        "- "
       ]
      },
      {
       "output_type": "stream",
       "stream": "stdout",
       "text": [
        "- "
       ]
      },
      {
       "output_type": "stream",
       "stream": "stdout",
       "text": [
        "- "
       ]
      },
      {
       "output_type": "stream",
       "stream": "stdout",
       "text": [
        "- "
       ]
      },
      {
       "output_type": "stream",
       "stream": "stdout",
       "text": [
        "- "
       ]
      },
      {
       "output_type": "stream",
       "stream": "stdout",
       "text": [
        "- "
       ]
      },
      {
       "output_type": "stream",
       "stream": "stdout",
       "text": [
        "- "
       ]
      },
      {
       "output_type": "stream",
       "stream": "stdout",
       "text": [
        "- "
       ]
      },
      {
       "output_type": "stream",
       "stream": "stdout",
       "text": [
        "- "
       ]
      },
      {
       "output_type": "stream",
       "stream": "stdout",
       "text": [
        "- "
       ]
      },
      {
       "output_type": "stream",
       "stream": "stdout",
       "text": [
        "- "
       ]
      },
      {
       "output_type": "stream",
       "stream": "stdout",
       "text": [
        "- "
       ]
      },
      {
       "output_type": "stream",
       "stream": "stdout",
       "text": [
        "- "
       ]
      },
      {
       "output_type": "stream",
       "stream": "stdout",
       "text": [
        "- "
       ]
      },
      {
       "output_type": "stream",
       "stream": "stdout",
       "text": [
        "- "
       ]
      },
      {
       "output_type": "stream",
       "stream": "stdout",
       "text": [
        "- "
       ]
      },
      {
       "output_type": "stream",
       "stream": "stdout",
       "text": [
        "- "
       ]
      },
      {
       "output_type": "stream",
       "stream": "stdout",
       "text": [
        "- "
       ]
      },
      {
       "output_type": "stream",
       "stream": "stdout",
       "text": [
        "- "
       ]
      },
      {
       "output_type": "stream",
       "stream": "stdout",
       "text": [
        "- "
       ]
      },
      {
       "output_type": "stream",
       "stream": "stdout",
       "text": [
        "- "
       ]
      },
      {
       "output_type": "stream",
       "stream": "stdout",
       "text": [
        "- "
       ]
      },
      {
       "output_type": "stream",
       "stream": "stdout",
       "text": [
        "- "
       ]
      },
      {
       "output_type": "stream",
       "stream": "stdout",
       "text": [
        "- "
       ]
      },
      {
       "output_type": "stream",
       "stream": "stdout",
       "text": [
        "- "
       ]
      },
      {
       "output_type": "stream",
       "stream": "stdout",
       "text": [
        "- "
       ]
      },
      {
       "output_type": "stream",
       "stream": "stdout",
       "text": [
        "- "
       ]
      },
      {
       "output_type": "stream",
       "stream": "stdout",
       "text": [
        "- "
       ]
      },
      {
       "output_type": "stream",
       "stream": "stdout",
       "text": [
        "- "
       ]
      },
      {
       "output_type": "stream",
       "stream": "stdout",
       "text": [
        "- "
       ]
      },
      {
       "output_type": "stream",
       "stream": "stdout",
       "text": [
        "- "
       ]
      },
      {
       "output_type": "stream",
       "stream": "stdout",
       "text": [
        "- "
       ]
      },
      {
       "output_type": "stream",
       "stream": "stdout",
       "text": [
        "- "
       ]
      },
      {
       "output_type": "stream",
       "stream": "stdout",
       "text": [
        "- "
       ]
      },
      {
       "output_type": "stream",
       "stream": "stdout",
       "text": [
        "- "
       ]
      },
      {
       "output_type": "stream",
       "stream": "stdout",
       "text": [
        "- "
       ]
      },
      {
       "output_type": "stream",
       "stream": "stdout",
       "text": [
        "- "
       ]
      },
      {
       "output_type": "stream",
       "stream": "stdout",
       "text": [
        "- "
       ]
      },
      {
       "output_type": "stream",
       "stream": "stdout",
       "text": [
        "- "
       ]
      },
      {
       "output_type": "stream",
       "stream": "stdout",
       "text": [
        "- "
       ]
      },
      {
       "output_type": "stream",
       "stream": "stdout",
       "text": [
        "- "
       ]
      },
      {
       "output_type": "stream",
       "stream": "stdout",
       "text": [
        "- "
       ]
      },
      {
       "output_type": "stream",
       "stream": "stdout",
       "text": [
        "- "
       ]
      },
      {
       "output_type": "stream",
       "stream": "stdout",
       "text": [
        "- "
       ]
      },
      {
       "output_type": "stream",
       "stream": "stdout",
       "text": [
        "- "
       ]
      },
      {
       "output_type": "stream",
       "stream": "stdout",
       "text": [
        "- "
       ]
      },
      {
       "output_type": "stream",
       "stream": "stdout",
       "text": [
        "- "
       ]
      },
      {
       "output_type": "stream",
       "stream": "stdout",
       "text": [
        "- "
       ]
      },
      {
       "output_type": "stream",
       "stream": "stdout",
       "text": [
        "- "
       ]
      },
      {
       "output_type": "stream",
       "stream": "stdout",
       "text": [
        "- "
       ]
      },
      {
       "output_type": "stream",
       "stream": "stdout",
       "text": [
        "- "
       ]
      },
      {
       "output_type": "stream",
       "stream": "stdout",
       "text": [
        "- "
       ]
      },
      {
       "output_type": "stream",
       "stream": "stdout",
       "text": [
        "- "
       ]
      },
      {
       "output_type": "stream",
       "stream": "stdout",
       "text": [
        "- "
       ]
      },
      {
       "output_type": "stream",
       "stream": "stdout",
       "text": [
        "- "
       ]
      },
      {
       "output_type": "stream",
       "stream": "stdout",
       "text": [
        "- "
       ]
      },
      {
       "output_type": "stream",
       "stream": "stdout",
       "text": [
        "- "
       ]
      },
      {
       "output_type": "stream",
       "stream": "stdout",
       "text": [
        "- "
       ]
      },
      {
       "output_type": "stream",
       "stream": "stdout",
       "text": [
        "- "
       ]
      },
      {
       "output_type": "stream",
       "stream": "stdout",
       "text": [
        "- "
       ]
      },
      {
       "output_type": "stream",
       "stream": "stdout",
       "text": [
        "- "
       ]
      },
      {
       "output_type": "stream",
       "stream": "stdout",
       "text": [
        "- "
       ]
      },
      {
       "output_type": "stream",
       "stream": "stdout",
       "text": [
        "- "
       ]
      },
      {
       "output_type": "stream",
       "stream": "stdout",
       "text": [
        "- "
       ]
      },
      {
       "output_type": "stream",
       "stream": "stdout",
       "text": [
        "- "
       ]
      },
      {
       "output_type": "stream",
       "stream": "stdout",
       "text": [
        "- "
       ]
      },
      {
       "output_type": "stream",
       "stream": "stdout",
       "text": [
        "- "
       ]
      },
      {
       "output_type": "stream",
       "stream": "stdout",
       "text": [
        "- "
       ]
      },
      {
       "output_type": "stream",
       "stream": "stdout",
       "text": [
        "- "
       ]
      },
      {
       "output_type": "stream",
       "stream": "stdout",
       "text": [
        "- "
       ]
      },
      {
       "output_type": "stream",
       "stream": "stdout",
       "text": [
        "- "
       ]
      },
      {
       "output_type": "stream",
       "stream": "stdout",
       "text": [
        "- "
       ]
      },
      {
       "output_type": "stream",
       "stream": "stdout",
       "text": [
        "- "
       ]
      },
      {
       "output_type": "stream",
       "stream": "stdout",
       "text": [
        "- "
       ]
      },
      {
       "output_type": "stream",
       "stream": "stdout",
       "text": [
        "- "
       ]
      },
      {
       "output_type": "stream",
       "stream": "stdout",
       "text": [
        "- "
       ]
      },
      {
       "output_type": "stream",
       "stream": "stdout",
       "text": [
        "- "
       ]
      },
      {
       "output_type": "stream",
       "stream": "stdout",
       "text": [
        "- "
       ]
      },
      {
       "output_type": "stream",
       "stream": "stdout",
       "text": [
        "- "
       ]
      },
      {
       "output_type": "stream",
       "stream": "stdout",
       "text": [
        "- "
       ]
      },
      {
       "output_type": "stream",
       "stream": "stdout",
       "text": [
        "- "
       ]
      },
      {
       "output_type": "stream",
       "stream": "stdout",
       "text": [
        "- "
       ]
      },
      {
       "output_type": "stream",
       "stream": "stdout",
       "text": [
        "- "
       ]
      },
      {
       "output_type": "stream",
       "stream": "stdout",
       "text": [
        "- "
       ]
      },
      {
       "output_type": "stream",
       "stream": "stdout",
       "text": [
        "- "
       ]
      },
      {
       "output_type": "stream",
       "stream": "stdout",
       "text": [
        "- "
       ]
      },
      {
       "output_type": "stream",
       "stream": "stdout",
       "text": [
        "- "
       ]
      },
      {
       "output_type": "stream",
       "stream": "stdout",
       "text": [
        "- "
       ]
      },
      {
       "output_type": "stream",
       "stream": "stdout",
       "text": [
        "- "
       ]
      },
      {
       "output_type": "stream",
       "stream": "stdout",
       "text": [
        "- "
       ]
      },
      {
       "output_type": "stream",
       "stream": "stdout",
       "text": [
        "- "
       ]
      },
      {
       "output_type": "stream",
       "stream": "stdout",
       "text": [
        "- "
       ]
      },
      {
       "output_type": "stream",
       "stream": "stdout",
       "text": [
        "- "
       ]
      },
      {
       "output_type": "stream",
       "stream": "stdout",
       "text": [
        "- "
       ]
      },
      {
       "output_type": "stream",
       "stream": "stdout",
       "text": [
        "- "
       ]
      },
      {
       "output_type": "stream",
       "stream": "stdout",
       "text": [
        "- "
       ]
      },
      {
       "output_type": "stream",
       "stream": "stdout",
       "text": [
        "- "
       ]
      },
      {
       "output_type": "stream",
       "stream": "stdout",
       "text": [
        "- "
       ]
      },
      {
       "output_type": "stream",
       "stream": "stdout",
       "text": [
        "- "
       ]
      },
      {
       "output_type": "stream",
       "stream": "stdout",
       "text": [
        "- "
       ]
      },
      {
       "output_type": "stream",
       "stream": "stdout",
       "text": [
        "- "
       ]
      },
      {
       "output_type": "stream",
       "stream": "stdout",
       "text": [
        "- "
       ]
      },
      {
       "output_type": "stream",
       "stream": "stdout",
       "text": [
        "- "
       ]
      },
      {
       "output_type": "stream",
       "stream": "stdout",
       "text": [
        "- "
       ]
      },
      {
       "output_type": "stream",
       "stream": "stdout",
       "text": [
        "- "
       ]
      },
      {
       "output_type": "stream",
       "stream": "stdout",
       "text": [
        "- "
       ]
      },
      {
       "output_type": "stream",
       "stream": "stdout",
       "text": [
        "- "
       ]
      },
      {
       "output_type": "stream",
       "stream": "stdout",
       "text": [
        "- "
       ]
      },
      {
       "output_type": "stream",
       "stream": "stdout",
       "text": [
        "- "
       ]
      },
      {
       "output_type": "stream",
       "stream": "stdout",
       "text": [
        "- "
       ]
      },
      {
       "output_type": "stream",
       "stream": "stdout",
       "text": [
        "- "
       ]
      },
      {
       "output_type": "stream",
       "stream": "stdout",
       "text": [
        "- "
       ]
      },
      {
       "output_type": "stream",
       "stream": "stdout",
       "text": [
        "- "
       ]
      },
      {
       "output_type": "stream",
       "stream": "stdout",
       "text": [
        "- "
       ]
      },
      {
       "output_type": "stream",
       "stream": "stdout",
       "text": [
        "- "
       ]
      },
      {
       "output_type": "stream",
       "stream": "stdout",
       "text": [
        "- "
       ]
      },
      {
       "output_type": "stream",
       "stream": "stdout",
       "text": [
        "- "
       ]
      },
      {
       "output_type": "stream",
       "stream": "stdout",
       "text": [
        "- "
       ]
      },
      {
       "output_type": "stream",
       "stream": "stdout",
       "text": [
        "- "
       ]
      },
      {
       "output_type": "stream",
       "stream": "stdout",
       "text": [
        "- "
       ]
      },
      {
       "output_type": "stream",
       "stream": "stdout",
       "text": [
        "- "
       ]
      },
      {
       "output_type": "stream",
       "stream": "stdout",
       "text": [
        "- "
       ]
      },
      {
       "output_type": "stream",
       "stream": "stdout",
       "text": [
        "- "
       ]
      },
      {
       "output_type": "stream",
       "stream": "stdout",
       "text": [
        "- "
       ]
      },
      {
       "output_type": "stream",
       "stream": "stdout",
       "text": [
        "- "
       ]
      },
      {
       "output_type": "stream",
       "stream": "stdout",
       "text": [
        "- "
       ]
      },
      {
       "output_type": "stream",
       "stream": "stdout",
       "text": [
        "- "
       ]
      },
      {
       "output_type": "stream",
       "stream": "stdout",
       "text": [
        "- "
       ]
      },
      {
       "output_type": "stream",
       "stream": "stdout",
       "text": [
        "- "
       ]
      },
      {
       "output_type": "stream",
       "stream": "stdout",
       "text": [
        "- "
       ]
      },
      {
       "output_type": "stream",
       "stream": "stdout",
       "text": [
        "- "
       ]
      },
      {
       "output_type": "stream",
       "stream": "stdout",
       "text": [
        "- "
       ]
      },
      {
       "output_type": "stream",
       "stream": "stdout",
       "text": [
        "- "
       ]
      },
      {
       "output_type": "stream",
       "stream": "stdout",
       "text": [
        "- "
       ]
      },
      {
       "output_type": "stream",
       "stream": "stdout",
       "text": [
        "- "
       ]
      },
      {
       "output_type": "stream",
       "stream": "stdout",
       "text": [
        "- "
       ]
      },
      {
       "output_type": "stream",
       "stream": "stdout",
       "text": [
        "- "
       ]
      },
      {
       "output_type": "stream",
       "stream": "stdout",
       "text": [
        "- "
       ]
      },
      {
       "output_type": "stream",
       "stream": "stdout",
       "text": [
        "- "
       ]
      },
      {
       "output_type": "stream",
       "stream": "stdout",
       "text": [
        "- "
       ]
      },
      {
       "output_type": "stream",
       "stream": "stdout",
       "text": [
        "- "
       ]
      },
      {
       "output_type": "stream",
       "stream": "stdout",
       "text": [
        "- "
       ]
      },
      {
       "output_type": "stream",
       "stream": "stdout",
       "text": [
        "- "
       ]
      },
      {
       "output_type": "stream",
       "stream": "stdout",
       "text": [
        "- "
       ]
      },
      {
       "output_type": "stream",
       "stream": "stdout",
       "text": [
        "- "
       ]
      },
      {
       "output_type": "stream",
       "stream": "stdout",
       "text": [
        "- "
       ]
      },
      {
       "output_type": "stream",
       "stream": "stdout",
       "text": [
        "- "
       ]
      },
      {
       "output_type": "stream",
       "stream": "stdout",
       "text": [
        "- "
       ]
      },
      {
       "output_type": "stream",
       "stream": "stdout",
       "text": [
        "- "
       ]
      },
      {
       "output_type": "stream",
       "stream": "stdout",
       "text": [
        "- "
       ]
      },
      {
       "output_type": "stream",
       "stream": "stdout",
       "text": [
        "- "
       ]
      },
      {
       "output_type": "stream",
       "stream": "stdout",
       "text": [
        "- "
       ]
      },
      {
       "output_type": "stream",
       "stream": "stdout",
       "text": [
        "- "
       ]
      },
      {
       "output_type": "stream",
       "stream": "stdout",
       "text": [
        "- "
       ]
      },
      {
       "output_type": "stream",
       "stream": "stdout",
       "text": [
        "- "
       ]
      },
      {
       "output_type": "stream",
       "stream": "stdout",
       "text": [
        "- "
       ]
      },
      {
       "output_type": "stream",
       "stream": "stdout",
       "text": [
        "- "
       ]
      },
      {
       "output_type": "stream",
       "stream": "stdout",
       "text": [
        "- "
       ]
      },
      {
       "output_type": "stream",
       "stream": "stdout",
       "text": [
        "- "
       ]
      },
      {
       "output_type": "stream",
       "stream": "stdout",
       "text": [
        "- "
       ]
      },
      {
       "output_type": "stream",
       "stream": "stdout",
       "text": [
        "- "
       ]
      },
      {
       "output_type": "stream",
       "stream": "stdout",
       "text": [
        "- "
       ]
      },
      {
       "output_type": "stream",
       "stream": "stdout",
       "text": [
        "- "
       ]
      },
      {
       "output_type": "stream",
       "stream": "stdout",
       "text": [
        "- "
       ]
      },
      {
       "output_type": "stream",
       "stream": "stdout",
       "text": [
        "- "
       ]
      },
      {
       "output_type": "stream",
       "stream": "stdout",
       "text": [
        "- "
       ]
      },
      {
       "output_type": "stream",
       "stream": "stdout",
       "text": [
        "- "
       ]
      },
      {
       "output_type": "stream",
       "stream": "stdout",
       "text": [
        "- "
       ]
      },
      {
       "output_type": "stream",
       "stream": "stdout",
       "text": [
        "- "
       ]
      },
      {
       "output_type": "stream",
       "stream": "stdout",
       "text": [
        "- "
       ]
      },
      {
       "output_type": "stream",
       "stream": "stdout",
       "text": [
        "- "
       ]
      },
      {
       "output_type": "stream",
       "stream": "stdout",
       "text": [
        "- "
       ]
      },
      {
       "output_type": "stream",
       "stream": "stdout",
       "text": [
        "- "
       ]
      },
      {
       "output_type": "stream",
       "stream": "stdout",
       "text": [
        "- "
       ]
      },
      {
       "output_type": "stream",
       "stream": "stdout",
       "text": [
        "- "
       ]
      },
      {
       "output_type": "stream",
       "stream": "stdout",
       "text": [
        "- "
       ]
      },
      {
       "output_type": "stream",
       "stream": "stdout",
       "text": [
        "- "
       ]
      },
      {
       "output_type": "stream",
       "stream": "stdout",
       "text": [
        "- "
       ]
      },
      {
       "output_type": "stream",
       "stream": "stdout",
       "text": [
        "- "
       ]
      },
      {
       "output_type": "stream",
       "stream": "stdout",
       "text": [
        "- "
       ]
      },
      {
       "output_type": "stream",
       "stream": "stdout",
       "text": [
        "- "
       ]
      },
      {
       "output_type": "stream",
       "stream": "stdout",
       "text": [
        "- "
       ]
      },
      {
       "output_type": "stream",
       "stream": "stdout",
       "text": [
        "- "
       ]
      },
      {
       "output_type": "stream",
       "stream": "stdout",
       "text": [
        "- "
       ]
      },
      {
       "output_type": "stream",
       "stream": "stdout",
       "text": [
        "- "
       ]
      },
      {
       "output_type": "stream",
       "stream": "stdout",
       "text": [
        "- "
       ]
      },
      {
       "output_type": "stream",
       "stream": "stdout",
       "text": [
        "- "
       ]
      },
      {
       "output_type": "stream",
       "stream": "stdout",
       "text": [
        "- "
       ]
      },
      {
       "output_type": "stream",
       "stream": "stdout",
       "text": [
        "- "
       ]
      },
      {
       "output_type": "stream",
       "stream": "stdout",
       "text": [
        "- "
       ]
      },
      {
       "output_type": "stream",
       "stream": "stdout",
       "text": [
        "- "
       ]
      },
      {
       "output_type": "stream",
       "stream": "stdout",
       "text": [
        "- "
       ]
      },
      {
       "output_type": "stream",
       "stream": "stdout",
       "text": [
        "- "
       ]
      },
      {
       "output_type": "stream",
       "stream": "stdout",
       "text": [
        "- "
       ]
      },
      {
       "output_type": "stream",
       "stream": "stdout",
       "text": [
        "- "
       ]
      },
      {
       "output_type": "stream",
       "stream": "stdout",
       "text": [
        "- "
       ]
      },
      {
       "output_type": "stream",
       "stream": "stdout",
       "text": [
        "- "
       ]
      },
      {
       "output_type": "stream",
       "stream": "stdout",
       "text": [
        "- "
       ]
      },
      {
       "output_type": "stream",
       "stream": "stdout",
       "text": [
        "- "
       ]
      },
      {
       "output_type": "stream",
       "stream": "stdout",
       "text": [
        "- "
       ]
      },
      {
       "output_type": "stream",
       "stream": "stdout",
       "text": [
        "- "
       ]
      },
      {
       "output_type": "stream",
       "stream": "stdout",
       "text": [
        "- "
       ]
      },
      {
       "output_type": "stream",
       "stream": "stdout",
       "text": [
        "- "
       ]
      },
      {
       "output_type": "stream",
       "stream": "stdout",
       "text": [
        "- "
       ]
      },
      {
       "output_type": "stream",
       "stream": "stdout",
       "text": [
        "- "
       ]
      },
      {
       "output_type": "stream",
       "stream": "stdout",
       "text": [
        "- "
       ]
      },
      {
       "output_type": "stream",
       "stream": "stdout",
       "text": [
        "- "
       ]
      },
      {
       "output_type": "stream",
       "stream": "stdout",
       "text": [
        "- "
       ]
      },
      {
       "output_type": "stream",
       "stream": "stdout",
       "text": [
        "- "
       ]
      },
      {
       "output_type": "stream",
       "stream": "stdout",
       "text": [
        "- "
       ]
      },
      {
       "output_type": "stream",
       "stream": "stdout",
       "text": [
        "- "
       ]
      },
      {
       "output_type": "stream",
       "stream": "stdout",
       "text": [
        "- "
       ]
      },
      {
       "output_type": "stream",
       "stream": "stdout",
       "text": [
        "- "
       ]
      },
      {
       "output_type": "stream",
       "stream": "stdout",
       "text": [
        "- "
       ]
      },
      {
       "output_type": "stream",
       "stream": "stdout",
       "text": [
        "- "
       ]
      },
      {
       "output_type": "stream",
       "stream": "stdout",
       "text": [
        "- "
       ]
      },
      {
       "output_type": "stream",
       "stream": "stdout",
       "text": [
        "- "
       ]
      },
      {
       "output_type": "stream",
       "stream": "stdout",
       "text": [
        "- "
       ]
      },
      {
       "output_type": "stream",
       "stream": "stdout",
       "text": [
        "- "
       ]
      },
      {
       "output_type": "stream",
       "stream": "stdout",
       "text": [
        "- "
       ]
      },
      {
       "output_type": "stream",
       "stream": "stdout",
       "text": [
        "- "
       ]
      },
      {
       "output_type": "stream",
       "stream": "stdout",
       "text": [
        "- "
       ]
      },
      {
       "output_type": "stream",
       "stream": "stdout",
       "text": [
        "- "
       ]
      },
      {
       "output_type": "stream",
       "stream": "stdout",
       "text": [
        "- "
       ]
      },
      {
       "output_type": "stream",
       "stream": "stdout",
       "text": [
        "- "
       ]
      },
      {
       "output_type": "stream",
       "stream": "stdout",
       "text": [
        "- "
       ]
      },
      {
       "output_type": "stream",
       "stream": "stdout",
       "text": [
        "- "
       ]
      },
      {
       "output_type": "stream",
       "stream": "stdout",
       "text": [
        "- "
       ]
      },
      {
       "output_type": "stream",
       "stream": "stdout",
       "text": [
        "- "
       ]
      },
      {
       "output_type": "stream",
       "stream": "stdout",
       "text": [
        "- "
       ]
      },
      {
       "output_type": "stream",
       "stream": "stdout",
       "text": [
        "- "
       ]
      },
      {
       "output_type": "stream",
       "stream": "stdout",
       "text": [
        "- "
       ]
      },
      {
       "output_type": "stream",
       "stream": "stdout",
       "text": [
        "- "
       ]
      },
      {
       "output_type": "stream",
       "stream": "stdout",
       "text": [
        "- "
       ]
      },
      {
       "output_type": "stream",
       "stream": "stdout",
       "text": [
        "- "
       ]
      },
      {
       "output_type": "stream",
       "stream": "stdout",
       "text": [
        "- "
       ]
      },
      {
       "output_type": "stream",
       "stream": "stdout",
       "text": [
        "- "
       ]
      },
      {
       "output_type": "stream",
       "stream": "stdout",
       "text": [
        "- "
       ]
      },
      {
       "output_type": "stream",
       "stream": "stdout",
       "text": [
        "- "
       ]
      },
      {
       "output_type": "stream",
       "stream": "stdout",
       "text": [
        "- "
       ]
      },
      {
       "output_type": "stream",
       "stream": "stdout",
       "text": [
        "- "
       ]
      },
      {
       "output_type": "stream",
       "stream": "stdout",
       "text": [
        "- "
       ]
      },
      {
       "output_type": "stream",
       "stream": "stdout",
       "text": [
        "- "
       ]
      },
      {
       "output_type": "stream",
       "stream": "stdout",
       "text": [
        "- "
       ]
      },
      {
       "output_type": "stream",
       "stream": "stdout",
       "text": [
        "- "
       ]
      },
      {
       "output_type": "stream",
       "stream": "stdout",
       "text": [
        "- "
       ]
      },
      {
       "output_type": "stream",
       "stream": "stdout",
       "text": [
        "- "
       ]
      },
      {
       "output_type": "stream",
       "stream": "stdout",
       "text": [
        "- "
       ]
      },
      {
       "output_type": "stream",
       "stream": "stdout",
       "text": [
        "- "
       ]
      },
      {
       "output_type": "stream",
       "stream": "stdout",
       "text": [
        "- "
       ]
      },
      {
       "output_type": "stream",
       "stream": "stdout",
       "text": [
        "- "
       ]
      },
      {
       "output_type": "stream",
       "stream": "stdout",
       "text": [
        "- "
       ]
      },
      {
       "output_type": "stream",
       "stream": "stdout",
       "text": [
        "- "
       ]
      },
      {
       "output_type": "stream",
       "stream": "stdout",
       "text": [
        "- "
       ]
      },
      {
       "output_type": "stream",
       "stream": "stdout",
       "text": [
        "- "
       ]
      },
      {
       "output_type": "stream",
       "stream": "stdout",
       "text": [
        "- "
       ]
      },
      {
       "output_type": "stream",
       "stream": "stdout",
       "text": [
        "- "
       ]
      },
      {
       "output_type": "stream",
       "stream": "stdout",
       "text": [
        "- "
       ]
      },
      {
       "output_type": "stream",
       "stream": "stdout",
       "text": [
        "- "
       ]
      },
      {
       "output_type": "stream",
       "stream": "stdout",
       "text": [
        "- "
       ]
      },
      {
       "output_type": "stream",
       "stream": "stdout",
       "text": [
        "- "
       ]
      },
      {
       "output_type": "stream",
       "stream": "stdout",
       "text": [
        "- "
       ]
      },
      {
       "output_type": "stream",
       "stream": "stdout",
       "text": [
        "- "
       ]
      },
      {
       "output_type": "stream",
       "stream": "stdout",
       "text": [
        "- "
       ]
      },
      {
       "output_type": "stream",
       "stream": "stdout",
       "text": [
        "- "
       ]
      },
      {
       "output_type": "stream",
       "stream": "stdout",
       "text": [
        "- "
       ]
      },
      {
       "output_type": "stream",
       "stream": "stdout",
       "text": [
        "- "
       ]
      },
      {
       "output_type": "stream",
       "stream": "stdout",
       "text": [
        "- "
       ]
      },
      {
       "output_type": "stream",
       "stream": "stdout",
       "text": [
        "- "
       ]
      },
      {
       "output_type": "stream",
       "stream": "stdout",
       "text": [
        "- "
       ]
      },
      {
       "output_type": "stream",
       "stream": "stdout",
       "text": [
        "- "
       ]
      },
      {
       "output_type": "stream",
       "stream": "stdout",
       "text": [
        "- "
       ]
      },
      {
       "output_type": "stream",
       "stream": "stdout",
       "text": [
        "- "
       ]
      },
      {
       "output_type": "stream",
       "stream": "stdout",
       "text": [
        "- "
       ]
      },
      {
       "output_type": "stream",
       "stream": "stdout",
       "text": [
        "- "
       ]
      },
      {
       "output_type": "stream",
       "stream": "stdout",
       "text": [
        "- "
       ]
      },
      {
       "output_type": "stream",
       "stream": "stdout",
       "text": [
        "- "
       ]
      },
      {
       "output_type": "stream",
       "stream": "stdout",
       "text": [
        "- "
       ]
      },
      {
       "output_type": "stream",
       "stream": "stdout",
       "text": [
        "- "
       ]
      },
      {
       "output_type": "stream",
       "stream": "stdout",
       "text": [
        "- "
       ]
      },
      {
       "output_type": "stream",
       "stream": "stdout",
       "text": [
        "- "
       ]
      },
      {
       "output_type": "stream",
       "stream": "stdout",
       "text": [
        "- "
       ]
      },
      {
       "output_type": "stream",
       "stream": "stdout",
       "text": [
        "- "
       ]
      },
      {
       "output_type": "stream",
       "stream": "stdout",
       "text": [
        "- "
       ]
      },
      {
       "output_type": "stream",
       "stream": "stdout",
       "text": [
        "- "
       ]
      },
      {
       "output_type": "stream",
       "stream": "stdout",
       "text": [
        "- "
       ]
      },
      {
       "output_type": "stream",
       "stream": "stdout",
       "text": [
        "- "
       ]
      },
      {
       "output_type": "stream",
       "stream": "stdout",
       "text": [
        "- "
       ]
      },
      {
       "output_type": "stream",
       "stream": "stdout",
       "text": [
        "- "
       ]
      },
      {
       "output_type": "stream",
       "stream": "stdout",
       "text": [
        "- "
       ]
      },
      {
       "output_type": "stream",
       "stream": "stdout",
       "text": [
        "- "
       ]
      },
      {
       "output_type": "stream",
       "stream": "stdout",
       "text": [
        "- "
       ]
      },
      {
       "output_type": "stream",
       "stream": "stdout",
       "text": [
        "- "
       ]
      },
      {
       "output_type": "stream",
       "stream": "stdout",
       "text": [
        "- "
       ]
      },
      {
       "output_type": "stream",
       "stream": "stdout",
       "text": [
        "- "
       ]
      },
      {
       "output_type": "stream",
       "stream": "stdout",
       "text": [
        "- "
       ]
      },
      {
       "output_type": "stream",
       "stream": "stdout",
       "text": [
        "- "
       ]
      },
      {
       "output_type": "stream",
       "stream": "stdout",
       "text": [
        "- "
       ]
      },
      {
       "output_type": "stream",
       "stream": "stdout",
       "text": [
        "- "
       ]
      },
      {
       "output_type": "stream",
       "stream": "stdout",
       "text": [
        "- "
       ]
      },
      {
       "output_type": "stream",
       "stream": "stdout",
       "text": [
        "- "
       ]
      },
      {
       "output_type": "stream",
       "stream": "stdout",
       "text": [
        "- "
       ]
      },
      {
       "output_type": "stream",
       "stream": "stdout",
       "text": [
        "- "
       ]
      },
      {
       "output_type": "stream",
       "stream": "stdout",
       "text": [
        "- "
       ]
      },
      {
       "output_type": "stream",
       "stream": "stdout",
       "text": [
        "- "
       ]
      },
      {
       "output_type": "stream",
       "stream": "stdout",
       "text": [
        "- "
       ]
      },
      {
       "output_type": "stream",
       "stream": "stdout",
       "text": [
        "- "
       ]
      },
      {
       "output_type": "stream",
       "stream": "stdout",
       "text": [
        "- "
       ]
      },
      {
       "output_type": "stream",
       "stream": "stdout",
       "text": [
        "- "
       ]
      },
      {
       "output_type": "stream",
       "stream": "stdout",
       "text": [
        "- "
       ]
      },
      {
       "output_type": "stream",
       "stream": "stdout",
       "text": [
        "- "
       ]
      },
      {
       "output_type": "stream",
       "stream": "stdout",
       "text": [
        "- "
       ]
      },
      {
       "output_type": "stream",
       "stream": "stdout",
       "text": [
        "- "
       ]
      },
      {
       "output_type": "stream",
       "stream": "stdout",
       "text": [
        "- "
       ]
      },
      {
       "output_type": "stream",
       "stream": "stdout",
       "text": [
        "- "
       ]
      },
      {
       "output_type": "stream",
       "stream": "stdout",
       "text": [
        "- "
       ]
      },
      {
       "output_type": "stream",
       "stream": "stdout",
       "text": [
        "- "
       ]
      },
      {
       "output_type": "stream",
       "stream": "stdout",
       "text": [
        "- "
       ]
      },
      {
       "output_type": "stream",
       "stream": "stdout",
       "text": [
        "- "
       ]
      },
      {
       "output_type": "stream",
       "stream": "stdout",
       "text": [
        "- "
       ]
      },
      {
       "output_type": "stream",
       "stream": "stdout",
       "text": [
        "- "
       ]
      },
      {
       "output_type": "stream",
       "stream": "stdout",
       "text": [
        "- "
       ]
      },
      {
       "output_type": "stream",
       "stream": "stdout",
       "text": [
        "- "
       ]
      },
      {
       "output_type": "stream",
       "stream": "stdout",
       "text": [
        "- "
       ]
      },
      {
       "output_type": "stream",
       "stream": "stdout",
       "text": [
        "- "
       ]
      },
      {
       "output_type": "stream",
       "stream": "stdout",
       "text": [
        "- "
       ]
      },
      {
       "output_type": "stream",
       "stream": "stdout",
       "text": [
        "- "
       ]
      },
      {
       "output_type": "stream",
       "stream": "stdout",
       "text": [
        "- "
       ]
      },
      {
       "output_type": "stream",
       "stream": "stdout",
       "text": [
        "- "
       ]
      },
      {
       "output_type": "stream",
       "stream": "stdout",
       "text": [
        "- "
       ]
      },
      {
       "output_type": "stream",
       "stream": "stdout",
       "text": [
        "- "
       ]
      },
      {
       "output_type": "stream",
       "stream": "stdout",
       "text": [
        "- "
       ]
      },
      {
       "output_type": "stream",
       "stream": "stdout",
       "text": [
        "- "
       ]
      },
      {
       "output_type": "stream",
       "stream": "stdout",
       "text": [
        "- "
       ]
      },
      {
       "output_type": "stream",
       "stream": "stdout",
       "text": [
        "- "
       ]
      },
      {
       "output_type": "stream",
       "stream": "stdout",
       "text": [
        "- "
       ]
      },
      {
       "output_type": "stream",
       "stream": "stdout",
       "text": [
        "- "
       ]
      },
      {
       "output_type": "stream",
       "stream": "stdout",
       "text": [
        "- "
       ]
      },
      {
       "output_type": "stream",
       "stream": "stdout",
       "text": [
        "- "
       ]
      },
      {
       "output_type": "stream",
       "stream": "stdout",
       "text": [
        "- "
       ]
      },
      {
       "output_type": "stream",
       "stream": "stdout",
       "text": [
        "- "
       ]
      },
      {
       "output_type": "stream",
       "stream": "stdout",
       "text": [
        "- "
       ]
      },
      {
       "output_type": "stream",
       "stream": "stdout",
       "text": [
        "- "
       ]
      },
      {
       "output_type": "stream",
       "stream": "stdout",
       "text": [
        "- "
       ]
      },
      {
       "output_type": "stream",
       "stream": "stdout",
       "text": [
        "- "
       ]
      },
      {
       "output_type": "stream",
       "stream": "stdout",
       "text": [
        "- "
       ]
      },
      {
       "output_type": "stream",
       "stream": "stdout",
       "text": [
        "- "
       ]
      },
      {
       "output_type": "stream",
       "stream": "stdout",
       "text": [
        "- "
       ]
      },
      {
       "output_type": "stream",
       "stream": "stdout",
       "text": [
        "- "
       ]
      },
      {
       "output_type": "stream",
       "stream": "stdout",
       "text": [
        "- "
       ]
      },
      {
       "output_type": "stream",
       "stream": "stdout",
       "text": [
        "- "
       ]
      },
      {
       "output_type": "stream",
       "stream": "stdout",
       "text": [
        "- "
       ]
      },
      {
       "output_type": "stream",
       "stream": "stdout",
       "text": [
        "- "
       ]
      },
      {
       "output_type": "stream",
       "stream": "stdout",
       "text": [
        "- "
       ]
      },
      {
       "output_type": "stream",
       "stream": "stdout",
       "text": [
        "- "
       ]
      },
      {
       "output_type": "stream",
       "stream": "stdout",
       "text": [
        "- "
       ]
      },
      {
       "output_type": "stream",
       "stream": "stdout",
       "text": [
        "- "
       ]
      },
      {
       "output_type": "stream",
       "stream": "stdout",
       "text": [
        "- "
       ]
      },
      {
       "output_type": "stream",
       "stream": "stdout",
       "text": [
        "- "
       ]
      },
      {
       "output_type": "stream",
       "stream": "stdout",
       "text": [
        "- "
       ]
      },
      {
       "output_type": "stream",
       "stream": "stdout",
       "text": [
        "- "
       ]
      },
      {
       "output_type": "stream",
       "stream": "stdout",
       "text": [
        "- "
       ]
      },
      {
       "output_type": "stream",
       "stream": "stdout",
       "text": [
        "- "
       ]
      },
      {
       "output_type": "stream",
       "stream": "stdout",
       "text": [
        "- "
       ]
      },
      {
       "output_type": "stream",
       "stream": "stdout",
       "text": [
        "- "
       ]
      },
      {
       "output_type": "stream",
       "stream": "stdout",
       "text": [
        "- "
       ]
      },
      {
       "output_type": "stream",
       "stream": "stdout",
       "text": [
        "- "
       ]
      },
      {
       "output_type": "stream",
       "stream": "stdout",
       "text": [
        "- "
       ]
      },
      {
       "output_type": "stream",
       "stream": "stdout",
       "text": [
        "- "
       ]
      },
      {
       "output_type": "stream",
       "stream": "stdout",
       "text": [
        "- "
       ]
      },
      {
       "output_type": "stream",
       "stream": "stdout",
       "text": [
        "- "
       ]
      },
      {
       "output_type": "stream",
       "stream": "stdout",
       "text": [
        "- "
       ]
      },
      {
       "output_type": "stream",
       "stream": "stdout",
       "text": [
        "- "
       ]
      },
      {
       "output_type": "stream",
       "stream": "stdout",
       "text": [
        "- "
       ]
      },
      {
       "output_type": "stream",
       "stream": "stdout",
       "text": [
        "- "
       ]
      },
      {
       "output_type": "stream",
       "stream": "stdout",
       "text": [
        "- "
       ]
      },
      {
       "output_type": "stream",
       "stream": "stdout",
       "text": [
        "- "
       ]
      },
      {
       "output_type": "stream",
       "stream": "stdout",
       "text": [
        "- "
       ]
      },
      {
       "output_type": "stream",
       "stream": "stdout",
       "text": [
        "- "
       ]
      },
      {
       "output_type": "stream",
       "stream": "stdout",
       "text": [
        "- "
       ]
      },
      {
       "output_type": "stream",
       "stream": "stdout",
       "text": [
        "- "
       ]
      },
      {
       "output_type": "stream",
       "stream": "stdout",
       "text": [
        "- "
       ]
      },
      {
       "output_type": "stream",
       "stream": "stdout",
       "text": [
        "- "
       ]
      },
      {
       "output_type": "stream",
       "stream": "stdout",
       "text": [
        "- "
       ]
      },
      {
       "output_type": "stream",
       "stream": "stdout",
       "text": [
        "- "
       ]
      },
      {
       "output_type": "stream",
       "stream": "stdout",
       "text": [
        "- "
       ]
      },
      {
       "output_type": "stream",
       "stream": "stdout",
       "text": [
        "- "
       ]
      },
      {
       "output_type": "stream",
       "stream": "stdout",
       "text": [
        "- "
       ]
      },
      {
       "output_type": "stream",
       "stream": "stdout",
       "text": [
        "- "
       ]
      },
      {
       "output_type": "stream",
       "stream": "stdout",
       "text": [
        "- "
       ]
      },
      {
       "output_type": "stream",
       "stream": "stdout",
       "text": [
        "- "
       ]
      },
      {
       "output_type": "stream",
       "stream": "stdout",
       "text": [
        "- "
       ]
      },
      {
       "output_type": "stream",
       "stream": "stdout",
       "text": [
        "- "
       ]
      },
      {
       "output_type": "stream",
       "stream": "stdout",
       "text": [
        "- "
       ]
      },
      {
       "output_type": "stream",
       "stream": "stdout",
       "text": [
        "- "
       ]
      },
      {
       "output_type": "stream",
       "stream": "stdout",
       "text": [
        "- "
       ]
      },
      {
       "output_type": "stream",
       "stream": "stdout",
       "text": [
        "- "
       ]
      },
      {
       "output_type": "stream",
       "stream": "stdout",
       "text": [
        "- "
       ]
      },
      {
       "output_type": "stream",
       "stream": "stdout",
       "text": [
        "- "
       ]
      },
      {
       "output_type": "stream",
       "stream": "stdout",
       "text": [
        "- "
       ]
      },
      {
       "output_type": "stream",
       "stream": "stdout",
       "text": [
        "- "
       ]
      },
      {
       "output_type": "stream",
       "stream": "stdout",
       "text": [
        "- "
       ]
      },
      {
       "output_type": "stream",
       "stream": "stdout",
       "text": [
        "- "
       ]
      },
      {
       "output_type": "stream",
       "stream": "stdout",
       "text": [
        "- "
       ]
      },
      {
       "output_type": "stream",
       "stream": "stdout",
       "text": [
        "- "
       ]
      },
      {
       "output_type": "stream",
       "stream": "stdout",
       "text": [
        "- "
       ]
      },
      {
       "output_type": "stream",
       "stream": "stdout",
       "text": [
        "- "
       ]
      },
      {
       "output_type": "stream",
       "stream": "stdout",
       "text": [
        "- "
       ]
      },
      {
       "output_type": "stream",
       "stream": "stdout",
       "text": [
        "- "
       ]
      },
      {
       "output_type": "stream",
       "stream": "stdout",
       "text": [
        "- "
       ]
      },
      {
       "output_type": "stream",
       "stream": "stdout",
       "text": [
        "- "
       ]
      },
      {
       "output_type": "stream",
       "stream": "stdout",
       "text": [
        "- "
       ]
      },
      {
       "output_type": "stream",
       "stream": "stdout",
       "text": [
        "- "
       ]
      },
      {
       "output_type": "stream",
       "stream": "stdout",
       "text": [
        "- "
       ]
      },
      {
       "output_type": "stream",
       "stream": "stdout",
       "text": [
        "- "
       ]
      },
      {
       "output_type": "stream",
       "stream": "stdout",
       "text": [
        "- "
       ]
      },
      {
       "output_type": "stream",
       "stream": "stdout",
       "text": [
        "- "
       ]
      },
      {
       "output_type": "stream",
       "stream": "stdout",
       "text": [
        "- "
       ]
      },
      {
       "output_type": "stream",
       "stream": "stdout",
       "text": [
        "- "
       ]
      },
      {
       "output_type": "stream",
       "stream": "stdout",
       "text": [
        "- "
       ]
      },
      {
       "output_type": "stream",
       "stream": "stdout",
       "text": [
        "- "
       ]
      },
      {
       "output_type": "stream",
       "stream": "stdout",
       "text": [
        "- "
       ]
      },
      {
       "output_type": "stream",
       "stream": "stdout",
       "text": [
        "- "
       ]
      },
      {
       "output_type": "stream",
       "stream": "stdout",
       "text": [
        "- "
       ]
      },
      {
       "output_type": "stream",
       "stream": "stdout",
       "text": [
        "- "
       ]
      },
      {
       "output_type": "stream",
       "stream": "stdout",
       "text": [
        "- "
       ]
      },
      {
       "output_type": "stream",
       "stream": "stdout",
       "text": [
        "- "
       ]
      },
      {
       "output_type": "stream",
       "stream": "stdout",
       "text": [
        "- "
       ]
      },
      {
       "output_type": "stream",
       "stream": "stdout",
       "text": [
        "- "
       ]
      },
      {
       "output_type": "stream",
       "stream": "stdout",
       "text": [
        "Epoch 8 complete\n",
        "- "
       ]
      },
      {
       "output_type": "stream",
       "stream": "stdout",
       "text": [
        "- "
       ]
      },
      {
       "output_type": "stream",
       "stream": "stdout",
       "text": [
        "- "
       ]
      },
      {
       "output_type": "stream",
       "stream": "stdout",
       "text": [
        "- "
       ]
      },
      {
       "output_type": "stream",
       "stream": "stdout",
       "text": [
        "- "
       ]
      },
      {
       "output_type": "stream",
       "stream": "stdout",
       "text": [
        "- "
       ]
      },
      {
       "output_type": "stream",
       "stream": "stdout",
       "text": [
        "- "
       ]
      },
      {
       "output_type": "stream",
       "stream": "stdout",
       "text": [
        "- "
       ]
      },
      {
       "output_type": "stream",
       "stream": "stdout",
       "text": [
        "- "
       ]
      },
      {
       "output_type": "stream",
       "stream": "stdout",
       "text": [
        "- "
       ]
      },
      {
       "output_type": "stream",
       "stream": "stdout",
       "text": [
        "- "
       ]
      },
      {
       "output_type": "stream",
       "stream": "stdout",
       "text": [
        "- "
       ]
      },
      {
       "output_type": "stream",
       "stream": "stdout",
       "text": [
        "- "
       ]
      },
      {
       "output_type": "stream",
       "stream": "stdout",
       "text": [
        "- "
       ]
      },
      {
       "output_type": "stream",
       "stream": "stdout",
       "text": [
        "- "
       ]
      },
      {
       "output_type": "stream",
       "stream": "stdout",
       "text": [
        "- "
       ]
      },
      {
       "output_type": "stream",
       "stream": "stdout",
       "text": [
        "- "
       ]
      },
      {
       "output_type": "stream",
       "stream": "stdout",
       "text": [
        "- "
       ]
      },
      {
       "output_type": "stream",
       "stream": "stdout",
       "text": [
        "- "
       ]
      },
      {
       "output_type": "stream",
       "stream": "stdout",
       "text": [
        "- "
       ]
      },
      {
       "output_type": "stream",
       "stream": "stdout",
       "text": [
        "- "
       ]
      },
      {
       "output_type": "stream",
       "stream": "stdout",
       "text": [
        "- "
       ]
      },
      {
       "output_type": "stream",
       "stream": "stdout",
       "text": [
        "- "
       ]
      },
      {
       "output_type": "stream",
       "stream": "stdout",
       "text": [
        "- "
       ]
      },
      {
       "output_type": "stream",
       "stream": "stdout",
       "text": [
        "- "
       ]
      },
      {
       "output_type": "stream",
       "stream": "stdout",
       "text": [
        "- "
       ]
      },
      {
       "output_type": "stream",
       "stream": "stdout",
       "text": [
        "- "
       ]
      },
      {
       "output_type": "stream",
       "stream": "stdout",
       "text": [
        "- "
       ]
      },
      {
       "output_type": "stream",
       "stream": "stdout",
       "text": [
        "- "
       ]
      },
      {
       "output_type": "stream",
       "stream": "stdout",
       "text": [
        "- "
       ]
      },
      {
       "output_type": "stream",
       "stream": "stdout",
       "text": [
        "- "
       ]
      },
      {
       "output_type": "stream",
       "stream": "stdout",
       "text": [
        "- "
       ]
      },
      {
       "output_type": "stream",
       "stream": "stdout",
       "text": [
        "- "
       ]
      },
      {
       "output_type": "stream",
       "stream": "stdout",
       "text": [
        "- "
       ]
      },
      {
       "output_type": "stream",
       "stream": "stdout",
       "text": [
        "- "
       ]
      },
      {
       "output_type": "stream",
       "stream": "stdout",
       "text": [
        "- "
       ]
      },
      {
       "output_type": "stream",
       "stream": "stdout",
       "text": [
        "- "
       ]
      },
      {
       "output_type": "stream",
       "stream": "stdout",
       "text": [
        "- "
       ]
      },
      {
       "output_type": "stream",
       "stream": "stdout",
       "text": [
        "- "
       ]
      },
      {
       "output_type": "stream",
       "stream": "stdout",
       "text": [
        "- "
       ]
      },
      {
       "output_type": "stream",
       "stream": "stdout",
       "text": [
        "- "
       ]
      },
      {
       "output_type": "stream",
       "stream": "stdout",
       "text": [
        "- "
       ]
      },
      {
       "output_type": "stream",
       "stream": "stdout",
       "text": [
        "- "
       ]
      },
      {
       "output_type": "stream",
       "stream": "stdout",
       "text": [
        "- "
       ]
      },
      {
       "output_type": "stream",
       "stream": "stdout",
       "text": [
        "- "
       ]
      },
      {
       "output_type": "stream",
       "stream": "stdout",
       "text": [
        "- "
       ]
      },
      {
       "output_type": "stream",
       "stream": "stdout",
       "text": [
        "- "
       ]
      },
      {
       "output_type": "stream",
       "stream": "stdout",
       "text": [
        "- "
       ]
      },
      {
       "output_type": "stream",
       "stream": "stdout",
       "text": [
        "- "
       ]
      },
      {
       "output_type": "stream",
       "stream": "stdout",
       "text": [
        "- "
       ]
      },
      {
       "output_type": "stream",
       "stream": "stdout",
       "text": [
        "- "
       ]
      },
      {
       "output_type": "stream",
       "stream": "stdout",
       "text": [
        "- "
       ]
      },
      {
       "output_type": "stream",
       "stream": "stdout",
       "text": [
        "- "
       ]
      },
      {
       "output_type": "stream",
       "stream": "stdout",
       "text": [
        "- "
       ]
      },
      {
       "output_type": "stream",
       "stream": "stdout",
       "text": [
        "- "
       ]
      },
      {
       "output_type": "stream",
       "stream": "stdout",
       "text": [
        "- "
       ]
      },
      {
       "output_type": "stream",
       "stream": "stdout",
       "text": [
        "- "
       ]
      },
      {
       "output_type": "stream",
       "stream": "stdout",
       "text": [
        "- "
       ]
      },
      {
       "output_type": "stream",
       "stream": "stdout",
       "text": [
        "- "
       ]
      },
      {
       "output_type": "stream",
       "stream": "stdout",
       "text": [
        "- "
       ]
      },
      {
       "output_type": "stream",
       "stream": "stdout",
       "text": [
        "- "
       ]
      },
      {
       "output_type": "stream",
       "stream": "stdout",
       "text": [
        "- "
       ]
      },
      {
       "output_type": "stream",
       "stream": "stdout",
       "text": [
        "- "
       ]
      },
      {
       "output_type": "stream",
       "stream": "stdout",
       "text": [
        "- "
       ]
      },
      {
       "output_type": "stream",
       "stream": "stdout",
       "text": [
        "- "
       ]
      },
      {
       "output_type": "stream",
       "stream": "stdout",
       "text": [
        "- "
       ]
      },
      {
       "output_type": "stream",
       "stream": "stdout",
       "text": [
        "- "
       ]
      },
      {
       "output_type": "stream",
       "stream": "stdout",
       "text": [
        "- "
       ]
      },
      {
       "output_type": "stream",
       "stream": "stdout",
       "text": [
        "- "
       ]
      },
      {
       "output_type": "stream",
       "stream": "stdout",
       "text": [
        "- "
       ]
      },
      {
       "output_type": "stream",
       "stream": "stdout",
       "text": [
        "- "
       ]
      },
      {
       "output_type": "stream",
       "stream": "stdout",
       "text": [
        "- "
       ]
      },
      {
       "output_type": "stream",
       "stream": "stdout",
       "text": [
        "- "
       ]
      },
      {
       "output_type": "stream",
       "stream": "stdout",
       "text": [
        "- "
       ]
      },
      {
       "output_type": "stream",
       "stream": "stdout",
       "text": [
        "- "
       ]
      },
      {
       "output_type": "stream",
       "stream": "stdout",
       "text": [
        "- "
       ]
      },
      {
       "output_type": "stream",
       "stream": "stdout",
       "text": [
        "- "
       ]
      },
      {
       "output_type": "stream",
       "stream": "stdout",
       "text": [
        "- "
       ]
      },
      {
       "output_type": "stream",
       "stream": "stdout",
       "text": [
        "- "
       ]
      },
      {
       "output_type": "stream",
       "stream": "stdout",
       "text": [
        "- "
       ]
      },
      {
       "output_type": "stream",
       "stream": "stdout",
       "text": [
        "- "
       ]
      },
      {
       "output_type": "stream",
       "stream": "stdout",
       "text": [
        "- "
       ]
      },
      {
       "output_type": "stream",
       "stream": "stdout",
       "text": [
        "- "
       ]
      },
      {
       "output_type": "stream",
       "stream": "stdout",
       "text": [
        "- "
       ]
      },
      {
       "output_type": "stream",
       "stream": "stdout",
       "text": [
        "- "
       ]
      },
      {
       "output_type": "stream",
       "stream": "stdout",
       "text": [
        "- "
       ]
      },
      {
       "output_type": "stream",
       "stream": "stdout",
       "text": [
        "- "
       ]
      },
      {
       "output_type": "stream",
       "stream": "stdout",
       "text": [
        "- "
       ]
      },
      {
       "output_type": "stream",
       "stream": "stdout",
       "text": [
        "- "
       ]
      },
      {
       "output_type": "stream",
       "stream": "stdout",
       "text": [
        "- "
       ]
      },
      {
       "output_type": "stream",
       "stream": "stdout",
       "text": [
        "- "
       ]
      },
      {
       "output_type": "stream",
       "stream": "stdout",
       "text": [
        "- "
       ]
      },
      {
       "output_type": "stream",
       "stream": "stdout",
       "text": [
        "- "
       ]
      },
      {
       "output_type": "stream",
       "stream": "stdout",
       "text": [
        "- "
       ]
      },
      {
       "output_type": "stream",
       "stream": "stdout",
       "text": [
        "- "
       ]
      },
      {
       "output_type": "stream",
       "stream": "stdout",
       "text": [
        "- "
       ]
      },
      {
       "output_type": "stream",
       "stream": "stdout",
       "text": [
        "- "
       ]
      },
      {
       "output_type": "stream",
       "stream": "stdout",
       "text": [
        "- "
       ]
      },
      {
       "output_type": "stream",
       "stream": "stdout",
       "text": [
        "- "
       ]
      },
      {
       "output_type": "stream",
       "stream": "stdout",
       "text": [
        "- "
       ]
      },
      {
       "output_type": "stream",
       "stream": "stdout",
       "text": [
        "- "
       ]
      },
      {
       "output_type": "stream",
       "stream": "stdout",
       "text": [
        "- "
       ]
      },
      {
       "output_type": "stream",
       "stream": "stdout",
       "text": [
        "- "
       ]
      },
      {
       "output_type": "stream",
       "stream": "stdout",
       "text": [
        "- "
       ]
      },
      {
       "output_type": "stream",
       "stream": "stdout",
       "text": [
        "- "
       ]
      },
      {
       "output_type": "stream",
       "stream": "stdout",
       "text": [
        "- "
       ]
      },
      {
       "output_type": "stream",
       "stream": "stdout",
       "text": [
        "- "
       ]
      },
      {
       "output_type": "stream",
       "stream": "stdout",
       "text": [
        "- "
       ]
      },
      {
       "output_type": "stream",
       "stream": "stdout",
       "text": [
        "- "
       ]
      },
      {
       "output_type": "stream",
       "stream": "stdout",
       "text": [
        "- "
       ]
      },
      {
       "output_type": "stream",
       "stream": "stdout",
       "text": [
        "- "
       ]
      },
      {
       "output_type": "stream",
       "stream": "stdout",
       "text": [
        "- "
       ]
      },
      {
       "output_type": "stream",
       "stream": "stdout",
       "text": [
        "- "
       ]
      },
      {
       "output_type": "stream",
       "stream": "stdout",
       "text": [
        "- "
       ]
      },
      {
       "output_type": "stream",
       "stream": "stdout",
       "text": [
        "- "
       ]
      },
      {
       "output_type": "stream",
       "stream": "stdout",
       "text": [
        "- "
       ]
      },
      {
       "output_type": "stream",
       "stream": "stdout",
       "text": [
        "- "
       ]
      },
      {
       "output_type": "stream",
       "stream": "stdout",
       "text": [
        "- "
       ]
      },
      {
       "output_type": "stream",
       "stream": "stdout",
       "text": [
        "- "
       ]
      },
      {
       "output_type": "stream",
       "stream": "stdout",
       "text": [
        "- "
       ]
      },
      {
       "output_type": "stream",
       "stream": "stdout",
       "text": [
        "- "
       ]
      },
      {
       "output_type": "stream",
       "stream": "stdout",
       "text": [
        "- "
       ]
      },
      {
       "output_type": "stream",
       "stream": "stdout",
       "text": [
        "- "
       ]
      },
      {
       "output_type": "stream",
       "stream": "stdout",
       "text": [
        "- "
       ]
      },
      {
       "output_type": "stream",
       "stream": "stdout",
       "text": [
        "- "
       ]
      },
      {
       "output_type": "stream",
       "stream": "stdout",
       "text": [
        "- "
       ]
      },
      {
       "output_type": "stream",
       "stream": "stdout",
       "text": [
        "- "
       ]
      },
      {
       "output_type": "stream",
       "stream": "stdout",
       "text": [
        "- "
       ]
      },
      {
       "output_type": "stream",
       "stream": "stdout",
       "text": [
        "- "
       ]
      },
      {
       "output_type": "stream",
       "stream": "stdout",
       "text": [
        "- "
       ]
      },
      {
       "output_type": "stream",
       "stream": "stdout",
       "text": [
        "- "
       ]
      },
      {
       "output_type": "stream",
       "stream": "stdout",
       "text": [
        "- "
       ]
      },
      {
       "output_type": "stream",
       "stream": "stdout",
       "text": [
        "- "
       ]
      },
      {
       "output_type": "stream",
       "stream": "stdout",
       "text": [
        "- "
       ]
      },
      {
       "output_type": "stream",
       "stream": "stdout",
       "text": [
        "- "
       ]
      },
      {
       "output_type": "stream",
       "stream": "stdout",
       "text": [
        "- "
       ]
      },
      {
       "output_type": "stream",
       "stream": "stdout",
       "text": [
        "- "
       ]
      },
      {
       "output_type": "stream",
       "stream": "stdout",
       "text": [
        "- "
       ]
      },
      {
       "output_type": "stream",
       "stream": "stdout",
       "text": [
        "- "
       ]
      },
      {
       "output_type": "stream",
       "stream": "stdout",
       "text": [
        "- "
       ]
      },
      {
       "output_type": "stream",
       "stream": "stdout",
       "text": [
        "- "
       ]
      },
      {
       "output_type": "stream",
       "stream": "stdout",
       "text": [
        "- "
       ]
      },
      {
       "output_type": "stream",
       "stream": "stdout",
       "text": [
        "- "
       ]
      },
      {
       "output_type": "stream",
       "stream": "stdout",
       "text": [
        "- "
       ]
      },
      {
       "output_type": "stream",
       "stream": "stdout",
       "text": [
        "- "
       ]
      },
      {
       "output_type": "stream",
       "stream": "stdout",
       "text": [
        "- "
       ]
      },
      {
       "output_type": "stream",
       "stream": "stdout",
       "text": [
        "- "
       ]
      },
      {
       "output_type": "stream",
       "stream": "stdout",
       "text": [
        "- "
       ]
      },
      {
       "output_type": "stream",
       "stream": "stdout",
       "text": [
        "- "
       ]
      },
      {
       "output_type": "stream",
       "stream": "stdout",
       "text": [
        "- "
       ]
      },
      {
       "output_type": "stream",
       "stream": "stdout",
       "text": [
        "- "
       ]
      },
      {
       "output_type": "stream",
       "stream": "stdout",
       "text": [
        "- "
       ]
      },
      {
       "output_type": "stream",
       "stream": "stdout",
       "text": [
        "- "
       ]
      },
      {
       "output_type": "stream",
       "stream": "stdout",
       "text": [
        "- "
       ]
      },
      {
       "output_type": "stream",
       "stream": "stdout",
       "text": [
        "- "
       ]
      },
      {
       "output_type": "stream",
       "stream": "stdout",
       "text": [
        "- "
       ]
      },
      {
       "output_type": "stream",
       "stream": "stdout",
       "text": [
        "- "
       ]
      },
      {
       "output_type": "stream",
       "stream": "stdout",
       "text": [
        "- "
       ]
      },
      {
       "output_type": "stream",
       "stream": "stdout",
       "text": [
        "- "
       ]
      },
      {
       "output_type": "stream",
       "stream": "stdout",
       "text": [
        "- "
       ]
      },
      {
       "output_type": "stream",
       "stream": "stdout",
       "text": [
        "- "
       ]
      },
      {
       "output_type": "stream",
       "stream": "stdout",
       "text": [
        "- "
       ]
      },
      {
       "output_type": "stream",
       "stream": "stdout",
       "text": [
        "- "
       ]
      },
      {
       "output_type": "stream",
       "stream": "stdout",
       "text": [
        "- "
       ]
      },
      {
       "output_type": "stream",
       "stream": "stdout",
       "text": [
        "- "
       ]
      },
      {
       "output_type": "stream",
       "stream": "stdout",
       "text": [
        "- "
       ]
      },
      {
       "output_type": "stream",
       "stream": "stdout",
       "text": [
        "- "
       ]
      },
      {
       "output_type": "stream",
       "stream": "stdout",
       "text": [
        "- "
       ]
      },
      {
       "output_type": "stream",
       "stream": "stdout",
       "text": [
        "- "
       ]
      },
      {
       "output_type": "stream",
       "stream": "stdout",
       "text": [
        "- "
       ]
      },
      {
       "output_type": "stream",
       "stream": "stdout",
       "text": [
        "- "
       ]
      },
      {
       "output_type": "stream",
       "stream": "stdout",
       "text": [
        "- "
       ]
      },
      {
       "output_type": "stream",
       "stream": "stdout",
       "text": [
        "- "
       ]
      },
      {
       "output_type": "stream",
       "stream": "stdout",
       "text": [
        "- "
       ]
      },
      {
       "output_type": "stream",
       "stream": "stdout",
       "text": [
        "- "
       ]
      },
      {
       "output_type": "stream",
       "stream": "stdout",
       "text": [
        "- "
       ]
      },
      {
       "output_type": "stream",
       "stream": "stdout",
       "text": [
        "- "
       ]
      },
      {
       "output_type": "stream",
       "stream": "stdout",
       "text": [
        "- "
       ]
      },
      {
       "output_type": "stream",
       "stream": "stdout",
       "text": [
        "- "
       ]
      },
      {
       "output_type": "stream",
       "stream": "stdout",
       "text": [
        "- "
       ]
      },
      {
       "output_type": "stream",
       "stream": "stdout",
       "text": [
        "- "
       ]
      },
      {
       "output_type": "stream",
       "stream": "stdout",
       "text": [
        "- "
       ]
      },
      {
       "output_type": "stream",
       "stream": "stdout",
       "text": [
        "- "
       ]
      },
      {
       "output_type": "stream",
       "stream": "stdout",
       "text": [
        "- "
       ]
      },
      {
       "output_type": "stream",
       "stream": "stdout",
       "text": [
        "- "
       ]
      },
      {
       "output_type": "stream",
       "stream": "stdout",
       "text": [
        "- "
       ]
      },
      {
       "output_type": "stream",
       "stream": "stdout",
       "text": [
        "- "
       ]
      },
      {
       "output_type": "stream",
       "stream": "stdout",
       "text": [
        "- "
       ]
      },
      {
       "output_type": "stream",
       "stream": "stdout",
       "text": [
        "- "
       ]
      },
      {
       "output_type": "stream",
       "stream": "stdout",
       "text": [
        "- "
       ]
      },
      {
       "output_type": "stream",
       "stream": "stdout",
       "text": [
        "- "
       ]
      },
      {
       "output_type": "stream",
       "stream": "stdout",
       "text": [
        "- "
       ]
      },
      {
       "output_type": "stream",
       "stream": "stdout",
       "text": [
        "- "
       ]
      },
      {
       "output_type": "stream",
       "stream": "stdout",
       "text": [
        "- "
       ]
      },
      {
       "output_type": "stream",
       "stream": "stdout",
       "text": [
        "- "
       ]
      },
      {
       "output_type": "stream",
       "stream": "stdout",
       "text": [
        "- "
       ]
      },
      {
       "output_type": "stream",
       "stream": "stdout",
       "text": [
        "- "
       ]
      },
      {
       "output_type": "stream",
       "stream": "stdout",
       "text": [
        "- "
       ]
      },
      {
       "output_type": "stream",
       "stream": "stdout",
       "text": [
        "- "
       ]
      },
      {
       "output_type": "stream",
       "stream": "stdout",
       "text": [
        "- "
       ]
      },
      {
       "output_type": "stream",
       "stream": "stdout",
       "text": [
        "- "
       ]
      },
      {
       "output_type": "stream",
       "stream": "stdout",
       "text": [
        "- "
       ]
      },
      {
       "output_type": "stream",
       "stream": "stdout",
       "text": [
        "- "
       ]
      },
      {
       "output_type": "stream",
       "stream": "stdout",
       "text": [
        "- "
       ]
      },
      {
       "output_type": "stream",
       "stream": "stdout",
       "text": [
        "- "
       ]
      },
      {
       "output_type": "stream",
       "stream": "stdout",
       "text": [
        "- "
       ]
      },
      {
       "output_type": "stream",
       "stream": "stdout",
       "text": [
        "- "
       ]
      },
      {
       "output_type": "stream",
       "stream": "stdout",
       "text": [
        "- "
       ]
      },
      {
       "output_type": "stream",
       "stream": "stdout",
       "text": [
        "- "
       ]
      },
      {
       "output_type": "stream",
       "stream": "stdout",
       "text": [
        "- "
       ]
      },
      {
       "output_type": "stream",
       "stream": "stdout",
       "text": [
        "- "
       ]
      },
      {
       "output_type": "stream",
       "stream": "stdout",
       "text": [
        "- "
       ]
      },
      {
       "output_type": "stream",
       "stream": "stdout",
       "text": [
        "- "
       ]
      },
      {
       "output_type": "stream",
       "stream": "stdout",
       "text": [
        "- "
       ]
      },
      {
       "output_type": "stream",
       "stream": "stdout",
       "text": [
        "- "
       ]
      },
      {
       "output_type": "stream",
       "stream": "stdout",
       "text": [
        "- "
       ]
      },
      {
       "output_type": "stream",
       "stream": "stdout",
       "text": [
        "- "
       ]
      },
      {
       "output_type": "stream",
       "stream": "stdout",
       "text": [
        "- "
       ]
      },
      {
       "output_type": "stream",
       "stream": "stdout",
       "text": [
        "- "
       ]
      },
      {
       "output_type": "stream",
       "stream": "stdout",
       "text": [
        "- "
       ]
      },
      {
       "output_type": "stream",
       "stream": "stdout",
       "text": [
        "- "
       ]
      },
      {
       "output_type": "stream",
       "stream": "stdout",
       "text": [
        "- "
       ]
      },
      {
       "output_type": "stream",
       "stream": "stdout",
       "text": [
        "- "
       ]
      },
      {
       "output_type": "stream",
       "stream": "stdout",
       "text": [
        "- "
       ]
      },
      {
       "output_type": "stream",
       "stream": "stdout",
       "text": [
        "- "
       ]
      },
      {
       "output_type": "stream",
       "stream": "stdout",
       "text": [
        "- "
       ]
      },
      {
       "output_type": "stream",
       "stream": "stdout",
       "text": [
        "- "
       ]
      },
      {
       "output_type": "stream",
       "stream": "stdout",
       "text": [
        "- "
       ]
      },
      {
       "output_type": "stream",
       "stream": "stdout",
       "text": [
        "- "
       ]
      },
      {
       "output_type": "stream",
       "stream": "stdout",
       "text": [
        "- "
       ]
      },
      {
       "output_type": "stream",
       "stream": "stdout",
       "text": [
        "- "
       ]
      },
      {
       "output_type": "stream",
       "stream": "stdout",
       "text": [
        "- "
       ]
      },
      {
       "output_type": "stream",
       "stream": "stdout",
       "text": [
        "- "
       ]
      },
      {
       "output_type": "stream",
       "stream": "stdout",
       "text": [
        "- "
       ]
      },
      {
       "output_type": "stream",
       "stream": "stdout",
       "text": [
        "- "
       ]
      },
      {
       "output_type": "stream",
       "stream": "stdout",
       "text": [
        "- "
       ]
      },
      {
       "output_type": "stream",
       "stream": "stdout",
       "text": [
        "- "
       ]
      },
      {
       "output_type": "stream",
       "stream": "stdout",
       "text": [
        "- "
       ]
      },
      {
       "output_type": "stream",
       "stream": "stdout",
       "text": [
        "- "
       ]
      },
      {
       "output_type": "stream",
       "stream": "stdout",
       "text": [
        "- "
       ]
      },
      {
       "output_type": "stream",
       "stream": "stdout",
       "text": [
        "- "
       ]
      },
      {
       "output_type": "stream",
       "stream": "stdout",
       "text": [
        "- "
       ]
      },
      {
       "output_type": "stream",
       "stream": "stdout",
       "text": [
        "- "
       ]
      },
      {
       "output_type": "stream",
       "stream": "stdout",
       "text": [
        "- "
       ]
      },
      {
       "output_type": "stream",
       "stream": "stdout",
       "text": [
        "- "
       ]
      },
      {
       "output_type": "stream",
       "stream": "stdout",
       "text": [
        "- "
       ]
      },
      {
       "output_type": "stream",
       "stream": "stdout",
       "text": [
        "- "
       ]
      },
      {
       "output_type": "stream",
       "stream": "stdout",
       "text": [
        "- "
       ]
      },
      {
       "output_type": "stream",
       "stream": "stdout",
       "text": [
        "- "
       ]
      },
      {
       "output_type": "stream",
       "stream": "stdout",
       "text": [
        "- "
       ]
      },
      {
       "output_type": "stream",
       "stream": "stdout",
       "text": [
        "- "
       ]
      },
      {
       "output_type": "stream",
       "stream": "stdout",
       "text": [
        "- "
       ]
      },
      {
       "output_type": "stream",
       "stream": "stdout",
       "text": [
        "- "
       ]
      },
      {
       "output_type": "stream",
       "stream": "stdout",
       "text": [
        "- "
       ]
      },
      {
       "output_type": "stream",
       "stream": "stdout",
       "text": [
        "- "
       ]
      },
      {
       "output_type": "stream",
       "stream": "stdout",
       "text": [
        "- "
       ]
      },
      {
       "output_type": "stream",
       "stream": "stdout",
       "text": [
        "- "
       ]
      },
      {
       "output_type": "stream",
       "stream": "stdout",
       "text": [
        "- "
       ]
      },
      {
       "output_type": "stream",
       "stream": "stdout",
       "text": [
        "- "
       ]
      },
      {
       "output_type": "stream",
       "stream": "stdout",
       "text": [
        "- "
       ]
      },
      {
       "output_type": "stream",
       "stream": "stdout",
       "text": [
        "- "
       ]
      },
      {
       "output_type": "stream",
       "stream": "stdout",
       "text": [
        "- "
       ]
      },
      {
       "output_type": "stream",
       "stream": "stdout",
       "text": [
        "- "
       ]
      },
      {
       "output_type": "stream",
       "stream": "stdout",
       "text": [
        "- "
       ]
      },
      {
       "output_type": "stream",
       "stream": "stdout",
       "text": [
        "- "
       ]
      },
      {
       "output_type": "stream",
       "stream": "stdout",
       "text": [
        "- "
       ]
      },
      {
       "output_type": "stream",
       "stream": "stdout",
       "text": [
        "- "
       ]
      },
      {
       "output_type": "stream",
       "stream": "stdout",
       "text": [
        "- "
       ]
      },
      {
       "output_type": "stream",
       "stream": "stdout",
       "text": [
        "- "
       ]
      },
      {
       "output_type": "stream",
       "stream": "stdout",
       "text": [
        "- "
       ]
      },
      {
       "output_type": "stream",
       "stream": "stdout",
       "text": [
        "- "
       ]
      },
      {
       "output_type": "stream",
       "stream": "stdout",
       "text": [
        "- "
       ]
      },
      {
       "output_type": "stream",
       "stream": "stdout",
       "text": [
        "- "
       ]
      },
      {
       "output_type": "stream",
       "stream": "stdout",
       "text": [
        "- "
       ]
      },
      {
       "output_type": "stream",
       "stream": "stdout",
       "text": [
        "- "
       ]
      },
      {
       "output_type": "stream",
       "stream": "stdout",
       "text": [
        "- "
       ]
      },
      {
       "output_type": "stream",
       "stream": "stdout",
       "text": [
        "- "
       ]
      },
      {
       "output_type": "stream",
       "stream": "stdout",
       "text": [
        "- "
       ]
      },
      {
       "output_type": "stream",
       "stream": "stdout",
       "text": [
        "- "
       ]
      },
      {
       "output_type": "stream",
       "stream": "stdout",
       "text": [
        "- "
       ]
      },
      {
       "output_type": "stream",
       "stream": "stdout",
       "text": [
        "- "
       ]
      },
      {
       "output_type": "stream",
       "stream": "stdout",
       "text": [
        "- "
       ]
      },
      {
       "output_type": "stream",
       "stream": "stdout",
       "text": [
        "- "
       ]
      },
      {
       "output_type": "stream",
       "stream": "stdout",
       "text": [
        "- "
       ]
      },
      {
       "output_type": "stream",
       "stream": "stdout",
       "text": [
        "- "
       ]
      },
      {
       "output_type": "stream",
       "stream": "stdout",
       "text": [
        "- "
       ]
      },
      {
       "output_type": "stream",
       "stream": "stdout",
       "text": [
        "- "
       ]
      },
      {
       "output_type": "stream",
       "stream": "stdout",
       "text": [
        "- "
       ]
      },
      {
       "output_type": "stream",
       "stream": "stdout",
       "text": [
        "- "
       ]
      },
      {
       "output_type": "stream",
       "stream": "stdout",
       "text": [
        "- "
       ]
      },
      {
       "output_type": "stream",
       "stream": "stdout",
       "text": [
        "- "
       ]
      },
      {
       "output_type": "stream",
       "stream": "stdout",
       "text": [
        "- "
       ]
      },
      {
       "output_type": "stream",
       "stream": "stdout",
       "text": [
        "- "
       ]
      },
      {
       "output_type": "stream",
       "stream": "stdout",
       "text": [
        "- "
       ]
      },
      {
       "output_type": "stream",
       "stream": "stdout",
       "text": [
        "- "
       ]
      },
      {
       "output_type": "stream",
       "stream": "stdout",
       "text": [
        "- "
       ]
      },
      {
       "output_type": "stream",
       "stream": "stdout",
       "text": [
        "- "
       ]
      },
      {
       "output_type": "stream",
       "stream": "stdout",
       "text": [
        "- "
       ]
      },
      {
       "output_type": "stream",
       "stream": "stdout",
       "text": [
        "- "
       ]
      },
      {
       "output_type": "stream",
       "stream": "stdout",
       "text": [
        "- "
       ]
      },
      {
       "output_type": "stream",
       "stream": "stdout",
       "text": [
        "- "
       ]
      },
      {
       "output_type": "stream",
       "stream": "stdout",
       "text": [
        "- "
       ]
      },
      {
       "output_type": "stream",
       "stream": "stdout",
       "text": [
        "- "
       ]
      },
      {
       "output_type": "stream",
       "stream": "stdout",
       "text": [
        "- "
       ]
      },
      {
       "output_type": "stream",
       "stream": "stdout",
       "text": [
        "- "
       ]
      },
      {
       "output_type": "stream",
       "stream": "stdout",
       "text": [
        "- "
       ]
      },
      {
       "output_type": "stream",
       "stream": "stdout",
       "text": [
        "- "
       ]
      },
      {
       "output_type": "stream",
       "stream": "stdout",
       "text": [
        "- "
       ]
      },
      {
       "output_type": "stream",
       "stream": "stdout",
       "text": [
        "- "
       ]
      },
      {
       "output_type": "stream",
       "stream": "stdout",
       "text": [
        "- "
       ]
      },
      {
       "output_type": "stream",
       "stream": "stdout",
       "text": [
        "- "
       ]
      },
      {
       "output_type": "stream",
       "stream": "stdout",
       "text": [
        "- "
       ]
      },
      {
       "output_type": "stream",
       "stream": "stdout",
       "text": [
        "- "
       ]
      },
      {
       "output_type": "stream",
       "stream": "stdout",
       "text": [
        "- "
       ]
      },
      {
       "output_type": "stream",
       "stream": "stdout",
       "text": [
        "- "
       ]
      },
      {
       "output_type": "stream",
       "stream": "stdout",
       "text": [
        "- "
       ]
      },
      {
       "output_type": "stream",
       "stream": "stdout",
       "text": [
        "- "
       ]
      },
      {
       "output_type": "stream",
       "stream": "stdout",
       "text": [
        "- "
       ]
      },
      {
       "output_type": "stream",
       "stream": "stdout",
       "text": [
        "- "
       ]
      },
      {
       "output_type": "stream",
       "stream": "stdout",
       "text": [
        "- "
       ]
      },
      {
       "output_type": "stream",
       "stream": "stdout",
       "text": [
        "- "
       ]
      },
      {
       "output_type": "stream",
       "stream": "stdout",
       "text": [
        "- "
       ]
      },
      {
       "output_type": "stream",
       "stream": "stdout",
       "text": [
        "- "
       ]
      },
      {
       "output_type": "stream",
       "stream": "stdout",
       "text": [
        "- "
       ]
      },
      {
       "output_type": "stream",
       "stream": "stdout",
       "text": [
        "- "
       ]
      },
      {
       "output_type": "stream",
       "stream": "stdout",
       "text": [
        "- "
       ]
      },
      {
       "output_type": "stream",
       "stream": "stdout",
       "text": [
        "- "
       ]
      },
      {
       "output_type": "stream",
       "stream": "stdout",
       "text": [
        "- "
       ]
      },
      {
       "output_type": "stream",
       "stream": "stdout",
       "text": [
        "- "
       ]
      },
      {
       "output_type": "stream",
       "stream": "stdout",
       "text": [
        "- "
       ]
      },
      {
       "output_type": "stream",
       "stream": "stdout",
       "text": [
        "- "
       ]
      },
      {
       "output_type": "stream",
       "stream": "stdout",
       "text": [
        "- "
       ]
      },
      {
       "output_type": "stream",
       "stream": "stdout",
       "text": [
        "- "
       ]
      },
      {
       "output_type": "stream",
       "stream": "stdout",
       "text": [
        "- "
       ]
      },
      {
       "output_type": "stream",
       "stream": "stdout",
       "text": [
        "- "
       ]
      },
      {
       "output_type": "stream",
       "stream": "stdout",
       "text": [
        "- "
       ]
      },
      {
       "output_type": "stream",
       "stream": "stdout",
       "text": [
        "- "
       ]
      },
      {
       "output_type": "stream",
       "stream": "stdout",
       "text": [
        "- "
       ]
      },
      {
       "output_type": "stream",
       "stream": "stdout",
       "text": [
        "- "
       ]
      },
      {
       "output_type": "stream",
       "stream": "stdout",
       "text": [
        "- "
       ]
      },
      {
       "output_type": "stream",
       "stream": "stdout",
       "text": [
        "- "
       ]
      },
      {
       "output_type": "stream",
       "stream": "stdout",
       "text": [
        "- "
       ]
      },
      {
       "output_type": "stream",
       "stream": "stdout",
       "text": [
        "- "
       ]
      },
      {
       "output_type": "stream",
       "stream": "stdout",
       "text": [
        "- "
       ]
      },
      {
       "output_type": "stream",
       "stream": "stdout",
       "text": [
        "- "
       ]
      },
      {
       "output_type": "stream",
       "stream": "stdout",
       "text": [
        "- "
       ]
      },
      {
       "output_type": "stream",
       "stream": "stdout",
       "text": [
        "- "
       ]
      },
      {
       "output_type": "stream",
       "stream": "stdout",
       "text": [
        "- "
       ]
      },
      {
       "output_type": "stream",
       "stream": "stdout",
       "text": [
        "- "
       ]
      },
      {
       "output_type": "stream",
       "stream": "stdout",
       "text": [
        "- "
       ]
      },
      {
       "output_type": "stream",
       "stream": "stdout",
       "text": [
        "- "
       ]
      },
      {
       "output_type": "stream",
       "stream": "stdout",
       "text": [
        "- "
       ]
      },
      {
       "output_type": "stream",
       "stream": "stdout",
       "text": [
        "- "
       ]
      },
      {
       "output_type": "stream",
       "stream": "stdout",
       "text": [
        "- "
       ]
      },
      {
       "output_type": "stream",
       "stream": "stdout",
       "text": [
        "- "
       ]
      },
      {
       "output_type": "stream",
       "stream": "stdout",
       "text": [
        "- "
       ]
      },
      {
       "output_type": "stream",
       "stream": "stdout",
       "text": [
        "- "
       ]
      },
      {
       "output_type": "stream",
       "stream": "stdout",
       "text": [
        "- "
       ]
      },
      {
       "output_type": "stream",
       "stream": "stdout",
       "text": [
        "- "
       ]
      },
      {
       "output_type": "stream",
       "stream": "stdout",
       "text": [
        "- "
       ]
      },
      {
       "output_type": "stream",
       "stream": "stdout",
       "text": [
        "- "
       ]
      },
      {
       "output_type": "stream",
       "stream": "stdout",
       "text": [
        "- "
       ]
      },
      {
       "output_type": "stream",
       "stream": "stdout",
       "text": [
        "- "
       ]
      },
      {
       "output_type": "stream",
       "stream": "stdout",
       "text": [
        "- "
       ]
      },
      {
       "output_type": "stream",
       "stream": "stdout",
       "text": [
        "- "
       ]
      },
      {
       "output_type": "stream",
       "stream": "stdout",
       "text": [
        "- "
       ]
      },
      {
       "output_type": "stream",
       "stream": "stdout",
       "text": [
        "- "
       ]
      },
      {
       "output_type": "stream",
       "stream": "stdout",
       "text": [
        "- "
       ]
      },
      {
       "output_type": "stream",
       "stream": "stdout",
       "text": [
        "- "
       ]
      },
      {
       "output_type": "stream",
       "stream": "stdout",
       "text": [
        "- "
       ]
      },
      {
       "output_type": "stream",
       "stream": "stdout",
       "text": [
        "- "
       ]
      },
      {
       "output_type": "stream",
       "stream": "stdout",
       "text": [
        "- "
       ]
      },
      {
       "output_type": "stream",
       "stream": "stdout",
       "text": [
        "- "
       ]
      },
      {
       "output_type": "stream",
       "stream": "stdout",
       "text": [
        "- "
       ]
      },
      {
       "output_type": "stream",
       "stream": "stdout",
       "text": [
        "- "
       ]
      },
      {
       "output_type": "stream",
       "stream": "stdout",
       "text": [
        "- "
       ]
      },
      {
       "output_type": "stream",
       "stream": "stdout",
       "text": [
        "- "
       ]
      },
      {
       "output_type": "stream",
       "stream": "stdout",
       "text": [
        "- "
       ]
      },
      {
       "output_type": "stream",
       "stream": "stdout",
       "text": [
        "- "
       ]
      },
      {
       "output_type": "stream",
       "stream": "stdout",
       "text": [
        "- "
       ]
      },
      {
       "output_type": "stream",
       "stream": "stdout",
       "text": [
        "- "
       ]
      },
      {
       "output_type": "stream",
       "stream": "stdout",
       "text": [
        "- "
       ]
      },
      {
       "output_type": "stream",
       "stream": "stdout",
       "text": [
        "- "
       ]
      },
      {
       "output_type": "stream",
       "stream": "stdout",
       "text": [
        "- "
       ]
      },
      {
       "output_type": "stream",
       "stream": "stdout",
       "text": [
        "- "
       ]
      },
      {
       "output_type": "stream",
       "stream": "stdout",
       "text": [
        "- "
       ]
      },
      {
       "output_type": "stream",
       "stream": "stdout",
       "text": [
        "- "
       ]
      },
      {
       "output_type": "stream",
       "stream": "stdout",
       "text": [
        "- "
       ]
      },
      {
       "output_type": "stream",
       "stream": "stdout",
       "text": [
        "- "
       ]
      },
      {
       "output_type": "stream",
       "stream": "stdout",
       "text": [
        "- "
       ]
      },
      {
       "output_type": "stream",
       "stream": "stdout",
       "text": [
        "- "
       ]
      },
      {
       "output_type": "stream",
       "stream": "stdout",
       "text": [
        "- "
       ]
      },
      {
       "output_type": "stream",
       "stream": "stdout",
       "text": [
        "- "
       ]
      },
      {
       "output_type": "stream",
       "stream": "stdout",
       "text": [
        "- "
       ]
      },
      {
       "output_type": "stream",
       "stream": "stdout",
       "text": [
        "- "
       ]
      },
      {
       "output_type": "stream",
       "stream": "stdout",
       "text": [
        "- "
       ]
      },
      {
       "output_type": "stream",
       "stream": "stdout",
       "text": [
        "- "
       ]
      },
      {
       "output_type": "stream",
       "stream": "stdout",
       "text": [
        "- "
       ]
      },
      {
       "output_type": "stream",
       "stream": "stdout",
       "text": [
        "- "
       ]
      },
      {
       "output_type": "stream",
       "stream": "stdout",
       "text": [
        "- "
       ]
      },
      {
       "output_type": "stream",
       "stream": "stdout",
       "text": [
        "- "
       ]
      },
      {
       "output_type": "stream",
       "stream": "stdout",
       "text": [
        "- "
       ]
      },
      {
       "output_type": "stream",
       "stream": "stdout",
       "text": [
        "- "
       ]
      },
      {
       "output_type": "stream",
       "stream": "stdout",
       "text": [
        "- "
       ]
      },
      {
       "output_type": "stream",
       "stream": "stdout",
       "text": [
        "- "
       ]
      },
      {
       "output_type": "stream",
       "stream": "stdout",
       "text": [
        "- "
       ]
      },
      {
       "output_type": "stream",
       "stream": "stdout",
       "text": [
        "- "
       ]
      },
      {
       "output_type": "stream",
       "stream": "stdout",
       "text": [
        "- "
       ]
      },
      {
       "output_type": "stream",
       "stream": "stdout",
       "text": [
        "- "
       ]
      },
      {
       "output_type": "stream",
       "stream": "stdout",
       "text": [
        "- "
       ]
      },
      {
       "output_type": "stream",
       "stream": "stdout",
       "text": [
        "- "
       ]
      },
      {
       "output_type": "stream",
       "stream": "stdout",
       "text": [
        "- "
       ]
      },
      {
       "output_type": "stream",
       "stream": "stdout",
       "text": [
        "- "
       ]
      },
      {
       "output_type": "stream",
       "stream": "stdout",
       "text": [
        "- "
       ]
      },
      {
       "output_type": "stream",
       "stream": "stdout",
       "text": [
        "- "
       ]
      },
      {
       "output_type": "stream",
       "stream": "stdout",
       "text": [
        "- "
       ]
      },
      {
       "output_type": "stream",
       "stream": "stdout",
       "text": [
        "- "
       ]
      },
      {
       "output_type": "stream",
       "stream": "stdout",
       "text": [
        "- "
       ]
      },
      {
       "output_type": "stream",
       "stream": "stdout",
       "text": [
        "- "
       ]
      },
      {
       "output_type": "stream",
       "stream": "stdout",
       "text": [
        "- "
       ]
      },
      {
       "output_type": "stream",
       "stream": "stdout",
       "text": [
        "- "
       ]
      },
      {
       "output_type": "stream",
       "stream": "stdout",
       "text": [
        "- "
       ]
      },
      {
       "output_type": "stream",
       "stream": "stdout",
       "text": [
        "- "
       ]
      },
      {
       "output_type": "stream",
       "stream": "stdout",
       "text": [
        "- "
       ]
      },
      {
       "output_type": "stream",
       "stream": "stdout",
       "text": [
        "- "
       ]
      },
      {
       "output_type": "stream",
       "stream": "stdout",
       "text": [
        "- "
       ]
      },
      {
       "output_type": "stream",
       "stream": "stdout",
       "text": [
        "- "
       ]
      },
      {
       "output_type": "stream",
       "stream": "stdout",
       "text": [
        "- "
       ]
      },
      {
       "output_type": "stream",
       "stream": "stdout",
       "text": [
        "- "
       ]
      },
      {
       "output_type": "stream",
       "stream": "stdout",
       "text": [
        "- "
       ]
      },
      {
       "output_type": "stream",
       "stream": "stdout",
       "text": [
        "- "
       ]
      },
      {
       "output_type": "stream",
       "stream": "stdout",
       "text": [
        "- "
       ]
      },
      {
       "output_type": "stream",
       "stream": "stdout",
       "text": [
        "- "
       ]
      },
      {
       "output_type": "stream",
       "stream": "stdout",
       "text": [
        "- "
       ]
      },
      {
       "output_type": "stream",
       "stream": "stdout",
       "text": [
        "- "
       ]
      },
      {
       "output_type": "stream",
       "stream": "stdout",
       "text": [
        "- "
       ]
      },
      {
       "output_type": "stream",
       "stream": "stdout",
       "text": [
        "- "
       ]
      },
      {
       "output_type": "stream",
       "stream": "stdout",
       "text": [
        "- "
       ]
      },
      {
       "output_type": "stream",
       "stream": "stdout",
       "text": [
        "- "
       ]
      },
      {
       "output_type": "stream",
       "stream": "stdout",
       "text": [
        "- "
       ]
      },
      {
       "output_type": "stream",
       "stream": "stdout",
       "text": [
        "- "
       ]
      },
      {
       "output_type": "stream",
       "stream": "stdout",
       "text": [
        "- "
       ]
      },
      {
       "output_type": "stream",
       "stream": "stdout",
       "text": [
        "- "
       ]
      },
      {
       "output_type": "stream",
       "stream": "stdout",
       "text": [
        "- "
       ]
      },
      {
       "output_type": "stream",
       "stream": "stdout",
       "text": [
        "- "
       ]
      },
      {
       "output_type": "stream",
       "stream": "stdout",
       "text": [
        "- "
       ]
      },
      {
       "output_type": "stream",
       "stream": "stdout",
       "text": [
        "- "
       ]
      },
      {
       "output_type": "stream",
       "stream": "stdout",
       "text": [
        "- "
       ]
      },
      {
       "output_type": "stream",
       "stream": "stdout",
       "text": [
        "- "
       ]
      },
      {
       "output_type": "stream",
       "stream": "stdout",
       "text": [
        "- "
       ]
      },
      {
       "output_type": "stream",
       "stream": "stdout",
       "text": [
        "- "
       ]
      },
      {
       "output_type": "stream",
       "stream": "stdout",
       "text": [
        "- "
       ]
      },
      {
       "output_type": "stream",
       "stream": "stdout",
       "text": [
        "- "
       ]
      },
      {
       "output_type": "stream",
       "stream": "stdout",
       "text": [
        "- "
       ]
      },
      {
       "output_type": "stream",
       "stream": "stdout",
       "text": [
        "- "
       ]
      },
      {
       "output_type": "stream",
       "stream": "stdout",
       "text": [
        "- "
       ]
      },
      {
       "output_type": "stream",
       "stream": "stdout",
       "text": [
        "- "
       ]
      },
      {
       "output_type": "stream",
       "stream": "stdout",
       "text": [
        "- "
       ]
      },
      {
       "output_type": "stream",
       "stream": "stdout",
       "text": [
        "- "
       ]
      },
      {
       "output_type": "stream",
       "stream": "stdout",
       "text": [
        "- "
       ]
      },
      {
       "output_type": "stream",
       "stream": "stdout",
       "text": [
        "- "
       ]
      },
      {
       "output_type": "stream",
       "stream": "stdout",
       "text": [
        "- "
       ]
      },
      {
       "output_type": "stream",
       "stream": "stdout",
       "text": [
        "- "
       ]
      },
      {
       "output_type": "stream",
       "stream": "stdout",
       "text": [
        "- "
       ]
      },
      {
       "output_type": "stream",
       "stream": "stdout",
       "text": [
        "- "
       ]
      },
      {
       "output_type": "stream",
       "stream": "stdout",
       "text": [
        "- "
       ]
      },
      {
       "output_type": "stream",
       "stream": "stdout",
       "text": [
        "- "
       ]
      },
      {
       "output_type": "stream",
       "stream": "stdout",
       "text": [
        "- "
       ]
      },
      {
       "output_type": "stream",
       "stream": "stdout",
       "text": [
        "- "
       ]
      },
      {
       "output_type": "stream",
       "stream": "stdout",
       "text": [
        "- "
       ]
      },
      {
       "output_type": "stream",
       "stream": "stdout",
       "text": [
        "- "
       ]
      },
      {
       "output_type": "stream",
       "stream": "stdout",
       "text": [
        "- "
       ]
      },
      {
       "output_type": "stream",
       "stream": "stdout",
       "text": [
        "- "
       ]
      },
      {
       "output_type": "stream",
       "stream": "stdout",
       "text": [
        "- "
       ]
      },
      {
       "output_type": "stream",
       "stream": "stdout",
       "text": [
        "- "
       ]
      },
      {
       "output_type": "stream",
       "stream": "stdout",
       "text": [
        "- "
       ]
      },
      {
       "output_type": "stream",
       "stream": "stdout",
       "text": [
        "- "
       ]
      },
      {
       "output_type": "stream",
       "stream": "stdout",
       "text": [
        "- "
       ]
      },
      {
       "output_type": "stream",
       "stream": "stdout",
       "text": [
        "- "
       ]
      },
      {
       "output_type": "stream",
       "stream": "stdout",
       "text": [
        "- "
       ]
      },
      {
       "output_type": "stream",
       "stream": "stdout",
       "text": [
        "- "
       ]
      },
      {
       "output_type": "stream",
       "stream": "stdout",
       "text": [
        "- "
       ]
      },
      {
       "output_type": "stream",
       "stream": "stdout",
       "text": [
        "- "
       ]
      },
      {
       "output_type": "stream",
       "stream": "stdout",
       "text": [
        "- "
       ]
      },
      {
       "output_type": "stream",
       "stream": "stdout",
       "text": [
        "- "
       ]
      },
      {
       "output_type": "stream",
       "stream": "stdout",
       "text": [
        "- "
       ]
      },
      {
       "output_type": "stream",
       "stream": "stdout",
       "text": [
        "- "
       ]
      },
      {
       "output_type": "stream",
       "stream": "stdout",
       "text": [
        "- "
       ]
      },
      {
       "output_type": "stream",
       "stream": "stdout",
       "text": [
        "- "
       ]
      },
      {
       "output_type": "stream",
       "stream": "stdout",
       "text": [
        "- "
       ]
      },
      {
       "output_type": "stream",
       "stream": "stdout",
       "text": [
        "- "
       ]
      },
      {
       "output_type": "stream",
       "stream": "stdout",
       "text": [
        "- "
       ]
      },
      {
       "output_type": "stream",
       "stream": "stdout",
       "text": [
        "- "
       ]
      },
      {
       "output_type": "stream",
       "stream": "stdout",
       "text": [
        "- "
       ]
      },
      {
       "output_type": "stream",
       "stream": "stdout",
       "text": [
        "- "
       ]
      },
      {
       "output_type": "stream",
       "stream": "stdout",
       "text": [
        "- "
       ]
      },
      {
       "output_type": "stream",
       "stream": "stdout",
       "text": [
        "- "
       ]
      },
      {
       "output_type": "stream",
       "stream": "stdout",
       "text": [
        "- "
       ]
      },
      {
       "output_type": "stream",
       "stream": "stdout",
       "text": [
        "- "
       ]
      },
      {
       "output_type": "stream",
       "stream": "stdout",
       "text": [
        "- "
       ]
      },
      {
       "output_type": "stream",
       "stream": "stdout",
       "text": [
        "Epoch 9 complete\n"
       ]
      }
     ],
     "prompt_number": 41
    },
    {
     "cell_type": "code",
     "collapsed": false,
     "input": [
      "# test the trained neural network\n",
      "%pylab inline\n",
      "tests = images[10000:10064] # the first 64 untrained handwritten images\n",
      "plt.figure(figsize=(10, 10))\n",
      "# plot the images, each titled with the digit predicted by the neural network\n",
      "for k in xrange(len(tests)):\n",
      "    plt.subplot2grid((8, 8), (k / 8, k % 8))\n",
      "    plt.axis('off')\n",
      "    plt.imshow(1.0 - tests[k].reshape((rows, cols)), cmap=plt.cm.gray)\n",
      "    a = mdetector.feedforward(tests[k])\n",
      "    plt.title(max(enumerate(a),key=lambda x: x[1])[0], fontsize=24)\n",
      "plt.show()"
     ],
     "language": "python",
     "metadata": {},
     "outputs": [
      {
       "output_type": "stream",
       "stream": "stdout",
       "text": [
        "Populating the interactive namespace from numpy and matplotlib\n"
       ]
      },
      {
       "output_type": "stream",
       "stream": "stderr",
       "text": [
        "WARNING: pylab import has clobbered these variables: ['f', 'random']\n",
        "`%pylab --no-import-all` prevents importing * from pylab and numpy\n"
       ]
      },
      {
       "metadata": {},
       "output_type": "display_data",
       "png": "[encoded data removed]",
       "text": [
        "<matplotlib.figure.Figure at 0x10bef8c90>"
       ]
      }
     ],
     "prompt_number": 44
    },
    {
     "cell_type": "code",
     "collapsed": false,
     "input": [
      "# train the neural network with our code\n",
      "detector = Net([rows * cols, 400, 10])\n",
      "detector.SGD(train_data, 1, 1, 0.6)"
     ],
     "language": "python",
     "metadata": {},
     "outputs": [],
     "prompt_number": 280
    },
    {
     "cell_type": "code",
     "collapsed": false,
     "input": [
      "# test the trained neural network\n",
      "%pylab inline\n",
      "tests = images[1000:1064] # the first 64 untrained handwritten images\n",
      "plt.figure(figsize=(10, 10))\n",
      "# plot the images, each titled with the digit predicted by the neural network\n",
      "for k in xrange(len(tests)):\n",
      "    plt.subplot2grid((8, 8), (k / 8, k % 8))\n",
      "    plt.axis('off')\n",
      "    plt.imshow(1.0 - tests[k].reshape((rows, cols)), cmap=plt.cm.gray)\n",
      "    # plt.title(detector.evaluate(tests[k]), fontsize=24)\n",
      "plt.show()"
     ],
     "language": "python",
     "metadata": {},
     "outputs": [
      {
       "output_type": "stream",
       "stream": "stdout",
       "text": [
        "Populating the interactive namespace from numpy and matplotlib\n"
       ]
      },
      {
       "output_type": "stream",
       "stream": "stderr",
       "text": [
        "WARNING: pylab import has clobbered these variables: ['f', 'array']\n",
        "`%pylab --no-import-all` prevents importing * from pylab and numpy\n"
       ]
      },
      {
       "metadata": {},
       "output_type": "display_data",
       "png": "[encoded data removed]",
       "text": [
        "<matplotlib.figure.Figure at 0x104ce2110>"
       ]
      }
     ],
     "prompt_number": 4
    },
    {
     "cell_type": "code",
     "collapsed": false,
     "input": [
      "import random\n",
      "import numpy as np\n",
      "\n",
      "class Net(object):\n",
      "    def __init__(self,sizes):\n",
      "        \"\"\"\n",
      "        Sizes is a list of the number of neurons in each layer of the neural \n",
      "        network. For example, if sizes = [3,2,3], that would indicate that the\n",
      "        neural network has three layers, the first with 3 neurons, the second \n",
      "        with 2 neurons, and the third with 3 neurons. \n",
      "\n",
      "        The function initializes the parameters and framework for the network.\n",
      "        \"\"\"\n",
      "\n",
      "        self.sizes = sizes\n",
      "        self.numlayers = len(sizes)\n",
      "        # notation: weight[0][i][j] is the weight from the ith neuron in the input layer \n",
      "        # to the jth neuron in the first hidden layer\n",
      "        self.weights = [np.random.randn(sizes[i],sizes[i+1]) for i in range(self.numlayers - 1)] \n",
      "        # biases[0] is the vector of biases in the (first) hidden layer\n",
      "        self.biases = [np.random.randn(sizes[i + 1]) for i in range(self.numlayers - 1)] \n",
      "\n",
      "    def SGD(self, train_data, epochs, mini_batch_size, eta):\n",
      "        \"\"\"\n",
      "        Trains the network using mini-batch stochastic gradient descent. \n",
      "        Parameters:\n",
      "            train_data: A vector of the data used to train the model. Each element\n",
      "                in the vector is of the form (x,y) where x is the training data and\n",
      "                y is the correct output. \n",
      "\n",
      "            epochs: The number of epochs in the training.\n",
      "\n",
      "            mini_batch_size: The number of mini-batches. If we have some set of \n",
      "                training data inputs, we partition the set of training data inputs\n",
      "                into sets of mini_batch_size. The gradient of the cost function\n",
      "                is calculated for the mini-batch, from which we calculate the \n",
      "                gradient for the entire training set and the new weights and biases\n",
      "                are calculated.\n",
      "\n",
      "            eta: The constant that determines how much the weights and biases\n",
      "                change in the direction of the calculated gradient. \n",
      "        \"\"\"\n",
      "        for i in range(epochs):\n",
      "            print \"epoch\", i\n",
      "            random.shuffle(train_data) # shuffle the data to randomly devide it into mini batches later\n",
      "            cur = 0\n",
      "            \n",
      "            while cur < len(train_data):\n",
      "                mini_batch = train_data[cur : cur + mini_batch_size]\n",
      "                cur += mini_batch_size\n",
      "                self.update_weights(mini_batch, eta)\n",
      "\n",
      "    def update_weights (self, mini_batch, eta):\n",
      "        \"\"\"\n",
      "        Updates the weights and biases by applying gradient descent to the \n",
      "        mini-batch passed into the function. \n",
      "        \"\"\"\n",
      "        delta_weights = [np.zeros((self.sizes[i],self.sizes[i+1])) for i in range(self.numlayers - 1)]\n",
      "        delta_biases = [np.zeros(self.sizes[i + 1]) for i in range(self.numlayers - 1)] \n",
      "        \n",
      "        for x, y in mini_batch:\n",
      "            delta_weights_temp, delta_biases_temp = self.backprop(x, y)\n",
      "            for i in range(self.numlayers-1):\n",
      "                delta_weights[i] += delta_weights_temp[i]\n",
      "                delta_biases[i] += delta_biases_temp[i]\n",
      "        \n",
      "        \n",
      "        # adjust the weights\n",
      "        for i in range(self.numlayers-1):\n",
      "            self.weights[i] += - eta * delta_weights[i]\n",
      "            self.biases[i] += - eta * delta_biases[i]\n",
      "        \n",
      "        for x, y in mini_batch:\n",
      "            print self.evaluate(x),\n",
      "\n",
      "    def backprop(self,x,y):\n",
      "        \"\"\"\n",
      "        Uses backpropagation to calculate the gradient of the cost function\n",
      "\n",
      "        Backpropagation consists of the following five steps:\n",
      "            1) Set the input of the network to the training data. \n",
      "            \n",
      "            2) Use the feedforward function to compute the activations\n",
      "            at each layer of the network given the input.\n",
      "\n",
      "            3) Compute each error vector for the last layer before the output\n",
      "            layer by using the rate of change of the cost as a function of the \n",
      "            corresponding output and the derivative of the activation function\n",
      "            evaluated at the last layer neuron. \n",
      "\n",
      "            4) Using each error value in the last layer, calculate the error\n",
      "            values in each of the previous layers. \n",
      "\n",
      "            5) Calculate the gradient of the cost function for each weight and\n",
      "            for the biases using the error values, using the formula in the spec.\n",
      "            \n",
      "        Set activation to a list containing x  # x is the input activation\n",
      "        Set zlist to empty list  # zlist is the list of z activations\n",
      "        \"\"\"\n",
      "        sig_prime_vec = np.vectorize(sig_prime)\n",
      "        sig_vec = np.vectorize(sig)\n",
      "\n",
      "        numlayers = self.numlayers\n",
      "        sizes = self.sizes\n",
      "        \n",
      "        zlist = [np.zeros(sizes[i]) for i in range(self.numlayers)] # weighted input before applying sigmoid function\n",
      "        zlist[0] = x # weighted input in the first layer is just the input\n",
      "        activation = [np.zeros(sizes[i]) for i in range(self.numlayers)] # output after applying sigmoid function\n",
      "        activation[0] = x\n",
      "        \n",
      "        # feedforward: compute the output in each layer\n",
      "        for i in range(1, numlayers):\n",
      "            zlist[i] = np.dot(activation[i - 1], self.weights[i - 1]) + self.biases[i - 1]\n",
      "            activation[i] = sig_vec(zlist[i])\n",
      "            \n",
      "        gradcost = activation[numlayers - 1] - y  # Gradient of the cost function with respect to the activation outputs \n",
      "        \n",
      "        delts = [0 for i in range(numlayers)]\n",
      "        delts[self.numlayers - 1] = gradcost * sig_prime_vec(zlist[numlayers - 1]) # last layer\n",
      "        \n",
      "        # Backward propagate: calculate errors for previous layers\n",
      "        for i in range(numlayers - 2, -1, -1): \n",
      "            delts[i] = (np.dot(delts[i + 1], np.transpose(self.weights[i])) * sig_prime_vec(zlist[i]))\n",
      "        \n",
      "        # calculate the gradients\n",
      "        grad_weights = [np.zeros((sizes[i],sizes[i+1])) for i in range(self.numlayers - 1)]\n",
      "        for i in range(1, numlayers): # Calculate the partial derivatives of the cost function wrt the weights\n",
      "            grad_weights[i - 1] = np.dot(np.transpose(activation[i - 1].reshape((1,-1))), delts[i].reshape((1,-1))) # check later\n",
      "\n",
      "        grad_biases = delts[1:] # Calculate the partial derivatives of the cost function wrt biases\n",
      "\n",
      "        return(grad_weights,grad_biases)\n",
      "\n",
      "    def evaluate(self,test_data):\n",
      "        sig_prime_vec = np.vectorize(sig_prime)\n",
      "        sig_vec = np.vectorize(sig)\n",
      "\n",
      "        activation = test_data\n",
      "        \n",
      "        for i in range(1, self.numlayers):\n",
      "            z = np.dot(activation, self.weights[i - 1]) + self.biases[i - 1]\n",
      "            activation = sig_vec(z)\n",
      "\n",
      "        # return activation\n",
      "        return max(enumerate(activation),key=lambda x: x[1])[0] # return the index of the maximum element in output list\n",
      "\n",
      "\n",
      "def sig(x):\n",
      "    return 1.0 / (1.0 + np.exp(-x))\n",
      "\n",
      "def sig_prime(x):\n",
      "    return sig(x) * (1-sig(x))"
     ],
     "language": "python",
     "metadata": {},
     "outputs": [],
     "prompt_number": 29
    },
    {
     "cell_type": "code",
     "collapsed": false,
     "input": [
      "\"\"\"\n",
      "network_basic\n",
      "~~~~~~~~~~~~~\n",
      "\n",
      "A module to implement the stochastic gradient descent learning\n",
      "algorithm for a feedforward neural network.  Gradients are calculated\n",
      "using backpropagation.  Note that I have focused on making the code\n",
      "simple, easily readable, and easily modifiable.  It is not optimized,\n",
      "and omits many desirable features.\n",
      "\"\"\"\n",
      "\n",
      "#### Libraries\n",
      "# Standard library\n",
      "import random\n",
      "\n",
      "# Third-party libraries\n",
      "import numpy as np\n",
      "\n",
      "class Network():\n",
      "\n",
      "    def __init__(self, sizes):\n",
      "        \"\"\"The list ``sizes`` contains the number of neurons in the\n",
      "        respective layers of the network.  For example, if the list\n",
      "        was [2, 3, 1] then it would be a three-layer network, with the\n",
      "        first layer containing 2 neurons, the second layer 3 neurons,\n",
      "        and the third layer 1 neuron.  The biases and weights for the\n",
      "        network are initialized randomly, using a Gaussian\n",
      "        distribution with mean 0, and variance 1.  Note that the first\n",
      "        layer is assumed to be an input layer, and by convention we\n",
      "        won't set any biases for those neurons, since biases are only\n",
      "        ever used in computing the outputs from later layers.\"\"\"\n",
      "        self.num_layers = len(sizes)\n",
      "        self.sizes = sizes\n",
      "        self.biases = [np.random.randn(1, y) for y in sizes[1:]]\n",
      "        self.weights = [np.random.randn(y, x) \n",
      "                        for x, y in zip(sizes[:-1], sizes[1:])]\n",
      "\n",
      "    def feedforward(self, a):\n",
      "        \"Return the output of the network if ``a`` is input.\"\n",
      "        for b, w in zip(self.biases, self.weights):\n",
      "            a = (sigmoid_vec(np.dot(w, a)+b))[0]\n",
      "        return a\n",
      "\n",
      "    def SGD(self, training_data, epochs, mini_batch_size, eta,\n",
      "            test_data=None):\n",
      "        \"\"\"Train the neural network using mini-batch stochastic\n",
      "        gradient descent.  The ``training_data`` is a list of tuples\n",
      "        ``(x, y)`` representing the training inputs and the desired\n",
      "        outputs.  The other non-optional parameters are\n",
      "        self-explanatory.  If ``test_data`` is provided then the\n",
      "        network will be evaluated against the test data after each\n",
      "        epoch, and partial progress printed out.  This is useful for\n",
      "        tracking progress, but slows things down substantially.\"\"\"\n",
      "        if test_data: n_test = len(test_data)\n",
      "        n = len(training_data)\n",
      "        for j in xrange(epochs):\n",
      "            random.shuffle(training_data)\n",
      "            mini_batches = [\n",
      "                training_data[k:k+mini_batch_size]\n",
      "                for k in xrange(0, n, mini_batch_size)]\n",
      "            for mini_batch in mini_batches:\n",
      "                self.update_mini_batch(mini_batch, eta)\n",
      "            \"\"\"\n",
      "            if test_data:\n",
      "                print \"Epoch {}: {} / {}\".format(\n",
      "                    j, self.evaluate(test_data), n_test)\n",
      "            else:\"\"\"\n",
      "            print \"Epoch %s complete\" % j\n",
      "\n",
      "    def update_mini_batch(self, mini_batch, eta):\n",
      "        \"\"\"Update the network's weights and biases by applying\n",
      "        gradient descent using backpropagation to a single mini batch.\n",
      "        The ``mini_batch`` is a list of tuples ``(x, y)``, and ``eta``\n",
      "        is the learning rate.\"\"\"\n",
      "        print \"-\",\n",
      "        nabla_b = [np.zeros(b.shape) for b in self.biases]\n",
      "        nabla_w = [np.zeros(w.shape) for w in self.weights]\n",
      "        for x, y in mini_batch:\n",
      "            delta_nabla_b, delta_nabla_w = self.backprop(x, y)\n",
      "            nabla_b = [nb+dnb for nb, dnb in zip(nabla_b, delta_nabla_b)]\n",
      "            nabla_w = [nw+dnw for nw, dnw in zip(nabla_w, delta_nabla_w)]\n",
      "        self.weights = [w-eta*nw for w, nw in zip(self.weights, nabla_w)]\n",
      "        self.biases = [b-eta*nb for b, nb in zip(self.biases, nabla_b)]\n",
      "\n",
      "    def backprop(self, x, y):\n",
      "        \"\"\"Return a tuple ``(nabla_b, nabla_w)`` representing the\n",
      "        gradient for the cost function C_x.  ``nabla_b`` and\n",
      "        ``nabla_w`` are layer-by-layer lists of numpy arrays, similar\n",
      "        to ``self.biases`` and ``self.weights``.\"\"\"\n",
      "        nabla_b = [np.zeros(b.shape) for b in self.biases]\n",
      "        nabla_w = [np.zeros(w.shape) for w in self.weights]\n",
      "        # feedforward\n",
      "        activation = x\n",
      "        activations = [x] # list to store all the activations, layer by layer\n",
      "        zs = [] # list to store all the z vectors, layer by layer\n",
      "        for b, w in zip(self.biases, self.weights):\n",
      "            z = np.dot(w, activation)+b\n",
      "            zs.append(z)\n",
      "            activation = sigmoid_vec(z)[0]\n",
      "            activations.append(activation)\n",
      "        # backward pass\n",
      "        # print activations[-1]\n",
      "        delta = (self.cost_derivative(activations[-1], y) * \\\n",
      "            sigmoid_prime_vec(zs[-1]))[0]\n",
      "        nabla_b[-1] = delta[0]\n",
      "        nabla_w[-1] = np.dot(delta, activations[-1].transpose())\n",
      "        # Note that the variable l in the loop below is used a little\n",
      "        # differently to the notation in Chapter 2 of the book.  Here,\n",
      "        # l = 1 means the last layer of neurons, l = 2 is the\n",
      "        # second-last layer, and so on.  It's a renumbering of the\n",
      "        # scheme in the book, used here to take advantage of the fact\n",
      "        # that Python can use negative indices in lists.\n",
      "        for l in xrange(2, self.num_layers):\n",
      "            z = zs[-l]\n",
      "            spv = sigmoid_prime_vec(z)\n",
      "            delta = (np.dot(self.weights[-l+1].transpose(), delta) * spv)[0]\n",
      "            nabla_b[-l] = delta\n",
      "            nabla_w[-l] = np.dot(delta, activations[-l].transpose())\n",
      "        return (nabla_b, nabla_w)\n",
      "\n",
      "    def evaluate(self, test_data):\n",
      "        \"\"\"Return the number of test inputs for which the neural\n",
      "        network outputs the correct result. Note that the neural\n",
      "        network's output is assumed to be the index of whichever\n",
      "        neuron in the final layer has the highest activation.\"\"\"\n",
      "        test_results = [(np.argmax(self.feedforward(x)), np.argmax(y)) \n",
      "                        for (x, y) in test_data]\n",
      "        print test_results\n",
      "        return sum(int(x == y) for (x, y) in test_results)\n",
      "        \n",
      "    def cost_derivative(self, output_activations, y):\n",
      "        \"\"\"Return the vector of partial derivatives \\partial C_x /\n",
      "        \\partial a for the output activations.\"\"\"\n",
      "        return (output_activations-y) \n",
      "\n",
      "#### Miscellaneous functions\n",
      "def sigmoid(z):\n",
      "    \"\"\"The sigmoid function.\"\"\"\n",
      "    return 1.0/(1.0+np.exp(-z))\n",
      "\n",
      "sigmoid_vec = np.vectorize(sigmoid)\n",
      "\n",
      "def sigmoid_prime(z):\n",
      "    \"\"\"Derivative of the sigmoid function.\"\"\"\n",
      "    return sigmoid(z)*(1-sigmoid(z))\n",
      "\n",
      "sigmoid_prime_vec = np.vectorize(sigmoid_prime)\n"
     ],
     "language": "python",
     "metadata": {},
     "outputs": [],
     "prompt_number": 10
    }
   ],
   "metadata": {}
  }
 ]
}