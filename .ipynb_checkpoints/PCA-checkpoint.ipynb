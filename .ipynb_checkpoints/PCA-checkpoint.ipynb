{
 "metadata": {
  "name": ""
 },
 "nbformat": 3,
 "nbformat_minor": 0,
 "worksheets": [
  {
   "cells": [
    {
     "cell_type": "code",
     "collapsed": false,
     "input": [
      "import numpy as np\n",
      "import Image\n",
      "import pylab as pl\n",
      "import csv\n",
      "%pylab inline"
     ],
     "language": "python",
     "metadata": {},
     "outputs": [
      {
       "output_type": "stream",
       "stream": "stdout",
       "text": [
        "Populating the interactive namespace from numpy and matplotlib\n"
       ]
      },
      {
       "output_type": "stream",
       "stream": "stderr",
       "text": [
        "WARNING: pylab import has clobbered these variables: ['array', 'size', 'vectorize']\n",
        "`%pylab --no-import-all` prevents importing * from pylab and numpy\n"
       ]
      }
     ],
     "prompt_number": 40
    },
    {
     "cell_type": "code",
     "collapsed": false,
     "input": [
      "def vectorize(filename):\n",
      "    print filename\n",
      "    size = 28, 28\n",
      "    im = Image.open(filename)\n",
      "    im.resize(size, Image.ANTIALIAS)\n",
      "    im_grey = im.convert('L') # convert the image to *greyscale*\n",
      "    im_array = np.array(im_grey)\n",
      "    print im_array.shape\n",
      "    # pl.imshow(im_array, cmap=cm.Greys_r)\n",
      "    # pl.show()\n",
      "    # oned_array = im_array.reshape(1, width * height)\n",
      "    # return oned_array\n",
      "    return 1"
     ],
     "language": "python",
     "metadata": {},
     "outputs": [],
     "prompt_number": 64
    },
    {
     "cell_type": "code",
     "collapsed": false,
     "input": [
      "labels = []\n",
      "\n",
      "# smiles\n",
      "filenames = []\n",
      "with open('smiles.csv', 'rb') as csvfile:\n",
      "    for rec in csv.reader(csvfile, delimiter='\t'):\n",
      "        filenames += rec\n",
      "\n",
      "PATH = \"./training/smile/\"\n",
      "\n",
      "for filename in filenames:\n",
      "    array.append(vectorize(PATH + filename))\n",
      "    labels.append(1)"
     ],
     "language": "python",
     "metadata": {},
     "outputs": [
      {
       "output_type": "stream",
       "stream": "stdout",
       "text": [
        "./training/smile/f4001s-m.jpg\n",
        "(110, 184)\n",
        "./training/smile/file0006-m.jpg\n",
        "(34, 56)\n",
        "./training/smile/file0093-m.jpg\n",
        "(27, 46)\n",
        "./training/smile/file0390-m.jpg\n",
        "(37, 61)\n",
        "./training/smile/m4001s-m.jpg\n",
        "(124, 207)\n",
        "./training/smile/webcam-5.jpg\n",
        "(59, 98)\n",
        "./training/smile/f4003s-m.jpg\n",
        "(109, 181)\n",
        "./training/smile/file0013-m.jpg\n",
        "(32, 53)\n",
        "./training/smile/file0098-m.jpg\n",
        "(27, 46)\n",
        "./training/smile/file0449-m.jpg\n",
        "(30, 51)\n",
        "./training/smile/m4006s-m.jpg\n",
        "(124, 206)\n",
        "./training/smile/webcam-8.jpg\n",
        "(73, 122)\n",
        "./training/smile/f4004s-m.jpg\n",
        "(101, 167)\n",
        "./training/smile/file0014-m.jpg\n",
        "(35, 58)\n",
        "./training/smile/file0099-m.jpg\n",
        "(36, 60)\n",
        "./training/smile/file0610-m.jpg\n",
        "(31, 51)\n",
        "./training/smile/m4011s-m.jpg\n",
        "(121, 201)\n",
        "./training/smile/webcam-9.jpg\n",
        "(63, 105)\n",
        "./training/smile/f4005s-m.jpg\n",
        "(123, 205)\n",
        "./training/smile/file0017-m.jpg\n",
        "(23, 39)\n",
        "./training/smile/file0100-m.jpg\n",
        "(32, 54)\n",
        "./training/smile/file0813-m.jpg\n",
        "(32, 53)\n",
        "./training/smile/m4042s-m.jpg\n",
        "(129, 215)\n",
        "./training/smile/f4006s-m.jpg\n",
        "(111, 185)\n",
        "./training/smile/file0044-m.jpg\n",
        "(31, 51)\n",
        "./training/smile/file0112-m.jpg\n",
        "(40, 67)\n",
        "./training/smile/file0938-m.jpg\n",
        "(32, 53)\n",
        "./training/smile/m4074s-m.jpg\n",
        "(129, 215)\n",
        "./training/smile/f4010s-m.jpg\n",
        "(117, 195)\n",
        "./training/smile/file0076-m.jpg\n",
        "(31, 52)\n",
        "./training/smile/file0177-m.jpg\n",
        "(30, 50)\n",
        "./training/smile/file1064-m.jpg\n",
        "(36, 60)\n",
        "./training/smile/webcam-0.jpg\n",
        "(82, 136)\n",
        "./training/smile/f4021s-m.jpg\n",
        "(112, 187)\n",
        "./training/smile/file0077-m.jpg\n",
        "(31, 52)\n",
        "./training/smile/file0202-m.jpg\n",
        "(31, 51)"
       ]
      },
      {
       "output_type": "stream",
       "stream": "stdout",
       "text": [
        "\n",
        "./training/smile/file1086-m.jpg\n",
        "(39, 64)\n",
        "./training/smile/webcam-2.jpg\n",
        "(83, 139)\n",
        "./training/smile/f4030s-m.jpg\n",
        "(108, 180)\n",
        "./training/smile/file0081-m.jpg\n",
        "(38, 64)\n",
        "./training/smile/file0225-m.jpg\n",
        "(37, 62)\n",
        "./training/smile/file1091-m.jpg\n",
        "(31, 51)\n",
        "./training/smile/webcam-3.jpg\n",
        "(73, 121)\n"
       ]
      }
     ],
     "prompt_number": 65
    },
    {
     "cell_type": "code",
     "collapsed": false,
     "input": [
      "vectorize(PATH + filenames[0]).reshape(1, 16*28)"
     ],
     "language": "python",
     "metadata": {},
     "outputs": [
      {
       "metadata": {},
       "output_type": "pyout",
       "prompt_number": 57,
       "text": [
        "array([[117, 105, 112, 107, 106, 111, 111, 115, 124, 129, 132, 133, 127,\n",
        "        130, 136, 128, 129, 133, 132, 124, 123, 120, 110, 101, 103, 105,\n",
        "         96, 101, 129,  81,  47,  52,  95, 107, 111, 106, 118, 122, 119,\n",
        "        127, 127, 124, 125, 122, 136, 133, 122, 149, 136, 115, 113, 108,\n",
        "         73,  37,  75, 121, 164, 138,  67,  25,  95, 136, 147, 131, 186,\n",
        "        155, 160, 204, 197, 160, 155, 195, 220, 186, 152, 218, 186, 152,\n",
        "        159, 132,  61,  67, 129, 170, 152, 149, 126,  87,  74, 138, 157,\n",
        "        151, 220, 173, 187, 248, 246, 206, 195, 241, 243, 223, 183, 228,\n",
        "        199, 165, 154,  90,  97, 123, 147, 160, 154, 147, 129, 114,  98,\n",
        "        117, 127, 132, 204, 182, 197, 226, 225, 216, 198, 233, 232, 228,\n",
        "        179, 213, 174, 139, 132, 108, 116, 123, 147, 153, 153, 150, 132,\n",
        "        116, 111, 113,  90,  67, 139, 142, 171, 223, 226, 212, 183, 231,\n",
        "        234, 216, 112, 108, 102, 104, 122, 119, 112, 126, 141, 151, 150,\n",
        "        150, 138, 114, 106, 114, 120, 107,  84,  80,  93, 129, 141, 133,\n",
        "        104, 121, 124, 111,  87,  95, 115, 125, 124, 108, 108, 133, 143,\n",
        "        150, 148, 144, 145, 121, 101, 110, 124, 128, 121, 112, 103,  94,\n",
        "         90,  86,  88,  84,  99, 113, 119, 127, 129, 134, 114,  96, 118,\n",
        "        141, 146, 152, 144, 145, 145, 137, 108,  97, 122, 139, 136, 139,\n",
        "        140, 144, 144, 118, 126, 149, 152, 141, 139, 143, 141, 125,  99,\n",
        "        105, 138, 145, 147, 151, 144, 143, 143, 143, 126, 100,  99, 131,\n",
        "        148, 153, 156, 160, 167, 156, 154, 155, 130, 125, 142, 146, 130,\n",
        "        105, 104, 130, 145, 145, 147, 150, 149, 144, 145, 141, 135, 122,\n",
        "         99,  98, 122, 136, 145, 151, 146, 148, 145, 144, 121, 113, 132,\n",
        "        120, 105, 103, 126, 143, 148, 146, 142, 148, 146, 138, 141, 143,\n",
        "        143, 137, 122, 105,  93, 102, 111, 120, 120, 125, 121, 122, 116,\n",
        "        103,  99,  93, 109, 128, 144, 149, 153, 144, 134, 151, 144, 143,\n",
        "        137, 144, 150, 150, 137, 127, 118, 105,  96,  97, 100, 105, 106,\n",
        "        101, 100, 101, 106, 120, 134, 148, 155, 157, 158, 149, 151, 155,\n",
        "        135, 139, 135, 127, 140, 153, 153, 147, 140, 136, 129, 123, 116,\n",
        "        115, 115, 118, 123, 128, 137, 147, 155, 160, 162, 161, 161, 152,\n",
        "        153, 151, 126, 138, 145, 131, 137, 156, 158, 158, 160, 155, 152,\n",
        "        152, 150, 147, 152, 155, 157, 159, 163, 164, 164, 165, 167, 165,\n",
        "        161, 153, 149, 148, 122, 135, 147, 148, 153, 158, 162, 161, 165,\n",
        "        165, 165, 166, 163, 166, 168, 171, 170, 169, 170, 166, 168, 167,\n",
        "        168, 165, 155, 153, 148, 143]], dtype=uint8)"
       ]
      }
     ],
     "prompt_number": 57
    },
    {
     "cell_type": "code",
     "collapsed": false,
     "input": [
      "features.shape"
     ],
     "language": "python",
     "metadata": {},
     "outputs": [
      {
       "metadata": {},
       "output_type": "pyout",
       "prompt_number": 44,
       "text": [
        "(43,)"
       ]
      }
     ],
     "prompt_number": 44
    },
    {
     "cell_type": "code",
     "collapsed": false,
     "input": [],
     "language": "python",
     "metadata": {},
     "outputs": []
    }
   ],
   "metadata": {}
  }
 ]
}